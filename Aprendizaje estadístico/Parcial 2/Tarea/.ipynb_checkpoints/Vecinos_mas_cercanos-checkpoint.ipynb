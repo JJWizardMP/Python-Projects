{
 "cells": [
  {
   "cell_type": "code",
   "execution_count": 2,
   "metadata": {},
   "outputs": [],
   "source": [
    "library(dplyr)\n",
    "library(ggplot2)"
   ]
  },
  {
   "cell_type": "markdown",
   "metadata": {},
   "source": [
    "# Vécinos más cercanos"
   ]
  },
  {
   "cell_type": "markdown",
   "metadata": {},
   "source": [
    "El método de vecinos más cercanos es uno de los métodos de clasificación más simples. \n",
    "\n",
    "Considera un subconjunto del dataframe Iris:"
   ]
  },
  {
   "cell_type": "code",
   "execution_count": 3,
   "metadata": {},
   "outputs": [
    {
     "data": {
      "text/html": [
       "<table>\n",
       "<caption>A data.frame: 20 × 3</caption>\n",
       "<thead>\n",
       "\t<tr><th></th><th scope=col>Sepal.Length</th><th scope=col>Sepal.Width</th><th scope=col>Species</th></tr>\n",
       "\t<tr><th></th><th scope=col>&lt;dbl&gt;</th><th scope=col>&lt;dbl&gt;</th><th scope=col>&lt;fct&gt;</th></tr>\n",
       "</thead>\n",
       "<tbody>\n",
       "\t<tr><th scope=row>28</th><td>5.2</td><td>3.5</td><td>setosa    </td></tr>\n",
       "\t<tr><th scope=row>16</th><td>5.7</td><td>4.4</td><td>setosa    </td></tr>\n",
       "\t<tr><th scope=row>22</th><td>5.1</td><td>3.7</td><td>setosa    </td></tr>\n",
       "\t<tr><th scope=row>37</th><td>5.5</td><td>3.5</td><td>setosa    </td></tr>\n",
       "\t<tr><th scope=row>44</th><td>5.0</td><td>3.5</td><td>setosa    </td></tr>\n",
       "\t<tr><th scope=row>9</th><td>4.4</td><td>2.9</td><td>setosa    </td></tr>\n",
       "\t<tr><th scope=row>5</th><td>5.0</td><td>3.6</td><td>setosa    </td></tr>\n",
       "\t<tr><th scope=row>38</th><td>4.9</td><td>3.6</td><td>setosa    </td></tr>\n",
       "\t<tr><th scope=row>49</th><td>5.3</td><td>3.7</td><td>setosa    </td></tr>\n",
       "\t<tr><th scope=row>4</th><td>4.6</td><td>3.1</td><td>setosa    </td></tr>\n",
       "\t<tr><th scope=row>84</th><td>6.0</td><td>2.7</td><td>versicolor</td></tr>\n",
       "\t<tr><th scope=row>89</th><td>5.6</td><td>3.0</td><td>versicolor</td></tr>\n",
       "\t<tr><th scope=row>72</th><td>6.1</td><td>2.8</td><td>versicolor</td></tr>\n",
       "\t<tr><th scope=row>76</th><td>6.6</td><td>3.0</td><td>versicolor</td></tr>\n",
       "\t<tr><th scope=row>56</th><td>5.7</td><td>2.8</td><td>versicolor</td></tr>\n",
       "\t<tr><th scope=row>65</th><td>5.6</td><td>2.9</td><td>versicolor</td></tr>\n",
       "\t<tr><th scope=row>64</th><td>6.1</td><td>2.9</td><td>versicolor</td></tr>\n",
       "\t<tr><th scope=row>94</th><td>5.0</td><td>2.3</td><td>versicolor</td></tr>\n",
       "\t<tr><th scope=row>54</th><td>5.5</td><td>2.3</td><td>versicolor</td></tr>\n",
       "\t<tr><th scope=row>92</th><td>6.1</td><td>3.0</td><td>versicolor</td></tr>\n",
       "</tbody>\n",
       "</table>\n"
      ],
      "text/latex": [
       "A data.frame: 20 × 3\n",
       "\\begin{tabular}{r|lll}\n",
       "  & Sepal.Length & Sepal.Width & Species\\\\\n",
       "  & <dbl> & <dbl> & <fct>\\\\\n",
       "\\hline\n",
       "\t28 & 5.2 & 3.5 & setosa    \\\\\n",
       "\t16 & 5.7 & 4.4 & setosa    \\\\\n",
       "\t22 & 5.1 & 3.7 & setosa    \\\\\n",
       "\t37 & 5.5 & 3.5 & setosa    \\\\\n",
       "\t44 & 5.0 & 3.5 & setosa    \\\\\n",
       "\t9 & 4.4 & 2.9 & setosa    \\\\\n",
       "\t5 & 5.0 & 3.6 & setosa    \\\\\n",
       "\t38 & 4.9 & 3.6 & setosa    \\\\\n",
       "\t49 & 5.3 & 3.7 & setosa    \\\\\n",
       "\t4 & 4.6 & 3.1 & setosa    \\\\\n",
       "\t84 & 6.0 & 2.7 & versicolor\\\\\n",
       "\t89 & 5.6 & 3.0 & versicolor\\\\\n",
       "\t72 & 6.1 & 2.8 & versicolor\\\\\n",
       "\t76 & 6.6 & 3.0 & versicolor\\\\\n",
       "\t56 & 5.7 & 2.8 & versicolor\\\\\n",
       "\t65 & 5.6 & 2.9 & versicolor\\\\\n",
       "\t64 & 6.1 & 2.9 & versicolor\\\\\n",
       "\t94 & 5.0 & 2.3 & versicolor\\\\\n",
       "\t54 & 5.5 & 2.3 & versicolor\\\\\n",
       "\t92 & 6.1 & 3.0 & versicolor\\\\\n",
       "\\end{tabular}\n"
      ],
      "text/markdown": [
       "\n",
       "A data.frame: 20 × 3\n",
       "\n",
       "| <!--/--> | Sepal.Length &lt;dbl&gt; | Sepal.Width &lt;dbl&gt; | Species &lt;fct&gt; |\n",
       "|---|---|---|---|\n",
       "| 28 | 5.2 | 3.5 | setosa     |\n",
       "| 16 | 5.7 | 4.4 | setosa     |\n",
       "| 22 | 5.1 | 3.7 | setosa     |\n",
       "| 37 | 5.5 | 3.5 | setosa     |\n",
       "| 44 | 5.0 | 3.5 | setosa     |\n",
       "| 9 | 4.4 | 2.9 | setosa     |\n",
       "| 5 | 5.0 | 3.6 | setosa     |\n",
       "| 38 | 4.9 | 3.6 | setosa     |\n",
       "| 49 | 5.3 | 3.7 | setosa     |\n",
       "| 4 | 4.6 | 3.1 | setosa     |\n",
       "| 84 | 6.0 | 2.7 | versicolor |\n",
       "| 89 | 5.6 | 3.0 | versicolor |\n",
       "| 72 | 6.1 | 2.8 | versicolor |\n",
       "| 76 | 6.6 | 3.0 | versicolor |\n",
       "| 56 | 5.7 | 2.8 | versicolor |\n",
       "| 65 | 5.6 | 2.9 | versicolor |\n",
       "| 64 | 6.1 | 2.9 | versicolor |\n",
       "| 94 | 5.0 | 2.3 | versicolor |\n",
       "| 54 | 5.5 | 2.3 | versicolor |\n",
       "| 92 | 6.1 | 3.0 | versicolor |\n",
       "\n"
      ],
      "text/plain": [
       "   Sepal.Length Sepal.Width Species   \n",
       "28 5.2          3.5         setosa    \n",
       "16 5.7          4.4         setosa    \n",
       "22 5.1          3.7         setosa    \n",
       "37 5.5          3.5         setosa    \n",
       "44 5.0          3.5         setosa    \n",
       "9  4.4          2.9         setosa    \n",
       "5  5.0          3.6         setosa    \n",
       "38 4.9          3.6         setosa    \n",
       "49 5.3          3.7         setosa    \n",
       "4  4.6          3.1         setosa    \n",
       "84 6.0          2.7         versicolor\n",
       "89 5.6          3.0         versicolor\n",
       "72 6.1          2.8         versicolor\n",
       "76 6.6          3.0         versicolor\n",
       "56 5.7          2.8         versicolor\n",
       "65 5.6          2.9         versicolor\n",
       "64 6.1          2.9         versicolor\n",
       "94 5.0          2.3         versicolor\n",
       "54 5.5          2.3         versicolor\n",
       "92 6.1          3.0         versicolor"
      ]
     },
     "metadata": {},
     "output_type": "display_data"
    }
   ],
   "source": [
    "set.seed(1234)\n",
    "ind_set <- sample(1:50,10)\n",
    "ind_ver <- sample(51:100,10)\n",
    "\n",
    "dat1 <- iris[ind_set,]\n",
    "dat2 <- iris[ind_ver,]\n",
    "dat <- rbind(dat1,dat2)\n",
    "dat <- dat %>% select(Sepal.Length,Sepal.Width,Species)\n",
    "dat"
   ]
  },
  {
   "cell_type": "code",
   "execution_count": 4,
   "metadata": {},
   "outputs": [
    {
     "data": {
      "image/png": "[encoded data removed]",
      "text/plain": [
       "plot without title"
      ]
     },
     "metadata": {
      "image/png": {
       "height": 420,
       "width": 420
      },
      "text/plain": {
       "height": 420,
       "width": 420
      }
     },
     "output_type": "display_data"
    }
   ],
   "source": [
    "g <- ggplot(dat,aes(x=Sepal.Length, y=Sepal.Width, color=Species))+geom_point()+coord_fixed()+theme_bw()\n",
    "g"
   ]
  },
  {
   "cell_type": "markdown",
   "metadata": {},
   "source": [
    "Usaremos esos datos como conjunto de entrenamiento.\n",
    "\n",
    "Supongamos ahora que tenemos una nueva observación, de la cual desconocemos su clase:"
   ]
  },
  {
   "cell_type": "code",
   "execution_count": 5,
   "metadata": {},
   "outputs": [
    {
     "data": {
      "text/html": [
       "<table>\n",
       "<caption>A data.frame: 1 × 5</caption>\n",
       "<thead>\n",
       "\t<tr><th></th><th scope=col>Sepal.Length</th><th scope=col>Sepal.Width</th><th scope=col>Petal.Length</th><th scope=col>Petal.Width</th><th scope=col>Species</th></tr>\n",
       "\t<tr><th></th><th scope=col>&lt;dbl&gt;</th><th scope=col>&lt;dbl&gt;</th><th scope=col>&lt;dbl&gt;</th><th scope=col>&lt;dbl&gt;</th><th scope=col>&lt;fct&gt;</th></tr>\n",
       "</thead>\n",
       "<tbody>\n",
       "\t<tr><th scope=row>26</th><td>5</td><td>3</td><td>1.6</td><td>0.2</td><td>setosa</td></tr>\n",
       "</tbody>\n",
       "</table>\n"
      ],
      "text/latex": [
       "A data.frame: 1 × 5\n",
       "\\begin{tabular}{r|lllll}\n",
       "  & Sepal.Length & Sepal.Width & Petal.Length & Petal.Width & Species\\\\\n",
       "  & <dbl> & <dbl> & <dbl> & <dbl> & <fct>\\\\\n",
       "\\hline\n",
       "\t26 & 5 & 3 & 1.6 & 0.2 & setosa\\\\\n",
       "\\end{tabular}\n"
      ],
      "text/markdown": [
       "\n",
       "A data.frame: 1 × 5\n",
       "\n",
       "| <!--/--> | Sepal.Length &lt;dbl&gt; | Sepal.Width &lt;dbl&gt; | Petal.Length &lt;dbl&gt; | Petal.Width &lt;dbl&gt; | Species &lt;fct&gt; |\n",
       "|---|---|---|---|---|---|\n",
       "| 26 | 5 | 3 | 1.6 | 0.2 | setosa |\n",
       "\n"
      ],
      "text/plain": [
       "   Sepal.Length Sepal.Width Petal.Length Petal.Width Species\n",
       "26 5            3           1.6          0.2         setosa "
      ]
     },
     "metadata": {},
     "output_type": "display_data"
    }
   ],
   "source": [
    "ind_samp <- union(ind_set,ind_ver)\n",
    "not_sampld <- setdiff(1:100,ind_samp)\n",
    "i <- sample(not_sampld,1)\n",
    "new_obs <- iris[i,]\n",
    "new_obs"
   ]
  },
  {
   "cell_type": "code",
   "execution_count": 6,
   "metadata": {},
   "outputs": [
    {
     "data": {
      "image/png": "[encoded data removed]",
      "text/plain": [
       "plot without title"
      ]
     },
     "metadata": {
      "image/png": {
       "height": 420,
       "width": 420
      },
      "text/plain": {
       "height": 420,
       "width": 420
      }
     },
     "output_type": "display_data"
    }
   ],
   "source": [
    "g <- ggplot(dat,aes(x=Sepal.Length, y=Sepal.Width, color=Species))+geom_point()+geom_point(data=new_obs, size=5, colour=\"black\", mapping=aes(x=Sepal.Length, y=Sepal.Width))+coord_fixed()+theme_bw()\n",
    "g"
   ]
  },
  {
   "cell_type": "markdown",
   "metadata": {},
   "source": [
    "**¿A cuál clase debe ser asignado?**"
   ]
  },
  {
   "cell_type": "code",
   "execution_count": 7,
   "metadata": {},
   "outputs": [
    {
     "name": "stdout",
     "output_type": "stream",
     "text": [
      " [1] 0.29 2.45 0.50 0.50 0.25 0.37 0.36 0.37 0.58 0.17 1.09 0.36 1.25 2.56 0.53\n",
      "[16] 0.37 1.22 0.49 0.74 1.21\n",
      "[1] 10\n"
     ]
    }
   ],
   "source": [
    "# evaluamos la distancia entre el vector de características de la nueva observación y los de los datos de entrenamiento\n",
    "dist <- (new_obs$Sepal.Length-dat$Sepal.Length)^2+(new_obs$Sepal.Width-dat$Sepal.Width)^2\n",
    "print(dist)\n",
    "m_d <- which.min(dist) #¿cuál se encuentra a una distancia mínima?\n",
    "print(m_d)"
   ]
  },
  {
   "cell_type": "code",
   "execution_count": 8,
   "metadata": {},
   "outputs": [
    {
     "data": {
      "image/png": "[encoded data removed]",
      "text/plain": [
       "plot without title"
      ]
     },
     "metadata": {
      "image/png": {
       "height": 420,
       "width": 420
      },
      "text/plain": {
       "height": 420,
       "width": 420
      }
     },
     "output_type": "display_data"
    }
   ],
   "source": [
    "g <- ggplot(dat,aes(x=Sepal.Length, y=Sepal.Width, color=Species))+geom_point()+geom_point(data=new_obs, size=5, colour=\"black\", mapping=aes(x=Sepal.Length, y=Sepal.Width))+geom_point(data=dat[m_d,], size=5, mapping=aes(x=Sepal.Length, y=Sepal.Width))+theme_bw()+coord_fixed()\n",
    "g"
   ]
  },
  {
   "cell_type": "markdown",
   "metadata": {},
   "source": [
    "La idea puede extenderse para tomar en cuenta a más de un vecino"
   ]
  },
  {
   "cell_type": "code",
   "execution_count": 9,
   "metadata": {},
   "outputs": [
    {
     "data": {
      "text/html": [
       "<ol class=list-inline>\n",
       "\t<li>0.17</li>\n",
       "\t<li>0.25</li>\n",
       "\t<li>0.29</li>\n",
       "\t<li>0.36</li>\n",
       "\t<li>0.36</li>\n",
       "\t<li>0.37</li>\n",
       "\t<li>0.37</li>\n",
       "\t<li>0.37</li>\n",
       "\t<li>0.49</li>\n",
       "\t<li>0.5</li>\n",
       "\t<li>0.5</li>\n",
       "\t<li>0.53</li>\n",
       "\t<li>0.58</li>\n",
       "\t<li>0.74</li>\n",
       "\t<li>1.09</li>\n",
       "\t<li>1.21</li>\n",
       "\t<li>1.22</li>\n",
       "\t<li>1.25</li>\n",
       "\t<li>2.45</li>\n",
       "\t<li>2.56</li>\n",
       "</ol>\n"
      ],
      "text/latex": [
       "\\begin{enumerate*}\n",
       "\\item 0.17\n",
       "\\item 0.25\n",
       "\\item 0.29\n",
       "\\item 0.36\n",
       "\\item 0.36\n",
       "\\item 0.37\n",
       "\\item 0.37\n",
       "\\item 0.37\n",
       "\\item 0.49\n",
       "\\item 0.5\n",
       "\\item 0.5\n",
       "\\item 0.53\n",
       "\\item 0.58\n",
       "\\item 0.74\n",
       "\\item 1.09\n",
       "\\item 1.21\n",
       "\\item 1.22\n",
       "\\item 1.25\n",
       "\\item 2.45\n",
       "\\item 2.56\n",
       "\\end{enumerate*}\n"
      ],
      "text/markdown": [
       "1. 0.17\n",
       "2. 0.25\n",
       "3. 0.29\n",
       "4. 0.36\n",
       "5. 0.36\n",
       "6. 0.37\n",
       "7. 0.37\n",
       "8. 0.37\n",
       "9. 0.49\n",
       "10. 0.5\n",
       "11. 0.5\n",
       "12. 0.53\n",
       "13. 0.58\n",
       "14. 0.74\n",
       "15. 1.09\n",
       "16. 1.21\n",
       "17. 1.22\n",
       "18. 1.25\n",
       "19. 2.45\n",
       "20. 2.56\n",
       "\n",
       "\n"
      ],
      "text/plain": [
       " [1] 0.17 0.25 0.29 0.36 0.36 0.37 0.37 0.37 0.49 0.50 0.50 0.53 0.58 0.74 1.09\n",
       "[16] 1.21 1.22 1.25 2.45 2.56"
      ]
     },
     "metadata": {},
     "output_type": "display_data"
    }
   ],
   "source": [
    "ind_ord <- order(dist)\n",
    "dist[ind_ord]"
   ]
  },
  {
   "cell_type": "code",
   "execution_count": 10,
   "metadata": {},
   "outputs": [
    {
     "data": {
      "text/html": [
       "<table>\n",
       "<caption>A data.frame: 20 × 4</caption>\n",
       "<thead>\n",
       "\t<tr><th></th><th scope=col>Sepal.Length</th><th scope=col>Sepal.Width</th><th scope=col>Species</th><th scope=col>dist</th></tr>\n",
       "\t<tr><th></th><th scope=col>&lt;dbl&gt;</th><th scope=col>&lt;dbl&gt;</th><th scope=col>&lt;fct&gt;</th><th scope=col>&lt;dbl&gt;</th></tr>\n",
       "</thead>\n",
       "<tbody>\n",
       "\t<tr><th scope=row>4</th><td>4.6</td><td>3.1</td><td>setosa    </td><td>0.17</td></tr>\n",
       "\t<tr><th scope=row>44</th><td>5.0</td><td>3.5</td><td>setosa    </td><td>0.25</td></tr>\n",
       "\t<tr><th scope=row>28</th><td>5.2</td><td>3.5</td><td>setosa    </td><td>0.29</td></tr>\n",
       "\t<tr><th scope=row>89</th><td>5.6</td><td>3.0</td><td>versicolor</td><td>0.36</td></tr>\n",
       "\t<tr><th scope=row>5</th><td>5.0</td><td>3.6</td><td>setosa    </td><td>0.36</td></tr>\n",
       "\t<tr><th scope=row>9</th><td>4.4</td><td>2.9</td><td>setosa    </td><td>0.37</td></tr>\n",
       "\t<tr><th scope=row>65</th><td>5.6</td><td>2.9</td><td>versicolor</td><td>0.37</td></tr>\n",
       "\t<tr><th scope=row>38</th><td>4.9</td><td>3.6</td><td>setosa    </td><td>0.37</td></tr>\n",
       "\t<tr><th scope=row>94</th><td>5.0</td><td>2.3</td><td>versicolor</td><td>0.49</td></tr>\n",
       "\t<tr><th scope=row>37</th><td>5.5</td><td>3.5</td><td>setosa    </td><td>0.50</td></tr>\n",
       "\t<tr><th scope=row>22</th><td>5.1</td><td>3.7</td><td>setosa    </td><td>0.50</td></tr>\n",
       "\t<tr><th scope=row>56</th><td>5.7</td><td>2.8</td><td>versicolor</td><td>0.53</td></tr>\n",
       "\t<tr><th scope=row>49</th><td>5.3</td><td>3.7</td><td>setosa    </td><td>0.58</td></tr>\n",
       "\t<tr><th scope=row>54</th><td>5.5</td><td>2.3</td><td>versicolor</td><td>0.74</td></tr>\n",
       "\t<tr><th scope=row>84</th><td>6.0</td><td>2.7</td><td>versicolor</td><td>1.09</td></tr>\n",
       "\t<tr><th scope=row>92</th><td>6.1</td><td>3.0</td><td>versicolor</td><td>1.21</td></tr>\n",
       "\t<tr><th scope=row>64</th><td>6.1</td><td>2.9</td><td>versicolor</td><td>1.22</td></tr>\n",
       "\t<tr><th scope=row>72</th><td>6.1</td><td>2.8</td><td>versicolor</td><td>1.25</td></tr>\n",
       "\t<tr><th scope=row>16</th><td>5.7</td><td>4.4</td><td>setosa    </td><td>2.45</td></tr>\n",
       "\t<tr><th scope=row>76</th><td>6.6</td><td>3.0</td><td>versicolor</td><td>2.56</td></tr>\n",
       "</tbody>\n",
       "</table>\n"
      ],
      "text/latex": [
       "A data.frame: 20 × 4\n",
       "\\begin{tabular}{r|llll}\n",
       "  & Sepal.Length & Sepal.Width & Species & dist\\\\\n",
       "  & <dbl> & <dbl> & <fct> & <dbl>\\\\\n",
       "\\hline\n",
       "\t4 & 4.6 & 3.1 & setosa     & 0.17\\\\\n",
       "\t44 & 5.0 & 3.5 & setosa     & 0.25\\\\\n",
       "\t28 & 5.2 & 3.5 & setosa     & 0.29\\\\\n",
       "\t89 & 5.6 & 3.0 & versicolor & 0.36\\\\\n",
       "\t5 & 5.0 & 3.6 & setosa     & 0.36\\\\\n",
       "\t9 & 4.4 & 2.9 & setosa     & 0.37\\\\\n",
       "\t65 & 5.6 & 2.9 & versicolor & 0.37\\\\\n",
       "\t38 & 4.9 & 3.6 & setosa     & 0.37\\\\\n",
       "\t94 & 5.0 & 2.3 & versicolor & 0.49\\\\\n",
       "\t37 & 5.5 & 3.5 & setosa     & 0.50\\\\\n",
       "\t22 & 5.1 & 3.7 & setosa     & 0.50\\\\\n",
       "\t56 & 5.7 & 2.8 & versicolor & 0.53\\\\\n",
       "\t49 & 5.3 & 3.7 & setosa     & 0.58\\\\\n",
       "\t54 & 5.5 & 2.3 & versicolor & 0.74\\\\\n",
       "\t84 & 6.0 & 2.7 & versicolor & 1.09\\\\\n",
       "\t92 & 6.1 & 3.0 & versicolor & 1.21\\\\\n",
       "\t64 & 6.1 & 2.9 & versicolor & 1.22\\\\\n",
       "\t72 & 6.1 & 2.8 & versicolor & 1.25\\\\\n",
       "\t16 & 5.7 & 4.4 & setosa     & 2.45\\\\\n",
       "\t76 & 6.6 & 3.0 & versicolor & 2.56\\\\\n",
       "\\end{tabular}\n"
      ],
      "text/markdown": [
       "\n",
       "A data.frame: 20 × 4\n",
       "\n",
       "| <!--/--> | Sepal.Length &lt;dbl&gt; | Sepal.Width &lt;dbl&gt; | Species &lt;fct&gt; | dist &lt;dbl&gt; |\n",
       "|---|---|---|---|---|\n",
       "| 4 | 4.6 | 3.1 | setosa     | 0.17 |\n",
       "| 44 | 5.0 | 3.5 | setosa     | 0.25 |\n",
       "| 28 | 5.2 | 3.5 | setosa     | 0.29 |\n",
       "| 89 | 5.6 | 3.0 | versicolor | 0.36 |\n",
       "| 5 | 5.0 | 3.6 | setosa     | 0.36 |\n",
       "| 9 | 4.4 | 2.9 | setosa     | 0.37 |\n",
       "| 65 | 5.6 | 2.9 | versicolor | 0.37 |\n",
       "| 38 | 4.9 | 3.6 | setosa     | 0.37 |\n",
       "| 94 | 5.0 | 2.3 | versicolor | 0.49 |\n",
       "| 37 | 5.5 | 3.5 | setosa     | 0.50 |\n",
       "| 22 | 5.1 | 3.7 | setosa     | 0.50 |\n",
       "| 56 | 5.7 | 2.8 | versicolor | 0.53 |\n",
       "| 49 | 5.3 | 3.7 | setosa     | 0.58 |\n",
       "| 54 | 5.5 | 2.3 | versicolor | 0.74 |\n",
       "| 84 | 6.0 | 2.7 | versicolor | 1.09 |\n",
       "| 92 | 6.1 | 3.0 | versicolor | 1.21 |\n",
       "| 64 | 6.1 | 2.9 | versicolor | 1.22 |\n",
       "| 72 | 6.1 | 2.8 | versicolor | 1.25 |\n",
       "| 16 | 5.7 | 4.4 | setosa     | 2.45 |\n",
       "| 76 | 6.6 | 3.0 | versicolor | 2.56 |\n",
       "\n"
      ],
      "text/plain": [
       "   Sepal.Length Sepal.Width Species    dist\n",
       "4  4.6          3.1         setosa     0.17\n",
       "44 5.0          3.5         setosa     0.25\n",
       "28 5.2          3.5         setosa     0.29\n",
       "89 5.6          3.0         versicolor 0.36\n",
       "5  5.0          3.6         setosa     0.36\n",
       "9  4.4          2.9         setosa     0.37\n",
       "65 5.6          2.9         versicolor 0.37\n",
       "38 4.9          3.6         setosa     0.37\n",
       "94 5.0          2.3         versicolor 0.49\n",
       "37 5.5          3.5         setosa     0.50\n",
       "22 5.1          3.7         setosa     0.50\n",
       "56 5.7          2.8         versicolor 0.53\n",
       "49 5.3          3.7         setosa     0.58\n",
       "54 5.5          2.3         versicolor 0.74\n",
       "84 6.0          2.7         versicolor 1.09\n",
       "92 6.1          3.0         versicolor 1.21\n",
       "64 6.1          2.9         versicolor 1.22\n",
       "72 6.1          2.8         versicolor 1.25\n",
       "16 5.7          4.4         setosa     2.45\n",
       "76 6.6          3.0         versicolor 2.56"
      ]
     },
     "metadata": {},
     "output_type": "display_data"
    }
   ],
   "source": [
    "dat$dist <- dist \n",
    "dat[ind_ord,]"
   ]
  },
  {
   "cell_type": "markdown",
   "metadata": {},
   "source": [
    "En R la clasificación por vecinos más cercanos puede realizarse con el comando $\\texttt{knn}$ de la librería $\\texttt{class}$"
   ]
  },
  {
   "cell_type": "code",
   "execution_count": 11,
   "metadata": {},
   "outputs": [],
   "source": [
    "library(class)"
   ]
  },
  {
   "cell_type": "code",
   "execution_count": 12,
   "metadata": {},
   "outputs": [],
   "source": [
    "#separamos los datos en entrenamiento y prueba\n",
    "ind_set <- 1:50\n",
    "ind_ver <- 51:100\n",
    "ind_vir <- 101:150\n",
    "\n",
    "ind_train <- union(sample(ind_set,40),sample(ind_ver,40))\n",
    "ind_train <- union(sample(ind_vir,40),ind_train)\n",
    "\n",
    "train <- iris[ind_train,]\n",
    "test <- iris[-ind_train,]"
   ]
  },
  {
   "cell_type": "code",
   "execution_count": 14,
   "metadata": {},
   "outputs": [],
   "source": [
    "#quitamos la información de la especie\n",
    "train_cl <- train$Species \n",
    "test_cl <- test$Species\n",
    "\n",
    "train <- train %>% select(-Species)\n",
    "test <- test %>% select(-Species)\n",
    "\n",
    "knn_cl <- knn(train,test,train_cl)\n",
    "\n",
    "res <- data.frame(real_class = test_cl, knn_cl, k=1)"
   ]
  },
  {
   "cell_type": "code",
   "execution_count": 15,
   "metadata": {},
   "outputs": [
    {
     "data": {
      "text/html": [
       "<table>\n",
       "<caption>A data.frame: 30 × 3</caption>\n",
       "<thead>\n",
       "\t<tr><th scope=col>real_class</th><th scope=col>knn_cl</th><th scope=col>k</th></tr>\n",
       "\t<tr><th scope=col>&lt;fct&gt;</th><th scope=col>&lt;fct&gt;</th><th scope=col>&lt;dbl&gt;</th></tr>\n",
       "</thead>\n",
       "<tbody>\n",
       "\t<tr><td>setosa    </td><td>setosa    </td><td>1</td></tr>\n",
       "\t<tr><td>setosa    </td><td>setosa    </td><td>1</td></tr>\n",
       "\t<tr><td>setosa    </td><td>setosa    </td><td>1</td></tr>\n",
       "\t<tr><td>setosa    </td><td>setosa    </td><td>1</td></tr>\n",
       "\t<tr><td>setosa    </td><td>setosa    </td><td>1</td></tr>\n",
       "\t<tr><td>setosa    </td><td>setosa    </td><td>1</td></tr>\n",
       "\t<tr><td>setosa    </td><td>setosa    </td><td>1</td></tr>\n",
       "\t<tr><td>setosa    </td><td>setosa    </td><td>1</td></tr>\n",
       "\t<tr><td>setosa    </td><td>setosa    </td><td>1</td></tr>\n",
       "\t<tr><td>setosa    </td><td>setosa    </td><td>1</td></tr>\n",
       "\t<tr><td>versicolor</td><td>versicolor</td><td>1</td></tr>\n",
       "\t<tr><td>versicolor</td><td>versicolor</td><td>1</td></tr>\n",
       "\t<tr><td>versicolor</td><td>versicolor</td><td>1</td></tr>\n",
       "\t<tr><td>versicolor</td><td>versicolor</td><td>1</td></tr>\n",
       "\t<tr><td>versicolor</td><td>virginica </td><td>1</td></tr>\n",
       "\t<tr><td>versicolor</td><td>versicolor</td><td>1</td></tr>\n",
       "\t<tr><td>versicolor</td><td>versicolor</td><td>1</td></tr>\n",
       "\t<tr><td>versicolor</td><td>versicolor</td><td>1</td></tr>\n",
       "\t<tr><td>versicolor</td><td>versicolor</td><td>1</td></tr>\n",
       "\t<tr><td>versicolor</td><td>versicolor</td><td>1</td></tr>\n",
       "\t<tr><td>virginica </td><td>virginica </td><td>1</td></tr>\n",
       "\t<tr><td>virginica </td><td>virginica </td><td>1</td></tr>\n",
       "\t<tr><td>virginica </td><td>virginica </td><td>1</td></tr>\n",
       "\t<tr><td>virginica </td><td>virginica </td><td>1</td></tr>\n",
       "\t<tr><td>virginica </td><td>virginica </td><td>1</td></tr>\n",
       "\t<tr><td>virginica </td><td>virginica </td><td>1</td></tr>\n",
       "\t<tr><td>virginica </td><td>virginica </td><td>1</td></tr>\n",
       "\t<tr><td>virginica </td><td>virginica </td><td>1</td></tr>\n",
       "\t<tr><td>virginica </td><td>virginica </td><td>1</td></tr>\n",
       "\t<tr><td>virginica </td><td>virginica </td><td>1</td></tr>\n",
       "</tbody>\n",
       "</table>\n"
      ],
      "text/latex": [
       "A data.frame: 30 × 3\n",
       "\\begin{tabular}{r|lll}\n",
       " real\\_class & knn\\_cl & k\\\\\n",
       " <fct> & <fct> & <dbl>\\\\\n",
       "\\hline\n",
       "\t setosa     & setosa     & 1\\\\\n",
       "\t setosa     & setosa     & 1\\\\\n",
       "\t setosa     & setosa     & 1\\\\\n",
       "\t setosa     & setosa     & 1\\\\\n",
       "\t setosa     & setosa     & 1\\\\\n",
       "\t setosa     & setosa     & 1\\\\\n",
       "\t setosa     & setosa     & 1\\\\\n",
       "\t setosa     & setosa     & 1\\\\\n",
       "\t setosa     & setosa     & 1\\\\\n",
       "\t setosa     & setosa     & 1\\\\\n",
       "\t versicolor & versicolor & 1\\\\\n",
       "\t versicolor & versicolor & 1\\\\\n",
       "\t versicolor & versicolor & 1\\\\\n",
       "\t versicolor & versicolor & 1\\\\\n",
       "\t versicolor & virginica  & 1\\\\\n",
       "\t versicolor & versicolor & 1\\\\\n",
       "\t versicolor & versicolor & 1\\\\\n",
       "\t versicolor & versicolor & 1\\\\\n",
       "\t versicolor & versicolor & 1\\\\\n",
       "\t versicolor & versicolor & 1\\\\\n",
       "\t virginica  & virginica  & 1\\\\\n",
       "\t virginica  & virginica  & 1\\\\\n",
       "\t virginica  & virginica  & 1\\\\\n",
       "\t virginica  & virginica  & 1\\\\\n",
       "\t virginica  & virginica  & 1\\\\\n",
       "\t virginica  & virginica  & 1\\\\\n",
       "\t virginica  & virginica  & 1\\\\\n",
       "\t virginica  & virginica  & 1\\\\\n",
       "\t virginica  & virginica  & 1\\\\\n",
       "\t virginica  & virginica  & 1\\\\\n",
       "\\end{tabular}\n"
      ],
      "text/markdown": [
       "\n",
       "A data.frame: 30 × 3\n",
       "\n",
       "| real_class &lt;fct&gt; | knn_cl &lt;fct&gt; | k &lt;dbl&gt; |\n",
       "|---|---|---|\n",
       "| setosa     | setosa     | 1 |\n",
       "| setosa     | setosa     | 1 |\n",
       "| setosa     | setosa     | 1 |\n",
       "| setosa     | setosa     | 1 |\n",
       "| setosa     | setosa     | 1 |\n",
       "| setosa     | setosa     | 1 |\n",
       "| setosa     | setosa     | 1 |\n",
       "| setosa     | setosa     | 1 |\n",
       "| setosa     | setosa     | 1 |\n",
       "| setosa     | setosa     | 1 |\n",
       "| versicolor | versicolor | 1 |\n",
       "| versicolor | versicolor | 1 |\n",
       "| versicolor | versicolor | 1 |\n",
       "| versicolor | versicolor | 1 |\n",
       "| versicolor | virginica  | 1 |\n",
       "| versicolor | versicolor | 1 |\n",
       "| versicolor | versicolor | 1 |\n",
       "| versicolor | versicolor | 1 |\n",
       "| versicolor | versicolor | 1 |\n",
       "| versicolor | versicolor | 1 |\n",
       "| virginica  | virginica  | 1 |\n",
       "| virginica  | virginica  | 1 |\n",
       "| virginica  | virginica  | 1 |\n",
       "| virginica  | virginica  | 1 |\n",
       "| virginica  | virginica  | 1 |\n",
       "| virginica  | virginica  | 1 |\n",
       "| virginica  | virginica  | 1 |\n",
       "| virginica  | virginica  | 1 |\n",
       "| virginica  | virginica  | 1 |\n",
       "| virginica  | virginica  | 1 |\n",
       "\n"
      ],
      "text/plain": [
       "   real_class knn_cl     k\n",
       "1  setosa     setosa     1\n",
       "2  setosa     setosa     1\n",
       "3  setosa     setosa     1\n",
       "4  setosa     setosa     1\n",
       "5  setosa     setosa     1\n",
       "6  setosa     setosa     1\n",
       "7  setosa     setosa     1\n",
       "8  setosa     setosa     1\n",
       "9  setosa     setosa     1\n",
       "10 setosa     setosa     1\n",
       "11 versicolor versicolor 1\n",
       "12 versicolor versicolor 1\n",
       "13 versicolor versicolor 1\n",
       "14 versicolor versicolor 1\n",
       "15 versicolor virginica  1\n",
       "16 versicolor versicolor 1\n",
       "17 versicolor versicolor 1\n",
       "18 versicolor versicolor 1\n",
       "19 versicolor versicolor 1\n",
       "20 versicolor versicolor 1\n",
       "21 virginica  virginica  1\n",
       "22 virginica  virginica  1\n",
       "23 virginica  virginica  1\n",
       "24 virginica  virginica  1\n",
       "25 virginica  virginica  1\n",
       "26 virginica  virginica  1\n",
       "27 virginica  virginica  1\n",
       "28 virginica  virginica  1\n",
       "29 virginica  virginica  1\n",
       "30 virginica  virginica  1"
      ]
     },
     "metadata": {},
     "output_type": "display_data"
    }
   ],
   "source": [
    "res"
   ]
  },
  {
   "cell_type": "code",
   "execution_count": 16,
   "metadata": {},
   "outputs": [
    {
     "data": {
      "text/html": [
       "1"
      ],
      "text/latex": [
       "1"
      ],
      "text/markdown": [
       "1"
      ],
      "text/plain": [
       "[1] 1"
      ]
     },
     "metadata": {},
     "output_type": "display_data"
    }
   ],
   "source": [
    "# errores\n",
    "sum(res$real_class!=res$knn_cl)"
   ]
  },
  {
   "cell_type": "markdown",
   "metadata": {},
   "source": [
    "# Detalles de implementación\n",
    "\n",
    "Para aplicar el método de vecinos más cercanos es altamente recomendable **estandarizar** las variables dado que pueden estar definidas en escalas muy dispares. Por ejemplo, si se utiliza el peso y la estatura de una persona como predictores en algún problema de clasificación, el peso puede estar definido en kilogramos y la estatura en metros. El rango de valores para el peso puede ir de los 50 a los 150 kilogramos mientras que la estatura puede variar de 1.5 a 1.95 metros. Sin estandarizar, daríamos más importancia al peso que a la estatura.\n",
    "\n",
    "Estandarizar una variable se realzia restando la media y dividiendo entre la desviación estándar:\n",
    "\n",
    "$$x_h = \\frac{x-\\overline{x}}{\\sigma_x}$$\n",
    "\n",
    "de manera que la nueva variable tenga una media de cero y una desviación estándar de 1."
   ]
  },
  {
   "cell_type": "code",
   "execution_count": 62,
   "metadata": {},
   "outputs": [
    {
     "data": {
      "text/plain": [
       "  Sepal.Length    Sepal.Width     Petal.Length    Petal.Width   \n",
       " Min.   :4.300   Min.   :2.000   Min.   :1.000   Min.   :0.100  \n",
       " 1st Qu.:5.100   1st Qu.:2.800   1st Qu.:1.600   1st Qu.:0.300  \n",
       " Median :5.800   Median :3.000   Median :4.350   Median :1.300  \n",
       " Mean   :5.843   Mean   :3.057   Mean   :3.758   Mean   :1.199  \n",
       " 3rd Qu.:6.400   3rd Qu.:3.300   3rd Qu.:5.100   3rd Qu.:1.800  \n",
       " Max.   :7.900   Max.   :4.400   Max.   :6.900   Max.   :2.500  "
      ]
     },
     "metadata": {},
     "output_type": "display_data"
    }
   ],
   "source": [
    "#sin estandarizar\n",
    "train <- iris %>% select(-Species)\n",
    "summary(train)"
   ]
  },
  {
   "cell_type": "code",
   "execution_count": 63,
   "metadata": {},
   "outputs": [
    {
     "data": {
      "text/plain": [
       "  Sepal.Length       Sepal.Width       Petal.Length      Petal.Width     \n",
       " Min.   :-1.86378   Min.   :-2.4258   Min.   :-1.5623   Min.   :-1.4422  \n",
       " 1st Qu.:-0.89767   1st Qu.:-0.5904   1st Qu.:-1.2225   1st Qu.:-1.1799  \n",
       " Median :-0.05233   Median :-0.1315   Median : 0.3354   Median : 0.1321  \n",
       " Mean   : 0.00000   Mean   : 0.0000   Mean   : 0.0000   Mean   : 0.0000  \n",
       " 3rd Qu.: 0.67225   3rd Qu.: 0.5567   3rd Qu.: 0.7602   3rd Qu.: 0.7880  \n",
       " Max.   : 2.48370   Max.   : 3.0805   Max.   : 1.7799   Max.   : 1.7064  "
      ]
     },
     "metadata": {},
     "output_type": "display_data"
    }
   ],
   "source": [
    "#estandarizando\n",
    "train <- scale(train)\n",
    "summary(train)"
   ]
  },
  {
   "cell_type": "markdown",
   "metadata": {},
   "source": [
    "Otro punto a considerar es el número de vecinos que se utilizarán: pocos vecinos generan modelos muy flexibles, muchos vecinos producen modelos muy rígidos. "
   ]
  },
  {
   "cell_type": "code",
   "execution_count": 26,
   "metadata": {},
   "outputs": [
    {
     "data": {
      "image/png": "[encoded data removed]",
      "text/plain": [
       "plot without title"
      ]
     },
     "metadata": {
      "image/png": {
       "height": 420,
       "width": 420
      },
      "text/plain": {
       "height": 420,
       "width": 420
      }
     },
     "output_type": "display_data"
    }
   ],
   "source": [
    "sub_iris <- iris %>% filter(Species!=\"setosa\")\n",
    "ggplot(sub_iris, aes(x=Petal.Width, y=Petal.Length, col=Species)) + geom_point()+geom_point(data=)+theme_bw()"
   ]
  },
  {
   "cell_type": "code",
   "execution_count": 45,
   "metadata": {},
   "outputs": [
    {
     "data": {
      "text/html": [
       "<table>\n",
       "<caption>A data.frame: 6 × 2</caption>\n",
       "<thead>\n",
       "\t<tr><th scope=col>Petal.Width</th><th scope=col>Petal.Length</th></tr>\n",
       "\t<tr><th scope=col>&lt;dbl&gt;</th><th scope=col>&lt;dbl&gt;</th></tr>\n",
       "</thead>\n",
       "<tbody>\n",
       "\t<tr><td>1.4</td><td>4.7</td></tr>\n",
       "\t<tr><td>1.5</td><td>4.5</td></tr>\n",
       "\t<tr><td>1.5</td><td>4.9</td></tr>\n",
       "\t<tr><td>1.3</td><td>4.0</td></tr>\n",
       "\t<tr><td>1.5</td><td>4.6</td></tr>\n",
       "\t<tr><td>1.3</td><td>4.5</td></tr>\n",
       "</tbody>\n",
       "</table>\n"
      ],
      "text/latex": [
       "A data.frame: 6 × 2\n",
       "\\begin{tabular}{r|ll}\n",
       " Petal.Width & Petal.Length\\\\\n",
       " <dbl> & <dbl>\\\\\n",
       "\\hline\n",
       "\t 1.4 & 4.7\\\\\n",
       "\t 1.5 & 4.5\\\\\n",
       "\t 1.5 & 4.9\\\\\n",
       "\t 1.3 & 4.0\\\\\n",
       "\t 1.5 & 4.6\\\\\n",
       "\t 1.3 & 4.5\\\\\n",
       "\\end{tabular}\n"
      ],
      "text/markdown": [
       "\n",
       "A data.frame: 6 × 2\n",
       "\n",
       "| Petal.Width &lt;dbl&gt; | Petal.Length &lt;dbl&gt; |\n",
       "|---|---|\n",
       "| 1.4 | 4.7 |\n",
       "| 1.5 | 4.5 |\n",
       "| 1.5 | 4.9 |\n",
       "| 1.3 | 4.0 |\n",
       "| 1.5 | 4.6 |\n",
       "| 1.3 | 4.5 |\n",
       "\n"
      ],
      "text/plain": [
       "  Petal.Width Petal.Length\n",
       "1 1.4         4.7         \n",
       "2 1.5         4.5         \n",
       "3 1.5         4.9         \n",
       "4 1.3         4.0         \n",
       "5 1.5         4.6         \n",
       "6 1.3         4.5         "
      ]
     },
     "metadata": {},
     "output_type": "display_data"
    }
   ],
   "source": [
    "x <- select(sub_iris, Petal.Width, Petal.Length)\n",
    "y <- sub_iris$Species\n",
    "head(x)"
   ]
  },
  {
   "cell_type": "code",
   "execution_count": 57,
   "metadata": {},
   "outputs": [],
   "source": [
    "ws <- seq(min(x$Petal.Width),max(x$Petal.Width),0.05)\n",
    "ls <- seq(min(x$Petal.Length),max(x$Petal.Length),0.1)\n",
    "\n",
    "test <- expand.grid(ws,ls)\n",
    "names(test) <- c(\"Petal.Width\", \"Petal.Length\") "
   ]
  },
  {
   "cell_type": "code",
   "execution_count": 58,
   "metadata": {},
   "outputs": [
    {
     "data": {
      "image/png": "[encoded data removed]",
      "text/plain": [
       "plot without title"
      ]
     },
     "metadata": {
      "image/png": {
       "height": 420,
       "width": 420
      },
      "text/plain": {
       "height": 420,
       "width": 420
      }
     },
     "output_type": "display_data"
    }
   ],
   "source": [
    "#modelo muy flexible\n",
    "y_test <- knn(x, test, y, k=1)\n",
    "test_dat <- test\n",
    "test_dat$Species_NN <- y_test\n",
    "ggplot(test_dat, aes(x=Petal.Width, y=Petal.Length, col=Species_NN))+geom_point(size=10, alpha=0.1)+geom_point(data=sub_iris, aes(x=Petal.Width, y=Petal.Length, col=Species))+theme_bw()"
   ]
  },
  {
   "cell_type": "code",
   "execution_count": 61,
   "metadata": {},
   "outputs": [
    {
     "data": {
      "image/png": "[encoded data removed]",
      "text/plain": [
       "plot without title"
      ]
     },
     "metadata": {
      "image/png": {
       "height": 420,
       "width": 420
      },
      "text/plain": {
       "height": 420,
       "width": 420
      }
     },
     "output_type": "display_data"
    }
   ],
   "source": [
    "#modelo muy rígido\n",
    "y_test <- knn(x, test, y, k=30)\n",
    "test_dat <- test\n",
    "test_dat$Species_NN <- y_test\n",
    "ggplot(test_dat, aes(x=Petal.Width, y=Petal.Length, col=Species_NN))+geom_point(size=10, alpha=0.1)+geom_point(data=sub_iris, aes(x=Petal.Width, y=Petal.Length, col=Species))+theme_bw()"
   ]
  },
  {
   "cell_type": "markdown",
   "metadata": {},
   "source": [
    "En la práctica, determinamos el número de vecinos mediante validación cruzada o por medio de k-dobleces"
   ]
  },
  {
   "cell_type": "markdown",
   "metadata": {},
   "source": [
    "<font color=\"red\">Actividad</font>\n",
    "\n",
    "1. Carga los datos del archivo $\\texttt{Prostate_Cancer.csv}$\n",
    "2. Resume los valores de todas las variables numéricas, las cuales serán utilizadas como predictores [observa que tienen diferentes escalas].  \n",
    "3. **Estandariza** todas las variables numéricas que serán utilizadas como predictores [explora el comando $\\texttt{scale}$ de $\\texttt{R}$]. \n",
    "4. Separa los datos en dos subconjuntos: \n",
    "    1. Train\n",
    "    2. Test\n",
    "\n",
    "5. Utiliza el método de **vecinos más cercanos** para predecir la variable $\\texttt{diagnosis_result}$ la cual indica si un tumor es benigno o maligno, a partir de los 8 predictores disponibles.\n",
    "6. Identifica el valor óptimo para el parámetro $k$ mediante validación cruzada.\n",
    "\n",
    "Repite el proceso sin estandarizar las variables predictoras ¿varían os resultados?.\n",
    "\n",
    "* Entrega tu reporte a más tardar el martes 23 de octubre."
   ]
  },
  {
   "cell_type": "code",
   "execution_count": null,
   "metadata": {},
   "outputs": [],
   "source": []
  }
 ],
 "metadata": {
  "kernelspec": {
   "display_name": "R",
   "language": "R",
   "name": "ir"
  },
  "language_info": {
   "codemirror_mode": "r",
   "file_extension": ".r",
   "mimetype": "text/x-r-source",
   "name": "R",
   "pygments_lexer": "r",
   "version": "3.5.1"
  }
 },
 "nbformat": 4,
 "nbformat_minor": 2
}
