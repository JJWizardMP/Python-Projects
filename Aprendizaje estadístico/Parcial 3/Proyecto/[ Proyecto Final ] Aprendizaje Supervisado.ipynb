{
 "cells": [
  {
   "cell_type": "markdown",
   "metadata": {},
   "source": [
    "## Registros de votación del Congreso de los Estados Unidos en el año 1984\n",
    "##### Clasificar como republicano o demócrata ( Clasificación Supervisada )\n",
    "Méndez Pool Joan de Jesús | 160300102\n",
    "\n",
    "<p  style=\"text-align:justify\" >El objetivo del proyecto es comparar diferentes técnicas para resolver un problema de clasificación binario sobre el conjunto de datos de los <i>Registros de votación del Congreso de los Estados Unidos en el año 1984</i>, Este conjunto de datos incluye votos para cada una de las cámaras de <i>Representantes congresistas</i> sobre los 16 votos clave identificados por el CQA. La CQA enumera nueve tipos diferentes de votos: <i> voted for (votados para), paired for (emparejados para), y announced for (anunciado para )</i> (estos tres son simplificados a la categoría <i>sí</i>), <i>voted agains (votaron en contra), paired against (emparejado en contra) y announced against (anunciado en contra) (estos tres simplificado a la categoría <i>no</i>), voted present (votó presente), voted present to avoid conflict of interest (votó presente para evitar conflictos de interés), y no votó ni dio a conocer una posición</i> (estos tres simplificados a una disposición <i>desconocida</i>).<br><br>\n",
    "Los atributos que contiene el conjunto de datos son los siguientes: </p>\n",
    "<ol>\n",
    "   <li> Class Name: 2 clases (democrat, republican)</li>\n",
    "   <li> handicapped-infants: 2 clases (y,n)</li>\n",
    "   <li> water-project-cost-sharing: 2 clases (y,n)</li>\n",
    "   <li> adoption-of-the-budget-resolution: 2 clases (y,n)</li>\n",
    "   <li> physician-fee-freeze: 2 clases (y,n)</li>\n",
    "   <li> el-salvador-aid: 2 clases (y,n)</li>\n",
    "   <li> religious-groups-in-schools: 2 clases (y,n)</li>\n",
    "   <li> anti-satellite-test-ban: 2 clases (y,n)</li>\n",
    "   <li> aid-to-nicaraguan-contras: 2 clases (y,n)</li>\n",
    "   <li> mx-missile: 2 clases (y,n)</li>\n",
    "   <li> immigration: 2 clases (y,n)</li>\n",
    "   <li> synfuels-corporation-cutback: 2 clases (y,n)</li>\n",
    "   <li> education-spending: 2 clases (y,n)</li>\n",
    "   <li> superfund-right-to-sue: 2 clases (y,n)</li>\n",
    "   <li> crime: 2 (y,n)</li>\n",
    "   <li> duty-free-exports: 2 clases (y,n)</li>\n",
    "   <li> export-administration-act-south-africa: 2 clases (y,n)</li>\n",
    "</ol>\n",
    " \n",
    "<p  style=\"text-align:justify\" >La variable de respuesta es <i>\"Class Name\"</i>, el resto de las variables son predictoras, observamos que todas las variables son categóricas. Por medio de las técnicas de clasificación conocidas como <i>K - Nearest Neighbors</i>, <i>Logistic Regression</i>, <i>Neural Network</i>, <i>Support Vector Machine</i>, <i>Decision Tree</i> y <i>Naive Bayes</i> debemos predecir si congresista pertene al partido republicano o al partido demócrata de acuerdo a los vatos realizados de sus semejantes sobre las propuestas del congreso del 84'</p> "
   ]
  },
  {
   "cell_type": "markdown",
   "metadata": {},
   "source": [
    "### Antecedentes\n",
    "\n",
    "Publicaciones anteriores:\n",
    "     1. Schlimmer, J. C. (1987).  Concept acquisition through \n",
    "        representational adjustment.  Doctoral dissertation, Department of \n",
    "        Information and Computer Science, University of California, Irvine, CA.\n",
    "      - Resultados: aproximadamente 90% -95% de precisión parece ser un escalonamiento asintótico.\n",
    "      - Atributo previsto: afiliación partidaria (2 clases).\n",
    "     \n",
    "     \n",
    "<p  style=\"text-align:justify\" >El proyecto fue realizado en <i>Python</i> con los módulos de <i>sklearn</i> para construir los modelos clasificadores a comparar sobre el conjunto de datos de <i>house-votes-84.data</i>.</p>"
   ]
  },
  {
   "cell_type": "code",
   "execution_count": 1,
   "metadata": {},
   "outputs": [],
   "source": [
    "import numpy as np\n",
    "import pandas as pd\n",
    "import matplotlib.pyplot as plt\n",
    "import itertools\n",
    "# Sklearn library\n",
    "from sklearn.pipeline import Pipeline\n",
    "# Proyectar los componentes en un espacio de dos dimensiones\n",
    "from sklearn.decomposition import PCA\n",
    "# Procesar el escalamiento de datos\n",
    "from sklearn.preprocessing import StandardScaler, scale\n",
    "# Separación de conjunto de entrenamiento y prueba\n",
    "from sklearn.model_selection import train_test_split\n",
    "# Métricas\n",
    "from sklearn.metrics import confusion_matrix, classification_report, roc_auc_score\n",
    "from sklearn.metrics import accuracy_score, precision_score, recall_score, f1_score\n",
    "# Interación de modelos de entrenamiento\n",
    "from sklearn.model_selection import GridSearchCV\n",
    "# K - Vecinos más cercanos\n",
    "from sklearn.neighbors import KNeighborsClassifier\n",
    "# Regresión logistica\n",
    "from sklearn.linear_model import LogisticRegression\n",
    "# Redes Neuronales\n",
    "from sklearn.neural_network import MLPClassifier\n",
    "# Maquina de Soporte Vectorial\n",
    "from sklearn.svm import SVC\n",
    "# Arboles de Decision\n",
    "from sklearn.tree import DecisionTreeClassifier\n",
    "# Naive Bayes\n",
    "from sklearn.naive_bayes import GaussianNB\n",
    "\n",
    "# ROC Curve ( Característica Operativa del Receptor)\n",
    "from sklearn.metrics import roc_curve\n",
    "\n",
    "import warnings\n",
    "warnings.filterwarnings('ignore')\n",
    "%matplotlib inline\n"
   ]
  },
  {
   "cell_type": "markdown",
   "metadata": {},
   "source": [
    "## Marco teórico\n",
    "\n",
    "#### $K$ - Vecinos más Cercanos\n",
    "\n",
    "<p style=\"text-align:justify;\">\n",
    "\n",
    "El $K$-NN ($K$-Nearest Neighbor) es un algoritmo de aprendizaje supervisado,  el algoritmo trabaja a partir de un conjunto de datos inicial, el objetivo será el de clasificar correctamente todas las instancias nuevas. El conjunto de datos típico de este tipo de algoritmos está formado por varios atributos descriptivos y un solo atributo objetivo (también denominado clase).\n",
    "<br>   \n",
    "El algoritmo clasifica cada dato nuevo en el grupo que corresponda, según tenga $k$ vecinos más cercanos de un grupo o de otro. Se encarga de calcular la distancia de cada elemento nuevo a cada uno de los existentes, y ordena dichas distancias de menor a mayor para ir seleccionando el grupo a clasificar. Este grupo será el de mayor frecuencia con menores distancias.\n",
    "</p>\n",
    "\n",
    "\n",
    "<p style=\"text-align:center;\">\n",
    "    <img src=\"./knn.png\"\n",
    "         alt=\"K-NN\"/><br>\n",
    "    <em>Fig. 1: <i>$K$-Nearest Neighbor algorithm</i> </em>\n",
    "</p>\n",
    "\n",
    "#### Regresión Logística\n",
    "\n",
    "La regresión logística es una técnica de aprendizaje supervisado para clasificación binaria, aunque se puede adaptar a problemas de clasificaciín multiclase.\n",
    "\n",
    "Se supone que se dispone de un conjunto de datos, en los cuales la etiqueta $y_i \\in \\{-1, 1\\}$:\n",
    "\n",
    "\\begin{bmatrix}\n",
    "    x_{10} & x_{11} & x_{12} & \\cdots & x_{1d} & \\color{red}{y_1}\\\\ \n",
    "    x_{10} &x_{21} & x_{22} & \\cdots & x_{2d} & \\color{red}{y_2}\\\\ \n",
    "    \\vdots & \\vdots & \\vdots & \\cdots & \\vdots & \\color{red}{\\vdots}\\\\ \n",
    "    x_{N0} & x_{N1} & x_{N2} & \\cdots & x_{Nd} & \\color{red}{y_N}\\\\ \n",
    "\\end{bmatrix}\n",
    "\n",
    "En la regresión logística se ajusta un modelo lineal a la razón entre las dos probabilidades de clase: \n",
    "\n",
    "$$\\ln\\left[\\frac{P(Y = 1 | X = x)}{P(Y = -1 | X = x)}\\right] = \\color{red}{\\alpha^{T}x}$$\n",
    "\n",
    "Siendo $\\alpha = [\\alpha_0, \\alpha_1, \\alpha_2, \\ldots, \\alpha_d]^{T}$ el vector de coeficientes del modelo lineal\n",
    "\n",
    "<font color=\"blue\">Observación</font>\n",
    "\n",
    "En la regresión logística no se establece la condición de que las observaciones provengan de distribuciones gaussianas multivariadas."
   ]
  },
  {
   "cell_type": "markdown",
   "metadata": {},
   "source": [
    "##### Función Sigmoide\n",
    "\n",
    "Se puede despejar la probabilidad $P(Y = 1 | X = x)$ del modelo lineal:\n",
    "\n",
    "$$P(Y = 1 | X = x) = \\frac{e^{\\alpha^{T}x}}{1+e^{\\alpha^{T}x}} = \\sigma(\\alpha^{T}x)$$\n",
    "\n",
    "La función $\\sigma()$ es una función **sigmoide**. \n",
    "\n",
    "<p style=\"text-align:center;\">\n",
    "    <img src=\"./sigmoid.png\"\n",
    "         alt=\"Función Sigmoide\"/><br>\n",
    "    <em>Fig. 2: <i>Sigmoid Function</i> </em>\n",
    "</p>\n",
    "\n",
    "#### Redes Neuronales\n",
    "\n",
    "###### Perceptrón\n",
    "\n",
    "\n",
    "Un perceptrón es un clasificador que permite ajustar regiones lineales para separar observaciones de diferentes clases. \n",
    "\n",
    "El modelo del perceptrón es el siguiente:\n",
    "\n",
    "$$y = s(\\alpha_0 + \\alpha_1x_1+\\cdots+\\alpha_dx_d)$$\n",
    "\n"
   ]
  },
  {
   "cell_type": "markdown",
   "metadata": {},
   "source": [
    "La siguiente imagen es una representación gráfica del perceptrón\n",
    "\n",
    "<p style=\"text-align:center;\">\n",
    "    <img src=\"perceptron.png\" width=500px;\n",
    "         alt=\"Perceptron\"/><br>\n",
    "    <em>Fig. 3: <i>Perceptron</i> </em>\n",
    "</p>\n",
    "\n",
    "Los coeficientes (o pesos) deben determinarse minimizando la suma de errores al cuadrado:\n",
    "\n",
    "$$E(\\alpha_0, \\alpha_1, \\ldots, \\alpha_d) = \\sum_i [y_i-s(\\alpha_0 + \\alpha_1x_{i1}+\\cdots+\\alpha_dx_{id})]^2$$\n",
    "\n",
    "Sin embargo, dado que la función signo, $s(x)$, no es derivable, por lo que para encontrar los pesos que minimicen la suma de errores es necesario utilizar un algoritmo iterativo, inspirado en el algoritmo de **descenso de gradiente**, que es muy sensible a los óptimos locales, por lo que su aplicación se dificulta en problemas de clasificación de grandes dimensiones (vectores de características con muchas componentes).\n",
    "\n",
    "###### Perceptrón (salida derivable)\n",
    "\n",
    "Dado que no se puede derivar la función signo se limita la aplicación de algún método de optimización sofisticado, pues estos metodos generalmente se basan en la evaluación y aplicación del gradiente de la función a minimizar. \n",
    "\n",
    "Una primera adecuación al perceptrón consiste entonces en colocar a la salida una función derivable que aproxime a la función signo. A este tipo de funciones se les denomina **sigmoides**.\n",
    "\n",
    "###### Multiperceptrones\n",
    "\n",
    "Un perceptrón permite *aprender* funciones lógicas básicas como las siguientes:\n",
    "\n",
    "* **OR**. Considera los siguientes pesos: $\\alpha_0 = -1, \\alpha_1=1, \\alpha_2=1$\n",
    "* **AND**. Con $$\\alpha_0 = -2, \\alpha_1=1, \\alpha_2=1$$\n",
    "* **NAND**. Con $$\\alpha_0 = 2, \\alpha_1=-1, \\alpha_2=-1$$\n",
    "* ¿**XOR**?\n",
    "\n",
    "Un perceptrón no puede utilizarse para aprender la función **XOR**, sin embargo, sí es posible hacerlo por medio de dos perceptrones: **XOR = (OR) AND (NAND)** \n"
   ]
  },
  {
   "cell_type": "markdown",
   "metadata": {},
   "source": [
    "\n",
    "#### Red Neuronal\n",
    "\n",
    "Una red neuronal es un conjunto de capas de perceptrones conectadas en serie:\n",
    "\n",
    "<p style=\"text-align:center;\">\n",
    "    <img src=\"red_neuronal.jpeg\" width=400px;\n",
    "         alt=\"Función Sigmoide\"/><br>\n",
    "    <em>Fig. 4: <i>Neural Network</i> </em>\n",
    "</p>\n",
    "\n",
    "La red neuronal permite extender las aplicaciones de los perceptrones simples considerando lo siguiente:\n",
    "\n",
    "* A los elementos de la capa de entrada se conectan las componentes de un vector de características.\n",
    "* Las capas intermedias permiten realizar transformaciones no-lineales muy generales a las variables originales.\n",
    "* El tener múltiples perceptrones en la capa de salida permite la aplicación de las redes neuronales en problemas de clasificación con un número arbitrario de etiquetas.\n",
    "* El entrenamiento de la red neuronal se realiza mediante la minimización de la suma de erroes al cuadrado utilizando algún método basado en  gradiente.\n",
    "* Si la optimizaciónse realiza por medio de descenso de gradiente, entonces al algoritmo se le llama <b>retropropagación</b> (backpropagation).\n"
   ]
  },
  {
   "cell_type": "markdown",
   "metadata": {},
   "source": [
    "#### Máquinas de soporte Vectorial\n",
    "\n",
    "Máquinas de soporte Vectorial (Suporter Vector Machine en inglés), es una técnica conocida técnica moderna y efectiva del campo de la Inteligencia Artificial, aplicada fundamentalmente al procesamiento de grandes cantidades de información.\n",
    "\n",
    "Las Máquinas de Soporte Vectorial (MSV) han tenido un formidable desarrollo en los últimos años.\n",
    "\n",
    " Se presentarán los fundamentos teóricos que definen estos sistemas de aprendizaje:\n",
    "<ul>\n",
    "    <li>Uno de los conceptos fundamentales en esta técnica es el algoritmo Vector de Soporte (VS) es una generalización no-lineal del algoritmo Semblanza Generalizada, desarrollado en la Rusia en los años sesenta. El desarrollo de los VS trae consigo el surgimiento de las Máquinas de Soporte Vectorial. Estas son sistemas de aprendizaje que usan un espacio de hipótesis de funciones lineales en un espacio de rasgos de mayor dimensión, entrenadas por un algoritmo proveniente de la teoría de optimización.</li><br>\n",
    "\n",
    "<li>La Minimización del Riesgo Empírico y la [Dimensión de Vapnik-Chervonenkis] son fundamentales en las Máquinas de Soporte Vectorial. Dicho de manera más sencilla el algoritmo se enfoca en el problema general de aprender a discriminar entre miembro positivos y negativos de una clase de vectores de n-dimensional dada.</li><br>\n",
    "\n",
    "<li>Las MSV pertenecen a la familia de clasificadores lineales. Mediante una función matemática denominada kernel, los datos originales se redimensionan para buscar una separabilidad lineal de los mismos. Una característica de las MSV es que realiza un mapeo de los vectores de entrada para determinar la linealidad o no de los casos los cuales serán integrados a los Multiplicadores de Lagrange para minimizar el Riesgo Empírico y la Dimensión de Vapnik-Chervonenkis. De manera general, las Máquinas de Soporte Vectorial permiten encontrar un hiperplano óptimo que separe las clases.</li><br>\n",
    "</ul>\n",
    "\n",
    "##### Kernel\n",
    "\n",
    "Las funciones kernel son funciones matemáticas que se emplean en las Máquinas de Soporte Vectorial. Estas funciones son las que le permiten convertir lo que sería un problema de clasificación no-lineal en el espacio dimensional original, a un sencillo problema de clasificación lineal en un espacio dimensional mayor.\n",
    "\n",
    "<p style=\"text-align:center;\">\n",
    "    <img src=\"SVM.png\"\n",
    "         alt=\"SVM\"/><br>\n",
    "    <em>Fig. 5: <i>Support Vector Machine</i> </em>\n",
    "</p>\n"
   ]
  },
  {
   "cell_type": "markdown",
   "metadata": {},
   "source": [
    "#### Árboles de Decisión\n",
    "\n",
    "Classification And Regression Tree (CART) son un tipo de algoritmos de aprendizaje supervisado (tiene como objetivo una variable predefinida). Son principalmente usados en problemas de clasificación, las variables de entrada y salida pueden ser variables categóricas o variables continuas. El algoritmo divide el espacio de predictores (variables independientes) en regiones distintas y no sobrepuestas. Este enfoque fue desarrollado por Breiman et al. (1984).\n",
    "\n",
    "Generalizando:\n",
    "\n",
    "$$SSS = \\sum_{m=1}^{M} \\sum_{i \\in {R_m}}^{} ( y_i - \\hat{y_{R_m}})^{2}  $$\n",
    "\n",
    "\n",
    "Se divide la población o muestra en conjuntos homegéneos basados en la variable de entrada más significativa. La construcción del árbol sigue un enfoque de división binaria recursiva (top-down greddy approach). Greedy -> analiza la mejor variable para ramificación sólo en el proceso de división actual.\n",
    "\n",
    "<p style=\"text-align:center;\">\n",
    "    <img src=\"cart.png\"\n",
    "         alt=\"CART\"/><br>\n",
    "    <em>Fig. 6: <i>Classification And Regression Tree</i> </em>\n",
    "</p>\n"
   ]
  },
  {
   "cell_type": "markdown",
   "metadata": {},
   "source": [
    "#### Teorema de Naive Bayes\n",
    "\n",
    "Un clasificador Naive Bayes es un clasificador probabilístico fundamentado en el teorema de Bayes y algunas hipótesis simplificadoras adicionales. Es a causa de estas simplificaciones, que se suelen resumir en la hipótesis de independencia entre las variables predictoras, que recibe el apelativo de naive, es decir, ingenuo. \n",
    "\n",
    "El Clasificador de Naive Bayes asume que la presencia o ausencia de una característica particular no está relacionada con la presencia o ausencia de cualquier otra de las características, dada la clase variable.\n",
    "\n",
    "**Teorema de Bayes**:\n",
    "\n",
    "$$ P(y\\mid X) = \\displaystyle \\frac{P(X\\mid y)P(y)}{P(X)}$$\n",
    "\n",
    "<p style=\"text-align:justify\">Usando el teorema de Bayes, podemos encontrar la probabilidad de que ocurra $y$, dado que $X$ ha ocurrido. Observamos que $X$ es la evidencia e $y$ es la hipótesis. La suposición hecha aquí es que los predictores son independientes. Es decir, la presencia de una característica particular no afecta a la otra. Por eso se llama ingenuo.</p>\n",
    "\n",
    "##### Tipos de clasificador ingenuo de Bayes:\n",
    "\n",
    "###### Bayes ingenuos multinomiales:\n",
    "\n",
    "<p style=\"text-align:justify\">Esto se usa principalmente para problemas de clasificación de documentos, es decir, si un documento pertenece a la categoría de deportes, política, tecnología, etc. Las características utilizadas por el clasificador son la frecuencia de las palabras presentes en el documento.</p>\n",
    "\n",
    "###### Bernoulli ingenuo Bayes:\n",
    "\n",
    "<p style=\"text-align:justify\">Esto es similar a las bayes ingenuas multinomiales, pero los predictores son variables booleanas. Los parámetros que usamos para predecir la variable de clase solo toman valores sí o no, por ejemplo, si una palabra aparece en el texto o no.</p>\n",
    "\n",
    "###### Bayes ingenuos gaussianos:\n",
    "\n",
    "<p style=\"text-align:justify\">Cuando los predictores toman un valor continuo y no son discretos, suponemos que estos valores se muestrean a partir de una distribución gaussiana.</p>\n",
    "\n",
    "<p style=\"text-align:center;\">\n",
    "    <img src=\"bayes.jpeg\"\n",
    "         alt=\"Naive Bayess\"/><br>\n",
    "    <em>Fig. 7: <i>Naive Bayes Theorem</i> </em>\n",
    "</p>"
   ]
  },
  {
   "cell_type": "markdown",
   "metadata": {},
   "source": [
    "### Carga del Conjunto Datos\n",
    "\n",
    "<p  style=\"text-align:justify\" >Cargamos el conjunto de datos de <i>house-votes-84.data</i> para visualizar cuales son nuestras variables predictoras y hacer una observación sobre la variable categórica.</p>"
   ]
  },
  {
   "cell_type": "code",
   "execution_count": 2,
   "metadata": {},
   "outputs": [
    {
     "name": "stdout",
     "output_type": "stream",
     "text": [
      "Dataframe shape: 435 rows x 17 columns\n"
     ]
    },
    {
     "data": {
      "text/html": [
       "<div>\n",
       "<style scoped>\n",
       "    .dataframe tbody tr th:only-of-type {\n",
       "        vertical-align: middle;\n",
       "    }\n",
       "\n",
       "    .dataframe tbody tr th {\n",
       "        vertical-align: top;\n",
       "    }\n",
       "\n",
       "    .dataframe thead th {\n",
       "        text-align: right;\n",
       "    }\n",
       "</style>\n",
       "<table border=\"1\" class=\"dataframe\">\n",
       "  <thead>\n",
       "    <tr style=\"text-align: right;\">\n",
       "      <th></th>\n",
       "      <th>Class Name</th>\n",
       "      <th>handicapped-infants</th>\n",
       "      <th>water-project-cost-sharing</th>\n",
       "      <th>adoption-of-the-budget-resolution</th>\n",
       "      <th>physician-fee-freeze</th>\n",
       "      <th>el-salvador-aid</th>\n",
       "      <th>religious-groups-in-schools</th>\n",
       "      <th>anti-satellite-test-ban</th>\n",
       "      <th>aid-to-nicaraguan-contras</th>\n",
       "      <th>mx-missile</th>\n",
       "      <th>immigration</th>\n",
       "      <th>synfuels-corporation-cutback</th>\n",
       "      <th>education-spending</th>\n",
       "      <th>superfund-right-to-sue</th>\n",
       "      <th>crime</th>\n",
       "      <th>duty-free-exports</th>\n",
       "      <th>export-administration-act-south-africa</th>\n",
       "    </tr>\n",
       "  </thead>\n",
       "  <tbody>\n",
       "    <tr>\n",
       "      <th>0</th>\n",
       "      <td>republican</td>\n",
       "      <td>n</td>\n",
       "      <td>y</td>\n",
       "      <td>n</td>\n",
       "      <td>y</td>\n",
       "      <td>y</td>\n",
       "      <td>y</td>\n",
       "      <td>n</td>\n",
       "      <td>n</td>\n",
       "      <td>n</td>\n",
       "      <td>y</td>\n",
       "      <td>?</td>\n",
       "      <td>y</td>\n",
       "      <td>y</td>\n",
       "      <td>y</td>\n",
       "      <td>n</td>\n",
       "      <td>y</td>\n",
       "    </tr>\n",
       "    <tr>\n",
       "      <th>1</th>\n",
       "      <td>republican</td>\n",
       "      <td>n</td>\n",
       "      <td>y</td>\n",
       "      <td>n</td>\n",
       "      <td>y</td>\n",
       "      <td>y</td>\n",
       "      <td>y</td>\n",
       "      <td>n</td>\n",
       "      <td>n</td>\n",
       "      <td>n</td>\n",
       "      <td>n</td>\n",
       "      <td>n</td>\n",
       "      <td>y</td>\n",
       "      <td>y</td>\n",
       "      <td>y</td>\n",
       "      <td>n</td>\n",
       "      <td>?</td>\n",
       "    </tr>\n",
       "    <tr>\n",
       "      <th>2</th>\n",
       "      <td>democrat</td>\n",
       "      <td>?</td>\n",
       "      <td>y</td>\n",
       "      <td>y</td>\n",
       "      <td>?</td>\n",
       "      <td>y</td>\n",
       "      <td>y</td>\n",
       "      <td>n</td>\n",
       "      <td>n</td>\n",
       "      <td>n</td>\n",
       "      <td>n</td>\n",
       "      <td>y</td>\n",
       "      <td>n</td>\n",
       "      <td>y</td>\n",
       "      <td>y</td>\n",
       "      <td>n</td>\n",
       "      <td>n</td>\n",
       "    </tr>\n",
       "    <tr>\n",
       "      <th>3</th>\n",
       "      <td>democrat</td>\n",
       "      <td>n</td>\n",
       "      <td>y</td>\n",
       "      <td>y</td>\n",
       "      <td>n</td>\n",
       "      <td>?</td>\n",
       "      <td>y</td>\n",
       "      <td>n</td>\n",
       "      <td>n</td>\n",
       "      <td>n</td>\n",
       "      <td>n</td>\n",
       "      <td>y</td>\n",
       "      <td>n</td>\n",
       "      <td>y</td>\n",
       "      <td>n</td>\n",
       "      <td>n</td>\n",
       "      <td>y</td>\n",
       "    </tr>\n",
       "    <tr>\n",
       "      <th>4</th>\n",
       "      <td>democrat</td>\n",
       "      <td>y</td>\n",
       "      <td>y</td>\n",
       "      <td>y</td>\n",
       "      <td>n</td>\n",
       "      <td>y</td>\n",
       "      <td>y</td>\n",
       "      <td>n</td>\n",
       "      <td>n</td>\n",
       "      <td>n</td>\n",
       "      <td>n</td>\n",
       "      <td>y</td>\n",
       "      <td>?</td>\n",
       "      <td>y</td>\n",
       "      <td>y</td>\n",
       "      <td>y</td>\n",
       "      <td>y</td>\n",
       "    </tr>\n",
       "    <tr>\n",
       "      <th>5</th>\n",
       "      <td>democrat</td>\n",
       "      <td>n</td>\n",
       "      <td>y</td>\n",
       "      <td>y</td>\n",
       "      <td>n</td>\n",
       "      <td>y</td>\n",
       "      <td>y</td>\n",
       "      <td>n</td>\n",
       "      <td>n</td>\n",
       "      <td>n</td>\n",
       "      <td>n</td>\n",
       "      <td>n</td>\n",
       "      <td>n</td>\n",
       "      <td>y</td>\n",
       "      <td>y</td>\n",
       "      <td>y</td>\n",
       "      <td>y</td>\n",
       "    </tr>\n",
       "    <tr>\n",
       "      <th>6</th>\n",
       "      <td>democrat</td>\n",
       "      <td>n</td>\n",
       "      <td>y</td>\n",
       "      <td>n</td>\n",
       "      <td>y</td>\n",
       "      <td>y</td>\n",
       "      <td>y</td>\n",
       "      <td>n</td>\n",
       "      <td>n</td>\n",
       "      <td>n</td>\n",
       "      <td>n</td>\n",
       "      <td>n</td>\n",
       "      <td>n</td>\n",
       "      <td>?</td>\n",
       "      <td>y</td>\n",
       "      <td>y</td>\n",
       "      <td>y</td>\n",
       "    </tr>\n",
       "    <tr>\n",
       "      <th>7</th>\n",
       "      <td>republican</td>\n",
       "      <td>n</td>\n",
       "      <td>y</td>\n",
       "      <td>n</td>\n",
       "      <td>y</td>\n",
       "      <td>y</td>\n",
       "      <td>y</td>\n",
       "      <td>n</td>\n",
       "      <td>n</td>\n",
       "      <td>n</td>\n",
       "      <td>n</td>\n",
       "      <td>n</td>\n",
       "      <td>n</td>\n",
       "      <td>y</td>\n",
       "      <td>y</td>\n",
       "      <td>?</td>\n",
       "      <td>y</td>\n",
       "    </tr>\n",
       "    <tr>\n",
       "      <th>8</th>\n",
       "      <td>republican</td>\n",
       "      <td>n</td>\n",
       "      <td>y</td>\n",
       "      <td>n</td>\n",
       "      <td>y</td>\n",
       "      <td>y</td>\n",
       "      <td>y</td>\n",
       "      <td>n</td>\n",
       "      <td>n</td>\n",
       "      <td>n</td>\n",
       "      <td>n</td>\n",
       "      <td>n</td>\n",
       "      <td>y</td>\n",
       "      <td>y</td>\n",
       "      <td>y</td>\n",
       "      <td>n</td>\n",
       "      <td>y</td>\n",
       "    </tr>\n",
       "    <tr>\n",
       "      <th>9</th>\n",
       "      <td>democrat</td>\n",
       "      <td>y</td>\n",
       "      <td>y</td>\n",
       "      <td>y</td>\n",
       "      <td>n</td>\n",
       "      <td>n</td>\n",
       "      <td>n</td>\n",
       "      <td>y</td>\n",
       "      <td>y</td>\n",
       "      <td>y</td>\n",
       "      <td>n</td>\n",
       "      <td>n</td>\n",
       "      <td>n</td>\n",
       "      <td>n</td>\n",
       "      <td>n</td>\n",
       "      <td>?</td>\n",
       "      <td>?</td>\n",
       "    </tr>\n",
       "  </tbody>\n",
       "</table>\n",
       "</div>"
      ],
      "text/plain": [
       "   Class Name handicapped-infants water-project-cost-sharing  \\\n",
       "0  republican                   n                          y   \n",
       "1  republican                   n                          y   \n",
       "2    democrat                   ?                          y   \n",
       "3    democrat                   n                          y   \n",
       "4    democrat                   y                          y   \n",
       "5    democrat                   n                          y   \n",
       "6    democrat                   n                          y   \n",
       "7  republican                   n                          y   \n",
       "8  republican                   n                          y   \n",
       "9    democrat                   y                          y   \n",
       "\n",
       "  adoption-of-the-budget-resolution physician-fee-freeze el-salvador-aid  \\\n",
       "0                                 n                    y               y   \n",
       "1                                 n                    y               y   \n",
       "2                                 y                    ?               y   \n",
       "3                                 y                    n               ?   \n",
       "4                                 y                    n               y   \n",
       "5                                 y                    n               y   \n",
       "6                                 n                    y               y   \n",
       "7                                 n                    y               y   \n",
       "8                                 n                    y               y   \n",
       "9                                 y                    n               n   \n",
       "\n",
       "  religious-groups-in-schools anti-satellite-test-ban  \\\n",
       "0                           y                       n   \n",
       "1                           y                       n   \n",
       "2                           y                       n   \n",
       "3                           y                       n   \n",
       "4                           y                       n   \n",
       "5                           y                       n   \n",
       "6                           y                       n   \n",
       "7                           y                       n   \n",
       "8                           y                       n   \n",
       "9                           n                       y   \n",
       "\n",
       "  aid-to-nicaraguan-contras mx-missile immigration  \\\n",
       "0                         n          n           y   \n",
       "1                         n          n           n   \n",
       "2                         n          n           n   \n",
       "3                         n          n           n   \n",
       "4                         n          n           n   \n",
       "5                         n          n           n   \n",
       "6                         n          n           n   \n",
       "7                         n          n           n   \n",
       "8                         n          n           n   \n",
       "9                         y          y           n   \n",
       "\n",
       "  synfuels-corporation-cutback education-spending superfund-right-to-sue  \\\n",
       "0                            ?                  y                      y   \n",
       "1                            n                  y                      y   \n",
       "2                            y                  n                      y   \n",
       "3                            y                  n                      y   \n",
       "4                            y                  ?                      y   \n",
       "5                            n                  n                      y   \n",
       "6                            n                  n                      ?   \n",
       "7                            n                  n                      y   \n",
       "8                            n                  y                      y   \n",
       "9                            n                  n                      n   \n",
       "\n",
       "  crime duty-free-exports export-administration-act-south-africa  \n",
       "0     y                 n                                      y  \n",
       "1     y                 n                                      ?  \n",
       "2     y                 n                                      n  \n",
       "3     n                 n                                      y  \n",
       "4     y                 y                                      y  \n",
       "5     y                 y                                      y  \n",
       "6     y                 y                                      y  \n",
       "7     y                 ?                                      y  \n",
       "8     y                 n                                      y  \n",
       "9     n                 ?                                      ?  "
      ]
     },
     "execution_count": 2,
     "metadata": {},
     "output_type": "execute_result"
    }
   ],
   "source": [
    "data = pd.read_csv(\"house-votes-84.data\", header=None)\n",
    "colsname = [ line.replace(\"\\n\", \"\") for line in open(\"house-votes-84-headers.data\").readlines() ]\n",
    "data.columns = colsname\n",
    "print(\"Dataframe shape: {} rows x {} columns\".format(data.shape[0], data.shape[1]))\n",
    "data.head(10)\n"
   ]
  },
  {
   "cell_type": "markdown",
   "metadata": {},
   "source": [
    "<p style=\"text-align:justify;\">\n",
    "</p>"
   ]
  },
  {
   "cell_type": "markdown",
   "metadata": {},
   "source": [
    "<p style=\"text-align:justify;\">\n",
    "Ahora procedemos a observar la información de nuestro conjunto de datos, como por ejemplo el tipo de dato, el número de entradas, el total de columnas, y si el conjunto de datos posee datos nulos.\n",
    "</p>"
   ]
  },
  {
   "cell_type": "code",
   "execution_count": 3,
   "metadata": {},
   "outputs": [
    {
     "name": "stdout",
     "output_type": "stream",
     "text": [
      "<class 'pandas.core.frame.DataFrame'>\n",
      "RangeIndex: 435 entries, 0 to 434\n",
      "Data columns (total 17 columns):\n",
      "Class Name                                435 non-null object\n",
      "handicapped-infants                       435 non-null object\n",
      "water-project-cost-sharing                435 non-null object\n",
      "adoption-of-the-budget-resolution         435 non-null object\n",
      "physician-fee-freeze                      435 non-null object\n",
      "el-salvador-aid                           435 non-null object\n",
      "religious-groups-in-schools               435 non-null object\n",
      "anti-satellite-test-ban                   435 non-null object\n",
      "aid-to-nicaraguan-contras                 435 non-null object\n",
      "mx-missile                                435 non-null object\n",
      "immigration                               435 non-null object\n",
      "synfuels-corporation-cutback              435 non-null object\n",
      "education-spending                        435 non-null object\n",
      "superfund-right-to-sue                    435 non-null object\n",
      "crime                                     435 non-null object\n",
      "duty-free-exports                         435 non-null object\n",
      "export-administration-act-south-africa    435 non-null object\n",
      "dtypes: object(17)\n",
      "memory usage: 57.9+ KB\n"
     ]
    }
   ],
   "source": [
    "data.info()\n"
   ]
  },
  {
   "cell_type": "markdown",
   "metadata": {},
   "source": [
    "### Descripción de las características\n",
    "<p  style=\"text-align:justify\" >Realizamos un resumen de las  para conocer sus medidas estadísticas, ya que las variables son categóricas obtenemos solamente la cantidad de datos, cuantos valores únicos posee, el valor que más se repite en cada columna y la frecuencia de dicho término.</p>"
   ]
  },
  {
   "cell_type": "code",
   "execution_count": 4,
   "metadata": {},
   "outputs": [
    {
     "data": {
      "text/html": [
       "<div>\n",
       "<style scoped>\n",
       "    .dataframe tbody tr th:only-of-type {\n",
       "        vertical-align: middle;\n",
       "    }\n",
       "\n",
       "    .dataframe tbody tr th {\n",
       "        vertical-align: top;\n",
       "    }\n",
       "\n",
       "    .dataframe thead th {\n",
       "        text-align: right;\n",
       "    }\n",
       "</style>\n",
       "<table border=\"1\" class=\"dataframe\">\n",
       "  <thead>\n",
       "    <tr style=\"text-align: right;\">\n",
       "      <th></th>\n",
       "      <th>Class Name</th>\n",
       "      <th>handicapped-infants</th>\n",
       "      <th>water-project-cost-sharing</th>\n",
       "      <th>adoption-of-the-budget-resolution</th>\n",
       "      <th>physician-fee-freeze</th>\n",
       "      <th>el-salvador-aid</th>\n",
       "      <th>religious-groups-in-schools</th>\n",
       "      <th>anti-satellite-test-ban</th>\n",
       "      <th>aid-to-nicaraguan-contras</th>\n",
       "      <th>mx-missile</th>\n",
       "      <th>immigration</th>\n",
       "      <th>synfuels-corporation-cutback</th>\n",
       "      <th>education-spending</th>\n",
       "      <th>superfund-right-to-sue</th>\n",
       "      <th>crime</th>\n",
       "      <th>duty-free-exports</th>\n",
       "      <th>export-administration-act-south-africa</th>\n",
       "    </tr>\n",
       "  </thead>\n",
       "  <tbody>\n",
       "    <tr>\n",
       "      <th>count</th>\n",
       "      <td>435</td>\n",
       "      <td>435</td>\n",
       "      <td>435</td>\n",
       "      <td>435</td>\n",
       "      <td>435</td>\n",
       "      <td>435</td>\n",
       "      <td>435</td>\n",
       "      <td>435</td>\n",
       "      <td>435</td>\n",
       "      <td>435</td>\n",
       "      <td>435</td>\n",
       "      <td>435</td>\n",
       "      <td>435</td>\n",
       "      <td>435</td>\n",
       "      <td>435</td>\n",
       "      <td>435</td>\n",
       "      <td>435</td>\n",
       "    </tr>\n",
       "    <tr>\n",
       "      <th>unique</th>\n",
       "      <td>2</td>\n",
       "      <td>3</td>\n",
       "      <td>3</td>\n",
       "      <td>3</td>\n",
       "      <td>3</td>\n",
       "      <td>3</td>\n",
       "      <td>3</td>\n",
       "      <td>3</td>\n",
       "      <td>3</td>\n",
       "      <td>3</td>\n",
       "      <td>3</td>\n",
       "      <td>3</td>\n",
       "      <td>3</td>\n",
       "      <td>3</td>\n",
       "      <td>3</td>\n",
       "      <td>3</td>\n",
       "      <td>3</td>\n",
       "    </tr>\n",
       "    <tr>\n",
       "      <th>top</th>\n",
       "      <td>democrat</td>\n",
       "      <td>n</td>\n",
       "      <td>y</td>\n",
       "      <td>y</td>\n",
       "      <td>n</td>\n",
       "      <td>y</td>\n",
       "      <td>y</td>\n",
       "      <td>y</td>\n",
       "      <td>y</td>\n",
       "      <td>y</td>\n",
       "      <td>y</td>\n",
       "      <td>n</td>\n",
       "      <td>n</td>\n",
       "      <td>y</td>\n",
       "      <td>y</td>\n",
       "      <td>n</td>\n",
       "      <td>y</td>\n",
       "    </tr>\n",
       "    <tr>\n",
       "      <th>freq</th>\n",
       "      <td>267</td>\n",
       "      <td>236</td>\n",
       "      <td>195</td>\n",
       "      <td>253</td>\n",
       "      <td>247</td>\n",
       "      <td>212</td>\n",
       "      <td>272</td>\n",
       "      <td>239</td>\n",
       "      <td>242</td>\n",
       "      <td>207</td>\n",
       "      <td>216</td>\n",
       "      <td>264</td>\n",
       "      <td>233</td>\n",
       "      <td>209</td>\n",
       "      <td>248</td>\n",
       "      <td>233</td>\n",
       "      <td>269</td>\n",
       "    </tr>\n",
       "  </tbody>\n",
       "</table>\n",
       "</div>"
      ],
      "text/plain": [
       "       Class Name handicapped-infants water-project-cost-sharing  \\\n",
       "count         435                 435                        435   \n",
       "unique          2                   3                          3   \n",
       "top      democrat                   n                          y   \n",
       "freq          267                 236                        195   \n",
       "\n",
       "       adoption-of-the-budget-resolution physician-fee-freeze el-salvador-aid  \\\n",
       "count                                435                  435             435   \n",
       "unique                                 3                    3               3   \n",
       "top                                    y                    n               y   \n",
       "freq                                 253                  247             212   \n",
       "\n",
       "       religious-groups-in-schools anti-satellite-test-ban  \\\n",
       "count                          435                     435   \n",
       "unique                           3                       3   \n",
       "top                              y                       y   \n",
       "freq                           272                     239   \n",
       "\n",
       "       aid-to-nicaraguan-contras mx-missile immigration  \\\n",
       "count                        435        435         435   \n",
       "unique                         3          3           3   \n",
       "top                            y          y           y   \n",
       "freq                         242        207         216   \n",
       "\n",
       "       synfuels-corporation-cutback education-spending superfund-right-to-sue  \\\n",
       "count                           435                435                    435   \n",
       "unique                            3                  3                      3   \n",
       "top                               n                  n                      y   \n",
       "freq                            264                233                    209   \n",
       "\n",
       "       crime duty-free-exports export-administration-act-south-africa  \n",
       "count    435               435                                    435  \n",
       "unique     3                 3                                      3  \n",
       "top        y                 n                                      y  \n",
       "freq     248               233                                    269  "
      ]
     },
     "execution_count": 4,
     "metadata": {},
     "output_type": "execute_result"
    }
   ],
   "source": [
    "data.describe()\n"
   ]
  },
  {
   "cell_type": "markdown",
   "metadata": {},
   "source": [
    "<p style=\"text-align:justify\">Procedemos a eliminar los valores no conocidos en este caso están denominados por la etiqueta <i>'?'</i>, remplazamos lo datos con la constante de valores no asignados (\"NA\"). Por lo que lo siguiente es eliminar todas las observaciones con campos no asignados una vez aplicado el filtro.</p>"
   ]
  },
  {
   "cell_type": "code",
   "execution_count": 5,
   "metadata": {},
   "outputs": [
    {
     "name": "stdout",
     "output_type": "stream",
     "text": [
      "New Dataframe shape: 232 rows x 17 columns\n",
      "<class 'pandas.core.frame.DataFrame'>\n",
      "Int64Index: 232 entries, 5 to 431\n",
      "Data columns (total 17 columns):\n",
      "Class Name                                232 non-null object\n",
      "handicapped-infants                       232 non-null object\n",
      "water-project-cost-sharing                232 non-null object\n",
      "adoption-of-the-budget-resolution         232 non-null object\n",
      "physician-fee-freeze                      232 non-null object\n",
      "el-salvador-aid                           232 non-null object\n",
      "religious-groups-in-schools               232 non-null object\n",
      "anti-satellite-test-ban                   232 non-null object\n",
      "aid-to-nicaraguan-contras                 232 non-null object\n",
      "mx-missile                                232 non-null object\n",
      "immigration                               232 non-null object\n",
      "synfuels-corporation-cutback              232 non-null object\n",
      "education-spending                        232 non-null object\n",
      "superfund-right-to-sue                    232 non-null object\n",
      "crime                                     232 non-null object\n",
      "duty-free-exports                         232 non-null object\n",
      "export-administration-act-south-africa    232 non-null object\n",
      "dtypes: object(17)\n",
      "memory usage: 32.6+ KB\n"
     ]
    }
   ],
   "source": [
    "data = data.replace(\"?\", np.nan)\n",
    "data = data.dropna()\n",
    "print(\"New Dataframe shape: {} rows x {} columns\".format(data.shape[0], data.shape[1]))\n",
    "data.info()\n"
   ]
  },
  {
   "cell_type": "markdown",
   "metadata": {},
   "source": [
    "<p style=\"text-align:justify;\">\n",
    "    Ahora observamos que nos quedamos solo con 232 observaciones, los cuales están listos para aplicar los metodos de clasificación. Ahora describimos la información para observar si existe un cambio significativo en la frecuencia de cada termino para cada columna.\n",
    "</p>"
   ]
  },
  {
   "cell_type": "code",
   "execution_count": 6,
   "metadata": {
    "scrolled": true
   },
   "outputs": [
    {
     "data": {
      "text/html": [
       "<div>\n",
       "<style scoped>\n",
       "    .dataframe tbody tr th:only-of-type {\n",
       "        vertical-align: middle;\n",
       "    }\n",
       "\n",
       "    .dataframe tbody tr th {\n",
       "        vertical-align: top;\n",
       "    }\n",
       "\n",
       "    .dataframe thead th {\n",
       "        text-align: right;\n",
       "    }\n",
       "</style>\n",
       "<table border=\"1\" class=\"dataframe\">\n",
       "  <thead>\n",
       "    <tr style=\"text-align: right;\">\n",
       "      <th></th>\n",
       "      <th>Class Name</th>\n",
       "      <th>handicapped-infants</th>\n",
       "      <th>water-project-cost-sharing</th>\n",
       "      <th>adoption-of-the-budget-resolution</th>\n",
       "      <th>physician-fee-freeze</th>\n",
       "      <th>el-salvador-aid</th>\n",
       "      <th>religious-groups-in-schools</th>\n",
       "      <th>anti-satellite-test-ban</th>\n",
       "      <th>aid-to-nicaraguan-contras</th>\n",
       "      <th>mx-missile</th>\n",
       "      <th>immigration</th>\n",
       "      <th>synfuels-corporation-cutback</th>\n",
       "      <th>education-spending</th>\n",
       "      <th>superfund-right-to-sue</th>\n",
       "      <th>crime</th>\n",
       "      <th>duty-free-exports</th>\n",
       "      <th>export-administration-act-south-africa</th>\n",
       "    </tr>\n",
       "  </thead>\n",
       "  <tbody>\n",
       "    <tr>\n",
       "      <th>count</th>\n",
       "      <td>232</td>\n",
       "      <td>232</td>\n",
       "      <td>232</td>\n",
       "      <td>232</td>\n",
       "      <td>232</td>\n",
       "      <td>232</td>\n",
       "      <td>232</td>\n",
       "      <td>232</td>\n",
       "      <td>232</td>\n",
       "      <td>232</td>\n",
       "      <td>232</td>\n",
       "      <td>232</td>\n",
       "      <td>232</td>\n",
       "      <td>232</td>\n",
       "      <td>232</td>\n",
       "      <td>232</td>\n",
       "      <td>232</td>\n",
       "    </tr>\n",
       "    <tr>\n",
       "      <th>unique</th>\n",
       "      <td>2</td>\n",
       "      <td>2</td>\n",
       "      <td>2</td>\n",
       "      <td>2</td>\n",
       "      <td>2</td>\n",
       "      <td>2</td>\n",
       "      <td>2</td>\n",
       "      <td>2</td>\n",
       "      <td>2</td>\n",
       "      <td>2</td>\n",
       "      <td>2</td>\n",
       "      <td>2</td>\n",
       "      <td>2</td>\n",
       "      <td>2</td>\n",
       "      <td>2</td>\n",
       "      <td>2</td>\n",
       "      <td>2</td>\n",
       "    </tr>\n",
       "    <tr>\n",
       "      <th>top</th>\n",
       "      <td>democrat</td>\n",
       "      <td>n</td>\n",
       "      <td>n</td>\n",
       "      <td>y</td>\n",
       "      <td>n</td>\n",
       "      <td>y</td>\n",
       "      <td>y</td>\n",
       "      <td>y</td>\n",
       "      <td>y</td>\n",
       "      <td>n</td>\n",
       "      <td>y</td>\n",
       "      <td>n</td>\n",
       "      <td>n</td>\n",
       "      <td>y</td>\n",
       "      <td>y</td>\n",
       "      <td>n</td>\n",
       "      <td>y</td>\n",
       "    </tr>\n",
       "    <tr>\n",
       "      <th>freq</th>\n",
       "      <td>124</td>\n",
       "      <td>136</td>\n",
       "      <td>125</td>\n",
       "      <td>123</td>\n",
       "      <td>119</td>\n",
       "      <td>128</td>\n",
       "      <td>149</td>\n",
       "      <td>124</td>\n",
       "      <td>119</td>\n",
       "      <td>119</td>\n",
       "      <td>128</td>\n",
       "      <td>152</td>\n",
       "      <td>124</td>\n",
       "      <td>127</td>\n",
       "      <td>149</td>\n",
       "      <td>146</td>\n",
       "      <td>189</td>\n",
       "    </tr>\n",
       "  </tbody>\n",
       "</table>\n",
       "</div>"
      ],
      "text/plain": [
       "       Class Name handicapped-infants water-project-cost-sharing  \\\n",
       "count         232                 232                        232   \n",
       "unique          2                   2                          2   \n",
       "top      democrat                   n                          n   \n",
       "freq          124                 136                        125   \n",
       "\n",
       "       adoption-of-the-budget-resolution physician-fee-freeze el-salvador-aid  \\\n",
       "count                                232                  232             232   \n",
       "unique                                 2                    2               2   \n",
       "top                                    y                    n               y   \n",
       "freq                                 123                  119             128   \n",
       "\n",
       "       religious-groups-in-schools anti-satellite-test-ban  \\\n",
       "count                          232                     232   \n",
       "unique                           2                       2   \n",
       "top                              y                       y   \n",
       "freq                           149                     124   \n",
       "\n",
       "       aid-to-nicaraguan-contras mx-missile immigration  \\\n",
       "count                        232        232         232   \n",
       "unique                         2          2           2   \n",
       "top                            y          n           y   \n",
       "freq                         119        119         128   \n",
       "\n",
       "       synfuels-corporation-cutback education-spending superfund-right-to-sue  \\\n",
       "count                           232                232                    232   \n",
       "unique                            2                  2                      2   \n",
       "top                               n                  n                      y   \n",
       "freq                            152                124                    127   \n",
       "\n",
       "       crime duty-free-exports export-administration-act-south-africa  \n",
       "count    232               232                                    232  \n",
       "unique     2                 2                                      2  \n",
       "top        y                 n                                      y  \n",
       "freq     149               146                                    189  "
      ]
     },
     "execution_count": 6,
     "metadata": {},
     "output_type": "execute_result"
    }
   ],
   "source": [
    "data.describe()\n"
   ]
  },
  {
   "cell_type": "markdown",
   "metadata": {},
   "source": [
    "<p style=\"text-align:justify;\">\n",
    "Aún no se puede aplicar por completo los modelos de clasificación ya que los algoritmos no trabajan con valores de tipo <i>character</i> por lo que se debe realizar un procesamiento, para realizar está tarea se usa el método <i>get_dummies</i>, la función convierte las columnas con valores categóricos en indicadores binarios, donde cada combinación de secuencias binarias representa una clase.\n",
    "</p>"
   ]
  },
  {
   "cell_type": "code",
   "execution_count": 7,
   "metadata": {},
   "outputs": [
    {
     "data": {
      "text/html": [
       "<div>\n",
       "<style scoped>\n",
       "    .dataframe tbody tr th:only-of-type {\n",
       "        vertical-align: middle;\n",
       "    }\n",
       "\n",
       "    .dataframe tbody tr th {\n",
       "        vertical-align: top;\n",
       "    }\n",
       "\n",
       "    .dataframe thead th {\n",
       "        text-align: right;\n",
       "    }\n",
       "</style>\n",
       "<table border=\"1\" class=\"dataframe\">\n",
       "  <thead>\n",
       "    <tr style=\"text-align: right;\">\n",
       "      <th></th>\n",
       "      <th>Class Name_republican</th>\n",
       "      <th>handicapped-infants_y</th>\n",
       "      <th>water-project-cost-sharing_y</th>\n",
       "      <th>adoption-of-the-budget-resolution_y</th>\n",
       "      <th>physician-fee-freeze_y</th>\n",
       "      <th>el-salvador-aid_y</th>\n",
       "      <th>religious-groups-in-schools_y</th>\n",
       "      <th>anti-satellite-test-ban_y</th>\n",
       "      <th>aid-to-nicaraguan-contras_y</th>\n",
       "      <th>mx-missile_y</th>\n",
       "      <th>immigration_y</th>\n",
       "      <th>synfuels-corporation-cutback_y</th>\n",
       "      <th>education-spending_y</th>\n",
       "      <th>superfund-right-to-sue_y</th>\n",
       "      <th>crime_y</th>\n",
       "      <th>duty-free-exports_y</th>\n",
       "      <th>export-administration-act-south-africa_y</th>\n",
       "    </tr>\n",
       "  </thead>\n",
       "  <tbody>\n",
       "    <tr>\n",
       "      <th>5</th>\n",
       "      <td>0</td>\n",
       "      <td>0</td>\n",
       "      <td>1</td>\n",
       "      <td>1</td>\n",
       "      <td>0</td>\n",
       "      <td>1</td>\n",
       "      <td>1</td>\n",
       "      <td>0</td>\n",
       "      <td>0</td>\n",
       "      <td>0</td>\n",
       "      <td>0</td>\n",
       "      <td>0</td>\n",
       "      <td>0</td>\n",
       "      <td>1</td>\n",
       "      <td>1</td>\n",
       "      <td>1</td>\n",
       "      <td>1</td>\n",
       "    </tr>\n",
       "    <tr>\n",
       "      <th>8</th>\n",
       "      <td>1</td>\n",
       "      <td>0</td>\n",
       "      <td>1</td>\n",
       "      <td>0</td>\n",
       "      <td>1</td>\n",
       "      <td>1</td>\n",
       "      <td>1</td>\n",
       "      <td>0</td>\n",
       "      <td>0</td>\n",
       "      <td>0</td>\n",
       "      <td>0</td>\n",
       "      <td>0</td>\n",
       "      <td>1</td>\n",
       "      <td>1</td>\n",
       "      <td>1</td>\n",
       "      <td>0</td>\n",
       "      <td>1</td>\n",
       "    </tr>\n",
       "    <tr>\n",
       "      <th>19</th>\n",
       "      <td>0</td>\n",
       "      <td>1</td>\n",
       "      <td>1</td>\n",
       "      <td>1</td>\n",
       "      <td>0</td>\n",
       "      <td>0</td>\n",
       "      <td>0</td>\n",
       "      <td>1</td>\n",
       "      <td>1</td>\n",
       "      <td>1</td>\n",
       "      <td>0</td>\n",
       "      <td>1</td>\n",
       "      <td>0</td>\n",
       "      <td>0</td>\n",
       "      <td>0</td>\n",
       "      <td>1</td>\n",
       "      <td>1</td>\n",
       "    </tr>\n",
       "    <tr>\n",
       "      <th>23</th>\n",
       "      <td>0</td>\n",
       "      <td>1</td>\n",
       "      <td>1</td>\n",
       "      <td>1</td>\n",
       "      <td>0</td>\n",
       "      <td>0</td>\n",
       "      <td>0</td>\n",
       "      <td>1</td>\n",
       "      <td>1</td>\n",
       "      <td>1</td>\n",
       "      <td>0</td>\n",
       "      <td>0</td>\n",
       "      <td>0</td>\n",
       "      <td>0</td>\n",
       "      <td>0</td>\n",
       "      <td>1</td>\n",
       "      <td>1</td>\n",
       "    </tr>\n",
       "    <tr>\n",
       "      <th>25</th>\n",
       "      <td>0</td>\n",
       "      <td>1</td>\n",
       "      <td>0</td>\n",
       "      <td>1</td>\n",
       "      <td>0</td>\n",
       "      <td>0</td>\n",
       "      <td>0</td>\n",
       "      <td>1</td>\n",
       "      <td>1</td>\n",
       "      <td>1</td>\n",
       "      <td>1</td>\n",
       "      <td>0</td>\n",
       "      <td>0</td>\n",
       "      <td>0</td>\n",
       "      <td>0</td>\n",
       "      <td>1</td>\n",
       "      <td>1</td>\n",
       "    </tr>\n",
       "  </tbody>\n",
       "</table>\n",
       "</div>"
      ],
      "text/plain": [
       "    Class Name_republican  handicapped-infants_y  \\\n",
       "5                       0                      0   \n",
       "8                       1                      0   \n",
       "19                      0                      1   \n",
       "23                      0                      1   \n",
       "25                      0                      1   \n",
       "\n",
       "    water-project-cost-sharing_y  adoption-of-the-budget-resolution_y  \\\n",
       "5                              1                                    1   \n",
       "8                              1                                    0   \n",
       "19                             1                                    1   \n",
       "23                             1                                    1   \n",
       "25                             0                                    1   \n",
       "\n",
       "    physician-fee-freeze_y  el-salvador-aid_y  religious-groups-in-schools_y  \\\n",
       "5                        0                  1                              1   \n",
       "8                        1                  1                              1   \n",
       "19                       0                  0                              0   \n",
       "23                       0                  0                              0   \n",
       "25                       0                  0                              0   \n",
       "\n",
       "    anti-satellite-test-ban_y  aid-to-nicaraguan-contras_y  mx-missile_y  \\\n",
       "5                           0                            0             0   \n",
       "8                           0                            0             0   \n",
       "19                          1                            1             1   \n",
       "23                          1                            1             1   \n",
       "25                          1                            1             1   \n",
       "\n",
       "    immigration_y  synfuels-corporation-cutback_y  education-spending_y  \\\n",
       "5               0                               0                     0   \n",
       "8               0                               0                     1   \n",
       "19              0                               1                     0   \n",
       "23              0                               0                     0   \n",
       "25              1                               0                     0   \n",
       "\n",
       "    superfund-right-to-sue_y  crime_y  duty-free-exports_y  \\\n",
       "5                          1        1                    1   \n",
       "8                          1        1                    0   \n",
       "19                         0        0                    1   \n",
       "23                         0        0                    1   \n",
       "25                         0        0                    1   \n",
       "\n",
       "    export-administration-act-south-africa_y  \n",
       "5                                          1  \n",
       "8                                          1  \n",
       "19                                         1  \n",
       "23                                         1  \n",
       "25                                         1  "
      ]
     },
     "execution_count": 7,
     "metadata": {},
     "output_type": "execute_result"
    }
   ],
   "source": [
    "data_dummies = pd.get_dummies(data, drop_first=True)\n",
    "data_dummies.head()\n"
   ]
  },
  {
   "cell_type": "markdown",
   "metadata": {},
   "source": [
    "<p style=\"text-align:justify\">\n",
    "    Los algoritmos de clasificación supervisada del módulo <i>scikit-learn</i> reciben dos entradas, el vector de características y el vector de etiquetas, por lo que debemos separar estas en dos variables que serán conocidas como $Y$ para la variable categórica <i>Class Name</i> y $X$ para nuestras variables predictoras.\n",
    "</p>"
   ]
  },
  {
   "cell_type": "code",
   "execution_count": 8,
   "metadata": {},
   "outputs": [
    {
     "data": {
      "text/html": [
       "<div>\n",
       "<style scoped>\n",
       "    .dataframe tbody tr th:only-of-type {\n",
       "        vertical-align: middle;\n",
       "    }\n",
       "\n",
       "    .dataframe tbody tr th {\n",
       "        vertical-align: top;\n",
       "    }\n",
       "\n",
       "    .dataframe thead th {\n",
       "        text-align: right;\n",
       "    }\n",
       "</style>\n",
       "<table border=\"1\" class=\"dataframe\">\n",
       "  <thead>\n",
       "    <tr style=\"text-align: right;\">\n",
       "      <th></th>\n",
       "      <th>handicapped-infants_y</th>\n",
       "      <th>water-project-cost-sharing_y</th>\n",
       "      <th>adoption-of-the-budget-resolution_y</th>\n",
       "      <th>physician-fee-freeze_y</th>\n",
       "      <th>el-salvador-aid_y</th>\n",
       "      <th>religious-groups-in-schools_y</th>\n",
       "      <th>anti-satellite-test-ban_y</th>\n",
       "      <th>aid-to-nicaraguan-contras_y</th>\n",
       "      <th>mx-missile_y</th>\n",
       "      <th>immigration_y</th>\n",
       "      <th>synfuels-corporation-cutback_y</th>\n",
       "      <th>education-spending_y</th>\n",
       "      <th>superfund-right-to-sue_y</th>\n",
       "      <th>crime_y</th>\n",
       "      <th>duty-free-exports_y</th>\n",
       "      <th>export-administration-act-south-africa_y</th>\n",
       "    </tr>\n",
       "  </thead>\n",
       "  <tbody>\n",
       "    <tr>\n",
       "      <th>count</th>\n",
       "      <td>232.000000</td>\n",
       "      <td>232.000000</td>\n",
       "      <td>232.000000</td>\n",
       "      <td>232.000000</td>\n",
       "      <td>232.000000</td>\n",
       "      <td>232.000000</td>\n",
       "      <td>232.000000</td>\n",
       "      <td>232.000000</td>\n",
       "      <td>232.000000</td>\n",
       "      <td>232.000000</td>\n",
       "      <td>232.000000</td>\n",
       "      <td>232.000000</td>\n",
       "      <td>232.000000</td>\n",
       "      <td>232.000000</td>\n",
       "      <td>232.000000</td>\n",
       "      <td>232.000000</td>\n",
       "    </tr>\n",
       "    <tr>\n",
       "      <th>mean</th>\n",
       "      <td>0.413793</td>\n",
       "      <td>0.461207</td>\n",
       "      <td>0.530172</td>\n",
       "      <td>0.487069</td>\n",
       "      <td>0.551724</td>\n",
       "      <td>0.642241</td>\n",
       "      <td>0.534483</td>\n",
       "      <td>0.512931</td>\n",
       "      <td>0.487069</td>\n",
       "      <td>0.551724</td>\n",
       "      <td>0.344828</td>\n",
       "      <td>0.465517</td>\n",
       "      <td>0.547414</td>\n",
       "      <td>0.642241</td>\n",
       "      <td>0.370690</td>\n",
       "      <td>0.814655</td>\n",
       "    </tr>\n",
       "    <tr>\n",
       "      <th>std</th>\n",
       "      <td>0.493577</td>\n",
       "      <td>0.499571</td>\n",
       "      <td>0.500168</td>\n",
       "      <td>0.500913</td>\n",
       "      <td>0.498393</td>\n",
       "      <td>0.480377</td>\n",
       "      <td>0.499888</td>\n",
       "      <td>0.500913</td>\n",
       "      <td>0.500913</td>\n",
       "      <td>0.498393</td>\n",
       "      <td>0.476340</td>\n",
       "      <td>0.499888</td>\n",
       "      <td>0.498823</td>\n",
       "      <td>0.480377</td>\n",
       "      <td>0.484034</td>\n",
       "      <td>0.389417</td>\n",
       "    </tr>\n",
       "    <tr>\n",
       "      <th>min</th>\n",
       "      <td>0.000000</td>\n",
       "      <td>0.000000</td>\n",
       "      <td>0.000000</td>\n",
       "      <td>0.000000</td>\n",
       "      <td>0.000000</td>\n",
       "      <td>0.000000</td>\n",
       "      <td>0.000000</td>\n",
       "      <td>0.000000</td>\n",
       "      <td>0.000000</td>\n",
       "      <td>0.000000</td>\n",
       "      <td>0.000000</td>\n",
       "      <td>0.000000</td>\n",
       "      <td>0.000000</td>\n",
       "      <td>0.000000</td>\n",
       "      <td>0.000000</td>\n",
       "      <td>0.000000</td>\n",
       "    </tr>\n",
       "    <tr>\n",
       "      <th>25%</th>\n",
       "      <td>0.000000</td>\n",
       "      <td>0.000000</td>\n",
       "      <td>0.000000</td>\n",
       "      <td>0.000000</td>\n",
       "      <td>0.000000</td>\n",
       "      <td>0.000000</td>\n",
       "      <td>0.000000</td>\n",
       "      <td>0.000000</td>\n",
       "      <td>0.000000</td>\n",
       "      <td>0.000000</td>\n",
       "      <td>0.000000</td>\n",
       "      <td>0.000000</td>\n",
       "      <td>0.000000</td>\n",
       "      <td>0.000000</td>\n",
       "      <td>0.000000</td>\n",
       "      <td>1.000000</td>\n",
       "    </tr>\n",
       "    <tr>\n",
       "      <th>50%</th>\n",
       "      <td>0.000000</td>\n",
       "      <td>0.000000</td>\n",
       "      <td>1.000000</td>\n",
       "      <td>0.000000</td>\n",
       "      <td>1.000000</td>\n",
       "      <td>1.000000</td>\n",
       "      <td>1.000000</td>\n",
       "      <td>1.000000</td>\n",
       "      <td>0.000000</td>\n",
       "      <td>1.000000</td>\n",
       "      <td>0.000000</td>\n",
       "      <td>0.000000</td>\n",
       "      <td>1.000000</td>\n",
       "      <td>1.000000</td>\n",
       "      <td>0.000000</td>\n",
       "      <td>1.000000</td>\n",
       "    </tr>\n",
       "    <tr>\n",
       "      <th>75%</th>\n",
       "      <td>1.000000</td>\n",
       "      <td>1.000000</td>\n",
       "      <td>1.000000</td>\n",
       "      <td>1.000000</td>\n",
       "      <td>1.000000</td>\n",
       "      <td>1.000000</td>\n",
       "      <td>1.000000</td>\n",
       "      <td>1.000000</td>\n",
       "      <td>1.000000</td>\n",
       "      <td>1.000000</td>\n",
       "      <td>1.000000</td>\n",
       "      <td>1.000000</td>\n",
       "      <td>1.000000</td>\n",
       "      <td>1.000000</td>\n",
       "      <td>1.000000</td>\n",
       "      <td>1.000000</td>\n",
       "    </tr>\n",
       "    <tr>\n",
       "      <th>max</th>\n",
       "      <td>1.000000</td>\n",
       "      <td>1.000000</td>\n",
       "      <td>1.000000</td>\n",
       "      <td>1.000000</td>\n",
       "      <td>1.000000</td>\n",
       "      <td>1.000000</td>\n",
       "      <td>1.000000</td>\n",
       "      <td>1.000000</td>\n",
       "      <td>1.000000</td>\n",
       "      <td>1.000000</td>\n",
       "      <td>1.000000</td>\n",
       "      <td>1.000000</td>\n",
       "      <td>1.000000</td>\n",
       "      <td>1.000000</td>\n",
       "      <td>1.000000</td>\n",
       "      <td>1.000000</td>\n",
       "    </tr>\n",
       "  </tbody>\n",
       "</table>\n",
       "</div>"
      ],
      "text/plain": [
       "       handicapped-infants_y  water-project-cost-sharing_y  \\\n",
       "count             232.000000                    232.000000   \n",
       "mean                0.413793                      0.461207   \n",
       "std                 0.493577                      0.499571   \n",
       "min                 0.000000                      0.000000   \n",
       "25%                 0.000000                      0.000000   \n",
       "50%                 0.000000                      0.000000   \n",
       "75%                 1.000000                      1.000000   \n",
       "max                 1.000000                      1.000000   \n",
       "\n",
       "       adoption-of-the-budget-resolution_y  physician-fee-freeze_y  \\\n",
       "count                           232.000000              232.000000   \n",
       "mean                              0.530172                0.487069   \n",
       "std                               0.500168                0.500913   \n",
       "min                               0.000000                0.000000   \n",
       "25%                               0.000000                0.000000   \n",
       "50%                               1.000000                0.000000   \n",
       "75%                               1.000000                1.000000   \n",
       "max                               1.000000                1.000000   \n",
       "\n",
       "       el-salvador-aid_y  religious-groups-in-schools_y  \\\n",
       "count         232.000000                     232.000000   \n",
       "mean            0.551724                       0.642241   \n",
       "std             0.498393                       0.480377   \n",
       "min             0.000000                       0.000000   \n",
       "25%             0.000000                       0.000000   \n",
       "50%             1.000000                       1.000000   \n",
       "75%             1.000000                       1.000000   \n",
       "max             1.000000                       1.000000   \n",
       "\n",
       "       anti-satellite-test-ban_y  aid-to-nicaraguan-contras_y  mx-missile_y  \\\n",
       "count                 232.000000                   232.000000    232.000000   \n",
       "mean                    0.534483                     0.512931      0.487069   \n",
       "std                     0.499888                     0.500913      0.500913   \n",
       "min                     0.000000                     0.000000      0.000000   \n",
       "25%                     0.000000                     0.000000      0.000000   \n",
       "50%                     1.000000                     1.000000      0.000000   \n",
       "75%                     1.000000                     1.000000      1.000000   \n",
       "max                     1.000000                     1.000000      1.000000   \n",
       "\n",
       "       immigration_y  synfuels-corporation-cutback_y  education-spending_y  \\\n",
       "count     232.000000                      232.000000            232.000000   \n",
       "mean        0.551724                        0.344828              0.465517   \n",
       "std         0.498393                        0.476340              0.499888   \n",
       "min         0.000000                        0.000000              0.000000   \n",
       "25%         0.000000                        0.000000              0.000000   \n",
       "50%         1.000000                        0.000000              0.000000   \n",
       "75%         1.000000                        1.000000              1.000000   \n",
       "max         1.000000                        1.000000              1.000000   \n",
       "\n",
       "       superfund-right-to-sue_y     crime_y  duty-free-exports_y  \\\n",
       "count                232.000000  232.000000           232.000000   \n",
       "mean                   0.547414    0.642241             0.370690   \n",
       "std                    0.498823    0.480377             0.484034   \n",
       "min                    0.000000    0.000000             0.000000   \n",
       "25%                    0.000000    0.000000             0.000000   \n",
       "50%                    1.000000    1.000000             0.000000   \n",
       "75%                    1.000000    1.000000             1.000000   \n",
       "max                    1.000000    1.000000             1.000000   \n",
       "\n",
       "       export-administration-act-south-africa_y  \n",
       "count                                232.000000  \n",
       "mean                                   0.814655  \n",
       "std                                    0.389417  \n",
       "min                                    0.000000  \n",
       "25%                                    1.000000  \n",
       "50%                                    1.000000  \n",
       "75%                                    1.000000  \n",
       "max                                    1.000000  "
      ]
     },
     "execution_count": 8,
     "metadata": {},
     "output_type": "execute_result"
    }
   ],
   "source": [
    "# Dataframe dummie copy\n",
    "Y = data_dummies[\"Class Name_republican\"]\n",
    "data_dummies = data_dummies.drop(['Class Name_republican'], axis=1)\n",
    "X = data_dummies.copy(deep=True)\n",
    "X.describe()\n"
   ]
  },
  {
   "cell_type": "markdown",
   "metadata": {},
   "source": [
    "<p style=\"text-align:justify;\">\n",
    "\n",
    "</p>"
   ]
  },
  {
   "cell_type": "markdown",
   "metadata": {},
   "source": [
    "## Separar los datos en conjuntos de entrenamiento y prueba\n",
    "\n",
    "<p  style=\"text-align:justify\" >A continuación realizamos la separación del conjunto de datos en dos subconjuntos, el conjunto de entrenamiento se encarga de la construcción de los clasificadores, y el conjunto de prueba es para evaluar la precisión de nuestro modelo de clasificación. Nuestro conjunto de entrenamiento contiene 75% de la información y el conjunto de prueba 25% de la información, con una semilla de valor 124 para siempre obtener los mismos resultados en la separación de los datos.</p>"
   ]
  },
  {
   "cell_type": "code",
   "execution_count": 9,
   "metadata": {},
   "outputs": [
    {
     "name": "stdout",
     "output_type": "stream",
     "text": [
      "Cantidad de datos en el conjunto de Entrenamiento: 174\n",
      "Cantidad de datos en el conjunto de Prueba: 58\n"
     ]
    }
   ],
   "source": [
    "# Separación de conjuntos\n",
    "X_train, X_test, y_train, y_test = train_test_split(X, Y, test_size=0.25, random_state=124)\n",
    "print(\"Cantidad de datos en el conjunto de Entrenamiento: {}\".format(X_train.count()[0]))\n",
    "print(\"Cantidad de datos en el conjunto de Prueba: {}\".format(X_test.count()[0]))\n"
   ]
  },
  {
   "cell_type": "markdown",
   "metadata": {},
   "source": [
    "# K - Nearest Neighbors\n",
    "\n",
    "<p  style=\"text-align:justify\" >Aplicamos el método de vecinos más cercanos por medio del clasificador <i>KNeighborsClassifier()</i> obtenido de los módulos de <i>sklearn</i>, construimos un <i>Pipeline</i>, primero con el comando de escalamiento de datos para posteriormente aplicar el clasificador, definimos nuestros parámetros del clasificador para realizar una búsqueda exhaustiva con validación cruzada, con un valor de $k=10$, para realizar la búsqueda utilizamos el comando <i>GridSearchCV()</i> proveniente de los módulos de <i>sklearn</i> para realizar un algoritmo de validación cruzada con el fin de obtener los mejores parámetros para nuestro modelo de clasificación.</p>\n",
    "<p  style=\"text-align:justify\" >Después de realizar la validación cruzada de parámetros debemos entrenar nuestro modelo con el conjunto de datos de entrenamiento.</p>"
   ]
  },
  {
   "cell_type": "code",
   "execution_count": 10,
   "metadata": {},
   "outputs": [
    {
     "data": {
      "text/plain": [
       "GridSearchCV(cv=10, error_score=nan,\n",
       "             estimator=Pipeline(memory=None,\n",
       "                                steps=[('scaler',\n",
       "                                        StandardScaler(copy=True,\n",
       "                                                       with_mean=True,\n",
       "                                                       with_std=True)),\n",
       "                                       ('knn',\n",
       "                                        KNeighborsClassifier(algorithm='auto',\n",
       "                                                             leaf_size=30,\n",
       "                                                             metric='minkowski',\n",
       "                                                             metric_params=None,\n",
       "                                                             n_jobs=None,\n",
       "                                                             n_neighbors=5, p=2,\n",
       "                                                             weights='uniform'))],\n",
       "                                verbose=False),\n",
       "             iid='deprecated', n_jobs=None,\n",
       "             param_grid={'knn__n_neighbors': [1, 2, 3, 4, 5, 6, 7],\n",
       "                         'knn__weights': ['uniform', 'distance']},\n",
       "             pre_dispatch='2*n_jobs', refit=True, return_train_score=False,\n",
       "             scoring=None, verbose=0)"
      ]
     },
     "execution_count": 10,
     "metadata": {},
     "output_type": "execute_result"
    }
   ],
   "source": [
    "# Pipeline\n",
    "steps = [('scaler', StandardScaler()), \n",
    "         ('knn', KNeighborsClassifier())]\n",
    "pipeline = Pipeline(steps)\n",
    "# Hyperparameters\n",
    "parameters = {'knn__n_neighbors': list(range(1,8)),\n",
    "              'knn__weights': [\"uniform\", \"distance\"]}\n",
    "\n",
    "# Cross Validation\n",
    "knn_cv = GridSearchCV(pipeline, parameters, cv=10)\n",
    "# Fit Model\n",
    "knn_cv.fit(X_train, y_train)\n"
   ]
  },
  {
   "cell_type": "code",
   "execution_count": 11,
   "metadata": {},
   "outputs": [
    {
     "name": "stdout",
     "output_type": "stream",
     "text": [
      "Mejores Parámetros del modelo: {'knn__n_neighbors': 4, 'knn__weights': 'uniform'}\n"
     ]
    }
   ],
   "source": [
    "print(\"Mejores Parámetros del modelo: {}\".format(knn_cv.best_params_))\n"
   ]
  },
  {
   "cell_type": "markdown",
   "metadata": {},
   "source": [
    "<p  style=\"text-align:justify\" >Función para visualizar la matriz de confusión.</p>"
   ]
  },
  {
   "cell_type": "markdown",
   "metadata": {},
   "source": [
    "#### Métricas de Evaluación de Clasificación (Confusion Matrix, Accuracy, Precision, Recall, F1, ROC y AUC)\n",
    "\n",
    "<ul>\n",
    " \n",
    "<li><p  style=\"text-align:justify\" >Una matriz de confusión es una tabla que describe el desempeño de un modelo de clasificación en un conjunto de datos de prueba cuyos valores verdaderos son conocidos. Una matriz de confusión es altamente interpretativa y puede ser usada para estimar un número de otras métricas.</p></li>\n",
    "    \n",
    "<p style=\"text-align:center;\">\n",
    "    <img src=\"confusion_matrix.png\"\n",
    "         alt=\"Confusion Matrix\"/><br>\n",
    "    <em>Fig. 8: <i>Confusion Matrix</i> </em>\n",
    "</p>\n",
    "<br>\n",
    "<li><p  style=\"text-align:justify\" >La exactitud de la clasificación es la relación entre las predicciones correctas y el número total de predicciones. O más simplemente, con qué frecuencia es correcto el clasificador.<br>La fórmula de la exactitud esta definida por:</p></li>\n",
    "\n",
    "$$Accuracy = \\displaystyle \\frac{TP + TN}{TP + FP + FN + TN}$$<br>\n",
    "    \n",
    "<li><p  style=\"text-align:justify\" >La precisión es la relación entre las predicciones correctas y el número total de predicciones correctas previstas. Esto mide la precisión del clasificador a la hora de predecir casos positivos.<br>La fórmula de la precisión esta definida por:</p></li>\n",
    "\n",
    "$$Precision = \\displaystyle \\frac{TP}{TP + FN}$$<br>\n",
    "    \n",
    "\n",
    "<li><p  style=\"text-align:justify\" >La sensibilidad también es llamada en inglés recall, es la relación entre las predicciones positivas correctas y el número total de predicciones positivas. O más simplemente, cuán sensible es el clasificador para detectar instancias positivas. Esto también se conoce como la tasa verdadera positiva.<br>La fórmula de la sensibilidad esta definida por:</p></li>\n",
    "\n",
    "$$Recall = \\displaystyle \\frac{TP}{TP + FP}$$<br>\n",
    "\n",
    "<li><p  style=\"text-align:justify\" >El puntaje F1 es la medida armónica de la memoria y la precisión, con una puntuación más alta como mejor modelo.<br>La fórmula de la sensibilidad esta definida por:</p></li>\n",
    "\n",
    "$$Recall = 2 \\times \\displaystyle \\frac{Precision \\times Recall}{Precision + Recall}$$<br>\n",
    "    \n",
    "</ul>"
   ]
  },
  {
   "cell_type": "markdown",
   "metadata": {},
   "source": [
    "<ul>\n",
    "<li><p  style=\"text-align:justify\" >Una curva ROC (curva de característica operativa del recepto) es un gráfico que muestra el rendimiento de un modelo de clasificación en todos los umbrales de clasificación. Esta curva representa dos parámetros:</p>\n",
    "    <ul>\n",
    "    <li>Tasa de verdaderos positivos.</li>\n",
    "    <li>Tasa de falsos positivos.</li></ul></li><br>\n",
    "<li><p  style=\"text-align:justify\" >AUC significa \"área bajo la curva ROC\". Esto significa que el AUC mide toda el área bidimensional por debajo de la curva ROC completa. El AUC proporciona una medición agregada del rendimiento en todos los umbrales de clasificación posibles. Una forma de interpretar el AUC es como la probabilidad de que el modelo clasifique un ejemplo positivo aleatorio más alto que un ejemplo negativo aleatorio. </p> </li>\n",
    "<p style=\"text-align:center;\">\n",
    "    <img src=\"roc-curves.png\"\n",
    "         alt=\"ROC\"/><br>\n",
    "    <em>Fig. 9: <i>ROC Curves</i> </em>\n",
    "</p> <br>\n",
    "</ul>"
   ]
  },
  {
   "cell_type": "code",
   "execution_count": 12,
   "metadata": {},
   "outputs": [],
   "source": [
    "# funcion optenida de: https://scikit-learn.org/stable/auto_examples/model_selection/plot_confusion_matrix.html\n",
    "def plot_confusion_matrix(cm, classes, normalize=False, title='Confusion matrix', \n",
    "                          cmap=plt.cm.Blues):\n",
    "    plt.imshow(cm, interpolation='nearest', cmap=cmap)\n",
    "    plt.title(title)\n",
    "    #plt.colorbar()\n",
    "    tick_marks = np.arange(len(classes))\n",
    "    plt.xticks(tick_marks, classes, rotation=45)\n",
    "    plt.yticks(tick_marks, classes)\n",
    "\n",
    "    fmt = '.2f' if normalize else 'd'\n",
    "    thresh = cm.max() / 2.\n",
    "    for i, j in itertools.product(range(cm.shape[0]), range(cm.shape[1])):\n",
    "        plt.text(j, i, format(cm[i, j], fmt),\n",
    "                 horizontalalignment=\"center\",\n",
    "                 color=\"white\" if cm[i, j] > thresh else \"black\")\n",
    "\n",
    "    plt.ylabel('True label')\n",
    "    plt.xlabel('Predicted label')\n",
    "    plt.show()\n",
    "    \n",
    "def Plot_ROC_Curve(y_test, y_pred_prob):\n",
    "    # Generate ROC curve values: fpr, tpr, thresholds\n",
    "    fpr, tpr, thresholds = roc_curve(y_test, y_pred_prob)\n",
    "    # Plot ROC curve\n",
    "    plt.plot([0, 1], [0, 1], 'k--')\n",
    "    plt.plot(fpr, tpr,  marker='.')\n",
    "    plt.xlabel('False Positive Rate')\n",
    "    plt.ylabel('True Positive Rate')\n",
    "    plt.title('ROC Curve')\n",
    "    plt.show()\n"
   ]
  },
  {
   "cell_type": "code",
   "execution_count": 13,
   "metadata": {},
   "outputs": [],
   "source": [
    "def Classification_Metrics(model, X_test, y_test, labels, show=True):\n",
    "    # Predicted classes\n",
    "    y_pred = model.predict(X_test)\n",
    "    # Compute predicted probabilities: y_pred_prob\n",
    "    y_pred_prob = model.predict_proba(X_test)[:,1]\n",
    "\n",
    "    ###### Compute\n",
    "\n",
    "    # Compute Confusion Matrix\n",
    "    cm = confusion_matrix(y_test, y_pred)\n",
    "    # Calculate metrics\n",
    "    accu = accuracy_score(y_test, y_pred)\n",
    "    pre = precision_score(y_test, y_pred)\n",
    "    rec = recall_score(y_test, y_pred)\n",
    "    f1 = f1_score(y_test, y_pred)\n",
    "    # AUC \n",
    "    auc = roc_auc_score(y_test, y_pred_prob)\n",
    "    if show:\n",
    "        # Confunsion Matrix\n",
    "        plot_confusion_matrix(cm, labels)\n",
    "        # Print Metrics\n",
    "        print(\"Métricas del modelo: \\n\")\n",
    "        # Show in percent\n",
    "        per = 100\n",
    "        print(\"Exactitud: {:.2f}%\".format(per*accu))\n",
    "        print(\"Precisión: {:.2f}%\".format(per*pre))\n",
    "        print(\"Sensibilidad: {:.2f}%\".format(per*rec))\n",
    "        print(\"Puntaje F1: {:.2f}%\".format(per*f1))\n",
    "\n",
    "        print(\"\\nAlternativa con Classification_Report: \\n\")\n",
    "        # Compute Classification Report\n",
    "        print(classification_report(y_test, y_pred))\n",
    "        # Plot ROC Curve\n",
    "        Plot_ROC_Curve(y_test, y_pred_prob)\n",
    "        print(\"AUC: {:.2f}%\".format(per*auc))\n",
    "    # Métricas a retornar\n",
    "    dic = {\"accuracy\": accu, \"precision\": pre, \"recall\": rec, \"f1\": f1, \"AUC\": auc}\n",
    "    return (dic)\n"
   ]
  },
  {
   "cell_type": "code",
   "execution_count": 14,
   "metadata": {},
   "outputs": [
    {
     "data": {
      "image/png": "[encoded data removed]",
      "text/plain": [
       "<Figure size 432x288 with 1 Axes>"
      ]
     },
     "metadata": {
      "needs_background": "light"
     },
     "output_type": "display_data"
    },
    {
     "name": "stdout",
     "output_type": "stream",
     "text": [
      "Métricas del modelo: \n",
      "\n",
      "Exactitud: 87.93%\n",
      "Precisión: 80.00%\n",
      "Sensibilidad: 96.00%\n",
      "Puntaje F1: 87.27%\n",
      "\n",
      "Alternativa con Classification_Report: \n",
      "\n",
      "              precision    recall  f1-score   support\n",
      "\n",
      "           0       0.96      0.82      0.89        33\n",
      "           1       0.80      0.96      0.87        25\n",
      "\n",
      "    accuracy                           0.88        58\n",
      "   macro avg       0.88      0.89      0.88        58\n",
      "weighted avg       0.89      0.88      0.88        58\n",
      "\n"
     ]
    },
    {
     "data": {
      "image/png": "[encoded data removed]",
      "text/plain": [
       "<Figure size 432x288 with 1 Axes>"
      ]
     },
     "metadata": {
      "needs_background": "light"
     },
     "output_type": "display_data"
    },
    {
     "name": "stdout",
     "output_type": "stream",
     "text": [
      "AUC: 93.64%\n"
     ]
    }
   ],
   "source": [
    "knn = Classification_Metrics(knn_cv, X_test, y_test, y_test.unique())\n"
   ]
  },
  {
   "cell_type": "markdown",
   "metadata": {},
   "source": [
    "# Logistic Regression\n",
    "\n",
    "<p  style=\"text-align:justify\" >Aplicamos el método de Regresión Logística por medio del clasificador <i>LogisticRegression()</i> obtenido de los módulos de <i>sklearn</i>, construimos un <i>Pipeline</i>, primero con el comando de escalamiento de datos para posteriormente aplicar el clasificador, definimos nuestros parámetros del clasificador para realizar una búsqueda exhaustiva con validación cruzada, con un valor de $k=10$, para realizar la búsqueda utilizamos el comando <i>GridSearchCV()</i> para encontrar los mejores parámetros para nuestro modelo de clasificación de regresión logística.</p>\n",
    "<p  style=\"text-align:justify\" >Después de realizar la validación de parámetros debemos entrenar nuestro modelo con el conjunto de datos de entrenamiento.</p>"
   ]
  },
  {
   "cell_type": "code",
   "execution_count": 15,
   "metadata": {},
   "outputs": [
    {
     "data": {
      "text/plain": [
       "GridSearchCV(cv=10, error_score=nan,\n",
       "             estimator=Pipeline(memory=None,\n",
       "                                steps=[('scaler',\n",
       "                                        StandardScaler(copy=True,\n",
       "                                                       with_mean=True,\n",
       "                                                       with_std=True)),\n",
       "                                       ('logreg',\n",
       "                                        LogisticRegression(C=1.0,\n",
       "                                                           class_weight=None,\n",
       "                                                           dual=False,\n",
       "                                                           fit_intercept=True,\n",
       "                                                           intercept_scaling=1,\n",
       "                                                           l1_ratio=None,\n",
       "                                                           max_iter=100,\n",
       "                                                           multi_class='auto',\n",
       "                                                           n_jobs=None,\n",
       "                                                           penalty='l2',\n",
       "                                                           random_state=None,\n",
       "                                                           solver='lbfgs',\n",
       "                                                           tol=0.0001,\n",
       "                                                           verbose=0,\n",
       "                                                           warm_start=False))],\n",
       "                                verbose=False),\n",
       "             iid='deprecated', n_jobs=None,\n",
       "             param_grid={'logreg__C': array([1.e-03, 1.e-02, 1.e-01, 1.e+00, 1.e+01, 1.e+02, 1.e+03]),\n",
       "                         'logreg__penalty': ['l1', 'l2']},\n",
       "             pre_dispatch='2*n_jobs', refit=True, return_train_score=False,\n",
       "             scoring=None, verbose=0)"
      ]
     },
     "execution_count": 15,
     "metadata": {},
     "output_type": "execute_result"
    }
   ],
   "source": [
    "# Pipeline\n",
    "steps = [('scaler', StandardScaler()), \n",
    "         ('logreg', LogisticRegression())]\n",
    "pipeline = Pipeline(steps)\n",
    "# Hyperparameters\n",
    "parameters = {'logreg__C': np.logspace(-3,3,7),\n",
    "              'logreg__penalty': [\"l1\",\"l2\"]}\n",
    "# Cross Validation\n",
    "logreg_cv = GridSearchCV(pipeline, parameters, cv=10)\n",
    "# Fit model\n",
    "logreg_cv.fit(X_train, y_train)\n"
   ]
  },
  {
   "cell_type": "code",
   "execution_count": 16,
   "metadata": {},
   "outputs": [
    {
     "name": "stdout",
     "output_type": "stream",
     "text": [
      "Mejores Parámetros del modelo: {'logreg__C': 0.1, 'logreg__penalty': 'l2'}\n"
     ]
    }
   ],
   "source": [
    "print(\"Mejores Parámetros del modelo: {}\".format(logreg_cv.best_params_))\n"
   ]
  },
  {
   "cell_type": "markdown",
   "metadata": {},
   "source": [
    "#### Métricas de Evaluación de Clasificación (Confusion Matrix, Accuracy, Precision, Recall, F1, ROC y AUC)"
   ]
  },
  {
   "cell_type": "code",
   "execution_count": 17,
   "metadata": {},
   "outputs": [
    {
     "data": {
      "image/png": "[encoded data removed]",
      "text/plain": [
       "<Figure size 432x288 with 1 Axes>"
      ]
     },
     "metadata": {
      "needs_background": "light"
     },
     "output_type": "display_data"
    },
    {
     "name": "stdout",
     "output_type": "stream",
     "text": [
      "Métricas del modelo: \n",
      "\n",
      "Exactitud: 87.93%\n",
      "Precisión: 80.00%\n",
      "Sensibilidad: 96.00%\n",
      "Puntaje F1: 87.27%\n",
      "\n",
      "Alternativa con Classification_Report: \n",
      "\n",
      "              precision    recall  f1-score   support\n",
      "\n",
      "           0       0.96      0.82      0.89        33\n",
      "           1       0.80      0.96      0.87        25\n",
      "\n",
      "    accuracy                           0.88        58\n",
      "   macro avg       0.88      0.89      0.88        58\n",
      "weighted avg       0.89      0.88      0.88        58\n",
      "\n"
     ]
    },
    {
     "data": {
      "image/png": "[encoded data removed]",
      "text/plain": [
       "<Figure size 432x288 with 1 Axes>"
      ]
     },
     "metadata": {
      "needs_background": "light"
     },
     "output_type": "display_data"
    },
    {
     "name": "stdout",
     "output_type": "stream",
     "text": [
      "AUC: 98.67%\n"
     ]
    }
   ],
   "source": [
    "logreg = Classification_Metrics(logreg_cv, X_test, y_test, y_test.unique())\n"
   ]
  },
  {
   "cell_type": "markdown",
   "metadata": {},
   "source": [
    "# Neural Network\n",
    "\n",
    "<p  style=\"text-align:justify\" >Aplicamos el método de Redes Neuronales por medio del clasificador <i>MLPClassifier()</i> obtenido de los módulos de <i>sklearn</i>, construimos un <i>Pipeline</i>, primero con el comando de escalamiento de datos para posteriormente aplicar el clasificador, definimos nuestros parámetros del clasificador para realizar una búsqueda exhaustiva con validación cruzada, con un valor de $k=10$, para realizar la búsqueda utilizamos el comando <i>GridSearchCV()</i> para encontrar los mejores parámetros para nuestro modelo de clasificación.</p>\n",
    "<p  style=\"text-align:justify\" >Después de realizar la validación de parámetros debemos entrenar nuestro modelo con el conjunto de datos de entrenamiento.</p>"
   ]
  },
  {
   "cell_type": "code",
   "execution_count": 18,
   "metadata": {},
   "outputs": [
    {
     "data": {
      "text/plain": [
       "GridSearchCV(cv=10, error_score=nan,\n",
       "             estimator=Pipeline(memory=None,\n",
       "                                steps=[('scaler',\n",
       "                                        StandardScaler(copy=True,\n",
       "                                                       with_mean=True,\n",
       "                                                       with_std=True)),\n",
       "                                       ('MLPC',\n",
       "                                        MLPClassifier(activation='relu',\n",
       "                                                      alpha=0.0001,\n",
       "                                                      batch_size='auto',\n",
       "                                                      beta_1=0.9, beta_2=0.999,\n",
       "                                                      early_stopping=False,\n",
       "                                                      epsilon=1e-08,\n",
       "                                                      hidden_layer_sizes=(100,),\n",
       "                                                      learning_rate='constant',\n",
       "                                                      learning_rate_init=0.001,\n",
       "                                                      max_f...\n",
       "                                                      warm_start=False))],\n",
       "                                verbose=False),\n",
       "             iid='deprecated', n_jobs=None,\n",
       "             param_grid={'MLPC__activation': ['logistic', 'tanh'],\n",
       "                         'MLPC__alpha': array([1.e-01, 1.e-02, 1.e-03, 1.e-04, 1.e-05, 1.e-06, 1.e-07, 1.e-08,\n",
       "       1.e-09]),\n",
       "                         'MLPC__hidden_layer_sizes': array([10, 11, 12, 13, 14]),\n",
       "                         'MLPC__solver': ['lbfgs']},\n",
       "             pre_dispatch='2*n_jobs', refit=True, return_train_score=False,\n",
       "             scoring=None, verbose=0)"
      ]
     },
     "execution_count": 18,
     "metadata": {},
     "output_type": "execute_result"
    }
   ],
   "source": [
    "# Pipeline\n",
    "steps = [('scaler', StandardScaler()), \n",
    "         ('MLPC',  MLPClassifier())]\n",
    "pipeline = Pipeline(steps)\n",
    "# Hyperparameters\n",
    "parameters = {'MLPC__activation': ['logistic', 'tanh'],\n",
    "              'MLPC__solver': ['lbfgs'], \n",
    "              'MLPC__alpha': 10.0 ** -np.arange(1, 10),\n",
    "              'MLPC__hidden_layer_sizes':np.arange(10, 15)}\n",
    "# Cross Validation\n",
    "MLPC_cv = GridSearchCV(pipeline, parameters, cv=10)\n",
    "# Fit model\n",
    "MLPC_cv.fit(X_train, y_train)\n"
   ]
  },
  {
   "cell_type": "code",
   "execution_count": 19,
   "metadata": {},
   "outputs": [
    {
     "name": "stdout",
     "output_type": "stream",
     "text": [
      "Mejores Parámetros del modelo: {'MLPC__hidden_layer_sizes': 13, 'MLPC__solver': 'lbfgs', 'MLPC__alpha': 1e-06, 'MLPC__activation': 'logistic'}\n"
     ]
    }
   ],
   "source": [
    "print(\"Mejores Parámetros del modelo: {}\".format(MLPC_cv.best_params_))\n"
   ]
  },
  {
   "cell_type": "markdown",
   "metadata": {},
   "source": [
    "#### Métricas de Evaluación de Clasificación (Confusion Matrix, Accuracy, Precision, Recall, F1, ROC y AUC)"
   ]
  },
  {
   "cell_type": "code",
   "execution_count": 20,
   "metadata": {},
   "outputs": [
    {
     "data": {
      "image/png": "[encoded data removed]",
      "text/plain": [
       "<Figure size 432x288 with 1 Axes>"
      ]
     },
     "metadata": {
      "needs_background": "light"
     },
     "output_type": "display_data"
    },
    {
     "name": "stdout",
     "output_type": "stream",
     "text": [
      "Métricas del modelo: \n",
      "\n",
      "Exactitud: 93.10%\n",
      "Precisión: 86.21%\n",
      "Sensibilidad: 100.00%\n",
      "Puntaje F1: 92.59%\n",
      "\n",
      "Alternativa con Classification_Report: \n",
      "\n",
      "              precision    recall  f1-score   support\n",
      "\n",
      "           0       1.00      0.88      0.94        33\n",
      "           1       0.86      1.00      0.93        25\n",
      "\n",
      "    accuracy                           0.93        58\n",
      "   macro avg       0.93      0.94      0.93        58\n",
      "weighted avg       0.94      0.93      0.93        58\n",
      "\n"
     ]
    },
    {
     "data": {
      "image/png": "[encoded data removed]",
      "text/plain": [
       "<Figure size 432x288 with 1 Axes>"
      ]
     },
     "metadata": {
      "needs_background": "light"
     },
     "output_type": "display_data"
    },
    {
     "name": "stdout",
     "output_type": "stream",
     "text": [
      "AUC: 99.76%\n"
     ]
    }
   ],
   "source": [
    "nn =  Classification_Metrics(MLPC_cv, X_test, y_test, y_test.unique())\n"
   ]
  },
  {
   "cell_type": "markdown",
   "metadata": {},
   "source": [
    "# Support Vector Machine\n",
    "\n",
    "<p  style=\"text-align:justify\" >Aplicamos el método de Máquina de Soporte Vectorial por medio del clasificador <i>SVC()</i> obtenido de los módulos de <i>sklearn</i>, construimos un <i>Pipeline</i>, primero con el comando de escalamiento de datos para posteriormente aplicar el clasificador, definimos nuestros parámetros del clasificador para realizar una búsqueda exhaustiva con validación cruzada, con un valor de <i>k</i>=10, para realizar la búsqueda utilizamos el comando <i>GridSearchCV()</i> proveniente de los módulos de sklearn para encontrar los mejores parámetros para nuestro modelo de clasificación.</p>\n",
    "<p  style=\"text-align:justify\" >Después de realizar la validación de parámetros debemos entrenar nuestro modelo con el conjunto de datos de entrenamiento.</p>"
   ]
  },
  {
   "cell_type": "code",
   "execution_count": 21,
   "metadata": {},
   "outputs": [
    {
     "data": {
      "text/plain": [
       "GridSearchCV(cv=10, error_score=nan,\n",
       "             estimator=Pipeline(memory=None,\n",
       "                                steps=[('scaler',\n",
       "                                        StandardScaler(copy=True,\n",
       "                                                       with_mean=True,\n",
       "                                                       with_std=True)),\n",
       "                                       ('SVM',\n",
       "                                        SVC(C=1.0, break_ties=False,\n",
       "                                            cache_size=200, class_weight=None,\n",
       "                                            coef0=0.0,\n",
       "                                            decision_function_shape='ovr',\n",
       "                                            degree=3, gamma='scale',\n",
       "                                            kernel='rbf', max_iter=-1,\n",
       "                                            probability=False,\n",
       "                                            random_state=None, shrinking=True,\n",
       "                                            tol=0.001, verbose=False))],\n",
       "                                verbose=False),\n",
       "             iid='deprecated', n_jobs=None,\n",
       "             param_grid={'SVM__C': [1, 10, 100], 'SVM__gamma': [0.1, 0.01],\n",
       "                         'SVM__kernel': ['linear', 'poly', 'rbf', 'sigmoid'],\n",
       "                         'SVM__probability': [True]},\n",
       "             pre_dispatch='2*n_jobs', refit=True, return_train_score=False,\n",
       "             scoring=None, verbose=0)"
      ]
     },
     "execution_count": 21,
     "metadata": {},
     "output_type": "execute_result"
    }
   ],
   "source": [
    "# Pipeline\n",
    "steps = [('scaler', StandardScaler()), \n",
    "         ('SVM', SVC())]\n",
    "pipeline = Pipeline(steps)\n",
    "# Hyperparameters\n",
    "parameters = {'SVM__kernel': ['linear', 'poly', 'rbf', 'sigmoid'], \n",
    "              'SVM__C':[1, 10, 100],\n",
    "              'SVM__gamma': [0.1, 0.01],\n",
    "              'SVM__probability': [True]}\n",
    "# Cross Validation\n",
    "SVM_cv = GridSearchCV(pipeline, parameters, cv=10)\n",
    "# Fit Model\n",
    "SVM_cv.fit(X_train, y_train)\n"
   ]
  },
  {
   "cell_type": "code",
   "execution_count": 22,
   "metadata": {},
   "outputs": [
    {
     "name": "stdout",
     "output_type": "stream",
     "text": [
      "Mejores Parámetros del modelo: {'SVM__gamma': 0.1, 'SVM__probability': True, 'SVM__C': 1, 'SVM__kernel': 'sigmoid'}\n"
     ]
    }
   ],
   "source": [
    "print(\"Mejores Parámetros del modelo: {}\".format(SVM_cv.best_params_))\n"
   ]
  },
  {
   "cell_type": "markdown",
   "metadata": {},
   "source": [
    "#### Métricas de Evaluación de Clasificación (Confusion Matrix, Accuracy, Precision, Recall, F1, ROC y AUC)"
   ]
  },
  {
   "cell_type": "code",
   "execution_count": 23,
   "metadata": {},
   "outputs": [
    {
     "data": {
      "image/png": "[encoded data removed]",
      "text/plain": [
       "<Figure size 432x288 with 1 Axes>"
      ]
     },
     "metadata": {
      "needs_background": "light"
     },
     "output_type": "display_data"
    },
    {
     "name": "stdout",
     "output_type": "stream",
     "text": [
      "Métricas del modelo: \n",
      "\n",
      "Exactitud: 94.83%\n",
      "Precisión: 89.29%\n",
      "Sensibilidad: 100.00%\n",
      "Puntaje F1: 94.34%\n",
      "\n",
      "Alternativa con Classification_Report: \n",
      "\n",
      "              precision    recall  f1-score   support\n",
      "\n",
      "           0       1.00      0.91      0.95        33\n",
      "           1       0.89      1.00      0.94        25\n",
      "\n",
      "    accuracy                           0.95        58\n",
      "   macro avg       0.95      0.95      0.95        58\n",
      "weighted avg       0.95      0.95      0.95        58\n",
      "\n"
     ]
    },
    {
     "data": {
      "image/png": "[encoded data removed]",
      "text/plain": [
       "<Figure size 432x288 with 1 Axes>"
      ]
     },
     "metadata": {
      "needs_background": "light"
     },
     "output_type": "display_data"
    },
    {
     "name": "stdout",
     "output_type": "stream",
     "text": [
      "AUC: 97.33%\n"
     ]
    }
   ],
   "source": [
    "svm =  Classification_Metrics(SVM_cv, X_test, y_test, y_test.unique())\n"
   ]
  },
  {
   "cell_type": "markdown",
   "metadata": {},
   "source": [
    "# Decision Tree Classifier\n",
    "\n",
    "<p  style=\"text-align:justify\" >Aplicamos el método de Clasificación y Árboles de Regresiones por medio del clasificador <i>DecisionTreeClassifier()</i> obtenido de los módulos de <i>sklearn</i>, construimos un <i>Pipeline</i>, primero con el comando de escalamiento de datos para posteriormente aplicar el clasificador, definimos nuestros parámetros del clasificador para realizar una búsqueda exhaustiva con validación cruzada, con un valor de <i>k</i>=10, para realizar la búsqueda utilizamos el comando <i>GridSearchCV()</i> para encontrar los mejores parámetros para nuestro modelo de clasificación.</p>\n",
    "<p  style=\"text-align:justify\" >Después de realizar la validación de parámetros debemos entrenar nuestro modelo con el conjunto de datos de entrenamiento.</p>"
   ]
  },
  {
   "cell_type": "code",
   "execution_count": 24,
   "metadata": {},
   "outputs": [
    {
     "data": {
      "text/plain": [
       "GridSearchCV(cv=10, error_score=nan,\n",
       "             estimator=Pipeline(memory=None,\n",
       "                                steps=[('scaler',\n",
       "                                        StandardScaler(copy=True,\n",
       "                                                       with_mean=True,\n",
       "                                                       with_std=True)),\n",
       "                                       ('CART',\n",
       "                                        DecisionTreeClassifier(ccp_alpha=0.0,\n",
       "                                                               class_weight=None,\n",
       "                                                               criterion='gini',\n",
       "                                                               max_depth=None,\n",
       "                                                               max_features=None,\n",
       "                                                               max_leaf_nodes=None,\n",
       "                                                               min_impurity_decrease=0.0,\n",
       "                                                               min_impurity_split=None,\n",
       "                                                               min_samples_leaf=1,\n",
       "                                                               min_samples_split=2,\n",
       "                                                               min_weight_fraction_leaf=0.0,\n",
       "                                                               presort='deprecated',\n",
       "                                                               random_state=None,\n",
       "                                                               splitter='best'))],\n",
       "                                verbose=False),\n",
       "             iid='deprecated', n_jobs=None,\n",
       "             param_grid={'CART__criterion': ['gini', 'entropy'],\n",
       "                         'CART__max_depth': [4, 6, 8, 12]},\n",
       "             pre_dispatch='2*n_jobs', refit=True, return_train_score=False,\n",
       "             scoring=None, verbose=0)"
      ]
     },
     "execution_count": 24,
     "metadata": {},
     "output_type": "execute_result"
    }
   ],
   "source": [
    "# Pipeline\n",
    "steps = [('scaler', StandardScaler()),\n",
    "         ('CART', DecisionTreeClassifier())] #\n",
    "pipeline = Pipeline(steps)\n",
    "# Hyperparameters\n",
    "parameters = { \"CART__criterion\" : ['gini', 'entropy'],\n",
    "              \"CART__max_depth\" : [4,6,8,12]}\n",
    "# Cross Validation\n",
    "CART_cv = GridSearchCV(pipeline, parameters, cv=10)\n",
    "# Fit Model\n",
    "CART_cv.fit(X_train, y_train)\n"
   ]
  },
  {
   "cell_type": "code",
   "execution_count": 25,
   "metadata": {},
   "outputs": [
    {
     "name": "stdout",
     "output_type": "stream",
     "text": [
      "Mejores Parámetros del modelo: {'CART__criterion': 'entropy', 'CART__max_depth': 4}\n"
     ]
    }
   ],
   "source": [
    "print(\"Mejores Parámetros del modelo: {}\".format(CART_cv.best_params_))\n"
   ]
  },
  {
   "cell_type": "markdown",
   "metadata": {},
   "source": [
    "#### Métricas de Evaluación de Clasificación (Confusion Matrix, Accuracy, Precision, Recall, F1, ROC y AUC)"
   ]
  },
  {
   "cell_type": "code",
   "execution_count": 26,
   "metadata": {},
   "outputs": [
    {
     "data": {
      "image/png": "[encoded data removed]",
      "text/plain": [
       "<Figure size 432x288 with 1 Axes>"
      ]
     },
     "metadata": {
      "needs_background": "light"
     },
     "output_type": "display_data"
    },
    {
     "name": "stdout",
     "output_type": "stream",
     "text": [
      "Métricas del modelo: \n",
      "\n",
      "Exactitud: 94.83%\n",
      "Precisión: 89.29%\n",
      "Sensibilidad: 100.00%\n",
      "Puntaje F1: 94.34%\n",
      "\n",
      "Alternativa con Classification_Report: \n",
      "\n",
      "              precision    recall  f1-score   support\n",
      "\n",
      "           0       1.00      0.91      0.95        33\n",
      "           1       0.89      1.00      0.94        25\n",
      "\n",
      "    accuracy                           0.95        58\n",
      "   macro avg       0.95      0.95      0.95        58\n",
      "weighted avg       0.95      0.95      0.95        58\n",
      "\n"
     ]
    },
    {
     "data": {
      "image/png": "[encoded data removed]",
      "text/plain": [
       "<Figure size 432x288 with 1 Axes>"
      ]
     },
     "metadata": {
      "needs_background": "light"
     },
     "output_type": "display_data"
    },
    {
     "name": "stdout",
     "output_type": "stream",
     "text": [
      "AUC: 97.94%\n"
     ]
    }
   ],
   "source": [
    "cart =  Classification_Metrics(CART_cv, X_test, y_test, y_test.unique())\n"
   ]
  },
  {
   "cell_type": "markdown",
   "metadata": {},
   "source": [
    "# Naive Bayes\n",
    "\n",
    "<p  style=\"text-align:justify\" >Aplicamos el método de Naive Bayes por medio del clasificador <i>GaussianNB()</i> obtenido de los módulos de <i>sklearn</i>, en este caso no es recomendable usar la validación cruzada de párametros ya que puede alenta el processo de computación y al ser un algoritmo de clasificación tan simple no es necesario. <br><br>\n",
    "Construimos nuestro modelo de clasificación bayeseana con nuestro conjunto de entranamiento.</p>"
   ]
  },
  {
   "cell_type": "code",
   "execution_count": 27,
   "metadata": {},
   "outputs": [
    {
     "data": {
      "text/plain": [
       "GaussianNB(priors=None, var_smoothing=1e-09)"
      ]
     },
     "execution_count": 27,
     "metadata": {},
     "output_type": "execute_result"
    }
   ],
   "source": [
    "# Naive Bayes classifier\n",
    "GNB = GaussianNB()\n",
    "#Train the model using the training sets\n",
    "GNB.fit(X_train, y_train)\n"
   ]
  },
  {
   "cell_type": "markdown",
   "metadata": {},
   "source": [
    "#### Métricas de Evaluación de Clasificación (Confusion Matrix, Accuracy, Precision, Recall, F1, ROC y AUC)"
   ]
  },
  {
   "cell_type": "code",
   "execution_count": 28,
   "metadata": {},
   "outputs": [
    {
     "data": {
      "image/png": "[encoded data removed]",
      "text/plain": [
       "<Figure size 432x288 with 1 Axes>"
      ]
     },
     "metadata": {
      "needs_background": "light"
     },
     "output_type": "display_data"
    },
    {
     "name": "stdout",
     "output_type": "stream",
     "text": [
      "Métricas del modelo: \n",
      "\n",
      "Exactitud: 91.38%\n",
      "Precisión: 88.46%\n",
      "Sensibilidad: 92.00%\n",
      "Puntaje F1: 90.20%\n",
      "\n",
      "Alternativa con Classification_Report: \n",
      "\n",
      "              precision    recall  f1-score   support\n",
      "\n",
      "           0       0.94      0.91      0.92        33\n",
      "           1       0.88      0.92      0.90        25\n",
      "\n",
      "    accuracy                           0.91        58\n",
      "   macro avg       0.91      0.91      0.91        58\n",
      "weighted avg       0.91      0.91      0.91        58\n",
      "\n"
     ]
    },
    {
     "data": {
      "image/png": "[encoded data removed]",
      "text/plain": [
       "<Figure size 432x288 with 1 Axes>"
      ]
     },
     "metadata": {
      "needs_background": "light"
     },
     "output_type": "display_data"
    },
    {
     "name": "stdout",
     "output_type": "stream",
     "text": [
      "AUC: 96.61%\n"
     ]
    }
   ],
   "source": [
    "gnb =  Classification_Metrics(GNB, X_test, y_test, y_test.unique())\n"
   ]
  },
  {
   "cell_type": "markdown",
   "metadata": {},
   "source": [
    "<br><br>\n",
    "\n",
    "## Conclusión"
   ]
  },
  {
   "cell_type": "code",
   "execution_count": 30,
   "metadata": {},
   "outputs": [
    {
     "data": {
      "text/html": [
       "<div>\n",
       "<style scoped>\n",
       "    .dataframe tbody tr th:only-of-type {\n",
       "        vertical-align: middle;\n",
       "    }\n",
       "\n",
       "    .dataframe tbody tr th {\n",
       "        vertical-align: top;\n",
       "    }\n",
       "\n",
       "    .dataframe thead th {\n",
       "        text-align: right;\n",
       "    }\n",
       "</style>\n",
       "<table border=\"1\" class=\"dataframe\">\n",
       "  <thead>\n",
       "    <tr style=\"text-align: right;\">\n",
       "      <th></th>\n",
       "      <th>AUC</th>\n",
       "      <th>Accuracy</th>\n",
       "      <th>F1</th>\n",
       "      <th>Precision</th>\n",
       "      <th>Recall</th>\n",
       "    </tr>\n",
       "    <tr>\n",
       "      <th>Classifier</th>\n",
       "      <th></th>\n",
       "      <th></th>\n",
       "      <th></th>\n",
       "      <th></th>\n",
       "      <th></th>\n",
       "    </tr>\n",
       "  </thead>\n",
       "  <tbody>\n",
       "    <tr>\n",
       "      <th>SVM</th>\n",
       "      <td>0.973333</td>\n",
       "      <td>0.948276</td>\n",
       "      <td>0.943396</td>\n",
       "      <td>0.892857</td>\n",
       "      <td>1.00</td>\n",
       "    </tr>\n",
       "    <tr>\n",
       "      <th>CART</th>\n",
       "      <td>0.943396</td>\n",
       "      <td>0.948276</td>\n",
       "      <td>0.943396</td>\n",
       "      <td>0.892857</td>\n",
       "      <td>1.00</td>\n",
       "    </tr>\n",
       "    <tr>\n",
       "      <th>Neu-Net</th>\n",
       "      <td>0.997576</td>\n",
       "      <td>0.931034</td>\n",
       "      <td>0.925926</td>\n",
       "      <td>0.862069</td>\n",
       "      <td>1.00</td>\n",
       "    </tr>\n",
       "    <tr>\n",
       "      <th>G-NB</th>\n",
       "      <td>0.901961</td>\n",
       "      <td>0.913793</td>\n",
       "      <td>0.901961</td>\n",
       "      <td>0.884615</td>\n",
       "      <td>0.92</td>\n",
       "    </tr>\n",
       "    <tr>\n",
       "      <th>K-NN</th>\n",
       "      <td>0.936364</td>\n",
       "      <td>0.879310</td>\n",
       "      <td>0.872727</td>\n",
       "      <td>0.800000</td>\n",
       "      <td>0.96</td>\n",
       "    </tr>\n",
       "    <tr>\n",
       "      <th>Log-Reg</th>\n",
       "      <td>0.986667</td>\n",
       "      <td>0.879310</td>\n",
       "      <td>0.872727</td>\n",
       "      <td>0.800000</td>\n",
       "      <td>0.96</td>\n",
       "    </tr>\n",
       "  </tbody>\n",
       "</table>\n",
       "</div>"
      ],
      "text/plain": [
       "                 AUC  Accuracy        F1  Precision  Recall\n",
       "Classifier                                                 \n",
       "SVM         0.973333  0.948276  0.943396   0.892857    1.00\n",
       "CART        0.943396  0.948276  0.943396   0.892857    1.00\n",
       "Neu-Net     0.997576  0.931034  0.925926   0.862069    1.00\n",
       "G-NB        0.901961  0.913793  0.901961   0.884615    0.92\n",
       "K-NN        0.936364  0.879310  0.872727   0.800000    0.96\n",
       "Log-Reg     0.986667  0.879310  0.872727   0.800000    0.96"
      ]
     },
     "execution_count": 30,
     "metadata": {},
     "output_type": "execute_result"
    }
   ],
   "source": [
    "d = {\n",
    "     \"Classifier\" : [\"K-NN\", \"Log-Reg\", \"Neu-Net\", \"SVM\", \"CART\", \"G-NB\"],\n",
    "     \"Accuracy\": [knn[\"accuracy\"], logreg[\"accuracy\"], nn[\"accuracy\"], \n",
    "                  svm[\"accuracy\"], cart[\"accuracy\"], gnb[\"accuracy\"]],\n",
    "     \"Precision\": [knn[\"precision\"], logreg[\"precision\"], nn[\"precision\"], \n",
    "                   svm[\"precision\"], cart[\"precision\"], gnb[\"precision\"]],\n",
    "     \"Recall\": [knn[\"recall\"], logreg[\"recall\"], nn[\"recall\"], svm[\"recall\"], \n",
    "                cart[\"recall\"], gnb[\"recall\"]],\n",
    "     \"F1\": [knn[\"f1\"], logreg[\"f1\"], nn[\"f1\"], svm[\"f1\"], cart[\"f1\"], gnb[\"f1\"]],\n",
    "     \"AUC\": [knn[\"AUC\"], logreg[\"AUC\"], nn[\"AUC\"], svm[\"AUC\"], cart[\"f1\"], gnb[\"f1\"]]\n",
    "    }\n",
    "\n",
    "df_scores = pd.DataFrame(d)\n",
    "df_scores = df_scores.set_index([\"Classifier\"])\n",
    "df_scores = df_scores.sort_values(by=['F1'], ascending=False)\n",
    "df_scores\n"
   ]
  },
  {
   "cell_type": "markdown",
   "metadata": {},
   "source": [
    "<p  style=\"text-align:justify\" >Utilizando las medidas de calidad podemos obtener una comparación de los clasificadores, obtenemos que el clasificador con mayor puntaje <i>F1</i> es el método de <i>Clasificador de Árboles de Regresión</i>, el segundo mejor fue el método de <i>Redes Neuronales</i>, seguido de <i>Máquina de Soporte Vectorial</i>,<i>Clasificador Bayesiano</i>, <i>K - Vecinos más cercanos</i> y por último <i>Regresión Logística</i>. El mejor clasificador fue <i>CART</i> porque es un método que permite cortar ramas de ábol por medio de algoritmos voraces tiene una mayor precisión en la predicción de una clase binaria. Además de obtener mejores resultados en todas sus medidas de calidad en comparación a los otros clasificadores.</p>\n",
    "\n",
    "<p style=\"text-align:justify\">El proyecto funciona para aplicar todo lo visto previamente durante todo el curso y con el apoyo de los cursos de <i>DataCamp</i>, además de ser esta materia una continuidad directa de <i>Aprendizaje estadístico</i>, los temas quedaron mejor entendidos y se aplicaron todas las técnicas aprendidas a lo largo de los cursos, además de aplicar lo visto en el primer parcial para procesar e interpretar de mejor manera los datos para poder construir correctamente matrices y vectores de características para poder clasificarlos en clases de acuerdo a modelos de aprendizaje supervidado con una mayor precisión y mejor estructura de trabajo.</p>"
   ]
  },
  {
   "cell_type": "markdown",
   "metadata": {},
   "source": [
    "### Referencias Bibliográficas\n",
    "\n",
    "<ul>\n",
    "    <li>\n",
    "        <ol type=\"a\">\n",
    "            <li>Source:  Congressional Quarterly Almanac, 98th Congress, \n",
    "                 2nd session 1984, Volume XL: Congressional Quarterly Inc. \n",
    "                Washington, D.C., 1985.</li>\n",
    "            <li>Donor: Jeff Schlimmer (Jeffrey.Schlimmer@a.gp.cs.cmu.edu)</li>\n",
    "            <li>Date: 27 April 1987</li>\n",
    "            <li>Url: <a href=\"https://archive.ics.uci.edu/ml/datasets/Congressional+Voting+Records\" target=\"_blank\"> Congressional Voting Records Data Set </a></li>\n",
    "        </ol>\n",
    "    </li>\n",
    "    <li>Onel Harrison. (2018). Machine Learning Basics with the K-Nearest Neighbors Algorithm. (Mayo 23, 2020), de Towards Data Science Sitio web: <a href=\"https://towardsdatascience.com/machine-learning-basics-with-the-k-nearest-neighbors-algorithm-6a6e71d01761\" target=\"_blank\">URL</a></li>\n",
    "    <li> Saishruthi Swaminathan. (2018). Logistic Regression — Detailed Overview. (Mayo 23, 2020), de Towards Data Science Sitio web:  <a href=\"https://towardsdatascience.com/logistic-regression-detailed-overview-46c4da4303bc\" target=\"_blank\">URL</a></li>\n",
    "    <li>\n",
    "     Tony Yiu. (2019). Understanding Neural Networks. (Mayo 23, 2020), de Towards Data Science Sitio web:  <a href=\"https://towardsdatascience.com/understanding-neural-networks-19020b758230\" target=\"_blank\">URL</a></li>\n",
    "    <li>\n",
    "     Ajay Yadav. (2018). SUPPORT VECTOR MACHINES(SVM). (Mayo 23, 2020), de Towards Data Science Sitio web:  <a href=\"https://towardsdatascience.com/support-vector-machines-svm-c9ef22815589\" target=\"_blank\">URL</a></li>\n",
    "    <li> Desconocido. (Desconocido). Arboles de Decisión - Parte I. (Mayor 23, 2020), de bookdown Sitio web: <a href=\"https://bookdown.org/content/2031/arboles-de-decision-parte-i.html\" target=\"_blank\">URL</a></li>\n",
    "    <li> Rohith Gandhi. (2018). Naive Bayes Classifier. (Mayo 23, 2020), de Towards Data Science Sitio web: <a href=\"https://towardsdatascience.com/naive-bayes-classifier-81d512f50a7c\" target=\"_blank\">URL</a></li>\n",
    "    <li>  Desconocido. (Desconocido). Machine Learning: Seleccion Metricas de clasificacion. (Mayo 23, 2020), de Sitio Big Data Sitio web: <a href=\"https://sitiobigdata.com/2019/01/19/machine-learning-metrica-clasificacion-parte-3/#\" target=\"_blank\">URL</a></li>\n",
    "\n",
    "</ul>"
   ]
  }
 ],
 "metadata": {
  "kernelspec": {
   "display_name": "Python 3",
   "language": "python",
   "name": "python3"
  },
  "language_info": {
   "codemirror_mode": {
    "name": "ipython",
    "version": 3
   },
   "file_extension": ".py",
   "mimetype": "text/x-python",
   "name": "python",
   "nbconvert_exporter": "python",
   "pygments_lexer": "ipython3",
   "version": "3.5.2"
  }
 },
 "nbformat": 4,
 "nbformat_minor": 4
}
