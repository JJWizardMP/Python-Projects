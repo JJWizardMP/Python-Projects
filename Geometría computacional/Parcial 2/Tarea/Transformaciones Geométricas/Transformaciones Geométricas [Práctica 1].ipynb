{
 "cells": [
  {
   "cell_type": "code",
   "execution_count": 1,
   "metadata": {},
   "outputs": [],
   "source": [
    "import numpy as np\n",
    "import matplotlib.pyplot as plt\n",
    "import pandas as pd\n",
    "import cv2"
   ]
  },
  {
   "cell_type": "markdown",
   "metadata": {},
   "source": [
    "# Coordenadas homogéneas\n",
    "\n",
    "Un sistema de **coordenadas homogéneas** se utiliza como base para la *geometría proyectiva*, la cual estudia las transformaciones que deben realizarse para proyectar la imagen de un objeto, ubicado en el espacio tridimensional, a un plano arbitrario [por ejemplo cuando capturas una fotografía]. Estas transformaciones son muy importantes en el área de **gráficas por computadora**. \n",
    "\n",
    "Dadas las coordenadas cartesianas de un punto, $p=(x,\\;y)$, las coordenadas homogéneas, $p_h$ se obtienen agregando una nueva componente con el número uno:\n",
    "\n",
    "$$p_h = (x,\\;y,\\;1)$$\n",
    "\n",
    "Por ejemplo, si $p=(5,\\;-3)$, $p_h=(5,\\;-3,\\;1)$\n",
    "\n",
    "La transformación inversa, la que permite transformar de coordenadas homogéneas a cartesianas, se realiza dividiendo cada componente del vector por el valor de la tercera. Por ejemplo, el punto con coordenadas homogéneas $p_h = (2,\\;-5,\\;3)$ se transforma al punto con coordenadas cartesianas $p=(\\frac{2}{3}, -\\frac{5}{3})$ \n",
    "\n",
    "\n",
    "\n",
    "\n",
    "# Homografía\n",
    "\n",
    "\n",
    "* Una homografía es una transformación lineal que mapea puntos de un plano con otros puntos del mismo plano. La homografía está definida por una matriz cuadrada, $H$, de orden tres.  \n",
    "* Si $p=(x,y)$, son las coordenadas cartesianas de un punto, y $p_h=(x,y,1)$ las coordenadas homogéneas correspondientes, se determinan con el producto: \n",
    "\n",
    "$$Hp_h = p'$$\n",
    "\n",
    "\n",
    "**Ejemplo**\n",
    "\n",
    "Si $H = \\begin{bmatrix} 1.1 & 0.2 & 0 \\\\ -0.1 & 0.98 & 0 \\\\ 0 & 0.02 & 1 \\end{bmatrix}$ ¿cuáles son las coordenadas del punto $p=(2,-3)$ una vez transformado?\n",
    "\n"
   ]
  },
  {
   "cell_type": "code",
   "execution_count": 2,
   "metadata": {},
   "outputs": [],
   "source": [
    "H = np.array([[1.1, 0.2, 0], [-0.1, 0.98, 0], [0, 0.02, 1]])\n",
    "x = np.array([2,-3,1])\n",
    "xn = np.dot(H,x)"
   ]
  },
  {
   "cell_type": "code",
   "execution_count": 3,
   "metadata": {},
   "outputs": [
    {
     "data": {
      "text/plain": [
       "array([ 1.6 , -3.14,  0.94])"
      ]
     },
     "execution_count": 3,
     "metadata": {},
     "output_type": "execute_result"
    }
   ],
   "source": [
    "xn"
   ]
  },
  {
   "cell_type": "code",
   "execution_count": 4,
   "metadata": {},
   "outputs": [
    {
     "name": "stdout",
     "output_type": "stream",
     "text": [
      "[ 1.70212766 -3.34042553]\n",
      "[ 1.70212766 -3.34042553  1.        ]\n"
     ]
    }
   ],
   "source": [
    "xt = xn/xn[-1]\n",
    "print xt[:2]\n",
    "print xt"
   ]
  },
  {
   "cell_type": "markdown",
   "metadata": {
    "collapsed": true
   },
   "source": [
    "## Ejemplo \n",
    "\n",
    "Generamos y transformamos una nube de puntos"
   ]
  },
  {
   "cell_type": "code",
   "execution_count": 5,
   "metadata": {},
   "outputs": [
    {
     "data": {
      "image/png": "[encoded data removed]",
      "text/plain": [
       "<Figure size 432x288 with 1 Axes>"
      ]
     },
     "metadata": {
      "needs_background": "light"
     },
     "output_type": "display_data"
    }
   ],
   "source": [
    "# Nube de puntos\n",
    "p = 10*(2*np.random.rand(30,2)-1)\n",
    "plt.scatter(p[:,0],p[:,1])\n",
    "plt.show()"
   ]
  },
  {
   "cell_type": "markdown",
   "metadata": {},
   "source": [
    "Agregamos una columna con unos"
   ]
  },
  {
   "cell_type": "code",
   "execution_count": 6,
   "metadata": {},
   "outputs": [
    {
     "data": {
      "text/html": [
       "<div>\n",
       "<style scoped>\n",
       "    .dataframe tbody tr th:only-of-type {\n",
       "        vertical-align: middle;\n",
       "    }\n",
       "\n",
       "    .dataframe tbody tr th {\n",
       "        vertical-align: top;\n",
       "    }\n",
       "\n",
       "    .dataframe thead th {\n",
       "        text-align: right;\n",
       "    }\n",
       "</style>\n",
       "<table border=\"1\" class=\"dataframe\">\n",
       "  <thead>\n",
       "    <tr style=\"text-align: right;\">\n",
       "      <th></th>\n",
       "      <th>x</th>\n",
       "      <th>y</th>\n",
       "      <th>h</th>\n",
       "    </tr>\n",
       "  </thead>\n",
       "  <tbody>\n",
       "    <tr>\n",
       "      <th>0</th>\n",
       "      <td>5.284423</td>\n",
       "      <td>-9.474544</td>\n",
       "      <td>1.0</td>\n",
       "    </tr>\n",
       "    <tr>\n",
       "      <th>1</th>\n",
       "      <td>-0.284535</td>\n",
       "      <td>-9.409034</td>\n",
       "      <td>1.0</td>\n",
       "    </tr>\n",
       "    <tr>\n",
       "      <th>2</th>\n",
       "      <td>8.261397</td>\n",
       "      <td>5.068860</td>\n",
       "      <td>1.0</td>\n",
       "    </tr>\n",
       "    <tr>\n",
       "      <th>3</th>\n",
       "      <td>4.363803</td>\n",
       "      <td>4.772216</td>\n",
       "      <td>1.0</td>\n",
       "    </tr>\n",
       "    <tr>\n",
       "      <th>4</th>\n",
       "      <td>-7.877602</td>\n",
       "      <td>3.846003</td>\n",
       "      <td>1.0</td>\n",
       "    </tr>\n",
       "    <tr>\n",
       "      <th>5</th>\n",
       "      <td>-7.476413</td>\n",
       "      <td>-7.438898</td>\n",
       "      <td>1.0</td>\n",
       "    </tr>\n",
       "    <tr>\n",
       "      <th>6</th>\n",
       "      <td>9.609185</td>\n",
       "      <td>-2.292082</td>\n",
       "      <td>1.0</td>\n",
       "    </tr>\n",
       "    <tr>\n",
       "      <th>7</th>\n",
       "      <td>6.772621</td>\n",
       "      <td>-7.387859</td>\n",
       "      <td>1.0</td>\n",
       "    </tr>\n",
       "    <tr>\n",
       "      <th>8</th>\n",
       "      <td>-5.108736</td>\n",
       "      <td>9.823494</td>\n",
       "      <td>1.0</td>\n",
       "    </tr>\n",
       "    <tr>\n",
       "      <th>9</th>\n",
       "      <td>-4.884166</td>\n",
       "      <td>-4.108207</td>\n",
       "      <td>1.0</td>\n",
       "    </tr>\n",
       "    <tr>\n",
       "      <th>10</th>\n",
       "      <td>-3.526336</td>\n",
       "      <td>7.751525</td>\n",
       "      <td>1.0</td>\n",
       "    </tr>\n",
       "    <tr>\n",
       "      <th>11</th>\n",
       "      <td>6.018244</td>\n",
       "      <td>-5.004161</td>\n",
       "      <td>1.0</td>\n",
       "    </tr>\n",
       "    <tr>\n",
       "      <th>12</th>\n",
       "      <td>-3.447701</td>\n",
       "      <td>9.398959</td>\n",
       "      <td>1.0</td>\n",
       "    </tr>\n",
       "    <tr>\n",
       "      <th>13</th>\n",
       "      <td>3.125569</td>\n",
       "      <td>2.153663</td>\n",
       "      <td>1.0</td>\n",
       "    </tr>\n",
       "    <tr>\n",
       "      <th>14</th>\n",
       "      <td>3.015630</td>\n",
       "      <td>-7.556588</td>\n",
       "      <td>1.0</td>\n",
       "    </tr>\n",
       "    <tr>\n",
       "      <th>15</th>\n",
       "      <td>1.838718</td>\n",
       "      <td>-9.956185</td>\n",
       "      <td>1.0</td>\n",
       "    </tr>\n",
       "    <tr>\n",
       "      <th>16</th>\n",
       "      <td>4.168699</td>\n",
       "      <td>2.447125</td>\n",
       "      <td>1.0</td>\n",
       "    </tr>\n",
       "    <tr>\n",
       "      <th>17</th>\n",
       "      <td>-8.765521</td>\n",
       "      <td>5.160815</td>\n",
       "      <td>1.0</td>\n",
       "    </tr>\n",
       "    <tr>\n",
       "      <th>18</th>\n",
       "      <td>-4.997578</td>\n",
       "      <td>7.230538</td>\n",
       "      <td>1.0</td>\n",
       "    </tr>\n",
       "    <tr>\n",
       "      <th>19</th>\n",
       "      <td>-1.532774</td>\n",
       "      <td>3.348176</td>\n",
       "      <td>1.0</td>\n",
       "    </tr>\n",
       "    <tr>\n",
       "      <th>20</th>\n",
       "      <td>8.264171</td>\n",
       "      <td>-0.270519</td>\n",
       "      <td>1.0</td>\n",
       "    </tr>\n",
       "    <tr>\n",
       "      <th>21</th>\n",
       "      <td>7.874650</td>\n",
       "      <td>5.303786</td>\n",
       "      <td>1.0</td>\n",
       "    </tr>\n",
       "    <tr>\n",
       "      <th>22</th>\n",
       "      <td>7.316853</td>\n",
       "      <td>-9.516095</td>\n",
       "      <td>1.0</td>\n",
       "    </tr>\n",
       "    <tr>\n",
       "      <th>23</th>\n",
       "      <td>1.571275</td>\n",
       "      <td>-0.298934</td>\n",
       "      <td>1.0</td>\n",
       "    </tr>\n",
       "    <tr>\n",
       "      <th>24</th>\n",
       "      <td>-9.805802</td>\n",
       "      <td>-3.258271</td>\n",
       "      <td>1.0</td>\n",
       "    </tr>\n",
       "    <tr>\n",
       "      <th>25</th>\n",
       "      <td>6.288269</td>\n",
       "      <td>0.442383</td>\n",
       "      <td>1.0</td>\n",
       "    </tr>\n",
       "    <tr>\n",
       "      <th>26</th>\n",
       "      <td>-9.395800</td>\n",
       "      <td>-0.541442</td>\n",
       "      <td>1.0</td>\n",
       "    </tr>\n",
       "    <tr>\n",
       "      <th>27</th>\n",
       "      <td>2.365767</td>\n",
       "      <td>-3.144742</td>\n",
       "      <td>1.0</td>\n",
       "    </tr>\n",
       "    <tr>\n",
       "      <th>28</th>\n",
       "      <td>-5.124686</td>\n",
       "      <td>2.162791</td>\n",
       "      <td>1.0</td>\n",
       "    </tr>\n",
       "    <tr>\n",
       "      <th>29</th>\n",
       "      <td>7.312254</td>\n",
       "      <td>4.026405</td>\n",
       "      <td>1.0</td>\n",
       "    </tr>\n",
       "  </tbody>\n",
       "</table>\n",
       "</div>"
      ],
      "text/plain": [
       "           x         y    h\n",
       "0   5.284423 -9.474544  1.0\n",
       "1  -0.284535 -9.409034  1.0\n",
       "2   8.261397  5.068860  1.0\n",
       "3   4.363803  4.772216  1.0\n",
       "4  -7.877602  3.846003  1.0\n",
       "5  -7.476413 -7.438898  1.0\n",
       "6   9.609185 -2.292082  1.0\n",
       "7   6.772621 -7.387859  1.0\n",
       "8  -5.108736  9.823494  1.0\n",
       "9  -4.884166 -4.108207  1.0\n",
       "10 -3.526336  7.751525  1.0\n",
       "11  6.018244 -5.004161  1.0\n",
       "12 -3.447701  9.398959  1.0\n",
       "13  3.125569  2.153663  1.0\n",
       "14  3.015630 -7.556588  1.0\n",
       "15  1.838718 -9.956185  1.0\n",
       "16  4.168699  2.447125  1.0\n",
       "17 -8.765521  5.160815  1.0\n",
       "18 -4.997578  7.230538  1.0\n",
       "19 -1.532774  3.348176  1.0\n",
       "20  8.264171 -0.270519  1.0\n",
       "21  7.874650  5.303786  1.0\n",
       "22  7.316853 -9.516095  1.0\n",
       "23  1.571275 -0.298934  1.0\n",
       "24 -9.805802 -3.258271  1.0\n",
       "25  6.288269  0.442383  1.0\n",
       "26 -9.395800 -0.541442  1.0\n",
       "27  2.365767 -3.144742  1.0\n",
       "28 -5.124686  2.162791  1.0\n",
       "29  7.312254  4.026405  1.0"
      ]
     },
     "execution_count": 6,
     "metadata": {},
     "output_type": "execute_result"
    }
   ],
   "source": [
    "p_df = pd.DataFrame({'x':p[:,0], 'y':p[:,1], 'h':np.ones(30)}, columns=['x', 'y', 'h'])\n",
    "p_df"
   ]
  },
  {
   "cell_type": "markdown",
   "metadata": {},
   "source": [
    "Transformamos los puntos aplicando la homografía"
   ]
  },
  {
   "cell_type": "code",
   "execution_count": 7,
   "metadata": {},
   "outputs": [
    {
     "name": "stdout",
     "output_type": "stream",
     "text": [
      "[[  3.91795641  -2.19479491  10.1013088    5.75462621  -7.89616134\n",
      "   -9.71183451  10.11168677   5.97231104  -3.65491104  -6.19422426\n",
      "   -2.32866439   5.61923581  -1.91267958   3.86885865   1.80587528\n",
      "    0.03135309   5.07499417  -8.60991051  -4.05122819  -1.01641596\n",
      "    9.03648432   9.72287182   6.14531876   1.66861548 -11.4380364\n",
      "    7.00557293 -10.44366839   1.97339516  -5.2045959    8.84876064]\n",
      " [ -9.813495    -9.19239994   4.14134288   4.24039152   4.556843\n",
      "   -6.54247915  -3.20715923  -7.91736418  10.1378982   -3.53762637\n",
      "    7.94912814  -5.50590229   9.55575043   1.79803252  -7.70701878\n",
      "   -9.94093354   1.98131307   5.93415048   7.58568547   3.43448979\n",
      "   -1.09152532   4.41024575 -10.05745836  -0.45008302  -2.21252527\n",
      "   -0.19529123   0.40896719  -3.31842433   2.63200423   3.21465195]\n",
      " [  0.81050913   0.81181932   1.1013772    1.09544432   1.07692006\n",
      "    0.85122203   0.95415835   0.85224281   1.19646989   0.91783586\n",
      "    1.1550305    0.89991678   1.18797919   1.04307325   0.84886825\n",
      "    0.80087629   1.04894251   1.10321629   1.14461077   1.06696352\n",
      "    0.99458963   1.10607573   0.8096781    0.99402132   0.93483458\n",
      "    1.00884767   0.98917117   0.93710515   1.04325583   1.08052811]]\n"
     ]
    }
   ],
   "source": [
    "#Aplicamos la transformación geométrica\n",
    "#m = pd.DataFrame.as_matrix(p_df)\n",
    "m = p_df.values\n",
    "pt = np.dot(H,np.transpose(m))\n",
    "pt = np.transpose(pt)\n",
    "print np.dot(H,np.transpose(m))\n",
    "#pt"
   ]
  },
  {
   "cell_type": "code",
   "execution_count": 8,
   "metadata": {},
   "outputs": [
    {
     "data": {
      "text/html": [
       "<div>\n",
       "<style scoped>\n",
       "    .dataframe tbody tr th:only-of-type {\n",
       "        vertical-align: middle;\n",
       "    }\n",
       "\n",
       "    .dataframe tbody tr th {\n",
       "        vertical-align: top;\n",
       "    }\n",
       "\n",
       "    .dataframe thead th {\n",
       "        text-align: right;\n",
       "    }\n",
       "</style>\n",
       "<table border=\"1\" class=\"dataframe\">\n",
       "  <thead>\n",
       "    <tr style=\"text-align: right;\">\n",
       "      <th></th>\n",
       "      <th>x</th>\n",
       "      <th>y</th>\n",
       "    </tr>\n",
       "  </thead>\n",
       "  <tbody>\n",
       "    <tr>\n",
       "      <th>0</th>\n",
       "      <td>4.833945</td>\n",
       "      <td>-12.107816</td>\n",
       "    </tr>\n",
       "    <tr>\n",
       "      <th>1</th>\n",
       "      <td>-2.703551</td>\n",
       "      <td>-11.323209</td>\n",
       "    </tr>\n",
       "    <tr>\n",
       "      <th>2</th>\n",
       "      <td>9.171525</td>\n",
       "      <td>3.760149</td>\n",
       "    </tr>\n",
       "    <tr>\n",
       "      <th>3</th>\n",
       "      <td>5.253235</td>\n",
       "      <td>3.870933</td>\n",
       "    </tr>\n",
       "    <tr>\n",
       "      <th>4</th>\n",
       "      <td>-7.332170</td>\n",
       "      <td>4.231366</td>\n",
       "    </tr>\n",
       "    <tr>\n",
       "      <th>5</th>\n",
       "      <td>-11.409285</td>\n",
       "      <td>-7.685984</td>\n",
       "    </tr>\n",
       "    <tr>\n",
       "      <th>6</th>\n",
       "      <td>10.597493</td>\n",
       "      <td>-3.361244</td>\n",
       "    </tr>\n",
       "    <tr>\n",
       "      <th>7</th>\n",
       "      <td>7.007758</td>\n",
       "      <td>-9.290033</td>\n",
       "    </tr>\n",
       "    <tr>\n",
       "      <th>8</th>\n",
       "      <td>-3.054746</td>\n",
       "      <td>8.473175</td>\n",
       "    </tr>\n",
       "    <tr>\n",
       "      <th>9</th>\n",
       "      <td>-6.748728</td>\n",
       "      <td>-3.854313</td>\n",
       "    </tr>\n",
       "    <tr>\n",
       "      <th>10</th>\n",
       "      <td>-2.016106</td>\n",
       "      <td>6.882180</td>\n",
       "    </tr>\n",
       "    <tr>\n",
       "      <th>11</th>\n",
       "      <td>6.244173</td>\n",
       "      <td>-6.118235</td>\n",
       "    </tr>\n",
       "    <tr>\n",
       "      <th>12</th>\n",
       "      <td>-1.610028</td>\n",
       "      <td>8.043702</td>\n",
       "    </tr>\n",
       "    <tr>\n",
       "      <th>13</th>\n",
       "      <td>3.709096</td>\n",
       "      <td>1.723784</td>\n",
       "    </tr>\n",
       "    <tr>\n",
       "      <th>14</th>\n",
       "      <td>2.127392</td>\n",
       "      <td>-9.079170</td>\n",
       "    </tr>\n",
       "    <tr>\n",
       "      <th>15</th>\n",
       "      <td>0.039148</td>\n",
       "      <td>-12.412571</td>\n",
       "    </tr>\n",
       "    <tr>\n",
       "      <th>16</th>\n",
       "      <td>4.838200</td>\n",
       "      <td>1.888867</td>\n",
       "    </tr>\n",
       "    <tr>\n",
       "      <th>17</th>\n",
       "      <td>-7.804372</td>\n",
       "      <td>5.378955</td>\n",
       "    </tr>\n",
       "    <tr>\n",
       "      <th>18</th>\n",
       "      <td>-3.539394</td>\n",
       "      <td>6.627306</td>\n",
       "    </tr>\n",
       "    <tr>\n",
       "      <th>19</th>\n",
       "      <td>-0.952625</td>\n",
       "      <td>3.218938</td>\n",
       "    </tr>\n",
       "    <tr>\n",
       "      <th>20</th>\n",
       "      <td>9.085641</td>\n",
       "      <td>-1.097463</td>\n",
       "    </tr>\n",
       "    <tr>\n",
       "      <th>21</th>\n",
       "      <td>8.790421</td>\n",
       "      <td>3.987291</td>\n",
       "    </tr>\n",
       "    <tr>\n",
       "      <th>22</th>\n",
       "      <td>7.589830</td>\n",
       "      <td>-12.421552</td>\n",
       "    </tr>\n",
       "    <tr>\n",
       "      <th>23</th>\n",
       "      <td>1.678652</td>\n",
       "      <td>-0.452790</td>\n",
       "    </tr>\n",
       "    <tr>\n",
       "      <th>24</th>\n",
       "      <td>-12.235359</td>\n",
       "      <td>-2.366756</td>\n",
       "    </tr>\n",
       "    <tr>\n",
       "      <th>25</th>\n",
       "      <td>6.944134</td>\n",
       "      <td>-0.193579</td>\n",
       "    </tr>\n",
       "    <tr>\n",
       "      <th>26</th>\n",
       "      <td>-10.557999</td>\n",
       "      <td>0.413444</td>\n",
       "    </tr>\n",
       "    <tr>\n",
       "      <th>27</th>\n",
       "      <td>2.105842</td>\n",
       "      <td>-3.541144</td>\n",
       "    </tr>\n",
       "    <tr>\n",
       "      <th>28</th>\n",
       "      <td>-4.988801</td>\n",
       "      <td>2.522875</td>\n",
       "    </tr>\n",
       "    <tr>\n",
       "      <th>29</th>\n",
       "      <td>8.189292</td>\n",
       "      <td>2.975075</td>\n",
       "    </tr>\n",
       "  </tbody>\n",
       "</table>\n",
       "</div>"
      ],
      "text/plain": [
       "            x          y\n",
       "0    4.833945 -12.107816\n",
       "1   -2.703551 -11.323209\n",
       "2    9.171525   3.760149\n",
       "3    5.253235   3.870933\n",
       "4   -7.332170   4.231366\n",
       "5  -11.409285  -7.685984\n",
       "6   10.597493  -3.361244\n",
       "7    7.007758  -9.290033\n",
       "8   -3.054746   8.473175\n",
       "9   -6.748728  -3.854313\n",
       "10  -2.016106   6.882180\n",
       "11   6.244173  -6.118235\n",
       "12  -1.610028   8.043702\n",
       "13   3.709096   1.723784\n",
       "14   2.127392  -9.079170\n",
       "15   0.039148 -12.412571\n",
       "16   4.838200   1.888867\n",
       "17  -7.804372   5.378955\n",
       "18  -3.539394   6.627306\n",
       "19  -0.952625   3.218938\n",
       "20   9.085641  -1.097463\n",
       "21   8.790421   3.987291\n",
       "22   7.589830 -12.421552\n",
       "23   1.678652  -0.452790\n",
       "24 -12.235359  -2.366756\n",
       "25   6.944134  -0.193579\n",
       "26 -10.557999   0.413444\n",
       "27   2.105842  -3.541144\n",
       "28  -4.988801   2.522875\n",
       "29   8.189292   2.975075"
      ]
     },
     "execution_count": 8,
     "metadata": {},
     "output_type": "execute_result"
    }
   ],
   "source": [
    "pt_n = [np.divide(pt[:,0],pt[:,2]),np.divide(pt[:,1],pt[:,2])]\n",
    "pt_n = pd.DataFrame({'x': pt_n[0], 'y': pt_n[1]}, columns = ['x', 'y'])\n",
    "pt_n"
   ]
  },
  {
   "cell_type": "code",
   "execution_count": 9,
   "metadata": {},
   "outputs": [
    {
     "data": {
      "image/png": "[encoded data removed]",
      "text/plain": [
       "<Figure size 432x288 with 1 Axes>"
      ]
     },
     "metadata": {
      "needs_background": "light"
     },
     "output_type": "display_data"
    }
   ],
   "source": [
    "plt.scatter(p[:,0],p[:,1],c='b')\n",
    "plt.scatter(pt_n['x'], pt_n['y'],c='r')\n",
    "plt.show()"
   ]
  },
  {
   "cell_type": "markdown",
   "metadata": {},
   "source": [
    "# Algunos casos especiales\n",
    "\n",
    "## Traslación\n",
    "\n",
    "Obtenemos una traslación si la matriz de homografía tiene la siguiente estructura:\n",
    "\n",
    "$$H = \\begin{bmatrix} 1 & 0 & t_1 \\\\ 0 & 1 & t_2 \\\\ 0 & 0 & 1 \\end{bmatrix}$$\n",
    "\n",
    "siendo $t = (t_1,t_2)$ el vector de traslación.\n",
    "\n",
    "Por ejemplo, en la siguiente celda aplicamos una traslación a una nube de puntos arbitraria."
   ]
  },
  {
   "cell_type": "code",
   "execution_count": 10,
   "metadata": {},
   "outputs": [
    {
     "name": "stderr",
     "output_type": "stream",
     "text": [
      "/home/jj/anaconda2/lib/python2.7/site-packages/matplotlib/cbook/deprecation.py:107: MatplotlibDeprecationWarning: Adding an axes using the same arguments as a previous axes currently reuses the earlier instance.  In a future version, a new instance will always be created and returned.  Meanwhile, this warning can be suppressed, and the future behavior ensured, by passing a unique label to each axes instance.\n",
      "  warnings.warn(message, mplDeprecation, stacklevel=1)\n"
     ]
    },
    {
     "data": {
      "image/png": "[encoded data removed]",
      "text/plain": [
       "<Figure size 432x288 with 1 Axes>"
      ]
     },
     "metadata": {
      "needs_background": "light"
     },
     "output_type": "display_data"
    }
   ],
   "source": [
    "t = [10,-20]\n",
    "H = np.array([[1, 0, t[0]], [0, 1, t[1]], [0, 0, 1]])\n",
    "\n",
    "#nube de puntos\n",
    "n = 30\n",
    "p = 10*(2*np.random.rand(n,2)-1)\n",
    "o = np.ones((n,1))\n",
    "\n",
    "#coordenadas homogéneas\n",
    "ph = np.hstack((p,o))\n",
    "\n",
    "#aplica la homografía\n",
    "pht = np.dot(H,np.transpose(ph))\n",
    "pht = np.transpose(pht)\n",
    "pt = pht[:,:2]\n",
    "\n",
    "plt.scatter(p[:,0],p[:,1],c='b') #puntos originales\n",
    "plt.scatter(pt[:,0],pt[:,1],c='r') #puntos transformados\n",
    "plt.axes().set_aspect('equal', 'datalim')\n",
    "plt.show()"
   ]
  },
  {
   "cell_type": "markdown",
   "metadata": {},
   "source": [
    "## Rotación\n",
    "\n",
    "Para realizar una rotación, por un ángulo $\\theta$, la matriz de homografía debe tener la siguiente estructura:\n",
    "\n",
    "$$H = \\begin{bmatrix} \\cos{\\theta} & -\\sin{\\theta} & 0 \\\\ \\sin{\\theta} & \\cos{\\theta} & 0 \\\\ 0 & 0 & 1 \\end{bmatrix}$$\n",
    "\n",
    "Observa el proceso en la siguiente celda"
   ]
  },
  {
   "cell_type": "code",
   "execution_count": 11,
   "metadata": {},
   "outputs": [
    {
     "name": "stdout",
     "output_type": "stream",
     "text": [
      "0.785398163397\n"
     ]
    },
    {
     "data": {
      "image/png": "[encoded data removed]",
      "text/plain": [
       "<Figure size 432x288 with 1 Axes>"
      ]
     },
     "metadata": {
      "needs_background": "light"
     },
     "output_type": "display_data"
    }
   ],
   "source": [
    "theta_grads = 45\n",
    "theta_rads = theta_grads*np.pi/180.0\n",
    "print theta_rads\n",
    "H = np.array([[np.cos(theta_rads), -np.sin(theta_rads), 0], [np.sin(theta_rads), np.cos(theta_rads), 0], [0, 0, 1]])\n",
    "\n",
    "#nube de puntos\n",
    "n = 30\n",
    "p = 10*(2*np.random.rand(n,2)-1)\n",
    "o = np.ones((n,1))\n",
    "\n",
    "#coordenadas homogéneas\n",
    "ph = np.hstack((p,o))\n",
    "\n",
    "#aplica la homografía\n",
    "pht = np.dot(H,np.transpose(ph))\n",
    "pht = np.transpose(pht)\n",
    "pt = pht[:,:2]\n",
    "\n",
    "plt.scatter(p[:,0],p[:,1],c='b') #puntos originales\n",
    "plt.scatter(pt[:,0],pt[:,1],c='r') #puntos transformados\n",
    "plt.axes().set_aspect('equal', 'datalim')\n",
    "plt.show()"
   ]
  },
  {
   "cell_type": "markdown",
   "metadata": {},
   "source": [
    "## Escalamiento\n",
    "\n",
    "Para escalar una nube de puntos, la matriz de homografía es:\n",
    "\n",
    "$$H = \\begin{bmatrix} s & 0 & 0 \\\\ 0 & s & 0 \\\\ 0 & 0 & 1 \\end{bmatrix}$$\n",
    "\n",
    "siendo $s$ el factor de escala"
   ]
  },
  {
   "cell_type": "code",
   "execution_count": 12,
   "metadata": {},
   "outputs": [
    {
     "data": {
      "image/png": "[encoded data removed]",
      "text/plain": [
       "<Figure size 432x288 with 1 Axes>"
      ]
     },
     "metadata": {
      "needs_background": "light"
     },
     "output_type": "display_data"
    }
   ],
   "source": [
    "s = 2\n",
    "H = np.array([[s, 0, 0], [0, s, 0], [0, 0, 1]])\n",
    "\n",
    "#nube de puntos\n",
    "n = 30\n",
    "p = 10*(2*np.random.rand(n,2)-1)\n",
    "o = np.ones((n,1))\n",
    "\n",
    "#coordenadas homogéneas\n",
    "ph = np.hstack((p,o))\n",
    "\n",
    "#aplica la homografía\n",
    "pht = np.dot(H,np.transpose(ph))\n",
    "pht = np.transpose(pht)\n",
    "pt = pht[:,:2]\n",
    "\n",
    "plt.scatter(p[:,0],p[:,1],c='b') #puntos originales\n",
    "plt.scatter(pt[:,0],pt[:,1],c='r') #puntos transformados\n",
    "plt.axes().set_aspect('equal', 'datalim')\n",
    "plt.show()"
   ]
  },
  {
   "cell_type": "markdown",
   "metadata": {},
   "source": [
    "# Recuperación de la homografía\n",
    "\n",
    "Considera que tienes dos conjuntos de puntos. Uno de ellos es el resultado de haber aplicado una transformación lineal al otro **pero la matriz de homografía es desconocida**. ¿Cómo podemos recuperarla?\n",
    "\n",
    "Supongamos que guardamos las coordenadas homogéneas de los puntos del primer conjunto en una matriz $P$:\n",
    "\n",
    "$$P = \n",
    "    \\begin{bmatrix} \n",
    "        x_1 & y_1 & 1 \\\\\n",
    "        x_2 & y_2 & 1 \\\\\n",
    "        x_3 & y_3 & 1 \\\\\n",
    "        \\vdots & \\vdots & \\vdots \\\\\n",
    "        x_n & y_n & 1 \\\\\n",
    "    \\end{bmatrix}$$\n",
    "    \n",
    "Mientras que la matriz que guarda las coordenadas del segundo conjunto de puntos es:\n",
    "\n",
    "\n",
    "$$ Q = \n",
    "    \\begin{bmatrix} \n",
    "        x'_1 & y'_1 & 1 \\\\\n",
    "        x'_2 & y'_2 & 1 \\\\\n",
    "        x'_3 & y'_3 & 1 \\\\\n",
    "        \\vdots & \\vdots & \\vdots \\\\\n",
    "        x'_n & y'_n & 1 \\\\\n",
    "    \\end{bmatrix}\n",
    "$$\n",
    "\n",
    "Observa que, por simplicidad, suponemos que la transformación es afín. \n",
    "\n",
    "Supongamos que la matriz de homografía, desconocida, es:\n",
    "\n",
    "$$\n",
    "    H = \n",
    "    \\begin{bmatrix} \n",
    "        a_{11} & a_{12} & a_{13}\\\\\n",
    "        a_{21} & a_{22} & a_{23}\\\\\n",
    "        0 & 0 & 1\\\\\n",
    "    \\end{bmatrix}\n",
    "$$\n",
    "\n",
    "Los valores de la matriz de homografía deben resolver los siguientes sistemas de ecuaciones:\n",
    "\n",
    "\\begin{align}\n",
    "    x'_1 &= a_{11}x_1+a_{12}y_1+a_{13}\\\\\n",
    "    x'_2 &= a_{11}x_2+a_{12}y_2+a_{13}\\\\\n",
    "    \\vdots &= \\vdots \\\\\n",
    "    x'_n &= a_{11}x_n+a_{12}y_n+a_{13}\\\\\n",
    "\\end{align}\n",
    "\n",
    "y para la ordenada:\n",
    "\n",
    "\\begin{align}\n",
    "    y'_1 &= a_{21}x_1+a_{22}y_1+a_{23}\\\\\n",
    "    y'_2 &= a_{21}x_2+a_{22}y_2+a_{23}\\\\\n",
    "    \\vdots &= \\vdots \\\\\n",
    "    y'_n &= a_{21}x_n+a_{22}y_n+a_{23}\\\\\n",
    "\\end{align}\n",
    "\n",
    "Observa que, en general, estos sistemas tienen más ecuaciones que incógnitas [suponemos que $n>6$].\n",
    "\n",
    "Los sistemas también pueden expresarse de forma matricial como:\n",
    "\n",
    "\\begin{align}\n",
    "    \\mathbf{X}' &= P\\mathbf{a_1}\n",
    "                 &\\\\     \n",
    "    \\mathbf{Y}' &= P\\mathbf{a_2}\n",
    "\\end{align}\n",
    "\n",
    "Siendo $\\mathbf{X}'$ la primera columna de la matrix $Q$, $\\mathbf{Y}'$ la segunda, $\\mathbf{a_1} = \\begin{bmatrix} \n",
    "                        a_{11} \\\\ \n",
    "                        a_{12} \\\\ \n",
    "                        a_{13} \\\\        \n",
    "                    \\end{bmatrix}$ y $\\mathbf{a_2} = \\begin{bmatrix} \n",
    "                        a_{21} \\\\ \n",
    "                        a_{22} \\\\ \n",
    "                        a_{23} \\\\        \n",
    "                    \\end{bmatrix}$ \n",
    "\n"
   ]
  },
  {
   "cell_type": "markdown",
   "metadata": {},
   "source": [
    "## Mínimos cuadrados\n",
    "\n",
    "En la discusión que sigue nos limitaremos a describir la solución del sistema de ecuaciones \n",
    "\n",
    "\\begin{align}\n",
    "    \\mathbf{X}' &= P\\mathbf{a_1} \n",
    "\\end{align}\n",
    "\n",
    "ya que los resultados que obtengamos pueden adaptarse para resolver el otro sistema.\n",
    "\n",
    "En la práctica, dado que las coordenadas de los puntos se miden con cierto grado de incertidumbre, debemos renunciar a cumplir de forma exacta la igualdad y conformarnos con cumplirla de forma aproximada. Para este fin podemos definir los siguientes errores:\n",
    "\n",
    "\\begin{align}\n",
    "    e_1 &= x'_1-(a_{11}x_1+a_{12}y_1+a_{13})\\\\\n",
    "    e_2 &= x'_2-(a_{11}x_2+a_{12}y_1+a_{13})\\\\\n",
    "    \\vdots &= \\vdots\\\\\n",
    "    e_n &= x'_n-(a_{11}x_n+a_{12}y_n+a_{13})\\\\\n",
    "\\end{align}\n",
    "\n",
    "Que matricialmente se escribe como: \n",
    "\n",
    "$$\n",
    "\\mathbf{e} = \\mathbf{X'}-P\\mathbf{a_1}\n",
    "$$\n",
    "\n",
    "Observa que buscamos la tripleta de valores que minimice la mayor cantidad de errores.\n",
    "                    \n",
    "Debemos considerar que, para una tripleta dada, los errores peuden ser positivos en algunas ocasiones y negativos en otras. Si los sumáramos para realizar una estimación global de la calidad de la tripleta para resolver el problema, los errores positivos pueden cancelar a los negativos y dar una idea equivocada. Es adecuado entonces elevar los errores al cuadrado para hacerlos todos positivos. \n",
    "\n",
    "Basados en lo anterior, buscamos la tripleta de valores, $\\begin{bmatrix} \n",
    "                        a_{11} \\\\ \n",
    "                        a_{12} \\\\ \n",
    "                        a_{13} \\\\        \n",
    "                    \\end{bmatrix}$ que minimice la siguiente suma:\n",
    "                    \n",
    "   \\begin{align}\n",
    "       E(a_{11}, a_{12}, a_{13}) &= \\sum_{i=1}^{n}e_i^{2}\\\\\n",
    "                                 &= \\sum_{i=1}^{n}[x'_i-(a_{11}x_1+a_{12}y_1+a_{13})]^{2}\\\\ \n",
    "   \\end{align}\n",
    "   \n",
    "El problema que acabamos de plantear se conoce con el nombre de **mínimos cuadrados**.\n",
    "\n",
    "De forma matricial, podemos reescribirlo como:\n",
    "\n",
    "\\begin{align}\n",
    "    E(a_{11}, a_{12}, a_{13}) &= \\mathbf{e}^{T}\\mathbf{e}\\\\\n",
    "    E(a_{11}, a_{12}, a_{13}) &= \\left(\\mathbf{X'}-P\\mathbf{a_1}\\right)^{T}\\left(\\mathbf{X'}-P\\mathbf{a_1}\\right)\\\\\n",
    "\\end{align}\n",
    "\n",
    "Puede demostrarse, usando cálculo diferencial, que la tripleta que resuelve el problema de mínimos cuadrados es la siguiente:\n",
    "\n",
    "$$\\mathbf{a_1} = (P^{T}P)^{-1}P^{T}X'$$"
   ]
  },
  {
   "cell_type": "markdown",
   "metadata": {},
   "source": [
    "# <font color=\"red\">Práctica</font>\n",
    "\n",
    "En la siguiente celda, se genera un conjunto de puntos que después se transforma geométricamente a partir de una homografía conocida. El objetivo de la práctica es que recuperes los parámetros de la homografía utilizando mínimos cuadrados. Puedes utilizar la librería de $\\texttt{numpy}$ para resolver las operaciones matriciales.\n",
    "\n",
    "1. Elige tres parejas de puntos correspondientes, plantea dos sistemas de ecuaciones [cada uno de tres por tres] y resuélvelos para determinar los parámetros de la homografía.\n",
    "2. Determina los parámetros de la homografía resolviendo el problema de mínimos cuadrados.\n",
    "3. Compara las dos soluciones que obtuviste con la solución real ¿cuál se aproxima más?"
   ]
  },
  {
   "cell_type": "code",
   "execution_count": 13,
   "metadata": {},
   "outputs": [],
   "source": [
    "#coordenadas rectangulares a homogéneas\n",
    "def rect2homog(pts):\n",
    "    n = pts.shape[0]\n",
    "    o = np.ones(n)\n",
    "    return np.column_stack((pts,o))\n",
    "\n",
    "#aplica la homografía a un conjunto de puntos\n",
    "def aplicaHomografia(pts, H):\n",
    "    pts_h = rect2homog(pts)\n",
    "    pts_t = np.dot(H,np.transpose(pts_h))\n",
    "    return np.transpose(pts_t)\n",
    "\n",
    "#transforma de coordenadas homogéneas a cartesianas\n",
    "def normalizaPuntos(pts_h):\n",
    "    return np.column_stack((np.divide(pts_h[:,0],pts_h[:,2]),np.divide(pts_h[:,1],pts_h[:,2])))"
   ]
  },
  {
   "cell_type": "code",
   "execution_count": 28,
   "metadata": {
    "scrolled": false
   },
   "outputs": [
    {
     "name": "stdout",
     "output_type": "stream",
     "text": [
      "[[-4.17642705  5.31247146]\n",
      " [-5.78677914  1.29555936]\n",
      " [ 6.26468652  6.22793917]\n",
      " [-6.47647529  6.07371619]\n",
      " [-9.49032511 -9.28415523]\n",
      " [-7.14229854  3.09067307]\n",
      " [-2.09258383 -2.55809406]\n",
      " [-3.56336571  5.80775037]\n",
      " [ 4.37174848 -9.58182911]\n",
      " [-5.45869306  2.26290336]\n",
      " [ 6.81356554 -5.07286386]\n",
      " [ 1.13419754 -4.0161292 ]\n",
      " [-5.26999025 -3.72084344]\n",
      " [ 2.02075131 -2.55575263]\n",
      " [-9.29909513 -1.41372837]\n",
      " [-2.17205686 -1.0503778 ]\n",
      " [-9.51369048  8.36061964]\n",
      " [-2.83092892  2.27700675]\n",
      " [-3.83341414  5.00384673]\n",
      " [ 7.57899401 -6.89529404]\n",
      " [ 9.21440313 -5.72184434]\n",
      " [-2.33758182 -6.43432044]\n",
      " [-8.30438448  3.72923117]\n",
      " [-1.29951684 -7.0261853 ]\n",
      " [ 4.61615825 -2.83914136]\n",
      " [-7.87093829  6.81334271]\n",
      " [ 8.55895563  6.2264179 ]\n",
      " [ 2.98540645  1.09171737]\n",
      " [ 1.390208    7.31514148]\n",
      " [-8.08008156 -1.59923218]]\n"
     ]
    }
   ],
   "source": [
    "n = 30\n",
    "p = 10*(2*np.random.rand(n,2)-1)\n",
    "H = np.array([[1.1, 0.2, 0], [-0.1, 0.98, 0], [0, 0.02, 1]])\n",
    "# Aplicando la Homografía\n",
    "print p\n",
    "pt = aplicaHomografia(p, H)\n",
    "\n",
    "#o = np.ones((n,1))\n",
    "#ph = np.hstack((p,o))\n",
    "#pt = np.dot(ph, np.transpose(H))"
   ]
  },
  {
   "cell_type": "code",
   "execution_count": 15,
   "metadata": {},
   "outputs": [],
   "source": [
    "def RecuperaHomografiaNumpySolve(p, pt):\n",
    "# Usando la librería numpy con el módulo de Álgebra Lineal, el método 'Solucionar' nos permite\n",
    "# resolver sistemas de ecuaciones a partir de la matriz de coeficientes y\n",
    "# la matriz de términos independientes.\n",
    "\n",
    "    # Definimos nuestro Sistema de Ecuaciones Lineales (sel) con la matriz de coeficientes\n",
    "    sel = np.array( [[p[0,0], p[0,1], 0], [p[1,0], p[1,1], 0], [p[2,0], p[2,1], 1] ] )\n",
    "    # Resolvemos para la columna X'\n",
    "    a1 = np.around(np.linalg.solve(sel, pt[:3,0]), decimals=2)\n",
    "    # Resolvemos para la columna  Y'\n",
    "    a2 = np.around(np.linalg.solve(sel, pt[:3,1]), decimals=2)\n",
    "    # Acompletamos la matriz con los términos ya conocidos de la homografía [0,0,1]\n",
    "    a3 = np.zeros(3)\n",
    "    a3[-1]=1\n",
    "    return np.array([a1, a2, a3])"
   ]
  },
  {
   "cell_type": "code",
   "execution_count": 16,
   "metadata": {},
   "outputs": [],
   "source": [
    "def RecuperaHomografiaCramer(p, pt):\n",
    "# Aplicamos el método de Cramer que nos permite solucionar Sistemas de Ecuaciones Lineales\n",
    "# compatibles determinados (con una única solución) mediante el cálculo de determinantes.\n",
    "\n",
    "    # Definimos nuestro Sistema de Ecuaciones Lineales como una Matriz de Coeficientes 'A'\n",
    "    A = np.array( [[p[0,0], p[0,1], 0], [p[1,0], p[1,1], 0], [p[2,0], p[2,1], 1]] )\n",
    "    # Calculamos el Determinante de 'A'\n",
    "    delta = np.linalg.det(A)\n",
    "    # Creamos nuestra lista de arreglos de la Homografía\n",
    "    h = []\n",
    "    # Realizamos un for para la columna X' e Y'\n",
    "    for i in range(2):\n",
    "        # Lista de los resultados del cálculo de las incógnitas ( [x, y, z] )\n",
    "        l = []\n",
    "        # La regla de Cramer nos dice que debemos cambiar la columna de la incógnita actual \n",
    "        # desde 'x' a 'z' ([x,y,z]) por la matriz de los términos independientes (ósea X', Y')\n",
    "        for j in range(3):\n",
    "            a = A.copy()\n",
    "            # Sustituimos los valores de la columna de la incógnita actual\n",
    "            a[:,j] = pt[:3,i]\n",
    "            # Realizamos el cálculo de la incógnita y la guardamos en la lista\n",
    "            l.append(np.linalg.det(a)/delta)\n",
    "        # Guardamos la lista obtenida de la aplicación del método de Cramer\n",
    "        h.append(l)\n",
    "    # Acompletamos la matriz de Homografía con los términos que ya conocemos [0,0,1]\n",
    "    h.append([0,0,1])\n",
    "    # Redondeamos los valores obtenidos de la matriz de incógnitas a dos decimales\n",
    "    return np.around(np.array(h), decimals=2)"
   ]
  },
  {
   "cell_type": "code",
   "execution_count": 17,
   "metadata": {
    "scrolled": false
   },
   "outputs": [],
   "source": [
    "def MinimosCuadrados(p, pt):\n",
    "# Usando Cálculo Diferencial, mediante operaciones matriciales\n",
    "# podemos obtener la tripleta que resuelve el problema de Mínimos Cuadrados\n",
    "# con la formula definida anteriormente:\n",
    "    # 𝐚1=(𝑃^(T) x 𝑃)⁻¹ x (𝑃^(𝑇) x 𝑋′)\n",
    "    \n",
    "    # Primero acompletamos la matriz de coeficientes con unos\n",
    "    ph = np.hstack((p,np.ones((len(p),1))))\n",
    "    # Realizamos el cálculo de la matriz inversa del producto punto de 'ph' por su traspuesta\n",
    "    pinv = np.linalg.inv(np.dot(np.transpose(ph),ph))\n",
    "    # Realizamos producto punto de la matriz traspuesta de 'ph' por la matriz de términos independientes X' e Y'\n",
    "    pTti = np.dot(np.transpose(ph), pt)\n",
    "    # Transponemos el resultado del producto punto de los dos cálculos anteriores \n",
    "    mc = np.transpose(np.dot(pinv,pTti))\n",
    "    # Redondeamos los valores obtenidos de la matriz de Homografía a dos decimales\n",
    "    return np.around(mc, decimals=2)"
   ]
  },
  {
   "cell_type": "code",
   "execution_count": 18,
   "metadata": {},
   "outputs": [],
   "source": [
    "def MinimosCuadradosNumpyLeastSquares(p, pt):\n",
    "# Usando la librería numpy con el módulo de Álgebra Lineal, el método 'Mínimos Cuadrados' nos permite\n",
    "# obtener los valores mínimos de la matriz de Homografía\n",
    "\n",
    "    # Primero acompletamos la matriz de coeficientes con unos\n",
    "    ph = np.hstack((p,np.ones((len(p),1))))\n",
    "    # Resolvemos para la columna X'\n",
    "    a1 = np.around(np.linalg.lstsq(ph,pt[:,0], rcond=None)[0], decimals=2)\n",
    "    # Resolvemos para la columna Y'\n",
    "    a2 = np.around(np.linalg.lstsq(ph,pt[:,1], rcond=None)[0], decimals=2)\n",
    "    # Resolvemos para la columna de unos\n",
    "    a3 = np.around(np.linalg.lstsq(ph,pt[:,2], rcond=None)[0], decimals=2)\n",
    "    return np.array([a1,a2,a3])"
   ]
  },
  {
   "cell_type": "code",
   "execution_count": 19,
   "metadata": {},
   "outputs": [],
   "source": [
    "def RecuperaHomografiaOpenCV(p, pt):\n",
    "# Usando la librería OpenCV, el método 'Encuentra Homografía'\n",
    "# Nos retorna en el primer arreglo del resultado los valores de la matriz de Homografía\n",
    "# que transformó a los puntos originales\n",
    "    \n",
    "    # Forma Simple:\n",
    "    #print np.around(np.transpose(cv2.findHomography(p, pt))[0], decimals=2)\n",
    "    \n",
    "    # Obtenemos la matriz de Homografía\n",
    "    pn = normalizaPuntos(pt)\n",
    "    h = cv2.findHomography(p, pn)[0]\n",
    "    # Redondeamos los valores de la matriz a dos decimales\n",
    "    h = np.around(h, decimals=2)\n",
    "    return h"
   ]
  },
  {
   "cell_type": "code",
   "execution_count": 20,
   "metadata": {},
   "outputs": [],
   "source": [
    "def MetodosdeRecuperaciondeHomografia(p, pt, H):\n",
    "    print \"Recuperación de la Homografía\\n\"\n",
    "    print \"\\nHomografía Original:\\n\" + str(H)\n",
    "    # Resolución a Sistemas de Ecuaciones\n",
    "    print '\\nUsando Método de Cramer:\\n\\n' + str(RecuperaHomografiaCramer(p, pt))\n",
    "    print '\\nUsando Numpy.linalg.solve():\\n\\n' + str(RecuperaHomografiaNumpySolve(p, pt))\n",
    "    # Método de Mínimos Cuadrados\n",
    "    print '\\nUsando Mínimos Cuadrados:\\n\\n' + str(MinimosCuadrados(p, pt))\n",
    "    print '\\nUsando Numpy.linalg.lstsq():\\n\\n' + str(MinimosCuadradosNumpyLeastSquares(p, pt))\n",
    "    print '\\nUsando OpenCV.findHomography():\\n\\n' + str(RecuperaHomografiaOpenCV(p, pt))"
   ]
  },
  {
   "cell_type": "markdown",
   "metadata": {},
   "source": [
    "Se llegarón a componer diferentes rutinas para la solución de este problema, teniendo como tal dos que se resuelven por Sistema de Ecuaciones Lineales, uno con el método de Cramer y otro con la librería de <i>Numpy</i> por el otro lado tenemos tres que efectuan el Cálculo de los Mínimos Cuadrados, uno compuesto por operaciones matriciales, y los otros dos compuestos con ayuda de las librerías <i>Numpy</i> y <i>OpevCV</i>. Por lo que a contrinuación tenemos las pruebas de las diferentes rutinas planteadas:"
   ]
  },
  {
   "cell_type": "code",
   "execution_count": 21,
   "metadata": {
    "scrolled": false
   },
   "outputs": [
    {
     "name": "stdout",
     "output_type": "stream",
     "text": [
      "Recuperación de la Homografía\n",
      "\n",
      "\n",
      "Homografía Original:\n",
      "[[ 1.1   0.2   0.  ]\n",
      " [-0.1   0.98  0.  ]\n",
      " [ 0.    0.02  1.  ]]\n",
      "\n",
      "Usando Método de Cramer:\n",
      "\n",
      "[[ 1.1   0.2   0.  ]\n",
      " [-0.1   0.98  0.  ]\n",
      " [ 0.    0.    1.  ]]\n",
      "\n",
      "Usando Numpy.linalg.solve():\n",
      "\n",
      "[[ 1.1   0.2   0.  ]\n",
      " [-0.1   0.98  0.  ]\n",
      " [ 0.    0.    1.  ]]\n",
      "\n",
      "Usando Mínimos Cuadrados:\n",
      "\n",
      "[[ 1.1   0.2   0.  ]\n",
      " [-0.1   0.98 -0.  ]\n",
      " [-0.    0.02  1.  ]]\n",
      "\n",
      "Usando Numpy.linalg.lstsq():\n",
      "\n",
      "[[ 1.1   0.2  -0.  ]\n",
      " [-0.1   0.98  0.  ]\n",
      " [-0.    0.02  1.  ]]\n",
      "\n",
      "Usando OpenCV.findHomography():\n",
      "\n",
      "[[ 1.1   0.2  -0.  ]\n",
      " [-0.1   0.98  0.  ]\n",
      " [-0.    0.02  1.  ]]\n"
     ]
    }
   ],
   "source": [
    "MetodosdeRecuperaciondeHomografia(p, pt, H)"
   ]
  },
  {
   "cell_type": "markdown",
   "metadata": {},
   "source": [
    "### Matriz de Homografía Original\n",
    "\n",
    "Tenemos dos soluciones para el mismo problema, por lo cual debemos evaluar cual solución se aproxima más a los valores originales que componen la matriz de Homografía:\n",
    "\n",
    "<ul type='a'>\n",
    "    <li>Dado que debemos obtener los valores de la Homografía resolviendo el Sistema de Ecuaciones Lineales puede llegar a ser el primer método para solucionar la problemática, nuestro sistema de ecuaciones planteado es de <i>Nx3</i>, tenemos un Sistema de Ecuaciones Rectangular, esto quiere decir que nuestro número de ecuaciones es mayor a nuestro número de incógnitas por lo que podemos decir que tenemos información de más a la hora de hacer la evaluación de las incógnitas, por lo que debemos solo utilizar el mismo número de ecuaciones e incógnitas para resolver el Sistema de Ecuaciones.</li>\n",
    "    <li> Para resolver por el segundo Método se lleva a cabo operaciones matriciales que realizamos con el método de Mínimos Cuadrados para obtener los valores de la matriz de Homografía que resuelva todo el Sistema de Ecuaciones Lineales.\n",
    "    </li>\n",
    "</ul>"
   ]
  },
  {
   "cell_type": "markdown",
   "metadata": {},
   "source": [
    "### Solución al Sistema de Ecuaciones por el Método de Cramer\n",
    "\n",
    "Abscisa:\n",
    "\n",
    "\\begin{align}\n",
    "    x'_1 &= a_{11}x_1+a_{12}y_1+a_{13}\\\\\n",
    "    x'_2 &= a_{11}x_2+a_{12}y_2+a_{13}\\\\\n",
    "    \\vdots &= \\vdots \\\\\n",
    "    x'_n &= a_{11}x_n+a_{12}y_n+a_{13}\\\\\n",
    "\\end{align}\n",
    "\n",
    "Ordenada:\n",
    "\n",
    "\\begin{align}\n",
    "    y'_1 &= a_{21}x_1+a_{22}y_1+a_{23}\\\\\n",
    "    y'_2 &= a_{21}x_2+a_{22}y_2+a_{23}\\\\\n",
    "    \\vdots &= \\vdots \\\\\n",
    "    y'_n &= a_{21}x_n+a_{22}y_n+a_{23}\\\\\n",
    "\\end{align}"
   ]
  },
  {
   "cell_type": "code",
   "execution_count": 22,
   "metadata": {},
   "outputs": [
    {
     "name": "stdout",
     "output_type": "stream",
     "text": [
      "Homografía Original: \n",
      "\n",
      "[[ 1.1   0.2   0.  ]\n",
      " [-0.1   0.98  0.  ]\n",
      " [ 0.    0.02  1.  ]]\n",
      "\n",
      "Usando Método de Cramer:\n",
      "\n",
      "[[ 1.1   0.2   0.  ]\n",
      " [-0.1   0.98  0.  ]\n",
      " [ 0.    0.    1.  ]]\n"
     ]
    }
   ],
   "source": [
    "print \"Homografía Original: \\n\\n\" + str(H)\n",
    "print '\\nUsando Método de Cramer:\\n\\n' + str(RecuperaHomografiaCramer(p, pt))"
   ]
  },
  {
   "cell_type": "markdown",
   "metadata": {},
   "source": [
    "Observamos que las primeras dos filas de la matriz Homografía obtenida coinciden con la Homografía Original\n",
    "pero en la tercera se pierde la presición con el valor valor de la matriz H<sub>[2][0]</sub>, ya que al realizar la operación con la columna llena de unos de la matriz <i>Q</i> se obtienen resultados que varían mucho en comparación con la matriz de Homografía Original, esto se resuelve de forma sencilla porque los valores de la tercera fila ya son conocidos con anterioridad antes de realizar las operaciones con las matrices. "
   ]
  },
  {
   "cell_type": "markdown",
   "metadata": {},
   "source": [
    "### Solución al Sistema de Ecuaciones por el Método de Mínimos Cuadrados\n",
    "\n",
    "Con este método debemos definir el margen de errores. \n",
    "\\begin{align}\n",
    "    e_1 &= x'_1-(a_{11}x_1+a_{12}y_1+a_{13})\\\\\n",
    "    e_2 &= x'_2-(a_{11}x_2+a_{12}y_1+a_{13})\\\\\n",
    "    \\vdots &= \\vdots\\\\\n",
    "    e_n &= x'_n-(a_{11}x_n+a_{12}y_n+a_{13})\\\\\n",
    "\\end{align}\n",
    "\n",
    "Fórmula aplicable para la resolución de este problema:\n",
    "$$\\mathbf{a_1} = (P^{T}P)^{-1}P^{T}X'$$"
   ]
  },
  {
   "cell_type": "code",
   "execution_count": 23,
   "metadata": {},
   "outputs": [
    {
     "name": "stdout",
     "output_type": "stream",
     "text": [
      "Homografía Original: \n",
      "\n",
      "[[ 1.1   0.2   0.  ]\n",
      " [-0.1   0.98  0.  ]\n",
      " [ 0.    0.02  1.  ]]\n",
      "\n",
      "Usando Mínimos Cuadrados:\n",
      "\n",
      "[[ 1.1   0.2   0.  ]\n",
      " [-0.1   0.98 -0.  ]\n",
      " [-0.    0.02  1.  ]]\n"
     ]
    }
   ],
   "source": [
    "print \"Homografía Original: \\n\\n\" + str(H)\n",
    "print '\\nUsando Mínimos Cuadrados:\\n\\n' + str(MinimosCuadrados(p, pt))"
   ]
  },
  {
   "cell_type": "markdown",
   "metadata": {},
   "source": [
    "Ahora podemos observar que la precisión de este Método es mejor que el usado anteriormente ya que nos devuelve todos los valores correspondientes exactamente iguales a la Homografía Original variando unicamente en el <i>-0</i> pero es equivalente ya que matemáaticamente no existe como tal dicho número ( es igual a zero ), por lo que realizando el cálculo de errores podemos obtener de forma más precisa la solución con ayuda de este método, aunque afortunadamente tenemos la fórmula simplificada para realizar las operaciones matriciales que componen la solución con este método que gracias a las librerías de python se pueden realizar efectivamente con rutinas ya programadas."
   ]
  },
  {
   "cell_type": "markdown",
   "metadata": {},
   "source": [
    "### Conclusión\n",
    "\n",
    "Al comparar los dos métodos tenemos que es mas eficiente utilizar los minimos cuadrados ya que al calcular el margen de errores se puede obtener los valores mínimos que se necesitan para cumplir la solución de las incógnitas a los Sistemas de Ecuaciones Lineales plateados como matrices de Coeficientes, por lo tal tenemos que el método de los Mínimos Cuadrados"
   ]
  },
  {
   "cell_type": "markdown",
   "metadata": {},
   "source": [
    "# Recuperación con OpenCV\n",
    "\n",
    "Puedes comparar tus resultados con los obtenidos mediante OpenCV, utilizando el ejemplo siguiente:"
   ]
  },
  {
   "cell_type": "code",
   "execution_count": 24,
   "metadata": {},
   "outputs": [],
   "source": [
    "#coordenadas rectangulares a homogéneas\n",
    "def rect2homog(pts):\n",
    "    n = pts.shape[0]\n",
    "    o = np.ones(n)\n",
    "    return np.column_stack((pts,o))\n",
    "\n",
    "#aplica la homografía a un conjunto de puntos\n",
    "def aplicaHomografia(pts, H):\n",
    "    pts_h = rect2homog(pts)\n",
    "    pts_t = np.dot(H,np.transpose(pts_h))\n",
    "    return np.transpose(pts_t)\n",
    "\n",
    "#transforma de coordenadas homogéneas a cartesianas\n",
    "def normalizaPuntos(pts_h):\n",
    "    return np.column_stack((np.divide(pts_h[:,0],pts_h[:,2]),np.divide(pts_h[:,1],pts_h[:,2])))"
   ]
  },
  {
   "cell_type": "code",
   "execution_count": 25,
   "metadata": {},
   "outputs": [],
   "source": [
    "p = 10*(2*np.random.rand(30,2)-1)\n",
    "H = np.array([[1.1, 0.2, 0], [-0.1, 0.98, 0], [0, 0.0, 1]])\n",
    "\n",
    "p_h = aplicaHomografia(p, H)\n",
    "pt = normalizaPuntos(p_h)"
   ]
  },
  {
   "cell_type": "code",
   "execution_count": 26,
   "metadata": {},
   "outputs": [
    {
     "name": "stdout",
     "output_type": "stream",
     "text": [
      "[[-3.13101922  1.5624767 ]\n",
      " [ 7.71506351 -7.86039232]\n",
      " [ 5.98822401  0.80882455]\n",
      " [-9.60700249 -0.22530551]\n",
      " [-9.98059481  5.43091958]\n",
      " [ 1.78720467 -0.42854852]\n",
      " [-3.23664192 -7.6413598 ]\n",
      " [-5.99421887  3.90682049]\n",
      " [-1.01136539 -7.50529167]\n",
      " [-7.88857682  7.58263395]\n",
      " [ 5.05756705  6.5627443 ]\n",
      " [ 3.71740611  8.05550986]\n",
      " [ 2.09774229  6.0726372 ]\n",
      " [-9.35941218  0.6207992 ]\n",
      " [ 7.25407768 -7.22508913]\n",
      " [-9.33463719 -3.28187117]\n",
      " [ 6.3702462  -3.46546916]\n",
      " [-5.17147067 -4.76870728]\n",
      " [-6.7525111  -5.523029  ]\n",
      " [ 4.81557272  6.93270345]\n",
      " [ 5.64485863  3.87387273]\n",
      " [-6.79814386  0.1274679 ]\n",
      " [-3.83372432  3.05115468]\n",
      " [ 8.4923472   6.54364475]\n",
      " [ 0.9768554  -9.23874464]\n",
      " [-6.50517093  0.98526436]\n",
      " [-1.24175305  7.82184702]\n",
      " [ 7.79041616 -4.10947505]\n",
      " [-4.73275502  6.98158978]\n",
      " [-9.79766053 -7.81442361]]\n",
      "[[ -3.13162581   1.84432909]\n",
      " [  6.9144914   -8.47469082]\n",
      " [  6.74881132   0.19382566]\n",
      " [-10.61276384   0.73990085]\n",
      " [ -9.89247037   6.32036067]\n",
      " [  1.88021543  -0.59869802]\n",
      " [ -5.08857807  -7.16486841]\n",
      " [ -5.81227666   4.42810596]\n",
      " [ -2.61356026  -7.25404929]\n",
      " [ -7.16090771   8.21983895]\n",
      " [  6.87587261   5.9257327 ]\n",
      " [  5.70024869   7.52265906]\n",
      " [  3.52204396   5.74141022]\n",
      " [-10.17119356   1.54432443]\n",
      " [  6.53446762  -7.80599512]\n",
      " [-10.92447514  -2.28277003]\n",
      " [  6.31417698  -4.0331844 ]\n",
      " [ -6.64235919  -4.15618607]\n",
      " [ -8.53236801  -4.73731731]\n",
      " [  6.68367068   6.3124921 ]\n",
      " [  6.98411904   3.23190941]\n",
      " [ -7.45246467   0.80473293]\n",
      " [ -3.60686581   3.37350402]\n",
      " [ 10.65031087   5.56353713]\n",
      " [ -0.77320799  -9.15165528]\n",
      " [ -6.95863516   1.61607616]\n",
      " [  0.19844105   7.78958538]\n",
      " [  7.74756277  -4.80632716]\n",
      " [ -3.80971256   7.31523349]\n",
      " [-12.3403113   -6.67836909]]\n"
     ]
    }
   ],
   "source": [
    "print p\n",
    "print pt"
   ]
  },
  {
   "cell_type": "code",
   "execution_count": 27,
   "metadata": {},
   "outputs": [
    {
     "data": {
      "text/plain": [
       "array([[ 1.1 ,  0.2 , -0.  ],\n",
       "       [-0.1 ,  0.98, -0.  ],\n",
       "       [-0.  ,  0.  ,  1.  ]])"
      ]
     },
     "execution_count": 27,
     "metadata": {},
     "output_type": "execute_result"
    }
   ],
   "source": [
    "np.around(cv2.findHomography(p, pt)[0], decimals=2)"
   ]
  },
  {
   "cell_type": "code",
   "execution_count": 2,
   "metadata": {},
   "outputs": [],
   "source": [
    "def mcd(a, b):\n",
    "    r = 0\n",
    "    while(b > 0):\n",
    "        r = b\n",
    "        b = a % b\n",
    "        a = r\n",
    "    return a\n",
    "\n",
    "def sig(a,b):\n",
    "    # True = +, False = -\n",
    "    s1 = True if a > 0 else False \n",
    "    s2 = True if b > 0 else False \n",
    "    s = '(+)' if s1 == s2 else '(-)'\n",
    "    return s\n",
    "\n",
    "def Cramer(a,b):\n",
    "    ls = []\n",
    "    d = round(np.linalg.det(a))\n",
    "    for i in range(len(a)):\n",
    "        c = a.copy()\n",
    "        c[:,i] = b.copy()\n",
    "        v = round(np.linalg.det(c))\n",
    "        if v%d == 0:\n",
    "            ls.append(int(v/d))\n",
    "        else:\n",
    "            m = mcd(v,d)\n",
    "            s = sig(v,d)\n",
    "            ls.append(s + str(int(abs(v/m))) + '/' + str(int(abs(d/m))))\n",
    "    print np.array(ls)"
   ]
  },
  {
   "cell_type": "code",
   "execution_count": 3,
   "metadata": {},
   "outputs": [],
   "source": [
    "a = np.array([[0,1,0,1], [1,0,1,0], [0,1,0,4], [1,0,4,0] ])\n",
    "b = np.array([0,0,6,3])"
   ]
  },
  {
   "cell_type": "code",
   "execution_count": 4,
   "metadata": {},
   "outputs": [
    {
     "name": "stdout",
     "output_type": "stream",
     "text": [
      "[-1 -2  1  2]\n"
     ]
    }
   ],
   "source": []
  },
  {
   "cell_type": "code",
   "execution_count": 81,
   "metadata": {},
   "outputs": [
    {
     "data": {
      "text/plain": [
       "array([ 3.,  1.,  3., -4.])"
      ]
     },
     "execution_count": 81,
     "metadata": {},
     "output_type": "execute_result"
    }
   ],
   "source": [
    "np.linalg.solve(a,b)"
   ]
  },
  {
   "cell_type": "code",
   "execution_count": 70,
   "metadata": {},
   "outputs": [
    {
     "name": "stdout",
     "output_type": "stream",
     "text": [
      "90\n"
     ]
    }
   ],
   "source": [
    "print  mcd(450, 360)"
   ]
  },
  {
   "cell_type": "code",
   "execution_count": null,
   "metadata": {},
   "outputs": [],
   "source": []
  }
 ],
 "metadata": {
  "kernelspec": {
   "display_name": "Python 3",
   "language": "python",
   "name": "python3"
  },
  "language_info": {
   "codemirror_mode": {
    "name": "ipython",
    "version": 3
   },
   "file_extension": ".py",
   "mimetype": "text/x-python",
   "name": "python",
   "nbconvert_exporter": "python",
   "pygments_lexer": "ipython3",
   "version": "3.5.2"
  }
 },
 "nbformat": 4,
 "nbformat_minor": 2
}
