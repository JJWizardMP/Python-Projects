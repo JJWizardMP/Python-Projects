{
 "cells": [
  {
   "cell_type": "markdown",
   "metadata": {},
   "source": [
    " # Transformaciones Geométricas [ Recuperación de la Homografía ]\n",
    " Ingeniería en Datos e Inteligencia Organizacional\n",
    " \n",
    " Geometría Computacional ID0205 \t\n",
    " \n",
    "     Méndez Pool Joan de Jesús / 160300102"
   ]
  },
  {
   "cell_type": "code",
   "execution_count": 1,
   "metadata": {},
   "outputs": [],
   "source": [
    "import numpy as np\n",
    "import matplotlib.pyplot as plt\n",
    "import pandas as pd\n",
    "import cv2"
   ]
  },
  {
   "cell_type": "markdown",
   "metadata": {},
   "source": [
    "# Homografía\n",
    "\n",
    "\n",
    "* Una homografía es una transformación lineal que mapea puntos de un plano con otros puntos del mismo plano. La homografía está definida por una matriz cuadrada, $H$, de orden tres.  \n",
    "* Si $p=(x,y)$, son las coordenadas cartesianas de un punto, y $p_h=(x,y,1)$ las coordenadas homogéneas correspondientes, se determinan con el producto: \n",
    "\n",
    "$$Hp_h = p'$$\n"
   ]
  },
  {
   "cell_type": "markdown",
   "metadata": {},
   "source": [
    "# <font color=\"red\">Práctica</font>\n",
    "\n",
    "En la siguiente celda, se genera un conjunto de puntos que después se transforma geométricamente a partir de una homografía conocida. El objetivo de la práctica es que recuperes los parámetros de la homografía utilizando mínimos cuadrados. Puedes utilizar la librería de $\\texttt{numpy}$ para resolver las operaciones matriciales.\n",
    "\n",
    "1. Elige tres parejas de puntos correspondientes, plantea dos sistemas de ecuaciones [cada uno de tres por tres] y resuélvelos para determinar los parámetros de la homografía.\n",
    "2. Determina los parámetros de la homografía resolviendo el problema de mínimos cuadrados.\n",
    "3. Compara las dos soluciones que obtuviste con la solución real ¿cuál se aproxima más?"
   ]
  },
  {
   "cell_type": "code",
   "execution_count": 2,
   "metadata": {},
   "outputs": [],
   "source": [
    "n = 30\n",
    "p = 10*(2*np.random.rand(n,2)-1)\n",
    "H = np.array([[1.1, 0.2, 0], [-0.1, 0.98, 0], [0, 0.02, 1]])\n",
    "o = np.ones((n,1))\n",
    "ph = np.hstack((p,o))\n",
    "pt = np.dot(ph, np.transpose(H))"
   ]
  },
  {
   "cell_type": "code",
   "execution_count": 3,
   "metadata": {},
   "outputs": [],
   "source": [
    "# Funciones para resolver Sistemas de Ecuaciones Lineales\n",
    "def RecuperaHomografiaCramer(p, pt):\n",
    "# Aplicamos el método de Cramer que nos permite solucionar Sistemas de Ecuaciones Lineales\n",
    "# compatibles determinados (con una única solución) mediante el cálculo de determinantes.\n",
    "\n",
    "    # Definimos nuestro Sistema de Ecuaciones Lineales como una Matriz de Coeficientes 'A'\n",
    "    A = np.array( [[p[0,0], p[0,1], 0], [p[1,0], p[1,1], 0], [p[2,0], p[2,1], 1]] )\n",
    "    # Calculamos el Determinante de 'A'\n",
    "    delta = np.linalg.det(A)\n",
    "    # Creamos nuestra lista de arreglos de la Homografía\n",
    "    h = []\n",
    "    # Realizamos un for para la columna X' e Y'\n",
    "    for i in range(2):\n",
    "        # Lista de los resultados del cálculo de las incógnitas ( [x, y, z] )\n",
    "        l = []\n",
    "        # La regla de Cramer nos dice que debemos cambiar la columna de la incógnita actual \n",
    "        # desde 'x' a 'z' ([x,y,z]) por la matriz de los términos independientes (ósea X', Y')\n",
    "        for j in range(3):\n",
    "            a = A.copy()\n",
    "            # Sustituimos los valores de la columna de la incógnita actual\n",
    "            a[:,j] = pt[:3,i]\n",
    "            # Realizamos el cálculo de la incógnita y la guardamos en la lista\n",
    "            l.append(np.linalg.det(a)/delta)\n",
    "        # Guardamos la lista obtenida de la aplicación del método de Cramer\n",
    "        h.append(l)\n",
    "    # Acompletamos la matriz de Homografía con los términos que ya conocemos [0,0,1]\n",
    "    h.append([0,0,1])\n",
    "    # Redondeamos los valores obtenidos de la matriz de incógnitas a dos decimales\n",
    "    return np.around(np.array(h), decimals=2)\n",
    "\n",
    "def RecuperaHomografiaNumpySolve(p, pt):\n",
    "# Usando la librería numpy con el módulo de Álgebra Lineal, el método 'Solucionar' nos permite\n",
    "# resolver sistemas de ecuaciones a partir de la matriz de coeficientes y\n",
    "# la matriz de términos independientes.\n",
    "\n",
    "    # Definimos nuestro Sistema de Ecuaciones Lineales (sel) con la matriz de coeficientes\n",
    "    sel = np.array( [[p[0,0], p[0,1], 0], [p[1,0], p[1,1], 0], [p[2,0], p[2,1], 1] ] )\n",
    "    # Resolvemos para la columna X'\n",
    "    a1 = np.around(np.linalg.solve(sel, pt[:3,0]), decimals=2)\n",
    "    # Resolvemos para la columna  Y'\n",
    "    a2 = np.around(np.linalg.solve(sel, pt[:3,1]), decimals=2)\n",
    "    # Acompletamos la matriz con los términos ya conocidos de la homografía [0,0,1]\n",
    "    a3 = np.zeros(3)\n",
    "    a3[-1]=1\n",
    "    return np.array([a1, a2, a3])\n",
    "\n",
    "# Funciones para resolver Sistemas de Ecuaciones Lineales por Mínimos Cuadrados\n",
    "def MinimosCuadrados(p, pt):\n",
    "# Usando Cálculo Diferencial, mediante operaciones matriciales\n",
    "# podemos obtener la tripleta que resuelve el problema de Mínimos Cuadrados\n",
    "# con la formula definida anteriormente:\n",
    "    # 𝐚1=(𝑃^(T) x 𝑃)⁻¹ x (𝑃^(𝑇) x 𝑋′)\n",
    "    \n",
    "    # Primero acompletamos la matriz de coeficientes con unos\n",
    "    ph = np.hstack((p,np.ones((len(p),1))))\n",
    "    # Realizamos el cálculo de la matriz inversa del producto punto de 'ph' por su traspuesta\n",
    "    pinv = np.linalg.inv(np.dot(np.transpose(ph),ph))\n",
    "    # Realizamos producto punto de la matriz traspuesta de 'ph' por la matriz de términos independientes X' e Y'\n",
    "    pTti = np.dot(np.transpose(ph), pt)\n",
    "    # Transponemos el resultado del producto punto de los dos cálculos anteriores \n",
    "    mc = np.transpose(np.dot(pinv,pTti))\n",
    "    # Redondeamos los valores obtenidos de la matriz de Homografía a dos decimales\n",
    "    return np.around(mc, decimals=2)\n",
    "\n",
    "def MinimosCuadradosNumpyLeastSquares(p, pt):\n",
    "# Usando la librería numpy con el módulo de Álgebra Lineal, el método 'Mínimos Cuadrados' nos permite\n",
    "# obtener los valores mínimos de la matriz de Homografía\n",
    "\n",
    "    # Primero acompletamos la matriz de coeficientes con unos\n",
    "    ph = np.hstack((p,np.ones((len(p),1))))\n",
    "    # Resolvemos para la columna X'\n",
    "    a1 = np.around(np.linalg.lstsq(ph,pt[:,0], rcond=None)[0], decimals=2)\n",
    "    # Resolvemos para la columna Y'\n",
    "    a2 = np.around(np.linalg.lstsq(ph,pt[:,1], rcond=None)[0], decimals=2)\n",
    "    # Resolvemos para la columna de unos\n",
    "    a3 = np.around(np.linalg.lstsq(ph,pt[:,2], rcond=None)[0], decimals=2)\n",
    "    return np.array([a1,a2,a3])\n",
    "\n",
    "def RecuperaHomografiaOpenCV(p, pt):\n",
    "# Usando la librería OpenCV, el método 'Encuentra Homografía'\n",
    "# Nos retorna en el primer arreglo del resultado los valores de la matriz de Homografía\n",
    "# que transformó a los puntos originales\n",
    "    \n",
    "    # Forma Simple:\n",
    "    #print np.around(np.transpose(cv2.findHomography(p, pt))[0], decimals=2)\n",
    "    \n",
    "    # Obtenemos la matriz de Homografía\n",
    "    h = cv2.findHomography(p, pt)[0]\n",
    "    # Redondeamos los valores de la matriz a dos decimales\n",
    "    h = np.around(h, decimals=2)\n",
    "    return h\n",
    "\n",
    "def MetodosdeRecuperaciondeHomografia(p, pt, H):\n",
    "    print \"Recuperación de la Homografía\\n\"\n",
    "    print \"\\nHomografía Original:\\n\" + str(H)\n",
    "    # Resolución a Sistemas de Ecuaciones\n",
    "    print '\\nUsando Método de Cramer:\\n\\n' + str(RecuperaHomografiaCramer(p, pt))\n",
    "    print '\\nUsando Numpy.linalg.solve():\\n\\n' + str(RecuperaHomografiaNumpySolve(p, pt))\n",
    "    # Método de Mínimos Cuadrados\n",
    "    print '\\nUsando Mínimos Cuadrados:\\n\\n' + str(MinimosCuadrados(p, pt))\n",
    "    print '\\nUsando Numpy.linalg.lstsq():\\n\\n' + str(MinimosCuadradosNumpyLeastSquares(p, pt))\n",
    "    print '\\nUsando OpenCV.findHomography():\\n\\n' + str(RecuperaHomografiaOpenCV(p, pt))"
   ]
  },
  {
   "cell_type": "markdown",
   "metadata": {},
   "source": [
    "Se llegarón a componer diferentes rutinas para la solución de este problema, teniendo como tal dos que se resuelven por Sistema de Ecuaciones Lineales, uno con el método de Cramer y otro con la librería de <i>Numpy</i> por el otro lado tenemos tres que efectuan el Cálculo de los Mínimos Cuadrados, uno compuesto por operaciones matriciales, y los otros dos compuestos con ayuda de las librerías <i>Numpy</i> y <i>OpevCV</i>. Por lo que a contrinuación tenemos las pruebas de las diferentes rutinas planteadas:"
   ]
  },
  {
   "cell_type": "code",
   "execution_count": 4,
   "metadata": {},
   "outputs": [
    {
     "name": "stdout",
     "output_type": "stream",
     "text": [
      "Recuperación de la Homografía\n",
      "\n",
      "\n",
      "Homografía Original:\n",
      "[[ 1.1   0.2   0.  ]\n",
      " [-0.1   0.98  0.  ]\n",
      " [ 0.    0.02  1.  ]]\n",
      "\n",
      "Usando Método de Cramer:\n",
      "\n",
      "[[ 1.1   0.2   0.  ]\n",
      " [-0.1   0.98 -0.  ]\n",
      " [ 0.    0.    1.  ]]\n",
      "\n",
      "Usando Numpy.linalg.solve():\n",
      "\n",
      "[[ 1.1   0.2   0.  ]\n",
      " [-0.1   0.98  0.  ]\n",
      " [ 0.    0.    1.  ]]\n",
      "\n",
      "Usando Mínimos Cuadrados:\n",
      "\n",
      "[[ 1.1   0.2   0.  ]\n",
      " [-0.1   0.98  0.  ]\n",
      " [ 0.    0.02  1.  ]]\n",
      "\n",
      "Usando Numpy.linalg.lstsq():\n",
      "\n",
      "[[ 1.1   0.2  -0.  ]\n",
      " [-0.1   0.98 -0.  ]\n",
      " [-0.    0.02  1.  ]]\n",
      "\n",
      "Usando OpenCV.findHomography():\n",
      "\n",
      "[[ 1.1   0.2  -0.  ]\n",
      " [-0.1   0.98  0.  ]\n",
      " [-0.    0.02  1.  ]]\n"
     ]
    }
   ],
   "source": [
    "MetodosdeRecuperaciondeHomografia(p, pt, H)"
   ]
  },
  {
   "cell_type": "markdown",
   "metadata": {},
   "source": [
    "## Matriz de Homografía Original\n",
    "\n",
    "Tenemos dos soluciones para el mismo problema, por lo cual debemos evaluar cual solución se aproxima más a los valores originales que componen la matriz de Homografía:\n",
    "\n",
    "<ul type='a'>\n",
    "    <li>Dado que debemos obtener los valores de la Homografía resolviendo el Sistema de Ecuaciones Lineales puede llegar a ser el primer método para solucionar la problemática, nuestro sistema de ecuaciones planteado es de <i>Nx3</i>, tenemos un Sistema de Ecuaciones Rectangular, esto quiere decir que nuestro número de ecuaciones es mayor a nuestro número de incógnitas por lo que podemos decir que tenemos información de más a la hora de hacer la evaluación de las incógnitas, por lo que debemos solo utilizar el mismo número de ecuaciones e incógnitas para resolver el Sistema de Ecuaciones.</li>\n",
    "    <li> Para resolver por el segundo Método se lleva a cabo operaciones matriciales que realizamos con el método de Mínimos Cuadrados para obtener los valores de la matriz de Homografía que resuelva todo el Sistema de Ecuaciones Lineales. Esto se lleva a cabo cálculando el margen de errores para cada ecuación.\n",
    "    </li>\n",
    "</ul>"
   ]
  },
  {
   "cell_type": "markdown",
   "metadata": {},
   "source": [
    "### Solución al Sistema de Ecuaciones por el Método de Cramer\n",
    "\n",
    "Abscisa:\n",
    "\n",
    "\\begin{align}\n",
    "    x'_1 &= a_{11}x_1+a_{12}y_1+a_{13}\\\\\n",
    "    x'_2 &= a_{11}x_2+a_{12}y_2+a_{13}\\\\\n",
    "    \\vdots &= \\vdots \\\\\n",
    "    x'_n &= a_{11}x_n+a_{12}y_n+a_{13}\\\\\n",
    "\\end{align}\n",
    "\n",
    "Ordenada:\n",
    "\n",
    "\\begin{align}\n",
    "    y'_1 &= a_{21}x_1+a_{22}y_1+a_{23}\\\\\n",
    "    y'_2 &= a_{21}x_2+a_{22}y_2+a_{23}\\\\\n",
    "    \\vdots &= \\vdots \\\\\n",
    "    y'_n &= a_{21}x_n+a_{22}y_n+a_{23}\\\\\n",
    "\\end{align}"
   ]
  },
  {
   "cell_type": "code",
   "execution_count": 5,
   "metadata": {},
   "outputs": [
    {
     "name": "stdout",
     "output_type": "stream",
     "text": [
      "Homografía Original: \n",
      "\n",
      "[[ 1.1   0.2   0.  ]\n",
      " [-0.1   0.98  0.  ]\n",
      " [ 0.    0.02  1.  ]]\n",
      "\n",
      "Usando Método de Cramer:\n",
      "\n",
      "[[ 1.1   0.2   0.  ]\n",
      " [-0.1   0.98 -0.  ]\n",
      " [ 0.    0.    1.  ]]\n"
     ]
    }
   ],
   "source": [
    "print \"Homografía Original: \\n\\n\" + str(H)\n",
    "print '\\nUsando Método de Cramer:\\n\\n' + str(RecuperaHomografiaCramer(p, pt))"
   ]
  },
  {
   "cell_type": "markdown",
   "metadata": {},
   "source": [
    "Observamos que las primeras dos filas de la matriz de Homografía obtenida coinciden con la Homografía Original\n",
    "pero en la tercera se pierde la presición con el valor valor de la matriz en la posición H<sub>[2][0]</sub>, ya que al realizar la operación con la columna llena de 'unos' de la matriz <i>Q</i> se obtienen resultados que varían mucho en comparación con la matriz de Homografía Original, esto se resuelve de forma sencilla porque los valores de la tercera fila ya son conocidos con anterioridad antes de realizar las operaciones con las matrices. "
   ]
  },
  {
   "cell_type": "markdown",
   "metadata": {},
   "source": [
    "### Solución al Sistema de Ecuaciones por el Método de Mínimos Cuadrados\n",
    "\n",
    "Con este método debemos definir el margen de errores. \n",
    "\\begin{align}\n",
    "    e_1 &= x'_1-(a_{11}x_1+a_{12}y_1+a_{13})\\\\\n",
    "    e_2 &= x'_2-(a_{11}x_2+a_{12}y_1+a_{13})\\\\\n",
    "    \\vdots &= \\vdots\\\\\n",
    "    e_n &= x'_n-(a_{11}x_n+a_{12}y_n+a_{13})\\\\\n",
    "\\end{align}\n",
    "\n",
    "Fórmula aplicable para la resolución de este problema:\n",
    "$$\\mathbf{a_1} = (P^{T}P)^{-1}P^{T}X'$$"
   ]
  },
  {
   "cell_type": "code",
   "execution_count": 6,
   "metadata": {},
   "outputs": [
    {
     "name": "stdout",
     "output_type": "stream",
     "text": [
      "Homografía Original: \n",
      "\n",
      "[[ 1.1   0.2   0.  ]\n",
      " [-0.1   0.98  0.  ]\n",
      " [ 0.    0.02  1.  ]]\n",
      "\n",
      "Usando Mínimos Cuadrados:\n",
      "\n",
      "[[ 1.1   0.2   0.  ]\n",
      " [-0.1   0.98  0.  ]\n",
      " [ 0.    0.02  1.  ]]\n"
     ]
    }
   ],
   "source": [
    "print \"Homografía Original: \\n\\n\" + str(H)\n",
    "print '\\nUsando Mínimos Cuadrados:\\n\\n' + str(MinimosCuadrados(p, pt))"
   ]
  },
  {
   "cell_type": "markdown",
   "metadata": {},
   "source": [
    "Ahora podemos observar que la precisión de este Método es mejor que el usado anteriormente ya que nos devuelve todos los valores correspondientes exactamente iguales a la Homografía Original variando unicamente en el <i>-0</i> pero es equivalente ya que matemáticamente no existe como tal dicho número ( es igual a zero ), por lo que realizando el cálculo de errores podemos obtener de forma más precisa la solución con ayuda de este método, aunque afortunadamente tenemos la fórmula simplificada para realizar las operaciones matriciales que componen la solución con este método que gracias a las librerías de <i>Python</i> se pueden realizar efectivamente con rutinas ya programadas."
   ]
  },
  {
   "cell_type": "markdown",
   "metadata": {},
   "source": [
    "### Conclusión\n",
    "\n",
    "Al comparar los dos métodos tenemos que es más eficiente utilizar los mínimos cuadrados ya que al calcular el margen de errores se puede obtener los valores mínimos que se necesitan para cumplir la solución de las incógnitas a los Sistemas de Ecuaciones Lineales plateados como matrices de Coeficientes, por lo tal tenemos que el método de los Mínimos Cuadrados es más utilizado en las aplicaciones de este método por su precisión, por lo que diferentes librerías como <i>Scypy</i>, <i>Numpy</i> y <i>OpenCV</i> tienen en sus módulos rutinas que utilizan dicho método para realizar los cálculos correspondientes en cuanto a Homografías se refiere."
   ]
  },
  {
   "cell_type": "code",
   "execution_count": null,
   "metadata": {},
   "outputs": [],
   "source": []
  }
 ],
 "metadata": {
  "kernelspec": {
   "display_name": "Python 3",
   "language": "python",
   "name": "python3"
  },
  "language_info": {
   "codemirror_mode": {
    "name": "ipython",
    "version": 3
   },
   "file_extension": ".py",
   "mimetype": "text/x-python",
   "name": "python",
   "nbconvert_exporter": "python",
   "pygments_lexer": "ipython3",
   "version": "3.5.2"
  }
 },
 "nbformat": 4,
 "nbformat_minor": 2
}
