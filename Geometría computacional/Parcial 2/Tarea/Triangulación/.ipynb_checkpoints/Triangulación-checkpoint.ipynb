{
 "cells": [
  {
   "cell_type": "code",
   "execution_count": 1,
   "metadata": {},
   "outputs": [],
   "source": [
    "import numpy as np\n",
    "import pandas as pd\n",
    "from scipy.spatial import Delaunay\n",
    "import matplotlib.pyplot as plt\n",
    "from Triangulacion import GeneraPoligono"
   ]
  },
  {
   "cell_type": "markdown",
   "metadata": {},
   "source": [
    "# Vigilancia de la Galería de Arte\n",
    "\n",
    "Supongamos una galería que debe vigilar diferentes obras de arte distribuídas espacialmente dentro de una construcción que puede asumirse como un polígono simple  "
   ]
  },
  {
   "cell_type": "code",
   "execution_count": 2,
   "metadata": {},
   "outputs": [
    {
     "name": "stdout",
     "output_type": "stream",
     "text": [
      "     x  y\n",
      "0    0  0\n",
      "1    0 -5\n",
      "2    3 -7\n",
      "3    0 -9\n",
      "4    5 -9\n",
      "5    7 -7\n",
      "6    7 -9\n",
      "7   12 -9\n",
      "8   12 -6\n",
      "9   14 -6\n",
      "10  14 -9\n",
      "11  16 -7\n",
      "12  14 -3\n",
      "13   8 -3\n",
      "14   6 -1\n",
      "15   5 -3\n",
      "16   6 -3\n",
      "17   7 -4\n",
      "18   3 -5\n",
      "19   0  0\n"
     ]
    },
    {
     "data": {
      "image/png": "[encoded data removed]",
      "text/plain": [
       "<Figure size 432x288 with 1 Axes>"
      ]
     },
     "metadata": {
      "needs_background": "light"
     },
     "output_type": "display_data"
    }
   ],
   "source": [
    "#construye un polígono arbitrario\n",
    "df = GeneraPoligono()\n",
    "#df = generapoligono()\n",
    "print df\n",
    "plt.scatter(df[\"x\"], df[\"y\"], c=\"k\")\n",
    "plt.plot(df[\"x\"], df[\"y\"],c=\"k\")\n",
    "plt.title(\"Galeria de Arte\")\n",
    "plt.axis(\"off\")\n",
    "plt.show()"
   ]
  },
  {
   "cell_type": "code",
   "execution_count": null,
   "metadata": {},
   "outputs": [],
   "source": [
    "points = np.random.randint(-10, 0, size=(10, 2)) *np.random.rand(10,2)\n",
    "d={'x':[round(pts, 1) for pts in points[0:,0]], 'y':[round(pts, 1) for pts in points[0:,1]]}\n",
    "#pts = cv.convexHull(points)\n",
    "mts = pd.DataFrame(d,columns=['x', 'y'])\n",
    "mts\n"
   ]
  },
  {
   "cell_type": "code",
   "execution_count": 70,
   "metadata": {},
   "outputs": [],
   "source": [
    "def generapoligono():\n",
    "    pts = [[0,0], [-4,-3], [-2,-5], [-6, -7], [-1, -14], [4,-10], [2,-10], [3, -6], [7, -14], [11, -6], [14, -9], [16, -5], [19, -3], [17, 4], [6, -1], [8, -4], [0,-4], [0,0]]\n",
    "    df = pd.DataFrame.from_records(pts, columns = [\"x\",\"y\"])\n",
    "    return df"
   ]
  },
  {
   "cell_type": "markdown",
   "metadata": {},
   "source": [
    "La galería busca colocar cámaras (**fijas y con posibilidad de rotación**) para vigilar las obras buscando que:\n",
    "\n",
    "* **Las cámaras permitan visualizar cada espacio de la galería (no debe haber puntos ciegos)**.\n",
    "* **La cantidad de cámaras sea mínima**"
   ]
  },
  {
   "cell_type": "markdown",
   "metadata": {},
   "source": [
    "# Triangulación\n",
    "\n",
    "* Si el **polígono** fuera **convexo**, sería suficiente con colocar una cámara para vigilarlo por completo, sin embargo, para polígonos más generales debemos utilizar más cámaras \n",
    "\n",
    "* Para resolver el problema, una **primera estrategia**  consiste en considerar que la galería es un polígono simple, **dividir dicho polígono con un conjunto de triángulos** y colocar una cámara en cada uno de los triángulos. \n",
    "* <font color=\"red\">Los triángulos se construyen dibujando **diagonales** entre dos vértices diferentes **sin cortar algún lado del polígono**</font> \n",
    "\n",
    "**¿Cuántas cámaras son necesarias con esta estrategia?**\n",
    "\n"
   ]
  },
  {
   "cell_type": "code",
   "execution_count": 3,
   "metadata": {},
   "outputs": [
    {
     "name": "stdout",
     "output_type": "stream",
     "text": [
      "[[ 0  0]\n",
      " [ 0 -5]\n",
      " [ 3 -7]\n",
      " [ 0 -9]\n",
      " [ 5 -9]\n",
      " [ 7 -7]\n",
      " [ 7 -9]\n",
      " [12 -9]\n",
      " [12 -6]\n",
      " [14 -6]\n",
      " [14 -9]\n",
      " [16 -7]\n",
      " [14 -3]\n",
      " [ 8 -3]\n",
      " [ 6 -1]\n",
      " [ 5 -3]\n",
      " [ 6 -3]\n",
      " [ 7 -4]\n",
      " [ 3 -5]\n",
      " [ 0  0]]\n"
     ]
    }
   ],
   "source": [
    "#triangulación de los puntos del polígono\n",
    "deltri = Delaunay(df.values) #algoritmo de triangulación de Delaunay\n",
    "print df.values"
   ]
  },
  {
   "cell_type": "code",
   "execution_count": 4,
   "metadata": {},
   "outputs": [
    {
     "data": {
      "text/plain": [
       "array([[ 1, 18,  0],\n",
       "       [14, 13, 12],\n",
       "       [15, 18, 17],\n",
       "       [18, 15,  0],\n",
       "       [15, 14,  0],\n",
       "       [13,  8, 12],\n",
       "       [ 8, 13, 17],\n",
       "       [ 4,  2,  3],\n",
       "       [ 2,  1,  3],\n",
       "       [ 1,  2, 18],\n",
       "       [13, 16, 17],\n",
       "       [16, 13, 14],\n",
       "       [16, 15, 17],\n",
       "       [15, 16, 14],\n",
       "       [ 9, 10, 11],\n",
       "       [12,  9, 11],\n",
       "       [ 8,  9, 12],\n",
       "       [ 5,  8, 17],\n",
       "       [ 5,  4,  6],\n",
       "       [ 7,  5,  6],\n",
       "       [ 5,  7,  8],\n",
       "       [ 5,  2,  4],\n",
       "       [18,  5, 17],\n",
       "       [ 2,  5, 18],\n",
       "       [ 9,  7, 10],\n",
       "       [ 7,  9,  8]], dtype=int32)"
      ]
     },
     "execution_count": 4,
     "metadata": {},
     "output_type": "execute_result"
    }
   ],
   "source": [
    "#el resultado más importante de este algoritmo es\n",
    "#una matriz con la relación de los índices de los vértices \n",
    "#que componen cada triángulo:\n",
    "deltri.simplices"
   ]
  },
  {
   "cell_type": "code",
   "execution_count": 5,
   "metadata": {
    "scrolled": false
   },
   "outputs": [],
   "source": [
    "def dettria(delatri, df):\n",
    "    ls = []\n",
    "    for sec in delatri.simplices:\n",
    "        ind = list(sec)\n",
    "        ind.sort()\n",
    "        a = np.array([[df.loc[ind[0]]['x'],df.loc[ind[0]]['y'], 1], \n",
    "                      [df.loc[ind[1]]['x'],df.loc[ind[1]]['y'], 1], \n",
    "                      [df.loc[ind[2]]['x'],df.loc[ind[2]]['y'], 1] ])\n",
    "        det = np.linalg.det(a)\n",
    "        if det > 0:\n",
    "            ls.append(list(sec))\n",
    "    return ls"
   ]
  },
  {
   "cell_type": "markdown",
   "metadata": {},
   "source": [
    " ############################################################################"
   ]
  },
  {
   "cell_type": "code",
   "execution_count": 29,
   "metadata": {},
   "outputs": [],
   "source": [
    "def calculasegs(df):   \n",
    "    # Segmentos\n",
    "    segs = pd.DataFrame(columns=['id', 'x1', 'y1', 'x2', 'y2'])\n",
    "    # Se determina los segmentos que componen al Poligono\n",
    "    n = len(df)-1\n",
    "    for i, ev in df.iterrows():\n",
    "        if i != n:\n",
    "            sg = 0 if i==n-1 else i+1\n",
    "            d = {'id':[i,sg], 'x1':ev['x'], 'y1':ev['y'], 'x2':df.loc[sg]['x'], 'y2':df.loc[sg]['y']}\n",
    "            segs = segs.append(d, ignore_index=True, sort=False)\n",
    "    # Definir los datos de los segmentos correctamente para tener sentido en las consultas\n",
    "    segs[\"x_inf\"] = np.where(segs[\"y1\"]>segs[\"y2\"], segs[\"x2\"], segs[\"x1\"])\n",
    "    segs[\"y_inf\"] = np.where(segs[\"y1\"]>segs[\"y2\"], segs[\"y2\"], segs[\"y1\"])\n",
    "    segs[\"x_sup\"] = np.where(segs[\"y1\"]>segs[\"y2\"], segs[\"x1\"], segs[\"x2\"])\n",
    "    segs[\"y_sup\"] = np.where(segs[\"y1\"]>segs[\"y2\"], segs[\"y1\"], segs[\"y2\"])\n",
    "    segs[\"domin\"] = np.where(segs[\"x1\"]>segs[\"x2\"], segs[\"x2\"], segs[\"x1\"] ) #Definir Dominio\n",
    "    segs[\"domax\"] = np.where(segs[\"x1\"]>segs[\"x2\"], segs[\"x1\"], segs[\"x2\"] )\n",
    "    return segs"
   ]
  },
  {
   "cell_type": "code",
   "execution_count": 30,
   "metadata": {},
   "outputs": [],
   "source": [
    "def calculacentrogravedad(delatri):\n",
    "    # Centro de Gravedad\n",
    "    cnt = pd.DataFrame(columns=['it', 'x', 'y'])\n",
    "    # Se determina el Centro de Gravedad de cada Triángulo\n",
    "    for i, sec in enumerate(delatri.simplices):\n",
    "        tr = pd.DataFrame(columns=['i','x','y'])\n",
    "        for ev in sec:\n",
    "            d = {'i':ev, 'x':df.loc[ev]['x'], 'y':df.loc[ev]['y']}\n",
    "            tr= tr.append(d, ignore_index=True, sort=False)\n",
    "        # La fórmula usada para realizar el cálculo es obtener el promedio de las coordenadas (x,y) de los 3 puntos\n",
    "        d = { 'it':int(i), 'x':tr['x'].mean(), 'y':tr['y'].mean() }\n",
    "        cnt = cnt.append(d, ignore_index=True, sort=False)\n",
    "    return cnt"
   ]
  },
  {
   "cell_type": "code",
   "execution_count": 31,
   "metadata": {
    "scrolled": false
   },
   "outputs": [],
   "source": [
    "def determinatriangulos(delatri, df):\n",
    "    segs = calculasegs(df)\n",
    "    cnt = calculacentrogravedad(delatri)\n",
    "    # Definir Triángulos Interiores\n",
    "    ls = []\n",
    "    ctf = pd.DataFrame(columns=['it', 'x', 'y'])\n",
    "    for i, ev in cnt.iterrows():\n",
    "        # Delimitamos los segmentos ya sea que tengan el rango mínimo o máximo menor al centroide\n",
    "        q = '(((y_inf>' + str(ev['y']) + ')|(y_sup>' + str(ev['y']) + '))&'\n",
    "        # Delimitamos que el centroide se encuentre entre el dominio de los segmentos\n",
    "        q = q + '((domin<' + str(ev['x']) + ')&(domax>' + str(ev['x']) + ')))'\n",
    "        # Al delimitar no obtenemos como tal los segmentos inferiores o superiores respecto al centroide\n",
    "        qr = segs.query(q)\n",
    "        # Por lo que debemos realizar el cálculo de la pendiente (m) y el punto de intercepción en la ordenada (b)\n",
    "        qr[\"m\"] = (qr[\"y_sup\"]-qr[\"y_inf\"])/(qr[\"x_sup\"]-qr[\"x_inf\"])\n",
    "        qr[\"b\"] = qr[\"y_sup\"]-qr[\"m\"]*qr[\"x_sup\"]\n",
    "        # Realizamos el cálculo de 'y' sobre los segmentos anteriormente definidos con la coordenada 'x' dada\n",
    "        qr['pi'] = ev['x']*qr['m']+qr['b']\n",
    "        # Realizamos otra consulta pero esta vez nos quedamos con los puntos de intersección que son superiores\n",
    "        # a la coordenada 'y' del centroide\n",
    "        q = 'pi>' + str(ev['y'])\n",
    "        qr = qr.query(q)\n",
    "        if not qr.empty:\n",
    "            if (len(qr) % 2) == 1:\n",
    "                # Si el número de intersecciones es un número impar, guardamos la información\n",
    "                ls.append(list(delatri.simplices[i]))\n",
    "                d = { 'it':int(i), 'x':ev['x'], 'y':ev['y'] }\n",
    "                ctf = ctf.append(d, ignore_index=True, sort=False)\n",
    "    return {'tri':ls,'cengra':ctf}"
   ]
  },
  {
   "cell_type": "code",
   "execution_count": 32,
   "metadata": {},
   "outputs": [],
   "source": [
    "def matrizadyacencia(tri):\n",
    "    n = len(tri)\n",
    "    # Creamos una matriz con ceros de tamaño 'n x n'\n",
    "    ady = np.zeros((n, n), dtype=int)\n",
    "    # Verificamos todos las adyacencias del grafo\n",
    "    for i, arr in enumerate(tri):\n",
    "        j = i + 1\n",
    "        # Se determina el triángulo actual con todos los siguientes en la lista\n",
    "        for ar in tri[i+1:]:\n",
    "            c = 0\n",
    "            # Se determina si al menos los triangulos a evaluar tiene al menos dos vertices en común\n",
    "            for k in arr:\n",
    "                 if k in ar:\n",
    "                    c+= 1\n",
    "            # Si se cumple la condición entonces se guarda la adyacencia con el valor 1 en las posiciones actuales\n",
    "            if c == 2:\n",
    "                ady[i][j]=1\n",
    "                ady[j][i]=1\n",
    "            j+=1\n",
    "    return ady"
   ]
  },
  {
   "cell_type": "code",
   "execution_count": 33,
   "metadata": {},
   "outputs": [],
   "source": [
    "def listadyacencia(ls):\n",
    "    # Se crea un conjunto que contiene como información la lista de adyancecia dado un nodo del grafo\n",
    "    lsady = set()\n",
    "    for i, l in enumerate(ls):\n",
    "        if l == 1:\n",
    "            lsady.add(i)\n",
    "    return lsady"
   ]
  },
  {
   "cell_type": "code",
   "execution_count": 34,
   "metadata": {},
   "outputs": [],
   "source": [
    "def definecolorvertices(trian, ver):\n",
    "    # Se crea un conjunto con la lista de los colores disponibles [ Modificable ]\n",
    "    c = set(['r', 'g', 'b'])\n",
    "    vp = set() # Conjunto vacío que representa los vertices que ya han sido pintados con anterioridad (Vertices Pintados)\n",
    "    lv = [] # Lista vacía de los vertices por pintar\n",
    "    # Se determina cada punto del triángulo para verificar si ya ha sido pintado con anterioridad\n",
    "    for ev in trian:\n",
    "        # Se realiza la consulta en 'ver', ya que es un DF que contiene la información de coloración de los vertices\n",
    "        q = 'i==' + str(ev) \n",
    "        a = ver.query(q)\n",
    "        a.reset_index(drop=True, inplace=True)\n",
    "        if a.empty:\n",
    "            # Si no se encontró el vertice en el DF se guarda en la lista de los vertices por pintar\n",
    "            lv.append(ev)\n",
    "        else:\n",
    "            # Si se encontró el vertices entonces se guarda el color en el conjunto\n",
    "            vp.add(a.loc[0]['c'])\n",
    "    # Se realiza el lista de la diferencia del conjunto de colores respecto a los vertices ya pintados\n",
    "    # Con está operación siempre obtenemos el color restante\n",
    "    lc = list(c.difference(vp))\n",
    "    #lc = list(c - vp)  # Equivalente a la instrucción de la linea anterior\n",
    "    # Ahora se agregan los vertices por pintar al DF con su respectivo color\n",
    "    for i, v in enumerate(lv):\n",
    "        d = {'i':v,'c':str(lc[i])}\n",
    "        ver = ver.append(d, ignore_index=True, sort=False)\n",
    "    # Dado la simplificación del algoritmo y la utilidad del grafo, la primera vez que se ejecuta esta rutina\n",
    "    # se guardan los tres vertices, pero apartir de la siguiente vez que se use debido a la adyancecia\n",
    "    # solo se agrega color al vertice faltante\n",
    "    return ver"
   ]
  },
  {
   "cell_type": "code",
   "execution_count": 35,
   "metadata": {},
   "outputs": [],
   "source": [
    "def DFS(graph, tri, start):\n",
    "    # Aplicación del Algoritmo 'Búsqueda en Profundidad' o 'Deep First Search' \n",
    "    ver = pd.DataFrame(columns=['i', 'c'])\n",
    "    stack = [start]\n",
    "    visited = set()\n",
    "    while stack:\n",
    "        vertex = stack.pop()\n",
    "        if not vertex in visited:\n",
    "            visited.add(vertex)\n",
    "            stack.extend((listadyacencia(graph[vertex])).difference(visited))\n",
    "            #stack.extend(listadyacencia(graph[vertex]) - visited) # Equivalente a la instrucción de la linea anterior\n",
    "            # Modificación en el DFS para obtener un DF que contiene la coloración de los vertices\n",
    "            ver = definecolorvertices(tri[vertex], ver)\n",
    "    ver = ver.sort_values(by=[\"i\"], ascending=True)\n",
    "    ver.reset_index(drop=True, inplace=True)\n",
    "    d = {'i':len(ver), 'c':ver.loc[0]['c']}\n",
    "    ver = ver.append(d, ignore_index=True, sort=False)\n",
    "    return ver"
   ]
  },
  {
   "cell_type": "code",
   "execution_count": 36,
   "metadata": {},
   "outputs": [],
   "source": [
    "def coloreavertices(df):\n",
    "    # Copia de DF de vertices\n",
    "    cam = df.copy(deep=True)\n",
    "    #triangulación de los puntos del polígono\n",
    "    delatri = Delaunay(df.values) #algoritmo de triangulación de Delaunay\n",
    "    # Determina triangulos internos\n",
    "    trian = determinatriangulos(delatri, df)\n",
    "    # Crea Grafo (Matriz de Adyacencia)\n",
    "    ady = matrizadyacencia(trian['tri'])\n",
    "    # Recorrido de Grafo y asignación de colores a vertices\n",
    "    col = DFS(ady, trian['tri'], 0)\n",
    "    # Asignación de colores al DF de vertices\n",
    "    cam['c'] = col['c']\n",
    "    return {'cam':cam, 'tri':{'trian':trian['tri'], 'cengra':trian['cengra']} }"
   ]
  },
  {
   "cell_type": "code",
   "execution_count": 37,
   "metadata": {},
   "outputs": [],
   "source": [
    "def dibujapoligono(df, trian, show=True):\n",
    "    #Dibuja cada uno de los triángulos\n",
    "    plt.title(\"Galeria de Arte\")\n",
    "    plt.axis(\"off\")\n",
    "    for t in trian['trian']:\n",
    "        #la rutina triangula los puntos del polígono, formando un polígono convexo, \n",
    "        plt.plot([df.iloc[t[0]][\"x\"],df.iloc[t[1]][\"x\"],df.iloc[t[2]][\"x\"]], \n",
    "                 [df.iloc[t[0]][\"y\"],df.iloc[t[1]][\"y\"],df.iloc[t[2]][\"y\"]], \"r:\")\n",
    "    # Dibuja los puntos con su respectivo color\n",
    "    plt.scatter(df[\"x\"], df[\"y\"], c=df['c'])\n",
    "    # [ Opcional ] Dibuja los centroides de cada triángulo\n",
    "    #plt.scatter(trian['cengra']['x'], trian['cengra']['y'], marker='X', c='k')\n",
    "    plt.plot(df[\"x\"], df[\"y\"], c='k')\n",
    "    if show:\n",
    "        plt.show()"
   ]
  },
  {
   "cell_type": "code",
   "execution_count": 23,
   "metadata": {},
   "outputs": [
    {
     "name": "stderr",
     "output_type": "stream",
     "text": [
      "/home/jj/anaconda2/lib/python2.7/site-packages/ipykernel_launcher.py:11: SettingWithCopyWarning: \n",
      "A value is trying to be set on a copy of a slice from a DataFrame.\n",
      "Try using .loc[row_indexer,col_indexer] = value instead\n",
      "\n",
      "See the caveats in the documentation: http://pandas.pydata.org/pandas-docs/stable/indexing.html#indexing-view-versus-copy\n",
      "  # This is added back by InteractiveShellApp.init_path()\n",
      "/home/jj/anaconda2/lib/python2.7/site-packages/ipykernel_launcher.py:12: SettingWithCopyWarning: \n",
      "A value is trying to be set on a copy of a slice from a DataFrame.\n",
      "Try using .loc[row_indexer,col_indexer] = value instead\n",
      "\n",
      "See the caveats in the documentation: http://pandas.pydata.org/pandas-docs/stable/indexing.html#indexing-view-versus-copy\n",
      "  if sys.path[0] == '':\n",
      "/home/jj/anaconda2/lib/python2.7/site-packages/ipykernel_launcher.py:13: SettingWithCopyWarning: \n",
      "A value is trying to be set on a copy of a slice from a DataFrame.\n",
      "Try using .loc[row_indexer,col_indexer] = value instead\n",
      "\n",
      "See the caveats in the documentation: http://pandas.pydata.org/pandas-docs/stable/indexing.html#indexing-view-versus-copy\n",
      "  del sys.path[0]\n"
     ]
    }
   ],
   "source": [
    "vertices = coloreavertices(df)"
   ]
  },
  {
   "cell_type": "code",
   "execution_count": 28,
   "metadata": {},
   "outputs": [
    {
     "data": {
      "image/png": "[encoded data removed]",
      "text/plain": [
       "<Figure size 432x288 with 1 Axes>"
      ]
     },
     "metadata": {
      "needs_background": "light"
     },
     "output_type": "display_data"
    }
   ],
   "source": [
    "dibujapoligono(vertices['cam'], vertices['tri'])"
   ]
  },
  {
   "cell_type": "code",
   "execution_count": 2,
   "metadata": {},
   "outputs": [
    {
     "name": "stderr",
     "output_type": "stream",
     "text": [
      "/home/jj/anaconda2/lib/python2.7/site-packages/ipykernel_launcher.py:55: SettingWithCopyWarning: \n",
      "A value is trying to be set on a copy of a slice from a DataFrame.\n",
      "Try using .loc[row_indexer,col_indexer] = value instead\n",
      "\n",
      "See the caveats in the documentation: http://pandas.pydata.org/pandas-docs/stable/indexing.html#indexing-view-versus-copy\n",
      "/home/jj/anaconda2/lib/python2.7/site-packages/ipykernel_launcher.py:56: SettingWithCopyWarning: \n",
      "A value is trying to be set on a copy of a slice from a DataFrame.\n",
      "Try using .loc[row_indexer,col_indexer] = value instead\n",
      "\n",
      "See the caveats in the documentation: http://pandas.pydata.org/pandas-docs/stable/indexing.html#indexing-view-versus-copy\n",
      "/home/jj/anaconda2/lib/python2.7/site-packages/ipykernel_launcher.py:58: SettingWithCopyWarning: \n",
      "A value is trying to be set on a copy of a slice from a DataFrame.\n",
      "Try using .loc[row_indexer,col_indexer] = value instead\n",
      "\n",
      "See the caveats in the documentation: http://pandas.pydata.org/pandas-docs/stable/indexing.html#indexing-view-versus-copy\n"
     ]
    },
    {
     "data": {
      "image/png": "[encoded data removed]",
      "text/plain": [
       "<Figure size 432x288 with 1 Axes>"
      ]
     },
     "metadata": {
      "needs_background": "light"
     },
     "output_type": "display_data"
    }
   ],
   "source": [
    "from Triangulacion import GeneraPoligono\n",
    "# Importar Librerías\n",
    "import numpy as np\n",
    "import pandas as pd\n",
    "from scipy.spatial import Delaunay\n",
    "import matplotlib.pyplot as plt\n",
    "%matplotlib inline\n",
    "\n",
    "def calculasegs(df):   \n",
    "    # Segmentos\n",
    "    segs = pd.DataFrame(columns=['id', 'x1', 'y1', 'x2', 'y2'])\n",
    "    # Se determina los segmentos que componen al Poligono\n",
    "    n = len(df)-1\n",
    "    for i, ev in df.iterrows():\n",
    "        if i != n:\n",
    "            sg = 0 if i==n-1 else i+1\n",
    "            d = {'id':[i,sg], 'x1':ev['x'], 'y1':ev['y'], 'x2':df.loc[sg]['x'], 'y2':df.loc[sg]['y']}\n",
    "            segs = segs.append(d, ignore_index=True, sort=False)\n",
    "    # Definir los datos de los segmentos correctamente para tener sentido en las consultas\n",
    "    segs[\"x_inf\"] = np.where(segs[\"y1\"]>segs[\"y2\"], segs[\"x2\"], segs[\"x1\"])\n",
    "    segs[\"y_inf\"] = np.where(segs[\"y1\"]>segs[\"y2\"], segs[\"y2\"], segs[\"y1\"])\n",
    "    segs[\"x_sup\"] = np.where(segs[\"y1\"]>segs[\"y2\"], segs[\"x1\"], segs[\"x2\"])\n",
    "    segs[\"y_sup\"] = np.where(segs[\"y1\"]>segs[\"y2\"], segs[\"y1\"], segs[\"y2\"])\n",
    "    segs[\"domin\"] = np.where(segs[\"x1\"]>segs[\"x2\"], segs[\"x2\"], segs[\"x1\"] ) #Definir Dominio\n",
    "    segs[\"domax\"] = np.where(segs[\"x1\"]>segs[\"x2\"], segs[\"x1\"], segs[\"x2\"] )\n",
    "    return segs\n",
    "\n",
    "def calculacentrogravedad(delatri):\n",
    "    # Centro de Gravedad\n",
    "    cnt = pd.DataFrame(columns=['it', 'x', 'y'])\n",
    "    # Se determina el Centro de Gravedad de cada Triángulo\n",
    "    for i, sec in enumerate(delatri.simplices):\n",
    "        tr = pd.DataFrame(columns=['i','x','y'])\n",
    "        for ev in sec:\n",
    "            d = {'i':ev, 'x':df.loc[ev]['x'], 'y':df.loc[ev]['y']}\n",
    "            tr= tr.append(d, ignore_index=True, sort=False)\n",
    "        # La fórmula usada para realizar el cálculo es obtener el promedio de las coordenadas (x,y) de los 3 puntos\n",
    "        d = { 'it':int(i), 'x':tr['x'].mean(), 'y':tr['y'].mean() }\n",
    "        cnt = cnt.append(d, ignore_index=True, sort=False)\n",
    "    return cnt\n",
    "\n",
    "def determinatriangulos(delatri, df):\n",
    "    segs = calculasegs(df)\n",
    "    cnt = calculacentrogravedad(delatri)\n",
    "    # Definir Triángulos Interiores\n",
    "    ls = []\n",
    "    ctf = pd.DataFrame(columns=['it', 'x', 'y'])\n",
    "    for i, ev in cnt.iterrows():\n",
    "        # Delimitamos los segmentos ya sea que tengan el rango mínimo o máximo menor al centroide\n",
    "        q = '(((y_inf>' + str(ev['y']) + ')|(y_sup>' + str(ev['y']) + '))&'\n",
    "        # Delimitamos que el centroide se encuentre entre el dominio de los segmentos\n",
    "        q = q + '((domin<' + str(ev['x']) + ')&(domax>' + str(ev['x']) + ')))'\n",
    "        # Al delimitar no obtenemos como tal los segmentos inferiores o superiores respecto al centroide\n",
    "        qr = segs.query(q)\n",
    "        # Por lo que debemos realizar el cálculo de la pendiente (m) y el punto de intercepción en la ordenada (b)\n",
    "        qr[\"m\"] = (qr[\"y_sup\"]-qr[\"y_inf\"])/(qr[\"x_sup\"]-qr[\"x_inf\"])\n",
    "        qr[\"b\"] = qr[\"y_sup\"]-qr[\"m\"]*qr[\"x_sup\"]\n",
    "        # Realizamos el cálculo de 'y' sobre los segmentos anteriormente definidos con la coordenada 'x' dada\n",
    "        qr['pi'] = ev['x']*qr['m']+qr['b']\n",
    "        # Realizamos otra consulta pero esta vez nos quedamos con los puntos de intersección que son superiores\n",
    "        # a la coordenada 'y' del centroide\n",
    "        q = 'pi>' + str(ev['y'])\n",
    "        qr = qr.query(q)\n",
    "        if not qr.empty:\n",
    "            if (len(qr) % 2) == 1:\n",
    "                # Si el número de intersecciones es un número impar, guardamos la información\n",
    "                ls.append(list(delatri.simplices[i]))\n",
    "                d = { 'it':int(i), 'x':ev['x'], 'y':ev['y'] }\n",
    "                ctf = ctf.append(d, ignore_index=True, sort=False)\n",
    "    return {'tri':ls,'cengra':ctf}\n",
    "\n",
    "def matrizadyacencia(tri):\n",
    "    n = len(tri)\n",
    "    # Creamos una matriz con ceros de tamaño 'n x n'\n",
    "    ady = np.zeros((n, n), dtype=int)\n",
    "    # Verificamos todos las adyacencias del grafo\n",
    "    for i, arr in enumerate(tri):\n",
    "        j = i + 1\n",
    "        # Se determina el triángulo actual con todos los siguientes en la lista\n",
    "        for ar in tri[i+1:]:\n",
    "            c = 0\n",
    "            # Se determina si al menos los triangulos a evaluar tiene al menos dos vertices en común\n",
    "            for k in arr:\n",
    "                 if k in ar:\n",
    "                    c+= 1\n",
    "            # Si se cumple la condición entonces se guarda la adyacencia con el valor 1 en las posiciones actuales\n",
    "            if c == 2:\n",
    "                ady[i][j]=1\n",
    "                ady[j][i]=1\n",
    "            j+=1\n",
    "    return ady\n",
    "\n",
    "def listadyacencia(ls):\n",
    "    # Se crea un conjunto que contiene como información la lista de adyancecia dado un nodo del grafo\n",
    "    lsady = set()\n",
    "    for i, l in enumerate(ls):\n",
    "        if l == 1:\n",
    "            lsady.add(i)\n",
    "    return lsady\n",
    "\n",
    "def definecolorvertices(trian, ver):\n",
    "    # Se crea un conjunto con la lista de los colores disponibles [ Modificable ]\n",
    "    c = set(['r', 'g', 'b'])\n",
    "    vp = set() # Conjunto vacío que representa los vertices que ya han sido pintados con anterioridad (Vertices Pintados)\n",
    "    lv = [] # Lista vacía de los vertices por pintar\n",
    "    # Se determina cada punto del triángulo para verificar si ya ha sido pintado con anterioridad\n",
    "    for ev in trian:\n",
    "        # Se realiza la consulta en 'ver', ya que es un DF que contiene la información de coloración de los vertices\n",
    "        q = 'i==' + str(ev) \n",
    "        a = ver.query(q)\n",
    "        a.reset_index(drop=True, inplace=True)\n",
    "        if a.empty:\n",
    "            # Si no se encontró el vertice en el DF se guarda en la lista de los vertices por pintar\n",
    "            lv.append(ev)\n",
    "        else:\n",
    "            # Si se encontró el vertices entonces se guarda el color en el conjunto\n",
    "            vp.add(a.loc[0]['c'])\n",
    "    # Se realiza el lista de la diferencia del conjunto de colores respecto a los vertices ya pintados\n",
    "    # Con está operación siempre obtenemos el color restante\n",
    "    lc = list(c.difference(vp))\n",
    "    #lc = list(c - vp)  # Equivalente a la instrucción de la linea anterior\n",
    "    # Ahora se agregan los vertices por pintar al DF con su respectivo color\n",
    "    for i, v in enumerate(lv):\n",
    "        d = {'i':v,'c':str(lc[i])}\n",
    "        ver = ver.append(d, ignore_index=True, sort=False)\n",
    "    # Dado la simplificación del algoritmo y la utilidad del grafo, la primera vez que se ejecuta esta rutina\n",
    "    # se guardan los tres vertices, pero apartir de la siguiente vez que se use debido a la adyancecia\n",
    "    # solo se agrega color al vertice faltante\n",
    "    return ver\n",
    "\n",
    "def DFS(graph, tri, start):\n",
    "    # Aplicación del Algoritmo 'Búsqueda en Profundidad' o 'Deep First Search' \n",
    "    ver = pd.DataFrame(columns=['i', 'c'])\n",
    "    stack = [start]\n",
    "    visited = set()\n",
    "    while stack:\n",
    "        vertex = stack.pop()\n",
    "        if not vertex in visited:\n",
    "            visited.add(vertex)\n",
    "            stack.extend((listadyacencia(graph[vertex])).difference(visited))\n",
    "            #stack.extend(listadyacencia(graph[vertex]) - visited) # Equivalente a la instrucción de la linea anterior\n",
    "            # Modificación en el DFS para obtener un DF que contiene la coloración de los vertices\n",
    "            ver = definecolorvertices(tri[vertex], ver)\n",
    "    ver = ver.sort_values(by=[\"i\"], ascending=True)\n",
    "    ver.reset_index(drop=True, inplace=True)\n",
    "    d = {'i':len(ver), 'c':ver.loc[0]['c']}\n",
    "    ver = ver.append(d, ignore_index=True, sort=False)\n",
    "    return ver\n",
    "\n",
    "def coloreavertices(df):\n",
    "    # Copia de DF de vertices\n",
    "    cam = df.copy(deep=True)\n",
    "    #triangulación de los puntos del polígono\n",
    "    delatri = Delaunay(df.values) #algoritmo de triangulación de Delaunay\n",
    "    # Determina triangulos internos\n",
    "    trian = determinatriangulos(delatri, df)\n",
    "    # Crea Grafo (Matriz de Adyacencia)\n",
    "    ady = matrizadyacencia(trian['tri'])\n",
    "    # Recorrido de Grafo y asignación de colores a vertices\n",
    "    col = DFS(ady, trian['tri'], 0)\n",
    "    # Asignación de colores al DF de vertices\n",
    "    cam['c'] = col['c']\n",
    "    return {'cam':cam, 'tri':{'trian':trian['tri'], 'cengra':trian['cengra']} }\n",
    "\n",
    "def dibujapoligono(df, trian, show=True):\n",
    "    #Dibuja cada uno de los triángulos\n",
    "    plt.title(\"Galeria de Arte\")\n",
    "    plt.axis(\"off\")\n",
    "    for t in trian['trian']:\n",
    "        #la rutina triangula los puntos del polígono, formando un polígono convexo, \n",
    "        plt.plot([df.iloc[t[0]][\"x\"],df.iloc[t[1]][\"x\"],df.iloc[t[2]][\"x\"]], \n",
    "                 [df.iloc[t[0]][\"y\"],df.iloc[t[1]][\"y\"],df.iloc[t[2]][\"y\"]], \"r:\")\n",
    "    # Dibuja los puntos con su respectivo color\n",
    "    plt.scatter(df[\"x\"], df[\"y\"], c=df['c'])\n",
    "    # [ Opcional ] Dibuja los centroides de cada triángulo\n",
    "    #plt.scatter(trian['cengra']['x'], trian['cengra']['y'], marker='X', c='k')\n",
    "    plt.plot(df[\"x\"], df[\"y\"], c='k')\n",
    "    if show:\n",
    "        plt.show()\n",
    "\n",
    "df = GeneraPoligono()\n",
    "vertices = coloreavertices(df)\n",
    "dibujapoligono(vertices['cam'], vertices['tri'])"
   ]
  },
  {
   "cell_type": "code",
   "execution_count": 92,
   "metadata": {},
   "outputs": [
    {
     "name": "stderr",
     "output_type": "stream",
     "text": [
      "/home/jj/anaconda2/lib/python2.7/site-packages/ipykernel_launcher.py:34: SettingWithCopyWarning: \n",
      "A value is trying to be set on a copy of a slice from a DataFrame.\n",
      "Try using .loc[row_indexer,col_indexer] = value instead\n",
      "\n",
      "See the caveats in the documentation: http://pandas.pydata.org/pandas-docs/stable/indexing.html#indexing-view-versus-copy\n",
      "/home/jj/anaconda2/lib/python2.7/site-packages/ipykernel_launcher.py:35: SettingWithCopyWarning: \n",
      "A value is trying to be set on a copy of a slice from a DataFrame.\n",
      "Try using .loc[row_indexer,col_indexer] = value instead\n",
      "\n",
      "See the caveats in the documentation: http://pandas.pydata.org/pandas-docs/stable/indexing.html#indexing-view-versus-copy\n",
      "/home/jj/anaconda2/lib/python2.7/site-packages/ipykernel_launcher.py:36: SettingWithCopyWarning: \n",
      "A value is trying to be set on a copy of a slice from a DataFrame.\n",
      "Try using .loc[row_indexer,col_indexer] = value instead\n",
      "\n",
      "See the caveats in the documentation: http://pandas.pydata.org/pandas-docs/stable/indexing.html#indexing-view-versus-copy\n"
     ]
    },
    {
     "name": "stdout",
     "output_type": "stream",
     "text": [
      "{'tri': [[1, 18, 0], [13, 8, 12], [8, 13, 17], [4, 2, 3], [1, 2, 18], [13, 16, 17], [16, 13, 14], [15, 16, 14], [9, 10, 11], [12, 9, 11], [8, 9, 12], [5, 8, 17], [7, 5, 6], [5, 7, 8], [5, 2, 4], [18, 5, 17], [2, 5, 18]], 'cengra':       it          x         y\n",
      "0    0.0   1.000000 -3.333333\n",
      "1    5.0  11.333333 -4.000000\n",
      "2    6.0   9.000000 -4.333333\n",
      "3    7.0   2.666667 -8.333333\n",
      "4    9.0   2.000000 -5.666667\n",
      "5   10.0   7.000000 -3.333333\n",
      "6   11.0   6.666667 -2.333333\n",
      "7   13.0   5.666667 -2.333333\n",
      "8   14.0  14.666667 -7.333333\n",
      "9   15.0  14.666667 -5.333333\n",
      "10  16.0  13.333333 -5.000000\n",
      "11  17.0   8.666667 -5.666667\n",
      "12  19.0   8.666667 -8.333333\n",
      "13  20.0  10.333333 -7.333333\n",
      "14  21.0   5.000000 -7.666667\n",
      "15  22.0   5.666667 -5.333333\n",
      "16  23.0   4.333333 -6.333333}\n"
     ]
    }
   ],
   "source": [
    "tri = determinatriangulos(deltri, df)\n",
    "print tri"
   ]
  },
  {
   "cell_type": "code",
   "execution_count": 16,
   "metadata": {
    "scrolled": false
   },
   "outputs": [
    {
     "name": "stdout",
     "output_type": "stream",
     "text": [
      "[[0 0 0 0 1 0 0 0 0 0 0 0 0 0 0 0 0]\n",
      " [0 0 1 0 0 0 0 0 0 0 1 0 0 0 0 0 0]\n",
      " [0 1 0 0 0 1 0 0 0 0 0 1 0 0 0 0 0]\n",
      " [0 0 0 0 0 0 0 0 0 0 0 0 0 0 1 0 0]\n",
      " [1 0 0 0 0 0 0 0 0 0 0 0 0 0 0 0 1]\n",
      " [0 0 1 0 0 0 1 0 0 0 0 0 0 0 0 0 0]\n",
      " [0 0 0 0 0 1 0 1 0 0 0 0 0 0 0 0 0]\n",
      " [0 0 0 0 0 0 1 0 0 0 0 0 0 0 0 0 0]\n",
      " [0 0 0 0 0 0 0 0 0 1 0 0 0 0 0 0 0]\n",
      " [0 0 0 0 0 0 0 0 1 0 1 0 0 0 0 0 0]\n",
      " [0 1 0 0 0 0 0 0 0 1 0 0 0 0 0 0 0]\n",
      " [0 0 1 0 0 0 0 0 0 0 0 0 0 1 0 1 0]\n",
      " [0 0 0 0 0 0 0 0 0 0 0 0 0 1 0 0 0]\n",
      " [0 0 0 0 0 0 0 0 0 0 0 1 1 0 0 0 0]\n",
      " [0 0 0 1 0 0 0 0 0 0 0 0 0 0 0 0 1]\n",
      " [0 0 0 0 0 0 0 0 0 0 0 1 0 0 0 0 1]\n",
      " [0 0 0 0 1 0 0 0 0 0 0 0 0 0 1 1 0]]\n"
     ]
    }
   ],
   "source": [
    "ady = matrizadyacencia(tri)\n",
    "print ady"
   ]
  },
  {
   "cell_type": "code",
   "execution_count": 17,
   "metadata": {
    "scrolled": false
   },
   "outputs": [
    {
     "name": "stdout",
     "output_type": "stream",
     "text": [
      "     i  c\n",
      "0    0  g\n",
      "1    1  r\n",
      "2    2  g\n",
      "3    3  r\n",
      "4    4  b\n",
      "5    5  r\n",
      "6    6  b\n",
      "7    7  g\n",
      "8    8  b\n",
      "9    9  r\n",
      "10  10  g\n",
      "11  11  b\n",
      "12  12  g\n",
      "13  13  r\n",
      "14  14  g\n",
      "15  15  r\n",
      "16  16  b\n",
      "17  17  g\n",
      "18  18  b\n",
      "19  19  g\n"
     ]
    },
    {
     "data": {
      "text/html": [
       "<div>\n",
       "<style scoped>\n",
       "    .dataframe tbody tr th:only-of-type {\n",
       "        vertical-align: middle;\n",
       "    }\n",
       "\n",
       "    .dataframe tbody tr th {\n",
       "        vertical-align: top;\n",
       "    }\n",
       "\n",
       "    .dataframe thead th {\n",
       "        text-align: right;\n",
       "    }\n",
       "</style>\n",
       "<table border=\"1\" class=\"dataframe\">\n",
       "  <thead>\n",
       "    <tr style=\"text-align: right;\">\n",
       "      <th></th>\n",
       "      <th>x</th>\n",
       "      <th>y</th>\n",
       "    </tr>\n",
       "  </thead>\n",
       "  <tbody>\n",
       "    <tr>\n",
       "      <th>0</th>\n",
       "      <td>0</td>\n",
       "      <td>0</td>\n",
       "    </tr>\n",
       "    <tr>\n",
       "      <th>1</th>\n",
       "      <td>0</td>\n",
       "      <td>-5</td>\n",
       "    </tr>\n",
       "    <tr>\n",
       "      <th>2</th>\n",
       "      <td>3</td>\n",
       "      <td>-7</td>\n",
       "    </tr>\n",
       "    <tr>\n",
       "      <th>3</th>\n",
       "      <td>0</td>\n",
       "      <td>-9</td>\n",
       "    </tr>\n",
       "    <tr>\n",
       "      <th>4</th>\n",
       "      <td>5</td>\n",
       "      <td>-9</td>\n",
       "    </tr>\n",
       "    <tr>\n",
       "      <th>5</th>\n",
       "      <td>7</td>\n",
       "      <td>-7</td>\n",
       "    </tr>\n",
       "    <tr>\n",
       "      <th>6</th>\n",
       "      <td>7</td>\n",
       "      <td>-9</td>\n",
       "    </tr>\n",
       "    <tr>\n",
       "      <th>7</th>\n",
       "      <td>12</td>\n",
       "      <td>-9</td>\n",
       "    </tr>\n",
       "    <tr>\n",
       "      <th>8</th>\n",
       "      <td>12</td>\n",
       "      <td>-6</td>\n",
       "    </tr>\n",
       "    <tr>\n",
       "      <th>9</th>\n",
       "      <td>14</td>\n",
       "      <td>-6</td>\n",
       "    </tr>\n",
       "    <tr>\n",
       "      <th>10</th>\n",
       "      <td>14</td>\n",
       "      <td>-9</td>\n",
       "    </tr>\n",
       "    <tr>\n",
       "      <th>11</th>\n",
       "      <td>16</td>\n",
       "      <td>-7</td>\n",
       "    </tr>\n",
       "    <tr>\n",
       "      <th>12</th>\n",
       "      <td>14</td>\n",
       "      <td>-3</td>\n",
       "    </tr>\n",
       "    <tr>\n",
       "      <th>13</th>\n",
       "      <td>8</td>\n",
       "      <td>-3</td>\n",
       "    </tr>\n",
       "    <tr>\n",
       "      <th>14</th>\n",
       "      <td>6</td>\n",
       "      <td>-1</td>\n",
       "    </tr>\n",
       "    <tr>\n",
       "      <th>15</th>\n",
       "      <td>5</td>\n",
       "      <td>-3</td>\n",
       "    </tr>\n",
       "    <tr>\n",
       "      <th>16</th>\n",
       "      <td>6</td>\n",
       "      <td>-3</td>\n",
       "    </tr>\n",
       "    <tr>\n",
       "      <th>17</th>\n",
       "      <td>7</td>\n",
       "      <td>-4</td>\n",
       "    </tr>\n",
       "    <tr>\n",
       "      <th>18</th>\n",
       "      <td>3</td>\n",
       "      <td>-5</td>\n",
       "    </tr>\n",
       "    <tr>\n",
       "      <th>19</th>\n",
       "      <td>0</td>\n",
       "      <td>0</td>\n",
       "    </tr>\n",
       "  </tbody>\n",
       "</table>\n",
       "</div>"
      ],
      "text/plain": [
       "     x  y\n",
       "0    0  0\n",
       "1    0 -5\n",
       "2    3 -7\n",
       "3    0 -9\n",
       "4    5 -9\n",
       "5    7 -7\n",
       "6    7 -9\n",
       "7   12 -9\n",
       "8   12 -6\n",
       "9   14 -6\n",
       "10  14 -9\n",
       "11  16 -7\n",
       "12  14 -3\n",
       "13   8 -3\n",
       "14   6 -1\n",
       "15   5 -3\n",
       "16   6 -3\n",
       "17   7 -4\n",
       "18   3 -5\n",
       "19   0  0"
      ]
     },
     "execution_count": 17,
     "metadata": {},
     "output_type": "execute_result"
    }
   ],
   "source": [
    "col = DFS(ady, tri, 0)\n",
    "cam = df.copy(deep=True)\n",
    "print col\n",
    "#q = cam.head(len(cam)-1).query(\"c=='g'\")\n",
    "#print len(q)\n",
    "cam"
   ]
  },
  {
   "cell_type": "code",
   "execution_count": 94,
   "metadata": {
    "scrolled": false
   },
   "outputs": [
    {
     "data": {
      "image/png": "[encoded data removed]",
      "text/plain": [
       "<Figure size 432x288 with 1 Axes>"
      ]
     },
     "metadata": {
      "needs_background": "light"
     },
     "output_type": "display_data"
    }
   ],
   "source": [
    "#dibuja cada uno de los triángulos\n",
    "for t in tri['tri']:\n",
    "    #if not i in (1,2,3,4,8,12,18,24,25): #la rutina triangula los puntos del polígono, formando un polígono convexo, esa condición elimina los triángulos externos al polígono\n",
    "    #if not i in (8,2,3,4,1,18,24,25,12): #la rutina triangula los puntos del polígono, formando un polígono convexo, esa condición elimina los triángulos externos al polígono\n",
    "    plt.plot([df.iloc[t[0]][\"x\"],df.iloc[t[1]][\"x\"],df.iloc[t[2]][\"x\"]], [df.iloc[t[0]][\"y\"],df.iloc[t[1]][\"y\"],df.iloc[t[2]][\"y\"]], \"r:\")\n",
    "plt.scatter(df[\"x\"], df[\"y\"])\n",
    "plt.scatter(ctf[\"x\"], ctf[\"y\"], c='g')\n",
    "plt.plot(df[\"x\"], df[\"y\"])\n",
    "plt.axis(\"off\")\n",
    "plt.show()"
   ]
  },
  {
   "cell_type": "code",
   "execution_count": 97,
   "metadata": {},
   "outputs": [
    {
     "data": {
      "image/png": "[encoded data removed]",
      "text/plain": [
       "<Figure size 432x288 with 1 Axes>"
      ]
     },
     "metadata": {
      "needs_background": "light"
     },
     "output_type": "display_data"
    }
   ],
   "source": [
    "#dibuja cada uno de los triángulos\n",
    "for i, t in enumerate(deltri.simplices):\n",
    "    #if not i in (1,2,3,4,8,12,18,24,25): #la rutina triangula los puntos del polígono, formando un polígono convexo, esa condición elimina los triángulos externos al polígono\n",
    "    #if not i in (8,2,3,4,1,18,24,25,12): #la rutina triangula los puntos del polígono, formando un polígono convexo, esa condición elimina los triángulos externos al polígono\n",
    "        \n",
    "    plt.plot([df.iloc[t[0]][\"x\"],df.iloc[t[1]][\"x\"],df.iloc[t[2]][\"x\"]], [df.iloc[t[0]][\"y\"],df.iloc[t[1]][\"y\"],df.iloc[t[2]][\"y\"]], \"r:\")\n",
    "plt.scatter(df[\"x\"], df[\"y\"])\n",
    "plt.scatter(cnt[\"x\"], cnt[\"y\"], c='g')\n",
    "plt.plot(df[\"x\"], df[\"y\"])\n",
    "plt.axis(\"off\")\n",
    "plt.show()"
   ]
  },
  {
   "cell_type": "code",
   "execution_count": 57,
   "metadata": {},
   "outputs": [
    {
     "name": "stdout",
     "output_type": "stream",
     "text": [
      "[[ 1 18  0]\n",
      " [14 13 12]\n",
      " [15 18 17]\n",
      " [18 15  0]\n",
      " [15 14  0]\n",
      " [13  8 12]\n",
      " [ 8 13 17]\n",
      " [ 4  2  3]\n",
      " [ 2  1  3]\n",
      " [ 1  2 18]\n",
      " [13 16 17]\n",
      " [16 13 14]\n",
      " [16 15 17]\n",
      " [15 16 14]\n",
      " [ 9 10 11]\n",
      " [12  9 11]\n",
      " [ 8  9 12]\n",
      " [ 5  8 17]\n",
      " [ 5  4  6]\n",
      " [ 7  5  6]\n",
      " [ 5  7  8]\n",
      " [ 5  2  4]\n",
      " [18  5 17]\n",
      " [ 2  5 18]\n",
      " [ 9  7 10]\n",
      " [ 7  9  8]]\n"
     ]
    }
   ],
   "source": [
    "print deltri.simplices"
   ]
  },
  {
   "cell_type": "code",
   "execution_count": null,
   "metadata": {},
   "outputs": [],
   "source": []
  },
  {
   "cell_type": "code",
   "execution_count": null,
   "metadata": {},
   "outputs": [],
   "source": []
  },
  {
   "cell_type": "code",
   "execution_count": null,
   "metadata": {},
   "outputs": [],
   "source": [
    "dfs(ady, tri, 0)"
   ]
  },
  {
   "cell_type": "code",
   "execution_count": null,
   "metadata": {},
   "outputs": [],
   "source": [
    "#dfs(ady, 0)\n",
    "c = set(['r', 'g', 'b'])\n",
    "list(c)[0]"
   ]
  },
  {
   "cell_type": "code",
   "execution_count": null,
   "metadata": {},
   "outputs": [],
   "source": [
    "ver = pd.DataFrame(columns=['i', 'c'])\n",
    "ver"
   ]
  },
  {
   "cell_type": "code",
   "execution_count": null,
   "metadata": {},
   "outputs": [],
   "source": [
    "defcolvert([1, 18, 0], ver)\n",
    "#colvert([1, 2, 18], ver)"
   ]
  },
  {
   "cell_type": "code",
   "execution_count": null,
   "metadata": {},
   "outputs": [],
   "source": [
    "ver = ver.append({'i':1,'c':'r'}, ignore_index=True, sort=False)\n",
    "ver = ver.append({'i':18,'c':'g'}, ignore_index=True, sort=False)\n",
    "ver = ver.append({'i':0,'c':'b'}, ignore_index=True, sort=False)\n",
    "ver"
   ]
  },
  {
   "cell_type": "code",
   "execution_count": null,
   "metadata": {},
   "outputs": [],
   "source": [
    "getady(ady[0])"
   ]
  },
  {
   "cell_type": "markdown",
   "metadata": {
    "collapsed": true
   },
   "source": [
    "Al colocar una cámara en cada triángulo, serían necesarias $n-2$ cámaras, dado que \n",
    "\n",
    "*Un polígono simple con $n$ vértices puede subdividirse en $n-2$ triángulos*\n",
    "\n",
    "## Demostración\n",
    "\n",
    "La demostración puede realizarse por inducción\n",
    "\n",
    "1. **Caso base** ($n = 3$)\n",
    "    2. Considera un triángulo (polígono simple) para el que $n = 3$. Dicho polígno puede subdividirse en $n-2=1$ triángulos.\n",
    "2. **Generalización** Para un polígono con $n$ vértices\n",
    "    3. Suponemos que cualquier polígono con $m < n$ vértices puede subdividirse en $m-2$ triángulos.\n",
    "    4. **Si fuera posible** dibujar alguna diagonal entre dos vértices diferentes en el polígono con $n$ vértices, este quedaría dividido en dos polígonos simples con $m_1$ y $m_2$ lados\n",
    "        5. $m_1 < n$ y $m_2 < n$. \n",
    "        6. $m_1+m_2-2=n$\n",
    "    5. Cada uno de esos polígono puede dividirse por $m_1-2$ y $m_2-2$ triángulos, por lo que al unirlos, el polígono original se dividiría en $(m_1-2)+(m_2-2)=(m_1+m_2)-4=(n+2)-4=n-2$ triángulos \n",
    "    \n",
    "Para terminar la demostración deberíamos mostrar que **siempre es posible dividir un polígono simple** en dos polígonos simples mediante una diagonal"
   ]
  },
  {
   "cell_type": "markdown",
   "metadata": {
    "collapsed": true
   },
   "source": [
    "## Una cota aún menor para el número de cámaras\n",
    "\n",
    "Colocar una cámara en cada triángulo es una estrategia ineficiente. Podemos fácilmente pensar en estrategias diferentes aún mejores.  \n",
    "\n",
    "**Cámaras en las diagonales**\n",
    "\n",
    "Una diagonal permite acceder a dos triángulos diferentes, de manera que colocar una cámara en cada una de ellas permite cubrir toda la galería con aproximadamente $\\lfloor \\frac{n}{2} \\rfloor$ cámaras\n",
    "\n",
    "** Cámaras en vértices **\n",
    "\n",
    "Podría ser más ventajoso colocar cámaras en algunos vertices del polígono, sobre todo si en esos vértices inciden muchos triángulos.\n",
    "\n",
    "Podemos vigilar toda la galería si colocamos cámaras en los vértices del polígono, de manera que cada triángulo tenga una cámara en, exactamente, un vértice. Esto se puede realizar guiándonos por el problema de **coloración** de los vértices de los triángulos, de esta manera, el número de cámaras podría reducirse a $\\lfloor \\frac{n}{3} \\rfloor$"
   ]
  },
  {
   "cell_type": "markdown",
   "metadata": {},
   "source": [
    "## Coloración de los vértices de los triángulos\n",
    "\n",
    "Buscamos asignar uno de tres colores (negro, blanco y gris) a cada uno de los vértices de los triángulos cuidando que los vértices de cada triángulo tengan los tres colores diferentes\n",
    "\n",
    "<img src=\"coloracion.png\" />\n",
    "\n",
    "Resolver el problema es posible si consideramos la representación de la triangulación mediante la **gráfica dual** de la triangulación. En esta gráfica dual\n",
    "\n",
    "1. Cada triángulo es un nodo.\n",
    "2. Existe una arista entre dos nodos si los triángulos correspondientes están unidos por una diagonal\n",
    "\n",
    "<img src=\"dual_graph.png\" />\n",
    "\n",
    "La gráfica en particular es un **árbol**\n",
    "\n",
    "* Observa que los nodos están mínimamente conectados\n",
    "\n",
    "Puedes colorear los triángulos coloreando los vértices del triángulo asociado a alguna hoja [seleccioanda arbitrariamente] y extender la coloración a los nodos vecinos. \n",
    "\n",
    "* Observa que si un triángulo ha sido coloreado, el triángulo vecino ya tiene dos vértices coloreados y resta colorear solo uno (con el color complementario)"
   ]
  },
  {
   "cell_type": "markdown",
   "metadata": {
    "collapsed": true
   },
   "source": [
    "# <font color=\"red\">Tarea</font>\n",
    "\n",
    "**Objetivo**: Realizar la coloración de los vértices de un polígono general.\n",
    "\n",
    "**Instrucciones:**\n",
    "\n",
    "Para desarrollar este proyecto, deben considerar que el polígono está definido de la siguiente manera: \n",
    "\n",
    "1. Las coordenadas de los vértices están registradas en un DataFrame con las columnas *x* e *y*.\n",
    "2. El polígono contiene un número arbitrario de vértices y se construye uniendo con líneas los vértices sucesivos del DataFrame.\n",
    "3. El polígono debe leerse por medio de una función llamada $\\texttt{GeneraPolígono}$, que no recibe parámetros, pero que les regresa el DataFrame [como la utilizada en esta libreta]. \n",
    "\n",
    "Para un **polígono arbitrario** construido con la función $\\texttt{GeneraPolígono}$, su implementación debe realizar lo siguiente:\n",
    "\n",
    "1. Triangular los vértices del polígono mediante el algoritmo de Delaunay.\n",
    "2. Construir una función que identifique si un triángulo, definido por sus tres vértices se encuentra fuera del polígono original.\n",
    "3. Eliminar de la triangulación de Delaunay los triángulos ubicados fuera del polígono original.\n",
    "4. Aplicar la estrategia de coloración de vértices definida en la sección anterior, utilizando tres colores diferentes [ustedes pueden seleccionarlos arbitrariamente]\n",
    "5. Mostrar, en una gráfica:\n",
    "    5. El polígono original \n",
    "    5. Los vértices coloreados.\n",
    "    5. Los triángulos internos obtenidos del algoritmo de Delaunay. \n",
    "\n",
    "** Consideraciones para revisión**\n",
    "\n",
    "El polígono que se genera al inicio de esta libreta puede servirles como caso base, aunque les sugiero asegurarse que su implementación funcione correctamente probando con otros casos, generados de forma aleatoria preferentemente [es la estrategia que seguiré para revisar su proyecto].\n",
    "\n",
    "Deben enviar una libreta con su implementación, la cual debe contener una sola celda de código, de manera que yo pueda revisar su proyecto ejecutando dicha celda. La primera instrucción de la celda debe ser la siguiente:\n",
    "\n",
    "$$\\texttt{from Triangulacion import GeneraPoligono}$$\n",
    "\n",
    "Para probar yo integraré mi implementación de la función $\\texttt{GeneraPoligono}$ que generará polígonos arbitrarios.\n",
    "\n",
    "Sus implementaciones serán revisadas con software especializado en la detección de plagios.\n",
    "\n",
    "Pueden pasar a mi cubículo para discutir dudas.\n",
    "\n",
    "**Entrega:**\n",
    "\n",
    "Viernes 7 de marzo [entregas fuera de tiempo tiempo tendrán un factor de penalización del $40\\%$]."
   ]
  },
  {
   "cell_type": "code",
   "execution_count": null,
   "metadata": {},
   "outputs": [],
   "source": []
  }
 ],
 "metadata": {
  "kernelspec": {
   "display_name": "Python 3",
   "language": "python",
   "name": "python3"
  },
  "language_info": {
   "codemirror_mode": {
    "name": "ipython",
    "version": 3
   },
   "file_extension": ".py",
   "mimetype": "text/x-python",
   "name": "python",
   "nbconvert_exporter": "python",
   "pygments_lexer": "ipython3",
   "version": "3.5.2"
  }
 },
 "nbformat": 4,
 "nbformat_minor": 2
}
