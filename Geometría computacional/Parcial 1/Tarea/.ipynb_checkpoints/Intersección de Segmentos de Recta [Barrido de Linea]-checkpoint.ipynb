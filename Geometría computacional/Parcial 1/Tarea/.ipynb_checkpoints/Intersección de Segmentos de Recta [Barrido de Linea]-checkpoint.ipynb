{
 "cells": [
  {
   "cell_type": "markdown",
   "metadata": {},
   "source": [
    "# Intersección de Segmentos de Rectas\n",
    "\n",
    "                                                                                                   Sábado 09/FEB/2019\n",
    "160300102 / Méndez Pool Joan de Jesús"
   ]
  },
  {
   "cell_type": "code",
   "execution_count": 1,
   "metadata": {},
   "outputs": [],
   "source": [
    "from random import sample, randint, random\n",
    "import pandas as pd\n",
    "import numpy as np\n",
    "import matplotlib.pyplot as plt\n",
    "%matplotlib inline"
   ]
  },
  {
   "cell_type": "markdown",
   "metadata": {},
   "source": [
    "## Se genera un conjunto aleatorio de segmentos de rectas\n",
    "\n",
    "##### Construcción del DataFrame"
   ]
  },
  {
   "cell_type": "code",
   "execution_count": 2,
   "metadata": {},
   "outputs": [
    {
     "data": {
      "text/html": [
       "<div>\n",
       "<style scoped>\n",
       "    .dataframe tbody tr th:only-of-type {\n",
       "        vertical-align: middle;\n",
       "    }\n",
       "\n",
       "    .dataframe tbody tr th {\n",
       "        vertical-align: top;\n",
       "    }\n",
       "\n",
       "    .dataframe thead th {\n",
       "        text-align: right;\n",
       "    }\n",
       "</style>\n",
       "<table border=\"1\" class=\"dataframe\">\n",
       "  <thead>\n",
       "    <tr style=\"text-align: right;\">\n",
       "      <th></th>\n",
       "      <th>x1</th>\n",
       "      <th>y1</th>\n",
       "      <th>x2</th>\n",
       "      <th>y2</th>\n",
       "    </tr>\n",
       "  </thead>\n",
       "  <tbody>\n",
       "    <tr>\n",
       "      <th>0</th>\n",
       "      <td>-26.089166</td>\n",
       "      <td>-3.581369</td>\n",
       "      <td>-10.509658</td>\n",
       "      <td>2.886477</td>\n",
       "    </tr>\n",
       "    <tr>\n",
       "      <th>1</th>\n",
       "      <td>-16.015933</td>\n",
       "      <td>-2.210509</td>\n",
       "      <td>-12.148746</td>\n",
       "      <td>-19.599662</td>\n",
       "    </tr>\n",
       "    <tr>\n",
       "      <th>2</th>\n",
       "      <td>1.900710</td>\n",
       "      <td>-19.293351</td>\n",
       "      <td>3.345626</td>\n",
       "      <td>-26.122312</td>\n",
       "    </tr>\n",
       "    <tr>\n",
       "      <th>3</th>\n",
       "      <td>-33.921397</td>\n",
       "      <td>-18.119203</td>\n",
       "      <td>-13.647547</td>\n",
       "      <td>-7.936142</td>\n",
       "    </tr>\n",
       "    <tr>\n",
       "      <th>4</th>\n",
       "      <td>-12.768440</td>\n",
       "      <td>4.113847</td>\n",
       "      <td>15.435906</td>\n",
       "      <td>-29.734947</td>\n",
       "    </tr>\n",
       "  </tbody>\n",
       "</table>\n",
       "</div>"
      ],
      "text/plain": [
       "          x1         y1         x2         y2\n",
       "0 -26.089166  -3.581369 -10.509658   2.886477\n",
       "1 -16.015933  -2.210509 -12.148746 -19.599662\n",
       "2   1.900710 -19.293351   3.345626 -26.122312\n",
       "3 -33.921397 -18.119203 -13.647547  -7.936142\n",
       "4 -12.768440   4.113847  15.435906 -29.734947"
      ]
     },
     "execution_count": 2,
     "metadata": {},
     "output_type": "execute_result"
    }
   ],
   "source": [
    "#generamos un conjunto de rectas aleatorio\n",
    "n = 15\n",
    "\n",
    "li = -10 #límites del dominio\n",
    "ls = 10\n",
    "\n",
    "np.random.seed(1000) #no mover para poder reproducir los resultados\n",
    "segs = pd.DataFrame(li+(ls-li)*np.random.randn(n,4), columns=[\"x1\", \"y1\", \"x2\", \"y2\"])\n",
    "segs.head()"
   ]
  },
  {
   "cell_type": "markdown",
   "metadata": {},
   "source": [
    "### Identificación del punto superior e inferior de cada segmento\n",
    "\n",
    "##### Se define el dominio de cada segmento"
   ]
  },
  {
   "cell_type": "code",
   "execution_count": 3,
   "metadata": {},
   "outputs": [
    {
     "data": {
      "text/html": [
       "<div>\n",
       "<style scoped>\n",
       "    .dataframe tbody tr th:only-of-type {\n",
       "        vertical-align: middle;\n",
       "    }\n",
       "\n",
       "    .dataframe tbody tr th {\n",
       "        vertical-align: top;\n",
       "    }\n",
       "\n",
       "    .dataframe thead th {\n",
       "        text-align: right;\n",
       "    }\n",
       "</style>\n",
       "<table border=\"1\" class=\"dataframe\">\n",
       "  <thead>\n",
       "    <tr style=\"text-align: right;\">\n",
       "      <th></th>\n",
       "      <th>x1</th>\n",
       "      <th>y1</th>\n",
       "      <th>x2</th>\n",
       "      <th>y2</th>\n",
       "      <th>x_inf</th>\n",
       "      <th>y_inf</th>\n",
       "      <th>x_sup</th>\n",
       "      <th>y_sup</th>\n",
       "      <th>domin</th>\n",
       "      <th>domax</th>\n",
       "    </tr>\n",
       "  </thead>\n",
       "  <tbody>\n",
       "    <tr>\n",
       "      <th>10</th>\n",
       "      <td>-30.808742</td>\n",
       "      <td>3.008428</td>\n",
       "      <td>43.992917</td>\n",
       "      <td>6.040490</td>\n",
       "      <td>-30.808742</td>\n",
       "      <td>3.008428</td>\n",
       "      <td>43.992917</td>\n",
       "      <td>6.040490</td>\n",
       "      <td>-30.808742</td>\n",
       "      <td>43.992917</td>\n",
       "    </tr>\n",
       "    <tr>\n",
       "      <th>11</th>\n",
       "      <td>-31.938425</td>\n",
       "      <td>-13.561089</td>\n",
       "      <td>-18.457410</td>\n",
       "      <td>-16.608011</td>\n",
       "      <td>-18.457410</td>\n",
       "      <td>-16.608011</td>\n",
       "      <td>-31.938425</td>\n",
       "      <td>-13.561089</td>\n",
       "      <td>-31.938425</td>\n",
       "      <td>-18.457410</td>\n",
       "    </tr>\n",
       "    <tr>\n",
       "      <th>12</th>\n",
       "      <td>-32.223256</td>\n",
       "      <td>-24.840115</td>\n",
       "      <td>41.495184</td>\n",
       "      <td>11.464266</td>\n",
       "      <td>-32.223256</td>\n",
       "      <td>-24.840115</td>\n",
       "      <td>41.495184</td>\n",
       "      <td>11.464266</td>\n",
       "      <td>-32.223256</td>\n",
       "      <td>41.495184</td>\n",
       "    </tr>\n",
       "    <tr>\n",
       "      <th>13</th>\n",
       "      <td>-47.322690</td>\n",
       "      <td>-22.943539</td>\n",
       "      <td>11.644816</td>\n",
       "      <td>-6.466594</td>\n",
       "      <td>-47.322690</td>\n",
       "      <td>-22.943539</td>\n",
       "      <td>11.644816</td>\n",
       "      <td>-6.466594</td>\n",
       "      <td>-47.322690</td>\n",
       "      <td>11.644816</td>\n",
       "    </tr>\n",
       "    <tr>\n",
       "      <th>14</th>\n",
       "      <td>-26.706565</td>\n",
       "      <td>-43.899966</td>\n",
       "      <td>12.668345</td>\n",
       "      <td>10.970614</td>\n",
       "      <td>-26.706565</td>\n",
       "      <td>-43.899966</td>\n",
       "      <td>12.668345</td>\n",
       "      <td>10.970614</td>\n",
       "      <td>-26.706565</td>\n",
       "      <td>12.668345</td>\n",
       "    </tr>\n",
       "  </tbody>\n",
       "</table>\n",
       "</div>"
      ],
      "text/plain": [
       "           x1         y1         x2         y2      x_inf      y_inf  \\\n",
       "10 -30.808742   3.008428  43.992917   6.040490 -30.808742   3.008428   \n",
       "11 -31.938425 -13.561089 -18.457410 -16.608011 -18.457410 -16.608011   \n",
       "12 -32.223256 -24.840115  41.495184  11.464266 -32.223256 -24.840115   \n",
       "13 -47.322690 -22.943539  11.644816  -6.466594 -47.322690 -22.943539   \n",
       "14 -26.706565 -43.899966  12.668345  10.970614 -26.706565 -43.899966   \n",
       "\n",
       "        x_sup      y_sup      domin      domax  \n",
       "10  43.992917   6.040490 -30.808742  43.992917  \n",
       "11 -31.938425 -13.561089 -31.938425 -18.457410  \n",
       "12  41.495184  11.464266 -32.223256  41.495184  \n",
       "13  11.644816  -6.466594 -47.322690  11.644816  \n",
       "14  12.668345  10.970614 -26.706565  12.668345  "
      ]
     },
     "execution_count": 3,
     "metadata": {},
     "output_type": "execute_result"
    }
   ],
   "source": [
    "segs[\"x_inf\"] = np.where(segs[\"y1\"]>segs[\"y2\"], segs[\"x2\"], segs[\"x1\"])\n",
    "segs[\"y_inf\"] = np.where(segs[\"y1\"]>segs[\"y2\"], segs[\"y2\"], segs[\"y1\"])\n",
    "segs[\"x_sup\"] = np.where(segs[\"y1\"]>segs[\"y2\"], segs[\"x1\"], segs[\"x2\"])\n",
    "segs[\"y_sup\"] = np.where(segs[\"y1\"]>segs[\"y2\"], segs[\"y1\"], segs[\"y2\"])\n",
    "segs[\"domin\"] = np.where(segs[\"x1\"]>segs[\"x2\"], segs[\"x2\"], segs[\"x1\"] ) #Definir Dominio\n",
    "segs[\"domax\"] = np.where(segs[\"x1\"]>segs[\"x2\"], segs[\"x1\"], segs[\"x2\"] )\n",
    "segs.tail()"
   ]
  },
  {
   "cell_type": "markdown",
   "metadata": {},
   "source": [
    "### Funciones para construir gráficas\n"
   ]
  },
  {
   "cell_type": "code",
   "execution_count": 4,
   "metadata": {},
   "outputs": [],
   "source": [
    "def dibuja_rectas(col=\"b\"):\n",
    "    n = len(segs) #segs es global\n",
    "    #grafica los segmentos de recta generados\n",
    "    for i in range(n):\n",
    "        plt.plot([segs.iloc[i][\"x_inf\"],segs.iloc[i][\"x_sup\"]],[segs.iloc[i][\"y_inf\"],segs.iloc[i][\"y_sup\"]],c = col) \n",
    "    for i in range(n):\n",
    "        plt.scatter([segs.iloc[i][\"x_inf\"],segs.iloc[i][\"x_sup\"]],[segs.iloc[i][\"y_inf\"],segs.iloc[i][\"y_sup\"]],c = col) \n",
    "        \n",
    "def dibuja_recta(i=0, col=\"r\"):    \n",
    "    plt.plot([segs.iloc[i][\"x_inf\"],segs.iloc[i][\"x_sup\"]],[segs.iloc[i][\"y_inf\"],segs.iloc[i][\"y_sup\"]],c = col) \n",
    "    plt.scatter([segs.iloc[i][\"x_inf\"],segs.iloc[i][\"x_sup\"]],[segs.iloc[i][\"y_inf\"],segs.iloc[i][\"y_sup\"]],c = col) \n",
    "    \n",
    "def dibuja_rectangulo(p1, p2, col=\"r\"):\n",
    "    x_1 = p1[0]\n",
    "    x_2 = p2[0]\n",
    "    y_1 = p1[1]\n",
    "    y_2 = p2[1]\n",
    "    plt.plot([x_1,x_2],[y_1,y_1],col)         \n",
    "    plt.plot([x_2,x_2],[y_1,y_2],col)         \n",
    "    plt.plot([x_2,x_1],[y_2,y_2],col)         \n",
    "    plt.plot([x_1,x_1],[y_2,y_1],col)         "
   ]
  },
  {
   "cell_type": "code",
   "execution_count": 5,
   "metadata": {},
   "outputs": [
    {
     "data": {
      "image/png": "[encoded data removed]",
      "text/plain": [
       "<Figure size 432x288 with 1 Axes>"
      ]
     },
     "metadata": {
      "needs_background": "light"
     },
     "output_type": "display_data"
    }
   ],
   "source": [
    "# Verificamos las funciones\n",
    "i=3\n",
    "dibuja_rectas()\n",
    "dibuja_recta(i, \"r\")\n",
    "dibuja_recta(4, 'r')\n",
    "dibuja_rectangulo([segs.iloc[i][\"x_inf\"], segs.iloc[i][\"y_inf\"]],[segs.iloc[i][\"x_sup\"], segs.iloc[i][\"y_sup\"]])\n",
    "plt.show()"
   ]
  },
  {
   "cell_type": "markdown",
   "metadata": {},
   "source": [
    "### Pendiente e intersección de cada segmento de recta"
   ]
  },
  {
   "cell_type": "code",
   "execution_count": 6,
   "metadata": {},
   "outputs": [
    {
     "data": {
      "text/html": [
       "<div>\n",
       "<style scoped>\n",
       "    .dataframe tbody tr th:only-of-type {\n",
       "        vertical-align: middle;\n",
       "    }\n",
       "\n",
       "    .dataframe tbody tr th {\n",
       "        vertical-align: top;\n",
       "    }\n",
       "\n",
       "    .dataframe thead th {\n",
       "        text-align: right;\n",
       "    }\n",
       "</style>\n",
       "<table border=\"1\" class=\"dataframe\">\n",
       "  <thead>\n",
       "    <tr style=\"text-align: right;\">\n",
       "      <th></th>\n",
       "      <th>x1</th>\n",
       "      <th>y1</th>\n",
       "      <th>x2</th>\n",
       "      <th>y2</th>\n",
       "      <th>x_inf</th>\n",
       "      <th>y_inf</th>\n",
       "      <th>x_sup</th>\n",
       "      <th>y_sup</th>\n",
       "      <th>domin</th>\n",
       "      <th>domax</th>\n",
       "      <th>m</th>\n",
       "      <th>b</th>\n",
       "    </tr>\n",
       "  </thead>\n",
       "  <tbody>\n",
       "    <tr>\n",
       "      <th>0</th>\n",
       "      <td>-26.089166</td>\n",
       "      <td>-3.581369</td>\n",
       "      <td>-10.509658</td>\n",
       "      <td>2.886477</td>\n",
       "      <td>-26.089166</td>\n",
       "      <td>-3.581369</td>\n",
       "      <td>-10.509658</td>\n",
       "      <td>2.886477</td>\n",
       "      <td>-26.089166</td>\n",
       "      <td>-10.509658</td>\n",
       "      <td>0.415151</td>\n",
       "      <td>7.249569</td>\n",
       "    </tr>\n",
       "    <tr>\n",
       "      <th>1</th>\n",
       "      <td>-16.015933</td>\n",
       "      <td>-2.210509</td>\n",
       "      <td>-12.148746</td>\n",
       "      <td>-19.599662</td>\n",
       "      <td>-12.148746</td>\n",
       "      <td>-19.599662</td>\n",
       "      <td>-16.015933</td>\n",
       "      <td>-2.210509</td>\n",
       "      <td>-16.015933</td>\n",
       "      <td>-12.148746</td>\n",
       "      <td>-4.496589</td>\n",
       "      <td>-74.227580</td>\n",
       "    </tr>\n",
       "    <tr>\n",
       "      <th>2</th>\n",
       "      <td>1.900710</td>\n",
       "      <td>-19.293351</td>\n",
       "      <td>3.345626</td>\n",
       "      <td>-26.122312</td>\n",
       "      <td>3.345626</td>\n",
       "      <td>-26.122312</td>\n",
       "      <td>1.900710</td>\n",
       "      <td>-19.293351</td>\n",
       "      <td>1.900710</td>\n",
       "      <td>3.345626</td>\n",
       "      <td>-4.726199</td>\n",
       "      <td>-10.310216</td>\n",
       "    </tr>\n",
       "    <tr>\n",
       "      <th>3</th>\n",
       "      <td>-33.921397</td>\n",
       "      <td>-18.119203</td>\n",
       "      <td>-13.647547</td>\n",
       "      <td>-7.936142</td>\n",
       "      <td>-33.921397</td>\n",
       "      <td>-18.119203</td>\n",
       "      <td>-13.647547</td>\n",
       "      <td>-7.936142</td>\n",
       "      <td>-33.921397</td>\n",
       "      <td>-13.647547</td>\n",
       "      <td>0.502276</td>\n",
       "      <td>-1.081312</td>\n",
       "    </tr>\n",
       "    <tr>\n",
       "      <th>4</th>\n",
       "      <td>-12.768440</td>\n",
       "      <td>4.113847</td>\n",
       "      <td>15.435906</td>\n",
       "      <td>-29.734947</td>\n",
       "      <td>15.435906</td>\n",
       "      <td>-29.734947</td>\n",
       "      <td>-12.768440</td>\n",
       "      <td>4.113847</td>\n",
       "      <td>-12.768440</td>\n",
       "      <td>15.435906</td>\n",
       "      <td>-1.200127</td>\n",
       "      <td>-11.209901</td>\n",
       "    </tr>\n",
       "  </tbody>\n",
       "</table>\n",
       "</div>"
      ],
      "text/plain": [
       "          x1         y1         x2         y2      x_inf      y_inf  \\\n",
       "0 -26.089166  -3.581369 -10.509658   2.886477 -26.089166  -3.581369   \n",
       "1 -16.015933  -2.210509 -12.148746 -19.599662 -12.148746 -19.599662   \n",
       "2   1.900710 -19.293351   3.345626 -26.122312   3.345626 -26.122312   \n",
       "3 -33.921397 -18.119203 -13.647547  -7.936142 -33.921397 -18.119203   \n",
       "4 -12.768440   4.113847  15.435906 -29.734947  15.435906 -29.734947   \n",
       "\n",
       "       x_sup      y_sup      domin      domax         m          b  \n",
       "0 -10.509658   2.886477 -26.089166 -10.509658  0.415151   7.249569  \n",
       "1 -16.015933  -2.210509 -16.015933 -12.148746 -4.496589 -74.227580  \n",
       "2   1.900710 -19.293351   1.900710   3.345626 -4.726199 -10.310216  \n",
       "3 -13.647547  -7.936142 -33.921397 -13.647547  0.502276  -1.081312  \n",
       "4 -12.768440   4.113847 -12.768440  15.435906 -1.200127 -11.209901  "
      ]
     },
     "execution_count": 6,
     "metadata": {},
     "output_type": "execute_result"
    }
   ],
   "source": [
    "segs[\"m\"] = (segs[\"y_sup\"]-segs[\"y_inf\"])/(segs[\"x_sup\"]-segs[\"x_inf\"])\n",
    "segs[\"b\"] = segs[\"y_sup\"]-segs[\"m\"]*segs[\"x_sup\"]\n",
    "segs.head()"
   ]
  },
  {
   "cell_type": "markdown",
   "metadata": {},
   "source": [
    "### Función que determina si dos segmentos se intersectan"
   ]
  },
  {
   "cell_type": "code",
   "execution_count": 7,
   "metadata": {},
   "outputs": [],
   "source": [
    "def Intersect(i,j,segs):\n",
    "    x=( (segs.iloc[j]['b']-segs.iloc[i]['b']) / (segs.iloc[i]['m']-segs.iloc[j]['m']) )\n",
    "    y=( segs.iloc[i]['m']*x+segs.iloc[i][\"b\"] )\n",
    "    k1 = np.logical_and( np.logical_and(x>segs.iloc[i][\"domin\"], segs.iloc[i][\"domax\"]>x), np.logical_and(x>segs.iloc[j][\"domin\"], segs.iloc[j][\"domax\"]>x) )\n",
    "    k2 = np.logical_and( np.logical_and(y>segs.iloc[i][\"y_inf\"], segs.iloc[i][\"y_sup\"]>y), np.logical_and(y>segs.iloc[j][\"y_inf\"], segs.iloc[j][\"y_sup\"]>y) )\n",
    "    if (np.logical_and(k1,k2)):\n",
    "        return (True ,np.array([x, y]))\n",
    "    else:\n",
    "        return (False, None)"
   ]
  },
  {
   "cell_type": "markdown",
   "metadata": {},
   "source": [
    "## Eventos \n",
    "\n",
    "Construimos un dataframe con los eventos ordenados de acuerdo a la altura."
   ]
  },
  {
   "cell_type": "code",
   "execution_count": 8,
   "metadata": {},
   "outputs": [
    {
     "name": "stderr",
     "output_type": "stream",
     "text": [
      "/home/jj/anaconda2/lib/python2.7/site-packages/ipykernel_launcher.py:3: SettingWithCopyWarning: \n",
      "A value is trying to be set on a copy of a slice from a DataFrame.\n",
      "Try using .loc[row_indexer,col_indexer] = value instead\n",
      "\n",
      "See the caveats in the documentation: http://pandas.pydata.org/pandas-docs/stable/indexing.html#indexing-view-versus-copy\n",
      "  This is separate from the ipykernel package so we can avoid doing imports until\n",
      "/home/jj/anaconda2/lib/python2.7/site-packages/ipykernel_launcher.py:7: SettingWithCopyWarning: \n",
      "A value is trying to be set on a copy of a slice from a DataFrame.\n",
      "Try using .loc[row_indexer,col_indexer] = value instead\n",
      "\n",
      "See the caveats in the documentation: http://pandas.pydata.org/pandas-docs/stable/indexing.html#indexing-view-versus-copy\n",
      "  import sys\n"
     ]
    },
    {
     "data": {
      "text/html": [
       "<div>\n",
       "<style scoped>\n",
       "    .dataframe tbody tr th:only-of-type {\n",
       "        vertical-align: middle;\n",
       "    }\n",
       "\n",
       "    .dataframe tbody tr th {\n",
       "        vertical-align: top;\n",
       "    }\n",
       "\n",
       "    .dataframe thead th {\n",
       "        text-align: right;\n",
       "    }\n",
       "</style>\n",
       "<table border=\"1\" class=\"dataframe\">\n",
       "  <thead>\n",
       "    <tr style=\"text-align: right;\">\n",
       "      <th></th>\n",
       "      <th>x</th>\n",
       "      <th>y</th>\n",
       "      <th>i</th>\n",
       "    </tr>\n",
       "  </thead>\n",
       "  <tbody>\n",
       "    <tr>\n",
       "      <th>8</th>\n",
       "      <td>-16.089201</td>\n",
       "      <td>28.460203</td>\n",
       "      <td>8</td>\n",
       "    </tr>\n",
       "    <tr>\n",
       "      <th>7</th>\n",
       "      <td>-26.458819</td>\n",
       "      <td>22.001667</td>\n",
       "      <td>7</td>\n",
       "    </tr>\n",
       "    <tr>\n",
       "      <th>6</th>\n",
       "      <td>-3.757640</td>\n",
       "      <td>20.663221</td>\n",
       "      <td>6</td>\n",
       "    </tr>\n",
       "    <tr>\n",
       "      <th>12</th>\n",
       "      <td>41.495184</td>\n",
       "      <td>11.464266</td>\n",
       "      <td>12</td>\n",
       "    </tr>\n",
       "    <tr>\n",
       "      <th>14</th>\n",
       "      <td>12.668345</td>\n",
       "      <td>10.970614</td>\n",
       "      <td>14</td>\n",
       "    </tr>\n",
       "  </tbody>\n",
       "</table>\n",
       "</div>"
      ],
      "text/plain": [
       "            x          y   i\n",
       "8  -16.089201  28.460203   8\n",
       "7  -26.458819  22.001667   7\n",
       "6   -3.757640  20.663221   6\n",
       "12  41.495184  11.464266  12\n",
       "14  12.668345  10.970614  14"
      ]
     },
     "execution_count": 8,
     "metadata": {},
     "output_type": "execute_result"
    }
   ],
   "source": [
    "eventos_sup = segs[[\"x_sup\", \"y_sup\"]]\n",
    "eventos_sup.columns = [\"x\", \"y\"]\n",
    "eventos_sup[\"i\"] = pd.Series(range(n))\n",
    "\n",
    "eventos_inf = segs[[\"x_inf\", \"y_inf\"]]\n",
    "eventos_inf.columns = [\"x\", \"y\"]\n",
    "eventos_inf[\"i\"] = pd.Series(range(n))\n",
    "\n",
    "eventos = pd.concat([eventos_sup, eventos_inf])\n",
    "eventos = eventos.sort_values(by=[\"y\"], ascending=False)\n",
    "eventos.head()"
   ]
  },
  {
   "cell_type": "markdown",
   "metadata": {},
   "source": [
    "## Fuerza bruta\n"
   ]
  },
  {
   "cell_type": "code",
   "execution_count": 9,
   "metadata": {},
   "outputs": [
    {
     "name": "stdout",
     "output_type": "stream",
     "text": [
      "Número de evaluaciones de 'Intersect()' = 105\n",
      "Número de Intersecciones Encontradas = 39\n"
     ]
    },
    {
     "data": {
      "image/png": "[encoded data removed]",
      "text/plain": [
       "<Figure size 432x288 with 1 Axes>"
      ]
     },
     "metadata": {
      "needs_background": "light"
     },
     "output_type": "display_data"
    }
   ],
   "source": [
    "x_int = []\n",
    "y_int = []\n",
    "for i in range(n-1):    \n",
    "    for j in range(i+1, n):\n",
    "        k, p = Intersect(i,j,segs)\n",
    "        if (k):\n",
    "            x_int.append(p[0])\n",
    "            y_int.append(p[1])\n",
    "\n",
    "print \"Número de evaluaciones de 'Intersect()' = \" + str(n*(n-1)/2)\n",
    "print \"Número de Intersecciones Encontradas = \" + str(len(x_int))      \n",
    "dibuja_rectas()\n",
    "plt.title(\"Fuerza Bruta\")\n",
    "plt.xlabel(\"$x$\") \n",
    "plt.ylabel(\"$y$\")\n",
    "plt.scatter(np.array(x_int), np.array(y_int), c=\"k\",  marker='x')\n",
    "plt.show()"
   ]
  },
  {
   "cell_type": "markdown",
   "metadata": {},
   "source": [
    "### Construye el estado de la línea de barrido para cada evento"
   ]
  },
  {
   "cell_type": "code",
   "execution_count": 10,
   "metadata": {},
   "outputs": [
    {
     "name": "stdout",
     "output_type": "stream",
     "text": [
      "[8.0]\n",
      "[8.0, 7.0]\n",
      "[8.0, 7.0, 6.0]\n",
      "[8.0, 7.0, 6.0, 12.0]\n",
      "[8.0, 7.0, 6.0, 12.0, 14.0]\n",
      "[8.0, 7.0, 6.0, 12.0, 14.0, 5.0]\n",
      "[8.0, 7.0, 6.0, 12.0, 14.0, 5.0, 9.0]\n",
      "[8.0, 7.0, 6.0, 12.0, 14.0, 5.0, 9.0, 10.0]\n",
      "[8.0, 7.0, 6.0, 12.0, 14.0, 5.0, 9.0, 10.0, 4.0]\n",
      "[8.0, 7.0, 6.0, 12.0, 14.0, 5.0, 9.0, 4.0]\n",
      "[8.0, 7.0, 6.0, 12.0, 14.0, 5.0, 9.0, 4.0, 0.0]\n",
      "[8.0, 7.0, 6.0, 12.0, 14.0, 5.0, 9.0, 4.0, 0.0, 1.0]\n",
      "[8.0, 7.0, 6.0, 12.0, 14.0, 5.0, 9.0, 4.0, 1.0]\n",
      "[8.0, 7.0, 6.0, 12.0, 14.0, 5.0, 9.0, 4.0, 1.0, 13.0]\n",
      "[8.0, 7.0, 6.0, 12.0, 14.0, 5.0, 9.0, 4.0, 1.0, 13.0, 3.0]\n",
      "[8.0, 6.0, 12.0, 14.0, 5.0, 9.0, 4.0, 1.0, 13.0, 3.0]\n",
      "[6.0, 12.0, 14.0, 5.0, 9.0, 4.0, 1.0, 13.0, 3.0]\n",
      "[6.0, 12.0, 14.0, 9.0, 4.0, 1.0, 13.0, 3.0]\n",
      "[6.0, 12.0, 14.0, 9.0, 4.0, 1.0, 13.0, 3.0, 11.0]\n",
      "[6.0, 12.0, 14.0, 9.0, 4.0, 1.0, 13.0, 3.0]\n",
      "[12.0, 14.0, 9.0, 4.0, 1.0, 13.0, 3.0]\n",
      "[12.0, 14.0, 9.0, 4.0, 1.0, 13.0]\n",
      "[12.0, 14.0, 9.0, 4.0, 1.0, 13.0, 2.0]\n",
      "[12.0, 14.0, 9.0, 4.0, 13.0, 2.0]\n",
      "[12.0, 14.0, 4.0, 13.0, 2.0]\n",
      "[12.0, 14.0, 4.0, 2.0]\n",
      "[14.0, 4.0, 2.0]\n",
      "[14.0, 4.0]\n",
      "[14.0]\n",
      "[]\n",
      "\n",
      "Número de evaluaciones de 'Intersect()' = 86\n",
      "Número de Intersecciones Encontradas = 39\n"
     ]
    },
    {
     "data": {
      "image/png": "[encoded data removed]",
      "text/plain": [
       "<Figure size 432x288 with 1 Axes>"
      ]
     },
     "metadata": {
      "needs_background": "light"
     },
     "output_type": "display_data"
    }
   ],
   "source": [
    "x_int = [] #guarda la abscisa de las intersecciones encontradas\n",
    "y_int = [] #guarda la ordenada de las intersecciones encontradas\n",
    "est = [] #estado\n",
    "n_evs = 0\n",
    "for i, ev in eventos.iterrows():\n",
    "    if not ev[\"i\"] in est: #el segmento de recta ingresa al estado\n",
    "        #revisa si hay intersección con el resto de los segmentos del estado\n",
    "        for j in est:\n",
    "            k, p = Intersect(int(round(ev[\"i\"])), int(round(j)), segs)\n",
    "            n_evs += 1\n",
    "            if k:\n",
    "                x_int.append(p[0])\n",
    "                y_int.append(p[1])                \n",
    "        est.append(ev[\"i\"])        \n",
    "    else:\n",
    "        est.remove(ev[\"i\"]) #el segmento de recta sale del estado\n",
    "    print est\n",
    "print \"\\nNúmero de evaluaciones de 'Intersect()' = \" + str(n_evs)\n",
    "print \"Número de Intersecciones Encontradas = \" + str(len(x_int))      \n",
    "dibuja_rectas()\n",
    "plt.title(\"Barrido de Linea\")\n",
    "plt.xlabel(\"$x$\") \n",
    "plt.ylabel(\"$y$\")\n",
    "plt.scatter(np.array(x_int), np.array(y_int), c=\"k\",  marker='x')\n",
    "plt.show()"
   ]
  },
  {
   "cell_type": "markdown",
   "metadata": {},
   "source": [
    "# Barrido de Linea de Estado Odernado por la Abscisa\n",
    "\n",
    "Si consideramos que el estado de la línea de barrido es una secuencia ordenada por la abscisa (por la $x$) entonces la determinación de las intersecciones puede eficientarse considerando los siguientes eventos\n",
    "\n",
    "La revisión de intersecciones entre segmentos vecinos debe hacerse en cada uno de los siguientes eventos:\n",
    "\n",
    "* Puntos superiores e inferiores de cada segmento de recta\n",
    "* Puntos de intersección de rectas.\n",
    "\n",
    "En cada evento, se deben considerar las siguientes acciones:\n",
    "\n",
    "\n",
    "1. La línea de barrido encuentra un punto <b>superior</b> de un segmento\n",
    "    1. El segmento correspondiente debe ingresar ordenadamente al estado y se deben revisar los segmentos vecinos para identificar intersecciones $$\\ldots,s_i,s_k \\ldots \\rightarrow \\ldots,s_{i}, \\color{red}{s_j}, s_{k},\\ldots$$\n",
    "2. La línea de barrido encuentra un punto <b>inferior</b> de un segmento\n",
    "    2. El segmento correspondiente se retira del estado, y los nuevos vecinos deben revisarse $$\\ldots,s_{i}, \\color{red}{s_j}, s_{k},\\ldots \\rightarrow \\ldots,s_i,s_k \\ldots $$  \n",
    "3. Se encuentra un punto de <b>intersección</b>\n",
    "    3. Se intercambian los segmentos correspondientes $$\\ldots,s_{i}, \\color{red}{s_j, s_{k}}, s_l, \\ldots \\rightarrow \\ldots,s_{i}, \\color{red}{s_k, s_{j}}, s_l\\ldots  $$ y se deben revisar los nuevos segmentos adyacentes para identificar intersecciones.\n",
    "    \n",
    "<b>Nota:</b> Cada vez que se identifica una intersección, el punto debe ingresar a la lista de eventos y la línea de barrido debe recorrer ordenadamente este conjunto dicha lista. "
   ]
  },
  {
   "cell_type": "markdown",
   "metadata": {},
   "source": [
    "## Composición del Estado Ordenado por la abscisa\n",
    "\n",
    "Función denominada <q>Verifica Estado</q>, <em>ver_estado()</em> se encarga de verificar en que espacio del vector de estado se va a ingresar el nuevo punto ordenado respecto a la abscisa($x$)."
   ]
  },
  {
   "cell_type": "code",
   "execution_count": 11,
   "metadata": {},
   "outputs": [],
   "source": [
    "def Checkstate(ls, est, segs, evinter, inter, arrint, c, so ):\n",
    "    n = 0\n",
    "    for c1, c2 in zip( ls, est):\n",
    "        if c1 != c2:\n",
    "            if so == 1:\n",
    "                c, evinter, inter, arrint = ver_vecinos(n, segs, est, evinter, inter, arrint, c)\n",
    "            else:\n",
    "                c, evinter, inter, arrint = ver_vecinosy(n, segs, est, evinter, inter, arrint, c)                \n",
    "        n +=1\n",
    "    return (c, evinter, inter, arrint)"
   ]
  },
  {
   "cell_type": "code",
   "execution_count": 12,
   "metadata": {},
   "outputs": [],
   "source": [
    "def ver_estado(ev, est, segs, evinter, inter, arrint, c):\n",
    "    sts = pd.DataFrame(columns=['i', 'x']) # DF de soporte para ordenar siempre por abscisa\n",
    "    for st in est:\n",
    "        dic = { 'i':st , 'x': (ev['y'] - segs.loc[int(round(st))]['b'])/(segs.loc[int(round(st))]['m'])}\n",
    "        sts = sts.append(dic, ignore_index=True, sort=False)\n",
    "    sts = sts.sort_values(by=[\"x\"], ascending=True)\n",
    "    sts.reset_index(drop=True, inplace=True)\n",
    "    esprv = list(est[:])\n",
    "    est=list(sts.i)\n",
    "    c, evinter, inter, arrint = Checkstate(esprv, est, segs, evinter, inter, arrint, c, 1 )\n",
    "    ver = True\n",
    "    l = 0\n",
    "    while (ver):\n",
    "        if (l < len(est)):\n",
    "            if ( sts.iloc[l]['x'] <= ev['x'] ):\n",
    "                l+=1\n",
    "            else:\n",
    "                i=l\n",
    "                ver = False\n",
    "        else:\n",
    "            i=l\n",
    "            ver = False\n",
    "    est.insert(i, ev['i'])\n",
    "    return (list(est))"
   ]
  },
  {
   "cell_type": "markdown",
   "metadata": {},
   "source": [
    "Función denominada \\\"Verifica Interseccion\\\", <em>ver_int()</em> se encarga de verificar si la pareja de segmentos a evaluar ya se ha evaluado con anterioridad, esto con el fin de no repetir operaciones de Intersección de los Segmentos."
   ]
  },
  {
   "cell_type": "code",
   "execution_count": 13,
   "metadata": {},
   "outputs": [],
   "source": [
    "def ver_int(arrint, ind):\n",
    "    q = '((seg1 ==' + str(ind[0]) + ')&(seg2 ==' + str(ind[1]) + '))|'\n",
    "    q = q + '((seg1 ==' + str(ind[1]) + ')&(seg2 ==' + str(ind[0]) + '))'\n",
    "    qr = arrint.query(q)\n",
    "    if not qr.empty:\n",
    "            return True\n",
    "    return False"
   ]
  },
  {
   "cell_type": "markdown",
   "metadata": {},
   "source": [
    "Función denominada <q>Opera Intersección</q>, <em>ope_inter()</em> se encarga de realizar la verificación de las parejas de segmentos que ya han sido evaluadas, además se encarga de verificar por medio de <em>Intersect()</em>, si se encuentra un punto de intersección se agrega al <i>DataFrame</i> de Estado de Intersecciones y se guarda la intersección en otro DF para su posterior graficación."
   ]
  },
  {
   "cell_type": "code",
   "execution_count": 14,
   "metadata": {},
   "outputs": [],
   "source": [
    "def ope_inter(i, j, segs, est, evinter, inter, arrint, c):\n",
    "    ver = ver_int(arrint, np.array( [int(round(est[i])), int(round(est[j]))]))\n",
    "    if not ver:\n",
    "        dic= {'seg1': int(round(est[i])), 'seg2': int(round(est[j]))}\n",
    "        arrint = arrint.append(dic, ignore_index=True, sort=False)\n",
    "        arrint = arrint.drop_duplicates()\n",
    "    if not ver:\n",
    "        k, p = Intersect(int(round(est[i])),int(round(est[j])), segs) #Simplificar función\n",
    "        c += 1\n",
    "        if k :    \n",
    "            dic= {'x':p[0], 'y':p[1], 'seg1': int(round(est[i])), 'seg2': int(round(est[j]))}\n",
    "            evinter = evinter.append(dic, ignore_index=True, sort=False)\n",
    "            evinter = evinter.sort_values(by=[\"y\"], ascending=False)\n",
    "            evinter.reset_index(drop=True, inplace=True)\n",
    "            inter = inter.append(dic, ignore_index=True, sort=False)\n",
    "    return (c, evinter, inter, arrint)"
   ]
  },
  {
   "cell_type": "markdown",
   "metadata": {},
   "source": [
    "Función denominada <q>Verifica Vecinos</q>, <em>ver_vecinos()</em> se encarga de verificar la Intersección de los segmentos vecinos que en encuentran en el estado de determinado segemento dado el <q>id</q> de segmento. <br>\n",
    "Existen tres casos particulares para la veficiación de intersección de vecinos.\n",
    "\n",
    "1. El Segmento de Recta se encuentra en la <b>primera</b> posición del Estado.\n",
    "    1. El segmento correspondiente solo puede evaluar una intersección con su vecino de la Derecha dado es el único que tiene. $$ \\color{red}{s_j}, s_{j}, s_{k},\\ldots$$\n",
    "2. El Segmento de Recta se encuentra en la <b>última</b> posición del Estado.\n",
    "    2. El segmento correspondiente solo puede evaluar una intersección con su vecino de la Izquierda dado es el único que tiene. $$ \\ldots,s_{i},s_{j}, \\color{red}{s_k} $$  \n",
    "3. El Segmento de Recta se encuentra en <b>cualquier</b> otra posición del Estado.\n",
    "    3. El segmento correspondiente puede evaluar una intersección con ambos vecinos tanto el de la Izquierda como el de la Derecha dado posee ambos. $$ \\ldots,s_{i}, \\color{red}{s_j}, s_{k} \\ldots $$  ."
   ]
  },
  {
   "cell_type": "code",
   "execution_count": 15,
   "metadata": {},
   "outputs": [],
   "source": [
    "def ver_vecinos(i, segs, est, evinter, inter, arrint, c):\n",
    "    if ( np.logical_and( i>0, i<len(est)-1) ): # Caso 3\n",
    "        c, evinter, inter, arrint = ope_inter(i, i-1, segs, est, evinter, inter, arrint, c)\n",
    "        c, evinter, inter, arrint = ope_inter(i, i+1, segs, est, evinter, inter, arrint, c)\n",
    "    elif ( i==0 ): # Caso 1\n",
    "        c, evinter, inter, arrint = ope_inter(i, i+1, segs, est, evinter, inter, arrint, c)\n",
    "    elif ( i==len(est)-1): # Caso 2\n",
    "        c, evinter, inter, arrint = ope_inter(i, i-1, segs, est, evinter, inter, arrint, c)\n",
    "    return (c, evinter, inter, arrint)"
   ]
  },
  {
   "cell_type": "markdown",
   "metadata": {},
   "source": [
    "Función denominada <q>Evalua Evento</q>, <em>eval_evento()</em> se encarga de verificar que tipo de evento se va a realizar, los eventos existen para esta función es cuando se encuentra un <em>Punto Superior</em> o <em>Punto Inferior</em> en la lista de Eventos, dependiendo del caso se realiza determinada operación que cubra las condiciones del Barrido de Linea Ordenado por la Abscisa."
   ]
  },
  {
   "cell_type": "code",
   "execution_count": 16,
   "metadata": {},
   "outputs": [],
   "source": [
    "def eval_evento(ev, est, segs, evinter, inter, arrint, c):\n",
    "    if not ev['i'] in est: # Evento Punto Superior\n",
    "        est=ver_estado(ev, est, segs, evinter, inter, arrint, c)\n",
    "        indx = est.index(int(round(ev['i'])))\n",
    "        c, evinter, inter, arrint = ver_vecinos(indx, segs, est, evinter, inter, arrint, c)\n",
    "    else:  # Evento Punto Inferior\n",
    "        indx = est.index(int(round(ev['i'])))\n",
    "        est.remove(ev['i'])\n",
    "        if ( np.logical_and(indx>0, indx<len(est)-1) ):\n",
    "            c, evinter, inter, arrint = ope_inter(indx, indx-1, segs, est, evinter, inter, arrint, c)\n",
    "    return (c, list(est) , evinter, inter, arrint)"
   ]
  },
  {
   "cell_type": "markdown",
   "metadata": {},
   "source": [
    "Función denominada <q>Evalua Evento de Intersecion</q>, <em>eval_evint()</em> se encarga de realizar la operación determinada dado el caso cuando el Evento Actual se trata de una Intersección, realiza un cambio de posición de los segmentos en el Estado y evalua si existen Intersecciones con los nuevos vecinos."
   ]
  },
  {
   "cell_type": "code",
   "execution_count": 17,
   "metadata": {},
   "outputs": [],
   "source": [
    "def eval_evint(est, segs, evinter, inter, arrint, c):\n",
    "    # Evento de Intersección\n",
    "    va1=evinter.iloc[0]['seg1']\n",
    "    va2=evinter.iloc[0]['seg2']\n",
    "    ind1 = est.index(va1)\n",
    "    ind2 = est.index(va2)\n",
    "    mn = ind1 if (ind2 > ind1) else ind2\n",
    "    mx = ind2 if (ind2 > ind1) else ind1\n",
    "    #Swap\n",
    "    swp = est[ind2]\n",
    "    est[ind2] = est[ind1]\n",
    "    est[ind1] = swp\n",
    "    evinter.drop([0], inplace=True)\n",
    "    evinter.reset_index(drop=True, inplace=True)\n",
    "    c, evinter, inter, arrint = ver_vecinos(mn, segs, est, evinter, inter, arrint, c)\n",
    "    c, evinter, inter, arrint = ver_vecinos(mx, segs, est, evinter, inter, arrint, c)\n",
    "    return (c, est, evinter, inter, arrint)"
   ]
  },
  {
   "cell_type": "markdown",
   "metadata": {},
   "source": [
    "## Barrido de Linea Ordenado por la abscisa"
   ]
  },
  {
   "cell_type": "code",
   "execution_count": 18,
   "metadata": {
    "scrolled": false
   },
   "outputs": [],
   "source": [
    "def Barrido_de_Linea_Abscisa(segs, eventos):\n",
    "    est = [] #estado\n",
    "    evinter = pd.DataFrame(columns=['x', 'y', 'seg1', 'seg2']) # Eventos de Intersecciones\n",
    "    inter = evinter# Df que guarda la abscisa y la ordenada de las intersecciones encontradas con el id de los segmentos evaluados\n",
    "    arrint = pd.DataFrame(columns=['seg1', 'seg2']) # DF que guarda la pareja de Intersecciones ya evaluadas\n",
    "    n_evs = 0 \n",
    "    for i, ev in eventos.iterrows():\n",
    "        if evinter.empty:\n",
    "            if not est: #Primer Caso el estado esta vacío y el df de intersecciones de igual forma\n",
    "                est.append(ev['i'])\n",
    "            else: # El estado posee al menos un elemento\n",
    "                n_evs, est, evinter, inter, arrint = eval_evento(ev, est, segs, evinter, inter, arrint, n_evs)\n",
    "        else: # Lista de eventos actualizado con intersecciones\n",
    "            k=True\n",
    "            while(k):\n",
    "                if not evinter.empty:\n",
    "                    if ( ev['y'] > evinter.iloc[0]['y'] ):\n",
    "                        n_evs, est, evinter, inter, arrint = eval_evento(ev, est, segs, evinter, inter, arrint, n_evs)\n",
    "                        k=False\n",
    "                    else: # Estado cuando se encuentra una interseccion en los eventos\n",
    "                        n_evs, est, evinter, inter, arrint = eval_evint(est, segs, evinter, inter, arrint, n_evs)\n",
    "                else: \n",
    "                    n_evs, est, evinter, inter, arrint = eval_evento(ev, est, segs, evinter, inter, arrint, n_evs)\n",
    "                    k=False\n",
    "    return (inter)"
   ]
  },
  {
   "cell_type": "code",
   "execution_count": 19,
   "metadata": {},
   "outputs": [
    {
     "name": "stdout",
     "output_type": "stream",
     "text": [
      "\n",
      "Número de evaluaciones de 'Intersect()' = 86\n",
      "Número de Intersecciones Encontradas = 39\n"
     ]
    },
    {
     "data": {
      "image/png": "[encoded data removed]",
      "text/plain": [
       "<Figure size 432x288 with 1 Axes>"
      ]
     },
     "metadata": {
      "needs_background": "light"
     },
     "output_type": "display_data"
    }
   ],
   "source": [
    "inter = Barrido_de_Linea_Abscisa(segs, eventos)\n",
    "print \"\\nNúmero de evaluaciones de 'Intersect()' = \" + str(n_evs)\n",
    "print \"Número de Intersecciones Encontradas = \" + str(len(inter)) \n",
    "dibuja_rectas()\n",
    "plt.title(\"Barrido de Linea Ordenado por la Abscisa\")\n",
    "plt.scatter(np.array(inter.x), np.array(inter.y), c=\"k\",  marker='x')\n",
    "plt.show()"
   ]
  },
  {
   "cell_type": "markdown",
   "metadata": {},
   "source": [
    "## Composición del Estado Ordenado por la Ordenada"
   ]
  },
  {
   "cell_type": "code",
   "execution_count": 20,
   "metadata": {},
   "outputs": [
    {
     "data": {
      "text/html": [
       "<div>\n",
       "<style scoped>\n",
       "    .dataframe tbody tr th:only-of-type {\n",
       "        vertical-align: middle;\n",
       "    }\n",
       "\n",
       "    .dataframe tbody tr th {\n",
       "        vertical-align: top;\n",
       "    }\n",
       "\n",
       "    .dataframe thead th {\n",
       "        text-align: right;\n",
       "    }\n",
       "</style>\n",
       "<table border=\"1\" class=\"dataframe\">\n",
       "  <thead>\n",
       "    <tr style=\"text-align: right;\">\n",
       "      <th></th>\n",
       "      <th>x</th>\n",
       "      <th>y</th>\n",
       "      <th>i</th>\n",
       "    </tr>\n",
       "  </thead>\n",
       "  <tbody>\n",
       "    <tr>\n",
       "      <th>13</th>\n",
       "      <td>-47.322690</td>\n",
       "      <td>-22.943539</td>\n",
       "      <td>13</td>\n",
       "    </tr>\n",
       "    <tr>\n",
       "      <th>9</th>\n",
       "      <td>-42.359645</td>\n",
       "      <td>7.345216</td>\n",
       "      <td>9</td>\n",
       "    </tr>\n",
       "    <tr>\n",
       "      <th>3</th>\n",
       "      <td>-33.921397</td>\n",
       "      <td>-18.119203</td>\n",
       "      <td>3</td>\n",
       "    </tr>\n",
       "    <tr>\n",
       "      <th>12</th>\n",
       "      <td>-32.223256</td>\n",
       "      <td>-24.840115</td>\n",
       "      <td>12</td>\n",
       "    </tr>\n",
       "    <tr>\n",
       "      <th>11</th>\n",
       "      <td>-31.938425</td>\n",
       "      <td>-13.561089</td>\n",
       "      <td>11</td>\n",
       "    </tr>\n",
       "    <tr>\n",
       "      <th>10</th>\n",
       "      <td>-30.808742</td>\n",
       "      <td>3.008428</td>\n",
       "      <td>10</td>\n",
       "    </tr>\n",
       "    <tr>\n",
       "      <th>14</th>\n",
       "      <td>-26.706565</td>\n",
       "      <td>-43.899966</td>\n",
       "      <td>14</td>\n",
       "    </tr>\n",
       "    <tr>\n",
       "      <th>7</th>\n",
       "      <td>-26.458819</td>\n",
       "      <td>22.001667</td>\n",
       "      <td>7</td>\n",
       "    </tr>\n",
       "    <tr>\n",
       "      <th>0</th>\n",
       "      <td>-26.089166</td>\n",
       "      <td>-3.581369</td>\n",
       "      <td>0</td>\n",
       "    </tr>\n",
       "    <tr>\n",
       "      <th>6</th>\n",
       "      <td>-21.003477</td>\n",
       "      <td>-17.662948</td>\n",
       "      <td>6</td>\n",
       "    </tr>\n",
       "    <tr>\n",
       "      <th>11</th>\n",
       "      <td>-18.457410</td>\n",
       "      <td>-16.608011</td>\n",
       "      <td>11</td>\n",
       "    </tr>\n",
       "    <tr>\n",
       "      <th>5</th>\n",
       "      <td>-16.696709</td>\n",
       "      <td>-11.989634</td>\n",
       "      <td>5</td>\n",
       "    </tr>\n",
       "    <tr>\n",
       "      <th>8</th>\n",
       "      <td>-16.538494</td>\n",
       "      <td>-10.915944</td>\n",
       "      <td>8</td>\n",
       "    </tr>\n",
       "    <tr>\n",
       "      <th>8</th>\n",
       "      <td>-16.089201</td>\n",
       "      <td>28.460203</td>\n",
       "      <td>8</td>\n",
       "    </tr>\n",
       "    <tr>\n",
       "      <th>1</th>\n",
       "      <td>-16.015933</td>\n",
       "      <td>-2.210509</td>\n",
       "      <td>1</td>\n",
       "    </tr>\n",
       "    <tr>\n",
       "      <th>3</th>\n",
       "      <td>-13.647547</td>\n",
       "      <td>-7.936142</td>\n",
       "      <td>3</td>\n",
       "    </tr>\n",
       "    <tr>\n",
       "      <th>4</th>\n",
       "      <td>-12.768440</td>\n",
       "      <td>4.113847</td>\n",
       "      <td>4</td>\n",
       "    </tr>\n",
       "    <tr>\n",
       "      <th>1</th>\n",
       "      <td>-12.148746</td>\n",
       "      <td>-19.599662</td>\n",
       "      <td>1</td>\n",
       "    </tr>\n",
       "    <tr>\n",
       "      <th>9</th>\n",
       "      <td>-11.573180</td>\n",
       "      <td>-21.641314</td>\n",
       "      <td>9</td>\n",
       "    </tr>\n",
       "    <tr>\n",
       "      <th>7</th>\n",
       "      <td>-11.385626</td>\n",
       "      <td>-8.335810</td>\n",
       "      <td>7</td>\n",
       "    </tr>\n",
       "    <tr>\n",
       "      <th>0</th>\n",
       "      <td>-10.509658</td>\n",
       "      <td>2.886477</td>\n",
       "      <td>0</td>\n",
       "    </tr>\n",
       "    <tr>\n",
       "      <th>6</th>\n",
       "      <td>-3.757640</td>\n",
       "      <td>20.663221</td>\n",
       "      <td>6</td>\n",
       "    </tr>\n",
       "    <tr>\n",
       "      <th>5</th>\n",
       "      <td>-1.856158</td>\n",
       "      <td>8.387751</td>\n",
       "      <td>5</td>\n",
       "    </tr>\n",
       "    <tr>\n",
       "      <th>2</th>\n",
       "      <td>1.900710</td>\n",
       "      <td>-19.293351</td>\n",
       "      <td>2</td>\n",
       "    </tr>\n",
       "    <tr>\n",
       "      <th>2</th>\n",
       "      <td>3.345626</td>\n",
       "      <td>-26.122312</td>\n",
       "      <td>2</td>\n",
       "    </tr>\n",
       "    <tr>\n",
       "      <th>13</th>\n",
       "      <td>11.644816</td>\n",
       "      <td>-6.466594</td>\n",
       "      <td>13</td>\n",
       "    </tr>\n",
       "    <tr>\n",
       "      <th>14</th>\n",
       "      <td>12.668345</td>\n",
       "      <td>10.970614</td>\n",
       "      <td>14</td>\n",
       "    </tr>\n",
       "    <tr>\n",
       "      <th>4</th>\n",
       "      <td>15.435906</td>\n",
       "      <td>-29.734947</td>\n",
       "      <td>4</td>\n",
       "    </tr>\n",
       "    <tr>\n",
       "      <th>12</th>\n",
       "      <td>41.495184</td>\n",
       "      <td>11.464266</td>\n",
       "      <td>12</td>\n",
       "    </tr>\n",
       "    <tr>\n",
       "      <th>10</th>\n",
       "      <td>43.992917</td>\n",
       "      <td>6.040490</td>\n",
       "      <td>10</td>\n",
       "    </tr>\n",
       "  </tbody>\n",
       "</table>\n",
       "</div>"
      ],
      "text/plain": [
       "            x          y   i\n",
       "13 -47.322690 -22.943539  13\n",
       "9  -42.359645   7.345216   9\n",
       "3  -33.921397 -18.119203   3\n",
       "12 -32.223256 -24.840115  12\n",
       "11 -31.938425 -13.561089  11\n",
       "10 -30.808742   3.008428  10\n",
       "14 -26.706565 -43.899966  14\n",
       "7  -26.458819  22.001667   7\n",
       "0  -26.089166  -3.581369   0\n",
       "6  -21.003477 -17.662948   6\n",
       "11 -18.457410 -16.608011  11\n",
       "5  -16.696709 -11.989634   5\n",
       "8  -16.538494 -10.915944   8\n",
       "8  -16.089201  28.460203   8\n",
       "1  -16.015933  -2.210509   1\n",
       "3  -13.647547  -7.936142   3\n",
       "4  -12.768440   4.113847   4\n",
       "1  -12.148746 -19.599662   1\n",
       "9  -11.573180 -21.641314   9\n",
       "7  -11.385626  -8.335810   7\n",
       "0  -10.509658   2.886477   0\n",
       "6   -3.757640  20.663221   6\n",
       "5   -1.856158   8.387751   5\n",
       "2    1.900710 -19.293351   2\n",
       "2    3.345626 -26.122312   2\n",
       "13  11.644816  -6.466594  13\n",
       "14  12.668345  10.970614  14\n",
       "4   15.435906 -29.734947   4\n",
       "12  41.495184  11.464266  12\n",
       "10  43.992917   6.040490  10"
      ]
     },
     "execution_count": 20,
     "metadata": {},
     "output_type": "execute_result"
    }
   ],
   "source": [
    "events = eventos.sort_values(by=[\"x\"], ascending=True)\n",
    "events"
   ]
  },
  {
   "cell_type": "code",
   "execution_count": 21,
   "metadata": {},
   "outputs": [],
   "source": [
    "def ver_estadoy(ev, est, segs, evinter, inter, arrint, c):\n",
    "    sts = pd.DataFrame(columns=['i', 'y']) # DF de soporte para ordenar siempre por ordenada\n",
    "    for st in est:\n",
    "        dic = { 'i':st , 'y': (ev['x']*(segs.loc[int(round(st))]['m']) + segs.loc[int(round(st))]['b']) }\n",
    "        sts = sts.append(dic, ignore_index=True, sort=False)\n",
    "    sts = sts.sort_values(by=[\"y\"], ascending=True)\n",
    "    sts.reset_index(drop=True, inplace=True)\n",
    "    esprv = list(est[:])\n",
    "    est=list(sts.i)\n",
    "    c, evinter, inter, arrint = Checkstate(esprv, est, segs, evinter, inter, arrint, c, 1 )\n",
    "    ver = True\n",
    "    l = 0\n",
    "    while (ver):\n",
    "        if (l < len(est)):\n",
    "            if ( sts.iloc[l]['y'] <= ev['y'] ):\n",
    "                l+=1\n",
    "            else:\n",
    "                i=l\n",
    "                ver = False\n",
    "        else:\n",
    "            i=l\n",
    "            ver = False\n",
    "    est.insert(i, ev['i'])\n",
    "    return (list(est))"
   ]
  },
  {
   "cell_type": "code",
   "execution_count": 22,
   "metadata": {},
   "outputs": [],
   "source": [
    "def ope_intery(i, j, segs, est, evinter, inter, arrint, c):\n",
    "    ver = ver_int(arrint, np.array( [int(round(est[i])), int(round(est[j]))]))\n",
    "    if not ver:\n",
    "        dic= {'seg1': int(round(est[i])), 'seg2': int(round(est[j]))}\n",
    "        arrint = arrint.append(dic, ignore_index=True, sort=False)\n",
    "        arrint = arrint.drop_duplicates()\n",
    "    if not ver:\n",
    "        k, p = Intersect(int(round(est[i])),int(round(est[j])), segs) #Simplificar función\n",
    "        c += 1\n",
    "        if k :    \n",
    "            dic= {'x':p[0], 'y':p[1], 'seg1': int(round(est[i])), 'seg2': int(round(est[j]))}\n",
    "            evinter = evinter.append(dic, ignore_index=True, sort=False)\n",
    "            evinter = evinter.sort_values(by=[\"x\"], ascending=True)\n",
    "            evinter.reset_index(drop=True, inplace=True)\n",
    "            inter = inter.append(dic, ignore_index=True, sort=False)\n",
    "    return (c, evinter, inter, arrint)"
   ]
  },
  {
   "cell_type": "code",
   "execution_count": 23,
   "metadata": {},
   "outputs": [],
   "source": [
    "def ver_vecinosy(i, segs, est, evinter, inter, arrint, c):\n",
    "    if ( np.logical_and( i>0, i<len(est)-1) ): # Caso 3\n",
    "        c, evinter, inter, arrint = ope_intery(i, i-1, segs, est, evinter, inter, arrint, c)\n",
    "        c, evinter, inter, arrint = ope_intery(i, i+1, segs, est, evinter, inter, arrint, c)\n",
    "    elif ( i==0 ): # Caso 1\n",
    "        c, evinter, inter, arrint = ope_intery(i, i+1, segs, est, evinter, inter, arrint, c)\n",
    "    elif ( i==len(est)-1): # Caso 2\n",
    "        c, evinter, inter, arrint = ope_intery(i, i-1, segs, est, evinter, inter, arrint, c)\n",
    "    return (c, evinter, inter, arrint)"
   ]
  },
  {
   "cell_type": "code",
   "execution_count": 24,
   "metadata": {},
   "outputs": [],
   "source": [
    "def eval_eventoy(ev, est, segs, evinter, inter, arrint, c):\n",
    "    if not ev['i'] in est: # Evento Punto Izquierdo\n",
    "        est=ver_estadoy(ev, est, segs, evinter, inter, arrint, c)\n",
    "        indx = est.index(int(round(ev['i'])))\n",
    "        c, evinter, inter, arrint = ver_vecinosy(indx, segs, est, evinter, inter, arrint, c)\n",
    "    else:  # Evento Punto Derecho\n",
    "        indx = est.index(int(round(ev['i'])))\n",
    "        est.remove(ev['i'])\n",
    "        if ( np.logical_and(indx>0, indx<len(est)-1) ):\n",
    "            c, evinter, inter, arrint = ope_intery(indx, indx-1, segs, est, evinter, inter, arrint, c)\n",
    "    return (c, list(est) , evinter, inter, arrint)"
   ]
  },
  {
   "cell_type": "code",
   "execution_count": 25,
   "metadata": {},
   "outputs": [],
   "source": [
    "def eval_evinty(est, segs, evinter, inter, arrint, c):\n",
    "    # Evento de Intersección\n",
    "    va1=evinter.iloc[0]['seg1']\n",
    "    va2=evinter.iloc[0]['seg2']\n",
    "    ind1 = est.index(va1)\n",
    "    ind2 = est.index(va2)\n",
    "    mn = ind1 if (ind2 > ind1) else ind2\n",
    "    mx = ind2 if (ind2 > ind1) else ind1\n",
    "    #Swap\n",
    "    swp = est[ind2]\n",
    "    est[ind2] = est[ind1]\n",
    "    est[ind1] = swp\n",
    "    evinter.drop([0], inplace=True)\n",
    "    evinter.reset_index(drop=True, inplace=True)\n",
    "    c, evinter, inter, arrint = ver_vecinosy(mn, segs, est, evinter, inter, arrint, c)\n",
    "    c, evinter, inter, arrint = ver_vecinosy(mx, segs, est, evinter, inter, arrint, c)\n",
    "    return (c, est, evinter, inter, arrint)"
   ]
  },
  {
   "cell_type": "code",
   "execution_count": 26,
   "metadata": {
    "scrolled": false
   },
   "outputs": [],
   "source": [
    "def Barrido_de_Linea_Ordenada(segs, eventos):\n",
    "    est = [] #estado\n",
    "    evinter = pd.DataFrame(columns=['x', 'y', 'seg1', 'seg2']) # Eventos de Intersecciones\n",
    "    inter = evinter# Df que guarda la abscisa y la ordenada de las intersecciones encontradas con el id de los segmentos evaluados\n",
    "    arrint = pd.DataFrame(columns=['seg1', 'seg2']) # DF que guarda la pareja de Intersecciones ya evaluadas\n",
    "    n_evs = 0 \n",
    "    for i, ev in eventos.iterrows():\n",
    "        print est\n",
    "        if evinter.empty:\n",
    "            if not est: #Primer Caso el estado esta vacío y el df de intersecciones de igual forma\n",
    "                est.append(ev['i'])\n",
    "            else: # El estado posee al menos un elemento\n",
    "                n_evs, est, evinter, inter, arrint = eval_eventoy(ev, est, segs, evinter, inter, arrint, n_evs)\n",
    "        else: # Lista de eventos actualizado con intersecciones\n",
    "            k=True\n",
    "            while(k):\n",
    "                if not evinter.empty:\n",
    "                    if ( ev['x'] < evinter.iloc[0]['x'] ):\n",
    "                        n_evs, est, evinter, inter, arrint = eval_eventoy(ev, est, segs, evinter, inter, arrint, n_evs)\n",
    "                        k=False\n",
    "                    else: # Estado cuando se encuentra una interseccion en los eventos\n",
    "                        n_evs, est, evinter, inter, arrint = eval_evinty(est, segs, evinter, inter, arrint, n_evs)\n",
    "                else: \n",
    "                    n_evs, est, evinter, inter, arrint = eval_eventoy(ev, est, segs, evinter, inter, arrint, n_evs)\n",
    "                    k=False\n",
    "    return (inter)"
   ]
  },
  {
   "cell_type": "markdown",
   "metadata": {},
   "source": [
    "### Conclusión\n",
    "\n",
    "Implementar el Algoritmo de Barrido de linea Ordenado por la Abscisa es complicado, ya que es muy abstracto y tratar de cumplir con todas las condiciones lo hace difícil, de alguna manera no queda de todo claro el comportamiento cuando se ingresan nuevos puntos de segmentos al estado, siendo que este necesita ordenarse de cierta forma, pero al encontrar las intersecciones en el evento actual, intercambian los segmentos de posición siendo un caso posible que un nuevo punto del segmento ingrese antes de llegar al punto de intersección de dos segmentos.\n",
    "\n",
    "Está la implementación del Algoritmo de Barrido de linea Ordenado por la Abscisa, se pudo reducir el número de evaluaciones en la Intersecciones pero dado el caso, se perdieron dos Intersecciones en la rutina ya que los métodos anteriores lograron encontrar 39 Intersecciones, intento otro método ordenando siempre el estado respecto a la posición de la ordenada, pero me producía un resultado de 30 Intersecciones, descartando por completo esta nueva idea, por lo que podemos concluir que no se logró la implementación correctamente."
   ]
  },
  {
   "cell_type": "code",
   "execution_count": 27,
   "metadata": {},
   "outputs": [
    {
     "name": "stdout",
     "output_type": "stream",
     "text": [
      "[]\n",
      "[13.0]\n",
      "[13.0, 9.0]\n",
      "[13.0, 3.0, 9.0]\n",
      "[12.0, 13.0, 3.0, 9.0]\n",
      "[12.0, 13.0, 3.0, 11.0, 9.0]\n",
      "[12.0, 13.0, 3.0, 11.0, 9.0, 10.0]\n",
      "[14.0, 12.0, 13.0, 11.0, 3.0, 9.0, 10.0]\n",
      "[14.0, 12.0, 13.0, 11.0, 3.0, 9.0, 10.0, 7.0]\n",
      "[14.0, 12.0, 13.0, 11.0, 3.0, 9.0, 0.0, 10.0, 7.0]\n",
      "[14.0, 12.0, 6.0, 11.0, 13.0, 9.0, 3.0, 0.0, 10.0, 7.0]\n",
      "[14.0, 12.0, 9.0, 13.0, 6.0, 3.0, 0.0, 10.0, 7.0]\n",
      "[14.0, 12.0, 9.0, 13.0, 5.0, 3.0, 6.0, 0.0, 7.0, 10.0]\n",
      "[14.0, 12.0, 9.0, 13.0, 5.0, 8.0, 3.0, 6.0, 0.0, 7.0, 10.0]\n",
      "[14.0, 9.0, 12.0, 13.0, 5.0, 3.0, 6.0, 0.0, 7.0, 10.0]\n",
      "[14.0, 9.0, 12.0, 13.0, 5.0, 3.0, 6.0, 1.0, 0.0, 7.0, 10.0]\n",
      "[14.0, 9.0, 12.0, 13.0, 1.0, 5.0, 7.0, 6.0, 0.0, 10.0]\n",
      "[14.0, 9.0, 1.0, 12.0, 13.0, 5.0, 7.0, 6.0, 0.0, 10.0, 4.0]\n",
      "[14.0, 9.0, 12.0, 13.0, 7.0, 5.0, 6.0, 0.0, 4.0, 10.0]\n",
      "[14.0, 12.0, 13.0, 7.0, 5.0, 0.0, 4.0, 6.0, 10.0]\n",
      "[14.0, 12.0, 13.0, 5.0, 4.0, 0.0, 6.0, 10.0]\n",
      "[14.0, 12.0, 13.0, 5.0, 4.0, 10.0, 6.0]\n",
      "[14.0, 12.0, 13.0, 4.0, 10.0, 5.0]\n",
      "[13.0, 12.0, 14.0, 4.0, 10.0]\n",
      "[2.0, 4.0, 13.0, 12.0, 14.0, 10.0]\n",
      "[4.0, 13.0, 12.0, 14.0, 10.0]\n",
      "[4.0, 12.0, 10.0, 14.0]\n",
      "[4.0, 12.0, 10.0]\n",
      "[12.0, 10.0]\n",
      "[10.0]\n",
      "\n",
      "Número de evaluaciones de 'Intersect()' = 86\n",
      "Número de Intersecciones Encontradas = 39\n"
     ]
    },
    {
     "data": {
      "image/png": "[encoded data removed]",
      "text/plain": [
       "<Figure size 432x288 with 1 Axes>"
      ]
     },
     "metadata": {
      "needs_background": "light"
     },
     "output_type": "display_data"
    }
   ],
   "source": [
    "inter = None\n",
    "inter = Barrido_de_Linea_Ordenada(segs, events)\n",
    "print \"\\nNúmero de evaluaciones de 'Intersect()' = \" + str(n_evs)\n",
    "print \"Número de Intersecciones Encontradas = \" + str(len(inter)) \n",
    "dibuja_rectas()\n",
    "plt.title(\"Barrido de Linea Ordenado por la Ordenada\")\n",
    "plt.scatter(np.array(inter.x), np.array(inter.y), c=\"k\",  marker='x')\n",
    "plt.show()"
   ]
  },
  {
   "cell_type": "code",
   "execution_count": 28,
   "metadata": {},
   "outputs": [],
   "source": [
    "ls = [0.0, 6.0, 7.0, 2.0, 12.0, 17.0]\n",
    "l1 = [0.0, 7.0, 12.0, 6.0, 2.0, 17.0]"
   ]
  }
 ],
 "metadata": {
  "kernelspec": {
   "display_name": "Python 2",
   "language": "python",
   "name": "python2"
  },
  "language_info": {
   "codemirror_mode": {
    "name": "ipython",
    "version": 2
   },
   "file_extension": ".py",
   "mimetype": "text/x-python",
   "name": "python",
   "nbconvert_exporter": "python",
   "pygments_lexer": "ipython2",
   "version": "2.7.15"
  }
 },
 "nbformat": 4,
 "nbformat_minor": 2
}
