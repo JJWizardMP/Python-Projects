{
 "cells": [
  {
   "cell_type": "markdown",
   "metadata": {},
   "source": [
    "# Intersección de Segmentos de Líneas\n",
    "\n",
    "                                                                                                   Jueves 31/ENE/2019\n",
    "160300102 / Méndez Pool Joan de Jesús"
   ]
  },
  {
   "cell_type": "code",
   "execution_count": 1,
   "metadata": {},
   "outputs": [],
   "source": [
    "from random import sample, randint, random\n",
    "import numpy as np\n",
    "import matplotlib.pyplot as plt\n",
    "#%matplotlib inline"
   ]
  },
  {
   "cell_type": "markdown",
   "metadata": {},
   "source": [
    "Uno de los problemas que nos presenta la Geometría Computacional es la Intersección de Segmentos de Líneas, puede no parecer un problema de suma complejidad, pero utilizando diversas técnicas algorítmicas se puede llegar a una solución eficiente aplicando las matemáticas fundamentales para poder resolver la naturaleza del problema.\n",
    "<br><br> Dado un conjunto de <b>segmentos de recta</b> se busca un algoritmo que permita detectar las <b>intersecciones</b> entre ellos, la técnica que aplicaremos en esta ocasión es <b>Fuerza Bruta</b>, debemos saber que Fuerza Bruta es una técnica poco eficiente ya que practicamente <q>Forzamos la solución</q>, por lo cual debería ser la última opción de estrategia a seguir para poder resolver el problema planteado anteriormente."
   ]
  },
  {
   "cell_type": "markdown",
   "metadata": {},
   "source": [
    "### Se genera un conjunto aleatorio de segmentos de rectas\n",
    "Definimos un conjunto aleatorio de rectas de tamaño $n$, cuyo dominio sea $D:(-10 < x <10)$, los valores que se definirán como los puntos generados en el plano serán creados con la librería <em>numpy</em>."
   ]
  },
  {
   "cell_type": "code",
   "execution_count": 2,
   "metadata": {},
   "outputs": [],
   "source": [
    "#generamos un conjunto aleatorio de rectas\n",
    "n = 15\n",
    "li = -10 #límites del dominio\n",
    "ls = 10\n",
    "\n",
    "p1 = li + (ls-li)*np.random.rand(n,2) #puntos en el primer extremo de cada segmento de recta\n",
    "p2 = li + (ls-li)*np.random.rand(n,2) #puntos en el segundo extremo de cada segmento de recta"
   ]
  },
  {
   "cell_type": "markdown",
   "metadata": {},
   "source": [
    "### Funciones para construir gráficas (Funciones vistas en Clase)\n"
   ]
  },
  {
   "cell_type": "code",
   "execution_count": 3,
   "metadata": {},
   "outputs": [],
   "source": [
    "#algunas funciones para dibujar rectas y rectángulos\n",
    "def dibuja_rectas(col=\"b\"):\n",
    "    #grafica los segmentos de recta generados\n",
    "    for i in range(n):\n",
    "        plt.plot([p1[i,0],p2[i,0]],[p1[i,1],p2[i,1]],c = col) \n",
    "    for i in range(n):\n",
    "        plt.scatter([p1[i,0],p2[i,0]],[p1[i,1],p2[i,1]], c=col) \n",
    "        #plt.scatter(p1[i,0], p1[i,1]) \n",
    "        #plt.scatter(p2[i,0], p2[i,1]) \n",
    "\n",
    "def dibuja_recta(i=0, col=\"r\"):\n",
    "    plt.plot([p1[i,0],p2[i,0]],[p1[i,1],p2[i,1]],c=col)\n",
    "    plt.scatter([p1[i,0],p2[i,0]],[p1[i,1],p2[i,1]],c=col)    \n",
    "    \n",
    "def dibuja_rectangulo(p1, p2, col=\"r\"):\n",
    "    x_1 = p1[0]\n",
    "    x_2 = p2[0]\n",
    "    y_1 = p1[1]\n",
    "    y_2 = p2[1]\n",
    "    plt.plot([x_1,x_2],[y_1,y_1],col)         \n",
    "    plt.plot([x_2,x_2],[y_1,y_2],col)         \n",
    "    plt.plot([x_2,x_1],[y_2,y_2],col)         \n",
    "    plt.plot([x_1,x_1],[y_2,y_1],col)   "
   ]
  },
  {
   "cell_type": "markdown",
   "metadata": {},
   "source": [
    "Graficamos los segmentos para tener una visualización clara de donde se encuentran ubicados los puntos y líneas en el plano. Para realizar la graficación de los datos usamos la librería <em>matplotlib</em>."
   ]
  },
  {
   "cell_type": "code",
   "execution_count": 4,
   "metadata": {},
   "outputs": [
    {
     "data": {
      "image/png": "[encoded data removed]",
      "text/plain": [
       "<Figure size 432x288 with 1 Axes>"
      ]
     },
     "metadata": {
      "needs_background": "light"
     },
     "output_type": "display_data"
    }
   ],
   "source": [
    "dibuja_rectas()"
   ]
  },
  {
   "cell_type": "markdown",
   "metadata": {},
   "source": [
    "Para poder implementar por completo la estrategia de <b>Fuerza Bruta</b> es necesario realizar una serie de pasos para obtener por medio de operaciones matemáticas la pendiente e intersección de cada segmento de recta, por lo que fue necesario implementar una rutina para cada paso de la solución."
   ]
  },
  {
   "cell_type": "markdown",
   "metadata": {},
   "source": [
    "### Identificación del punto superior e inferior de cada segmento\n",
    "\n",
    "Está función se encarga de definir cual es el punto superior e inferior de cada segmento de recta, crea dos listas con las cuales se definen de mejor manera la ubicación de los dos puntos pertenecientes a cada línea, la rutina regresa dos listas definidas como <em><i>Punto Inferior:pi y Punto Superior:ps</i></em>."
   ]
  },
  {
   "cell_type": "code",
   "execution_count": 5,
   "metadata": {},
   "outputs": [],
   "source": [
    "def definepoints():\n",
    "    pi = []\n",
    "    ps = []\n",
    "    for po1, po2 in zip(p1, p2):\n",
    "        if (po1[1] > po2[1]):\n",
    "            pi.append(po2)\n",
    "            ps.append(po1)\n",
    "        else:\n",
    "            pi.append(po1)\n",
    "            ps.append(po2)\n",
    "    return (pi, ps)"
   ]
  },
  {
   "cell_type": "markdown",
   "metadata": {},
   "source": [
    "### Pendiente e intersección de cada segmento de recta\n",
    "\n",
    "La ecuación de la recta la conocemos como:\n",
    "\n",
    "$y = mx + b$\n",
    "\n",
    "Donde $m$ es la pendiente y $b$ es el punto donde la recta se intersecta con el eje Y.\n",
    "\n",
    "Para obtener la pendiente tenemos la fórmula:\n",
    "\n",
    "$m =  \\displaystyle\\frac{y_2-y_1}{x_2-x_1}$\n",
    "\n",
    "Una vez conocida la pendiente podemos despejar en la ecuación de la recta para obtener el punto de intersección con el eje Y, la ecuación queda de la siguiente forma:\n",
    "\n",
    "$b = y - mx$\n",
    "\n",
    "La siguiente instrucción se encarga de obtener estos dos datos que son vitales para resolver el problema, la rutina realiza las operaciones para obtener la pendiente y la intersección de cada segmento a trabajar. La función regresa dos listas, los cuales son una lista que contiene la información de la pendiente y otra que contiene la intersección de cada segmento respectivamente."
   ]
  },
  {
   "cell_type": "code",
   "execution_count": 6,
   "metadata": {},
   "outputs": [],
   "source": [
    "def slopeandintersection(po1, po2):\n",
    "    m = []\n",
    "    b = []\n",
    "    for i, j in zip(po1, po2):\n",
    "        m.append( (j[1]-i[1])/(j[0]-i[0]) )\n",
    "    for idx, p in enumerate(po2):\n",
    "        b.append( p[1]-m[idx]*p[0] )\n",
    "    return (m, b)"
   ]
  },
  {
   "cell_type": "markdown",
   "metadata": {},
   "source": [
    "### Determinación de la intersección entre dos segmentos\n",
    "\n",
    "La instrucción principal donde radica el problema a resolver para llevar a cabo una rutina de verificación de intersecciones, por lo que tenemos que partir de la solución matemática para conocer el punto de intersección entre dos segmentos de línea. Ahora debemos de partir del problema original.\n",
    "\n",
    "Tenemos dos segmentos de línea denominados:\n",
    "\n",
    "$y = m_ix + b_i$ <br>\n",
    "$y = m_jx + b_j$\n",
    "\n",
    "Para conocer si dos segmentos intersectan entre sí debemos igualar ambas ecuaciones y solucionar la variable independiente $x$.\n",
    "\n",
    "$ m_ix + b_i = m_jx + b_j \\longrightarrow  m_ix - m_jx = b_j - b_i \\longrightarrow x \\left( m_i - m_j \\right) = b_j - b_i \\longrightarrow x = \\displaystyle\\frac{b_j - b_i }{m_i - m_j} $ <br>\n",
    "Por lo que la ecuación para obtener la solución y el punto de intersección en $x$ es:\n",
    "\n",
    "$x = \\displaystyle\\frac{b_j - b_i }{m_i - m_j} $ \n",
    "\n",
    "Una vez conocido el valor de la abscisa del punto de intersección podemos inferir el valor de la ordenada, sustituyendo $x$ en cualquiera de las ecuaciones:\n",
    "\n",
    "$ y = m_i \\left( \\displaystyle\\frac{b_j - b_i }{m_i - m_j} \\right) + b_i$\n",
    "\n",
    "Para la construcción de esta rutina fue necesario separarlo en dos funciones, la función llamada <em>definerangex()</em> se encarga de definir un intervalo entre los valores de $x$ que posee cada segmento, con el fin de tener información estructurada que tenga sentido para no generar errores de cálculo por los casos donde ya sea que el segmento cuenta con pendiente negativa o positiva.\n",
    "\n",
    "La segunda función denominada <em>Intersect()</em> se encarga de realizar el cálculo de la abscisa y ordenada con su respectiva ecuación, obtiene los valores del intervalo para verificar si la solución de $x$ se encuentra en el área donde se encuentran los segmentos en el plano, la rutina se encarga de realizar operaciones lógicas con <em>numpy</em> para facilitar la disminución de estructuras <i>if-else</i>.\n",
    "\n",
    "Al final la instrucción regresa una bandera de confirmación y un arreglo de <em>numpy</em> con las coordenadas del punto de intersección de los dos segmentos, si estas intersectan en el plano."
   ]
  },
  {
   "cell_type": "code",
   "execution_count": 7,
   "metadata": {},
   "outputs": [],
   "source": [
    "def definerangex(x1,x2):\n",
    "    if (x1 > x2):\n",
    "        return (x2, x1)\n",
    "    else:\n",
    "        return (x1, x2)"
   ]
  },
  {
   "cell_type": "code",
   "execution_count": 8,
   "metadata": {},
   "outputs": [],
   "source": [
    "def Intersect(i, j, ps, pi, m, b):\n",
    "    x=(b[j]-b[i])/(m[i]-m[j])\n",
    "    y=m[i]*x+b[i]\n",
    "    xmin1, xmax1 = definerangex(pi[i][0], ps[i][0])\n",
    "    xmin2, xmax2 = definerangex(pi[j][0], ps[j][0])\n",
    "    k1 = np.logical_and( np.logical_and(x>xmin1, xmax1>x), np.logical_and(x>xmin2, xmax2>x) )\n",
    "    k2 = np.logical_and( np.logical_and(y>pi[i][1], ps[i][1]>y), np.logical_and(y>pi[j][1], ps[j][1]>y) )\n",
    "    if (np.logical_and(k1,k2)):\n",
    "        return (True ,np.array([x, y]))\n",
    "    else:\n",
    "        return (False, None)"
   ]
  },
  {
   "cell_type": "markdown",
   "metadata": {},
   "source": [
    "## Fuerza bruta\n",
    "\n",
    "Se debe considerar que los segmentos de recta están guardados en un conjunto:\n",
    "\n",
    "$$S = \\{s_1, \\;s_2, \\;s_3, \\ldots, \\;s_n\\}$$\n",
    "\n",
    "Revisamos cada pareja de segmentos y determinamos si existe un punto de intersección o no.\n",
    "\n",
    "1. $\\forall (s_i,s_j) \\in S \\times S$\n",
    "    2. $\\texttt{Intersec}(s_i, s_j)$ \n",
    "    \n",
    "La estrategia de Fuerza Bruta es usada para obtener todas las posibles combinaciones de segmentos que pueden intersectarse, no es la mejor técnica algorítmica para resolver problemas complejos, pero es la más fácil de implementar que solo parte de una idea original, la cual es <q>Forzar la solución</q>."
   ]
  },
  {
   "cell_type": "code",
   "execution_count": 9,
   "metadata": {},
   "outputs": [],
   "source": [
    "def Brute_Force():\n",
    "    pi, ps = definepoints()\n",
    "    m, b=slopeandintersection(pi, ps)\n",
    "    x_int = []\n",
    "    y_int = []\n",
    "    for i in range(n-1):    \n",
    "        for j in range(i+1, n):\n",
    "            v,p = Intersect(i, j, ps, pi, m, b)\n",
    "            if v:\n",
    "                x_int.append(p[0])\n",
    "                y_int.append(p[1])\n",
    "    print \"Número de evaluaciones de 'Intersect()' = \" + str(n*(n-1)/2)\n",
    "    dibuja_rectas()\n",
    "    plt.scatter(np.array(x_int), np.array(y_int), c=\"k\",  marker='x')\n",
    "    plt.show()"
   ]
  },
  {
   "cell_type": "code",
   "execution_count": 10,
   "metadata": {},
   "outputs": [
    {
     "name": "stdout",
     "output_type": "stream",
     "text": [
      "Número de evaluaciones de 'Intersect()' = 105\n"
     ]
    },
    {
     "data": {
      "image/png": "[encoded data removed]",
      "text/plain": [
       "<Figure size 432x288 with 1 Axes>"
      ]
     },
     "metadata": {
      "needs_background": "light"
     },
     "output_type": "display_data"
    }
   ],
   "source": [
    "Brute_Force() "
   ]
  },
  {
   "cell_type": "markdown",
   "metadata": {},
   "source": [
    "### Observaciones:\n",
    "\n",
    "Uno de los principales problemas en la implementación de un algoritmo de <b>Fuerza Bruta</b> es que tiende a tener un alto costo de computación en comparación a otras estrategias, no es una solución óptima para resolver los problemas que nos encontramos en los paradigmas de programación, pero es la más fácil de implementar porque solo parte de una idea general, la cual es probar todas las posibles opciones hasta obtener la respuesta correcta.\n",
    "\n",
    "En cuanto a las librerías de <em>python</em>, <em>numpy</em> y <em>matplotlib</em> son estupendas, te permiten trabajar de una forma más organizada y simple las operaciones matemáticas que el problema involucra con arreglos numéricos y poder graficar de forma clara y precisa los puntos y segmentos en el plano, algunas dudas que tengo en mi persona es ¿resolverías este tipo de problemas con lenguajes de programación de bajo nivel?, siendo esto posible pero con alto grado de complejidad en la estructuración del código. Por lo cual podemos aprovechar la parte de programación funcional que <em>python</em> nos ofrece para resolver este tipo de problemáticas de una forma optimizada y legible."
   ]
  },
  {
   "cell_type": "code",
   "execution_count": null,
   "metadata": {},
   "outputs": [],
   "source": []
  }
 ],
 "metadata": {
  "kernelspec": {
   "display_name": "Python 2",
   "language": "python",
   "name": "python2"
  },
  "language_info": {
   "codemirror_mode": {
    "name": "ipython",
    "version": 2
   },
   "file_extension": ".py",
   "mimetype": "text/x-python",
   "name": "python",
   "nbconvert_exporter": "python",
   "pygments_lexer": "ipython2",
   "version": "2.7.15"
  }
 },
 "nbformat": 4,
 "nbformat_minor": 1
}
