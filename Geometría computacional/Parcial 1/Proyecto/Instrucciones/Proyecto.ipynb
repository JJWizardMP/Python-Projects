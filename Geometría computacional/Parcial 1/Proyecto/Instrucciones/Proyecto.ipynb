{
 "cells": [
  {
   "cell_type": "code",
   "execution_count": 1,
   "metadata": {
    "collapsed": true
   },
   "outputs": [],
   "source": [
    "import pandas as pd\n",
    "import numpy as np\n",
    "import matplotlib.pyplot as plt\n",
    "%matplotlib inline"
   ]
  },
  {
   "cell_type": "code",
   "execution_count": 2,
   "metadata": {
    "collapsed": true
   },
   "outputs": [],
   "source": [
    "def mapa1():\n",
    "    #tabla de vértices\n",
    "    np.random.seed(123)\n",
    "    v_x = np.array([0,1,2,3,2,1,1.5])+0.1*np.random.randn(7)\n",
    "    v_y = np.array([0,1,1,0,-1,-1,0])+0.1*np.random.randn(7)\n",
    "    \n",
    "    vn = [\"v1\", \"v2\", \"v3\", \"v4\", \"v5\", \"v6\", \"v7\"]\n",
    "    b = [\"b12\", \"b21\", \"b34\", \"b45\", \"b56\", \"b61\", \"b72\"] #semi-bordes incidentes\n",
    "    v_s = {\"x\": pd.Series(v_x), \"y\": pd.Series(v_y), \"b\": b}\n",
    "    v = pd.DataFrame(v_s)\n",
    "    v.index = vn\n",
    "    \n",
    "    #tabla de semibordes\n",
    "    bords_n = [\"b12\", \"b21\", \"b23\", \"b32\", \"b34\", \"b43\", \"b45\", \"b54\", \"b56\", \"b65\", \"b61\", \"b16\", \"b27\", \"b72\", \"b37\", \"b73\", \"b57\", \"b75\", \"b67\", \"b76\"]\n",
    "    twins = [\"b21\", \"b12\", \"b32\", \"b23\", \"b43\", \"b34\", \"b54\", \"b45\", \"b65\", \"b56\", \"b16\", \"b61\", \"b72\", \"b27\", \"b73\", \"b37\", \"b75\", \"b57\", \"b76\", \"b67\"]\n",
    "    next_b = [\"b23\", \"b16\", \"b34\", \"b27\", \"b45\", \"b37\", \"b56\", \"b43\", \"b61\", \"b57\", \"b12\", \"b67\", \"b73\", \"b21\", \"b75\", \"b32\", \"b76\", \"b54\", \"b72\", \"b65\"]\n",
    "    prev_b = [\"b61\", \"b72\", \"b12\", \"b73\", \"b23\", \"b54\", \"b34\", \"b75\", \"b45\", \"b76\", \"b56\", \"b21\", \"b32\", \"b67\", \"b43\", \"b27\", \"b65\", \"b37\", \"b16\", \"b57\"]\n",
    "    vert_or = [\"v1\", \"v2\", \"v2\", \"v3\", \"v3\", \"v4\", \"v4\", \"v5\", \"v5\", \"v6\", \"v6\", \"v1\", \"v2\", \"v7\", \"v3\", \"v7\", \"v5\", \"v7\", \"v6\", \"v7\"]\n",
    "    fs = [\"f5\", \"f1\", \"f5\", \"f2\", \"f5\", \"f3\", \"f5\", \"f3\", \"f5\", \"f4\", \"f5\", \"f1\", \"f2\", \"f1\", \"f3\", \"f2\", \"f4\", \"f3\", \"f1\", \"f4\"]\n",
    "    \n",
    "    b_dict = {\"twin\": twins, \"next\": next_b, \"prev\": prev_b, \"vert_or\":vert_or, \"f\": fs}\n",
    "    bordes = pd.DataFrame(b_dict)\n",
    "    bordes.index = bords_n\n",
    "    \n",
    "    fs = [\"f1\", \"f2\", \"f3\", \"f4\", \"f5\"]\n",
    "    brds_ext = [\"b21\", \"b32\", \"b43\", \"b76\", None]\n",
    "    brds_int = [[], [], [], [], [\"b12\"]]\n",
    "    \n",
    "    f_dict = {\"b_ext\": brds_ext, \"b_int\": brds_int}\n",
    "    caras = pd.DataFrame(f_dict)\n",
    "    caras.index = fs\n",
    "    \n",
    "    return {'verts': v, \"bordes\": bordes, \"caras\":caras}\n",
    "\n",
    "def mapa2():\n",
    "    #tabla de vértices\n",
    "    #v_x = [0,1,2,3,2,1,1.5]\n",
    "    #v_y = [0,1,1,0,-1,-1,0]\n",
    "    dx = 0.5\n",
    "    dy = -0.35\n",
    "    \n",
    "    np.random.seed(456)\n",
    "    v_x = np.array([0+dx,1+dx,2+dx,3+dx,2+dx,1+dx,1.5+dx])+0.1*np.random.randn(7)\n",
    "    v_y = np.array([0+dy,1+dy,1+dy,0+dy,-1+dy,-1+dy,0+dy])+0.1*np.random.randn(7)\n",
    "    \n",
    "    vn = [\"v1\", \"v2\", \"v3\", \"v4\", \"v5\", \"v6\", \"v7\"]\n",
    "    b = [\"b12\", \"b21\", \"b34\", \"b45\", \"b56\", \"b61\", \"b72\"] #semi-bordes incidentes\n",
    "    v_s = {\"x\": pd.Series(v_x), \"y\": pd.Series(v_y), \"b\": b}\n",
    "    v = pd.DataFrame(v_s)\n",
    "    v.index = vn\n",
    "    \n",
    "    #tabla de semibordes\n",
    "    bords_n = [\"b12\", \"b21\", \"b23\", \"b32\", \"b34\", \"b43\", \"b45\", \"b54\", \"b56\", \"b65\", \"b61\", \"b16\", \"b27\", \"b72\", \"b37\", \"b73\", \"b57\", \"b75\", \"b67\", \"b76\"]\n",
    "    twins = [\"b21\", \"b12\", \"b32\", \"b23\", \"b43\", \"b34\", \"b54\", \"b45\", \"b65\", \"b56\", \"b16\", \"b61\", \"b72\", \"b27\", \"b73\", \"b37\", \"b75\", \"b57\", \"b76\", \"b67\"]\n",
    "    next_b = [\"b23\", \"b16\", \"b34\", \"b27\", \"b45\", \"b37\", \"b56\", \"b43\", \"b61\", \"b57\", \"b12\", \"b67\", \"b73\", \"b21\", \"b75\", \"b32\", \"b76\", \"b54\", \"b72\", \"b65\"]\n",
    "    prev_b = [\"b61\", \"b72\", \"b12\", \"b73\", \"b23\", \"b54\", \"b34\", \"b75\", \"b45\", \"b76\", \"b56\", \"b21\", \"b32\", \"b67\", \"b43\", \"b27\", \"b65\", \"b37\", \"b16\", \"b57\"]\n",
    "    vert_or = [\"v1\", \"v2\", \"v2\", \"v3\", \"v3\", \"v4\", \"v4\", \"v5\", \"v5\", \"v6\", \"v6\", \"v1\", \"v2\", \"v7\", \"v3\", \"v7\", \"v5\", \"v7\", \"v6\", \"v7\"]\n",
    "    fs = [\"f5\", \"f1\", \"f5\", \"f2\", \"f5\", \"f3\", \"f5\", \"f3\", \"f5\", \"f4\", \"f5\", \"f1\", \"f2\", \"f1\", \"f3\", \"f2\", \"f4\", \"f3\", \"f1\", \"f4\"]\n",
    "    \n",
    "    b_dict = {\"twin\": twins, \"next\": next_b, \"prev\": prev_b, \"vert_or\":vert_or, \"f\": fs}\n",
    "    bordes = pd.DataFrame(b_dict)\n",
    "    bordes.index = bords_n\n",
    "    \n",
    "    fs = [\"f1\", \"f2\", \"f3\", \"f4\", \"f5\"]\n",
    "    brds_ext = [\"b21\", \"b32\", \"b43\", \"b76\", None]\n",
    "    brds_int = [[], [], [], [], [\"b12\"]]\n",
    "    \n",
    "    f_dict = {\"b_ext\": brds_ext, \"b_int\": brds_int}\n",
    "    caras = pd.DataFrame(f_dict)\n",
    "    caras.index = fs\n",
    "    \n",
    "    return {'verts': v, \"bordes\": bordes, \"caras\":caras}\n",
    "\n",
    "def grafica_mapa(mapa, show=True, c=\"k\"):\n",
    "    v = mapa[\"verts\"]\n",
    "    brds = mapa[\"bordes\"]\n",
    "    #grafica los vértices\n",
    "    plt.scatter(v[\"x\"], v[\"y\"], c=c)    \n",
    "    plt.axis(\"off\")\n",
    "    \n",
    "    #accede a cada cara y pinta los semiboreds que inciden en ella\n",
    "    for i,b in brds.iterrows():\n",
    "        #identifica los vértices origen y destino\n",
    "        v_or_id = b[\"vert_or\"]\n",
    "        v_or = v.loc[v_or_id]\n",
    "        v_dest_id = brds.loc[b[\"twin\"]][\"vert_or\"] \n",
    "        v_dest = v.loc[v_dest_id]\n",
    "        #segmento de recta del borde\n",
    "        plt.plot([v_or[\"x\"], v_dest[\"x\"]], [v_or[\"y\"], v_dest[\"y\"]], c=c)        \n",
    "    if show:\n",
    "        plt.show()                    \n"
   ]
  },
  {
   "cell_type": "markdown",
   "metadata": {},
   "source": [
    "# Sobreposición de mapas"
   ]
  },
  {
   "cell_type": "code",
   "execution_count": 3,
   "metadata": {},
   "outputs": [
    {
     "data": {
      "image/png": "[encoded data removed]",
      "text/plain": [
       "<matplotlib.figure.Figure at 0x9ce1cc0>"
      ]
     },
     "metadata": {},
     "output_type": "display_data"
    }
   ],
   "source": [
    "m1 = mapa1()\n",
    "m2 = mapa2()\n",
    "grafica_mapa(m1, False, c=\"b\")\n",
    "grafica_mapa(m2, False, c=\"r\")\n",
    "plt.show()"
   ]
  },
  {
   "cell_type": "markdown",
   "metadata": {},
   "source": [
    "# ¿Cómo construir la lista de bordes de los mapas sobrepuestos?\n",
    "\n",
    "Tenemos la lista doblemente ligada de ambos mapas:\n",
    "\n",
    "* $\\mathcal{D}_1$\n",
    "* $\\mathcal{D}_2$\n",
    "\n",
    "Iniciamos $\\mathcal{D} = \\mathcal{D}_1\\cup \\mathcal{D}_2$\n",
    "\n",
    "Basándose en el algoritmo de barrido de plano construímos la lista doblemente ligada de la sobreposición de mapas: $\\mathcal{D}$, las tablas de vértices, bordes y caras deben actualizarse (corregirse)"
   ]
  },
  {
   "cell_type": "markdown",
   "metadata": {},
   "source": [
    "## Vértices \n",
    "\n",
    "1. Iniciar con la unión de los vértices de ambos mapas: $\\mathcal{V}(\\mathcal{D}) = \\mathcal{V}(\\mathcal{D_1})\\cup \\mathcal{V}(\\mathcal{D_2})$. **Observar** Las coordenadas no cambian ni la referencia a algún semiborde adyacente.\n",
    "2. Si el vértice es nuevo (es la intersección de bordes de ambos mapas) entonces se deben guardar:\n",
    "    3. Las coordenadas\n",
    "    4. Una referencia a algún semiborde adyacente"
   ]
  },
  {
   "cell_type": "markdown",
   "metadata": {},
   "source": [
    "## Semibordes\n",
    "\n",
    "1. Buscamos la intersección de los bordes de ambos mapas utilizando el **barrido de plano**.\n",
    "2. Cuando se deba revisar un vértice, $\\nu$:\n",
    "    3. Si $\\nu$ contiene solamente bordes de un mapa ($\\mathcal{D}_1$ o $\\mathcal{D}_2$):\n",
    "        4. No se realizan modificaciones a $\\mathcal{D}$\n",
    "    5. En caso contrario:\n",
    "        6. $\\texttt{ManejarInterseccion}(\\nu)$        "
   ]
  },
  {
   "cell_type": "markdown",
   "metadata": {},
   "source": [
    "Algunas **consideraciones** para la función \n",
    "\n",
    "$\\texttt{ManejarInterseccion}(\\nu)$        \n",
    "\n",
    "1. Para cada semiborde adyacente al vértice:\n",
    "    2. Se generan dos nuevos semibordes con origen en el vértice.\n",
    "3. Los semi-bordes que no tienen su origen en el vértice $\\nu$ deben actualizar la referencia al **siguiente** semiborde.\n",
    "4. Los nuevos semibordes tienen su origen en el vértice $\\nu$ deben registrar la referencia a los semibordes **siguiente** y **previo** \n",
    "5. Para identificar los semibordes **siguiente** y **previo** considerar un ordenamiento de los semibordes adyacentes a un vértice en sentido horario (para el siguiente) o antihorario (para el previo)."
   ]
  },
  {
   "cell_type": "markdown",
   "metadata": {},
   "source": [
    "## Caras\n",
    "\n",
    "* El número de caras debe ser igual al de secuencias conexas de semibordes \"externos\" más una.\n",
    "\n",
    "* Si la tabla de semibordes se actalizó correctamente con el algoritmo de barrido, entonces debemos identificar cuál es la cara incidente a cada semi-borde\n",
    "\n",
    "* Podemos **identificar** si es una frontera **externa** o **interna** localizando el vértice más a la izquierda en la secuencia y verificando el ángulo entre los semibordes\n",
    "\n",
    "<img src=\"inner_outer.png\"/>\n"
   ]
  },
  {
   "cell_type": "markdown",
   "metadata": {},
   "source": [
    "### Grafo de caras\n",
    "\n",
    "Para decidir qué secuencias encierran una cara debemos construir un grafo\n",
    "\n",
    "* Cada secuencia de semibordes (externa o interna) se representa por un nodo del grafo\n",
    "* Existe una arista entre una pareja de nodos si uno de los nodos es una frontera interna y la secuencia del otro nodo tiene un semiborde inmediatamente a la izquierda del vértice en el extremo izquierdo de la secuencia interna\n",
    "\n",
    "<img src=\"grafica.png\"/>"
   ]
  },
  {
   "cell_type": "markdown",
   "metadata": {},
   "source": [
    "### Pseudocódigo\n",
    "\n",
    "$\\texttt{SOBREPOSICION_MAPAS}(\\mathcal{D}_1, \\mathcal{D}_2)$        \n",
    "\n",
    "**Entrada**: Dos listas de bordes doblemente conectados que representan a los mapas orginales\n",
    "**Salida**: Lista de bordes doblemente conectados de la sobreposición de ambos mapas.\n",
    "\n",
    "1. Unir las listas originales: $\\mathcal{D} = \\mathcal{D}_2\\cup\\mathcal{D}_2 $\n",
    "2. Calcular las intersecciones entre los bordes de ambos mapas con el algoritmo de barrido de mapa. Considerar que, en cada evento, $\\nu$, además actualizar el estado $\\mathcal{T}$, y la lista de eventos $\\mathcal{Q}$ es necesario realizar las siguientes acciones\n",
    "    3. Actualizar $\\mathcal{D}$ si el evento contiene bordes de ambos mapas. Considerar para esta actualización las ideas discutidas en  $\\texttt{ManejarInterseccion}(\\nu)$         \n",
    "    4. Guardar el borde inmediatamente a la izquierda del evento.\n",
    "3. A esta altura $\\mathcal{D}$ debe contener la lista de sembibordes doblemente conectados excepto que la información de las caras no ha sido calculada aún.\n",
    "4. Identificar cada secuencia de semibordes en $\\mathcal{D}$ incluyendo si la secuencia es una frontera interna o externa de una cara.\n",
    "4. Construir la gráfica $\\mathcal{G}$ cuyos nodos corresponden con las secuencias continuas de semibordes y cuyas aristas conectan cada nodo (de frontera interna) con el nodo cuya arista se encuentra inmediatamente a la izquierda de la secuencia interna (este borde se guardó en el segundo paso).\n",
    "5. Identificar cada componente conexa de $\\mathcal{G}$ con una cara.  Completar la información de la tabla de semibordes con la de las nuevas caras."
   ]
  },
  {
   "cell_type": "markdown",
   "metadata": {
    "collapsed": true
   },
   "source": [
    "<font color=\"red\">Instrucciones para el proyecto</font>\n",
    "\n",
    "El objetivo del proyecto para este parcial es el obtener la lista de bordes doblemente conectados de la superposición de los mapas $m_1$ y $m_2$ definidos en la segunda celda de código de esta libreta, la cual no se debe modificar.\n",
    "\n",
    "Desarrollen el proyecto en parejas. Cada pareja debe pasar a mi cubículo a describir su trabajo en la clase del jueves 21 de febrero. Además, deben enviarme, por correo electrónico, un pequeño reporte de su trabajo a más tardar para el domingo 24 de febrero. "
   ]
  },
  {
   "cell_type": "code",
   "execution_count": null,
   "metadata": {
    "collapsed": true
   },
   "outputs": [],
   "source": []
  }
 ],
 "metadata": {
  "kernelspec": {
   "display_name": "Python 3",
   "language": "python",
   "name": "python3"
  },
  "language_info": {
   "codemirror_mode": {
    "name": "ipython",
    "version": 3
   },
   "file_extension": ".py",
   "mimetype": "text/x-python",
   "name": "python",
   "nbconvert_exporter": "python",
   "pygments_lexer": "ipython3",
   "version": "3.5.2"
  }
 },
 "nbformat": 4,
 "nbformat_minor": 2
}
