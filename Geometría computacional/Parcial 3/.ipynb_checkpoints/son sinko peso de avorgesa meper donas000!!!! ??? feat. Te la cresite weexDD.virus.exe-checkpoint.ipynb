{
 "cells": [
  {
   "cell_type": "code",
   "execution_count": 1,
   "metadata": {},
   "outputs": [],
   "source": [
    "import numpy as np\n",
    "import matplotlib.pyplot as plt\n",
    "import cv2\n",
    "%matplotlib inline\n",
    "\n",
    "# Para realizar la animación\n",
    "#%matplotlib notebook\n",
    "#import matplotlib.animation as animation"
   ]
  },
  {
   "cell_type": "markdown",
   "metadata": {},
   "source": [
    "# Elementos del problema\n",
    "\n",
    "\n",
    "* Suponemos que tenemos un **robot** que podemos representar como un **polígono convexo** definido sobre un punto que se utilizará como marco de referencia: $\\mathcal{R}(x,y)$.\n",
    "* Los movimientos del robot se limitan a **desplazamientos** (traslaciones) y rotaciones en un plano bidimensional.\n",
    "* En el plano, se encuentran distribuidos una serie de **obstáculos** físicos los cuales no pueden ser atravesados por el robot: $\\mathcal{P} = \\{P_1, P_2, P_3, \\ldots, P_n\\}$.\n",
    "* El **objetivo** es desplazar al robot, sobre el plano, hasta un punto fijo **sin colisionar** con los obstáculos.\n"
   ]
  },
  {
   "cell_type": "markdown",
   "metadata": {},
   "source": [
    "# Funciones para las gráficas"
   ]
  },
  {
   "cell_type": "code",
   "execution_count": 2,
   "metadata": {},
   "outputs": [],
   "source": [
    "# Definición de Colores\n",
    "black, red, green, blue, white = ((0,0,0),(255,0,0),(0,255,0),(0,0,255),(255,255,255)) \n",
    "cgoal, Path = ((15,150,0), (81,209,246))\n",
    "\n",
    "# Despliega una imagen\n",
    "def Plot(image):\n",
    "    #plt.title('Navegacion Robotica')\n",
    "    plt.imshow(image,cmap=\"gray\")\n",
    "    plt.axis(\"off\")\n",
    "    plt.show()\n",
    "# Dibuja el camino encontrado\n",
    "def Dibuja_Camino(imagen, camino):\n",
    "    imc = imagen.copy()\n",
    "    for (x,y) in camino:\n",
    "        cv2.rectangle(imc, (x,y), (x,y), (255,0,0), -1) \n",
    "    Plot(imc)"
   ]
  },
  {
   "cell_type": "markdown",
   "metadata": {},
   "source": [
    "# Problema principal"
   ]
  },
  {
   "cell_type": "code",
   "execution_count": 3,
   "metadata": {},
   "outputs": [
    {
     "data": {
      "image/png": "[encoded data removed]",
      "text/plain": [
       "<Figure size 432x288 with 1 Axes>"
      ]
     },
     "metadata": {
      "needs_background": "light"
     },
     "output_type": "display_data"
    }
   ],
   "source": [
    "def mainproblem():\n",
    "    image = np.zeros((512,512,3), np.uint8)\n",
    "\n",
    "    #dibuja una serie de obstáculos\n",
    "    cv2.rectangle(image, (100,100), (150,150), (255,255,255), -1)\n",
    "    cv2.rectangle(image, (350,200), (380,240), (255,255,255), -1)\n",
    "    cv2.rectangle(image, (100,400), (150,480), (255,255,255), -1)\n",
    "\n",
    "    #ubicación del robot\n",
    "    [x,y] = [250, 250]\n",
    "    pts = np.array( [[x,y], [x-25,y+25], [x+25,y+25]], np.int32)\n",
    "    pts = pts.reshape((-1,1,2))\n",
    "    cv2.fillPoly(image, [pts], (0,0,255))\n",
    "\n",
    "    #objetivo\n",
    "    cv2.circle(image, (400, 25), 10, (15,150,0), -1)\n",
    "    return image\n",
    "image = mainproblem()\n",
    "plt.title('Navegacion Robotica')\n",
    "Plot(image)"
   ]
  },
  {
   "cell_type": "markdown",
   "metadata": {},
   "source": [
    "# Es una onza ese vato"
   ]
  },
  {
   "cell_type": "code",
   "execution_count": 4,
   "metadata": {},
   "outputs": [],
   "source": [
    "# Crea una lista con los pixeles de cierto color dado\n",
    "def Pixeles(imagen, color):\n",
    "    lista = []\n",
    "    for y in range(imagen.shape[0]):\n",
    "        for x in range(imagen.shape[1]):\n",
    "            if (tuple(imagen[y][x]) == color):\n",
    "                lista.append((x,y))\n",
    "    return lista\n",
    "\n",
    "# Calcula el Centro de Gravedad del Robot y el radio de la circuferencia\n",
    "def Centro_de_gravedad_Robot(imagen):\n",
    "    # Creamos un arreglo estructurado con la cola de coordenadas de la tonalidad que representa al robot\n",
    "    dt = np.dtype([('x',int), ('y', int)])\n",
    "    array = np.array(Pixeles(imagen, (0,0,255)), dtype=dt)\n",
    "    # Ordenamos respecto a ambos ejes\n",
    "    sortx = list(np.sort(array, order='x'))\n",
    "    sorty = list(np.sort(array, order='y'))\n",
    "    # Obtenemos el punto en y mas bajo, el punto en x mas bajo y el punto en x mas alto\n",
    "    pts = np.array([list(sorty[0]), list(sortx[0]), list(sortx[-1])], dtype=np.int32)\n",
    "    # Obtenemos el Centro de gravedad del poligono\n",
    "    (x, y) = (int(pts[:,0].mean()), int(pts[:,1].mean()))\n",
    "    radios = []\n",
    "    for (x1,y1) in pts:\n",
    "        # Calculamos el radio respecto a cada punto del polígono\n",
    "        radios.append(int(np.sqrt((x1-x)**2 + (y1-y)**2)))\n",
    "    # No quedamos con el mayor valor de radio\n",
    "    r = max(radios)\n",
    "    return ((x,y), r)\n",
    "\n",
    "# Calcula el Centro de Gravedad de la meta y el radio de la circuferencia\n",
    "def Centro_de_gravedad_Meta(imagen):\n",
    "    # Creamos un arreglo estructurado con la cola de coordenadas de la tonalidad que representa a la meta\n",
    "    # Obtenemos un arreglo estructura ordenado respecto al eje y\n",
    "    dt = np.dtype([('x',int), ('y', int)])\n",
    "    pixel = np.sort(np.array(Pixeles(imagen, (15,150,0)), dtype=dt), order='y')\n",
    "    # Obtenemos el punto más alto y el más abajo sobre la circuferencia de la meta\n",
    "    pt1 = pixel[0]\n",
    "    pt2 = pixel[-1]\n",
    "    # Calculamos el punto central de la meta\n",
    "    pt = ((pt1[0]+pt2[0])/2, (pt1[1]+pt2[1])/2)\n",
    "    return (pt)"
   ]
  },
  {
   "cell_type": "code",
   "execution_count": 5,
   "metadata": {},
   "outputs": [],
   "source": [
    "def Transformacion_Distancia_Obstaculos(imagen):\n",
    "    binario = np.zeros(imagen.shape[:2], np.uint8)\n",
    "    for y in range(imagen.shape[0]):\n",
    "        for x in range(imagen.shape[1]):\n",
    "            if (tuple(imagen[y][x]) == (255,255,255)):\n",
    "                binario[y][x] = 255\n",
    "    retval, inv = cv2.threshold(binario, 0, 255, cv2.THRESH_BINARY_INV)\n",
    "    DT = cv2.distanceTransform(inv, cv2.DIST_LABEL_PIXEL, 3)\n",
    "    return DT\n",
    "\n",
    "def Transformacion_Distancia_Meta(imagen):\n",
    "    binario = np.zeros(imagen.shape[:2], np.uint8)\n",
    "    for y in range(imagen.shape[0]):\n",
    "        for x in range(imagen.shape[1]):\n",
    "            if (tuple(imagen[y][x]) == (15,150,0)):\n",
    "                binario[y][x] = 255\n",
    "    retval, inv = cv2.threshold(binario, 0, 255, cv2.THRESH_BINARY_INV)\n",
    "    DT = cv2.distanceTransform(inv, cv2.DIST_LABEL_PIXEL, 3)\n",
    "    return DT\n",
    "\n",
    "def Borde_Imagen(pos, shape):\n",
    "    flag = False\n",
    "    if  (0 <= pos[0] and pos[0] < shape[1]) and (0 <= pos[1] and pos[1] < shape[0]):\n",
    "        flag = True\n",
    "    return flag\n",
    "\n",
    "def Distancia_Obstaculos(pos, radio, DTobs):\n",
    "    flag = False\n",
    "    if (DTobs[pos[1]][pos[0]]>=radio):\n",
    "        flag = True\n",
    "    return flag"
   ]
  },
  {
   "cell_type": "code",
   "execution_count": 6,
   "metadata": {},
   "outputs": [],
   "source": [
    "# Algoritmo de búsqueda A* \n",
    "# Reconstruye en camino de la lista cerrada\n",
    "\n",
    "def reconstruct_path(lista_cerrada , actual):\n",
    "    camino = [actual[0]]\n",
    "    if lista_cerrada:\n",
    "        arreglo = np.array(lista_cerrada)\n",
    "        # Crea una lista de Nodos\n",
    "        Nodos = list(arreglo[:,0])\n",
    "        pos = arreglo[Nodos.index(actual[1])] \n",
    "        while pos[0] != pos[1]:\n",
    "            camino.append(pos[0])\n",
    "            pos = arreglo[Nodos.index(pos[1])]\n",
    "    # Apilar el nodo de inicio del camino\n",
    "    camino.append(pos[0])\n",
    "    return camino[::-1]\n",
    "\n",
    "def A_Star(inicio, radio, final, imagen): \n",
    "    # Debes detectar aqui la transformacion distancia de los obstaculos y del objetivo\n",
    "    # Transformación distancia a los obstaculos y a la meta\n",
    "    DTobs = Transformacion_Distancia_Obstaculos(imagen) # Obstaculos\n",
    "    DTMeta = Transformacion_Distancia_Meta(imagen) # Meta\n",
    "    # Creamos listas vacías para listar los nodos evaluados y por evaluar\n",
    "    lista_abierta = [ [inicio, inicio, 0, DTMeta[inicio[1]][inicio[0]]] ]\n",
    "    lista_cerrada = []\n",
    "    # Nos permite movernos a los 8 vecinos, si no entiendes dibuja los pixeles en tu libreta e interpreta\n",
    "    # la coordenada como x,y y con que valores te moverias a los vecinos\n",
    "    # Con estos de abajo obvio, (x-1, y-1),(x,y+1), etc \n",
    "    Vecinos = [(-1, -1), (-1, 0), (-1, 1), (0, -1), (0, 1), (1, -1), (1, 0), (1, 1)]\n",
    "    # Movimientos diagonales\n",
    "    diagonal = set(((-1,-1),(-1,1),(1,-1),(1,1)))\n",
    "    i = 1\n",
    "    while lista_abierta:\n",
    "        # Obtener el nodo con menor fScore de la lista abierta\n",
    "        arreglo_abierto = np.array(lista_abierta)\n",
    "        indice = np.argsort(arreglo_abierto[:,3])[0]\n",
    "        actual = arreglo_abierto[indice]\n",
    "        if (actual[0] == final):\n",
    "            return reconstruct_path(lista_cerrada, actual)\n",
    "        # Se elimina el nodo actual de la lista abierta y se agrega a la lista cerrada\n",
    "        lista_abierta.remove(list(actual))\n",
    "        lista_cerrada.append(list(actual))\n",
    "        # Posición actual\n",
    "        (x, y) = actual[0]\n",
    "        NodosAbiertos = list(arreglo_abierto[:,0]) # Lista nodos (Abierta)\n",
    "        NodosCerrados = list(np.array(lista_cerrada)[:,0]) # Lista nodos (Cerrada)\n",
    "        for (x1,y1) in Vecinos:\n",
    "            if Borde_Imagen((x+x1,y+y1), imagen.shape): # Determinar si no se sale del borde de la imagen\n",
    "                if Distancia_Obstaculos((x+x1,y+y1), radio+6, DTobs): # Comparar si el valor en esta posición en la distanceT de los obstaculos es mayor al radio del robot\n",
    "                    if (x+x1, y+y1) in NodosCerrados:\n",
    "                        continue\n",
    "                    # Si el movimiento del nodo actual al nodo vecino es diagonal tiene un mayor coste\n",
    "                    distancia_vecino = 14 if ((x1,y1) in diagonal) else 10\n",
    "                    G_tentativa = actual[2] +  distancia_vecino\n",
    "                    if (x+x1, y+y1) not in NodosAbiertos:\n",
    "                        d = [(x+x1, y+y1), actual[0], G_tentativa , G_tentativa  + DTMeta[y+y1][x+x1]]\n",
    "                        lista_abierta.append(d)\n",
    "                        continue\n",
    "                    else:\n",
    "                        if (G_tentativa >= actual[2]):\n",
    "                            continue\n",
    "                    # Se actualiza el nodo padre y los valores de gScore y fScore del nodo vecino evaluado\n",
    "                    indice = NodosAbiertos.index((x+x1, y+y1))\n",
    "                    lista_abierta[indice] = [ (x+x1, y+y1), actual[0], G_tentativa, \n",
    "                    G_tentativa + DTMeta[y+y1][x+x1]]"
   ]
  },
  {
   "cell_type": "markdown",
   "metadata": {},
   "source": [
    "# Funciones para hacer pruebas"
   ]
  },
  {
   "cell_type": "code",
   "execution_count": 7,
   "metadata": {
    "scrolled": false
   },
   "outputs": [],
   "source": [
    "# Métodos para realizar Pruebas\n",
    "def Prueba1():\n",
    "    image = np.zeros((170,180,3), np.uint8)\n",
    "    \n",
    "    #ubicación del robot\n",
    "    [x,y] = [15, 15]\n",
    "    pts = np.array( [[x,y], [x-10,y+10], [x+10,y+10]], np.int32)\n",
    "    pts = pts.reshape((-1,1,2))\n",
    "    cv2.fillPoly(image, [pts], blue)\n",
    "    #cv2.circle(image, (20,25), 24, green, -1) # Nodo Inicial\n",
    "\n",
    "    #objetivo\n",
    "    cv2.circle(image, (100, 114), 10, cgoal, -1)\n",
    "    #cv2.rectangle(image, (100,124), (100,124), red, -1) # Nodo Final \n",
    "    \n",
    "    # Obstaculos\n",
    "    cv2.rectangle(image, (40,5), (80,136), white, -1) # Nodos Sólidos\n",
    "    \n",
    "    return image\n",
    "\n",
    "def Prueba2():\n",
    "    image = np.zeros((300,300,3), np.uint8)\n",
    "    # Nodo Inicial\n",
    "    [x,y] = [100, 50]\n",
    "    pts = np.array( [[x,y], [x-15,y+15], [x+15,y+15]], np.int32)\n",
    "    pts = pts.reshape((-1,1,2))\n",
    "    cv2.fillPoly(image, [pts], blue)\n",
    "    \n",
    "    #objetivo\n",
    "    cv2.circle(image, (250, 214), 10, cgoal, -1)\n",
    "    # Nodos Sólidos\n",
    "    cv2.rectangle(image, (40,10), (80,50), white, -1) \n",
    "    cv2.rectangle(image, (210,60), (240,130), white, -1) \n",
    "\n",
    "    cv2.rectangle(image, (60,240), (140,270), white, -1) \n",
    "    cv2.rectangle(image, (120,140), (200,180), white, -1) \n",
    "\n",
    "    #cv2.rectangle(image, (3,3), (3,3), white, -1)\n",
    "    return image\n"
   ]
  },
  {
   "cell_type": "code",
   "execution_count": 8,
   "metadata": {},
   "outputs": [
    {
     "data": {
      "image/png": "[encoded data removed]",
      "text/plain": [
       "<Figure size 432x288 with 1 Axes>"
      ]
     },
     "metadata": {
      "needs_background": "light"
     },
     "output_type": "display_data"
    }
   ],
   "source": [
    "imagen = Prueba1()\n",
    "(inicio, radio) = Centro_de_gravedad_Robot(imagen)\n",
    "final = Centro_de_gravedad_Meta(imagen)\n",
    "camino = A_Star(inicio, radio, final, imagen)\n",
    "Dibuja_Camino(imagen, camino)"
   ]
  },
  {
   "cell_type": "code",
   "execution_count": null,
   "metadata": {},
   "outputs": [],
   "source": []
  }
 ],
 "metadata": {
  "kernelspec": {
   "display_name": "Python 2",
   "language": "python",
   "name": "python2"
  },
  "language_info": {
   "codemirror_mode": {
    "name": "ipython",
    "version": 2
   },
   "file_extension": ".py",
   "mimetype": "text/x-python",
   "name": "python",
   "nbconvert_exporter": "python",
   "pygments_lexer": "ipython2",
   "version": "2.7.15"
  }
 },
 "nbformat": 4,
 "nbformat_minor": 2
}
